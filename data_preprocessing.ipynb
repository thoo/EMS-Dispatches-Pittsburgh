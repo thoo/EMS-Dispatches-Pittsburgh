{
 "cells": [
  {
   "cell_type": "code",
   "execution_count": 37,
   "metadata": {
    "ExecuteTime": {
     "end_time": "2019-03-02T18:26:24.452027Z",
     "start_time": "2019-03-02T18:26:24.449081Z"
    }
   },
   "outputs": [],
   "source": [
    "import os\n",
    "from urllib import request \n",
    "import joblib\n",
    "import pandas as pd\n",
    "from collections import defaultdict"
   ]
  },
  {
   "cell_type": "markdown",
   "metadata": {},
   "source": [
    "## Create a folder to save data files."
   ]
  },
  {
   "cell_type": "code",
   "execution_count": 18,
   "metadata": {
    "ExecuteTime": {
     "end_time": "2019-03-02T18:21:41.860705Z",
     "start_time": "2019-03-02T18:21:41.857290Z"
    }
   },
   "outputs": [],
   "source": [
    "if not os.path.isdir('data'):\n",
    "    os.makedirs('data')"
   ]
  },
  {
   "cell_type": "code",
   "execution_count": 20,
   "metadata": {
    "ExecuteTime": {
     "end_time": "2019-03-02T18:21:57.713574Z",
     "start_time": "2019-03-02T18:21:57.706478Z"
    }
   },
   "outputs": [],
   "source": [
    "def download_data(name_dir=\"data\", filename=\"data.csv\",\n",
    "                  data_url = ('https://www2.census.gov/'\n",
    "                              'programs-surveys/popest/datasets/'\n",
    "                              '2010-2017/cities/totals/sub-est2017_42.csv')):\n",
    "    \"\"\" \n",
    "    Download both train and test dataset to a directory named \"data\". \n",
    "\n",
    "    If the directory doesn't exist, this function will create one. \n",
    "\n",
    "    Parameters\n",
    "    ----------\n",
    "    data_url : str, default 'https://www2.census.gov/.../sub-est2017_42.csv'\n",
    "        The URL of the location of the file.\n",
    "    filename : str, default 'data.csv'\n",
    "    name_dir : str, default 'data'\n",
    "        Name of the directory.\n",
    "    \n",
    "    Returns\n",
    "    -------\n",
    "    No return. Create a directory if needed and \n",
    "    download the file to that directory.\n",
    "    \"\"\"\n",
    "    \n",
    "    # if the directory doesn't exist, make a directory.\n",
    "    if not os.path.isdir(name_dir):\n",
    "        os.makedirs(name_dir)\n",
    "\n",
    "    data_path = os.path.join(name_dir, filename)\n",
    "    \n",
    "    # if file doesn't exist, download it.\n",
    "    if not os.path.isfile(data_path):\n",
    "        request.urlretrieve(data_url,data_path)\n",
    "    \n",
    "\n",
    "def save_obj(obj, name, name_dir='data' ):\n",
    "    \"\"\"\n",
    "    Save to pickle.\n",
    "    \n",
    "    Parameters\n",
    "    ----------\n",
    "    obj : any object \n",
    "        This can be a dictionary or ndarray.\n",
    "    name : str\n",
    "        The name for the object to be saved.\n",
    "    name_dir : str, default 'data'\n",
    "        Name of the directory.\n",
    "    \n",
    "    Returns\n",
    "    -------\n",
    "    No return.\n",
    "        Save the pickle object to the local file system.\n",
    "    \"\"\"\n",
    "    \n",
    "    if not os.path.isdir(name_dir):\n",
    "        os.makedirs(name_dir)\n",
    "\n",
    "    data_path = os.path.join(name_dir, name+'.pkl')\n",
    "    \n",
    "    with open(data_path, 'wb') as f:\n",
    "        joblib.dump(obj, f)\n",
    "\n",
    "def load_obj(name, name_dir='data' ):\n",
    "    \"\"\"\n",
    "    Load the pickle object from the local file system.\n",
    "    \n",
    "    Parameters\n",
    "    ----------\n",
    "    name : str\n",
    "        The name for the object to be saved.\n",
    "    name_dir : str, default 'data'\n",
    "        Name of the directory.\n",
    "    \n",
    "    Returns\n",
    "    -------\n",
    "    object\n",
    "        Return an object such as a dictionary.\n",
    "    \"\"\"\n",
    "    data_path = os.path.join(name_dir, name+'.pkl')\n",
    "    \n",
    "    with open(data_path, 'rb') as f:\n",
    "        return joblib.load(f)"
   ]
  },
  {
   "cell_type": "markdown",
   "metadata": {},
   "source": [
    "## Download EMS dispatch data"
   ]
  },
  {
   "cell_type": "code",
   "execution_count": 21,
   "metadata": {
    "ExecuteTime": {
     "end_time": "2019-03-02T18:22:03.668056Z",
     "start_time": "2019-03-02T18:22:03.665028Z"
    }
   },
   "outputs": [],
   "source": [
    "url_ems = 'https://data.wprdc.org/dataset/abba9671-a026-4270-9c83-003a1414d628/resource/ff33ca18-2e0c-4cb5-bdcd-60a5dc3c0418/download/911-ems-dispatches.csv'"
   ]
  },
  {
   "cell_type": "code",
   "execution_count": 22,
   "metadata": {
    "ExecuteTime": {
     "end_time": "2019-03-02T18:22:04.132544Z",
     "start_time": "2019-03-02T18:22:04.129564Z"
    }
   },
   "outputs": [],
   "source": [
    "download_data(name_dir=\"data\", \n",
    "              filename=\"EMS.csv\",\n",
    "              data_url=url_ems)"
   ]
  },
  {
   "cell_type": "code",
   "execution_count": 23,
   "metadata": {
    "ExecuteTime": {
     "end_time": "2019-03-02T18:22:07.867689Z",
     "start_time": "2019-03-02T18:22:06.273836Z"
    }
   },
   "outputs": [
    {
     "data": {
      "text/html": [
       "<div>\n",
       "<style scoped>\n",
       "    .dataframe tbody tr th:only-of-type {\n",
       "        vertical-align: middle;\n",
       "    }\n",
       "\n",
       "    .dataframe tbody tr th {\n",
       "        vertical-align: top;\n",
       "    }\n",
       "\n",
       "    .dataframe thead th {\n",
       "        text-align: right;\n",
       "    }\n",
       "</style>\n",
       "<table border=\"1\" class=\"dataframe\">\n",
       "  <thead>\n",
       "    <tr style=\"text-align: right;\">\n",
       "      <th></th>\n",
       "      <th>Call_ID_Hash</th>\n",
       "      <th>SERVICE</th>\n",
       "      <th>PRIORITY</th>\n",
       "      <th>PRIORITY_DESC</th>\n",
       "      <th>AGENCY</th>\n",
       "      <th>CALL_QUARTER</th>\n",
       "      <th>CALL_YEAR</th>\n",
       "      <th>DESCRIPTION_SHORT</th>\n",
       "      <th>CITY_CODE</th>\n",
       "      <th>CITY_NAME</th>\n",
       "      <th>GEOID</th>\n",
       "    </tr>\n",
       "  </thead>\n",
       "  <tbody>\n",
       "    <tr>\n",
       "      <th>0</th>\n",
       "      <td>336ba345f5a0</td>\n",
       "      <td>EMS</td>\n",
       "      <td>E0</td>\n",
       "      <td>EMS ALS life threatening response w/ backup</td>\n",
       "      <td>E620</td>\n",
       "      <td>Q1</td>\n",
       "      <td>2015</td>\n",
       "      <td>HEMORRHAGE</td>\n",
       "      <td>PVU</td>\n",
       "      <td>PORT VUE</td>\n",
       "      <td>420035003002</td>\n",
       "    </tr>\n",
       "    <tr>\n",
       "      <th>1</th>\n",
       "      <td>f59d50d394fa</td>\n",
       "      <td>EMS</td>\n",
       "      <td>E0</td>\n",
       "      <td>EMS ALS life threatening response w/ backup</td>\n",
       "      <td>E380</td>\n",
       "      <td>Q1</td>\n",
       "      <td>2015</td>\n",
       "      <td>UNCONSCIOUS</td>\n",
       "      <td>PEN</td>\n",
       "      <td>PENN HILLS</td>\n",
       "      <td>420035235011</td>\n",
       "    </tr>\n",
       "    <tr>\n",
       "      <th>2</th>\n",
       "      <td>8d56b4f6f9fe</td>\n",
       "      <td>EMS</td>\n",
       "      <td>E0</td>\n",
       "      <td>EMS ALS life threatening response w/ backup</td>\n",
       "      <td>E620</td>\n",
       "      <td>Q1</td>\n",
       "      <td>2015</td>\n",
       "      <td>UNCONSCIOUS</td>\n",
       "      <td>MCK</td>\n",
       "      <td>MCKEESPORT</td>\n",
       "      <td>420035523003</td>\n",
       "    </tr>\n",
       "    <tr>\n",
       "      <th>3</th>\n",
       "      <td>e20045d2f6b4</td>\n",
       "      <td>EMS</td>\n",
       "      <td>E0</td>\n",
       "      <td>EMS ALS life threatening response w/ backup</td>\n",
       "      <td>E050</td>\n",
       "      <td>Q1</td>\n",
       "      <td>2015</td>\n",
       "      <td>GUNSHOT, STABBING, OR OTHER WOUND</td>\n",
       "      <td>PGH</td>\n",
       "      <td>PITTSBURGH</td>\n",
       "      <td>420031306003</td>\n",
       "    </tr>\n",
       "    <tr>\n",
       "      <th>4</th>\n",
       "      <td>dbe1c9db46f6</td>\n",
       "      <td>EMS</td>\n",
       "      <td>E0</td>\n",
       "      <td>EMS ALS life threatening response w/ backup</td>\n",
       "      <td>E050</td>\n",
       "      <td>Q1</td>\n",
       "      <td>2015</td>\n",
       "      <td>ASSAULT</td>\n",
       "      <td>PGH</td>\n",
       "      <td>PITTSBURGH</td>\n",
       "      <td>420031609002</td>\n",
       "    </tr>\n",
       "  </tbody>\n",
       "</table>\n",
       "</div>"
      ],
      "text/plain": [
       "   Call_ID_Hash SERVICE PRIORITY                                PRIORITY_DESC  \\\n",
       "0  336ba345f5a0     EMS       E0  EMS ALS life threatening response w/ backup   \n",
       "1  f59d50d394fa     EMS       E0  EMS ALS life threatening response w/ backup   \n",
       "2  8d56b4f6f9fe     EMS       E0  EMS ALS life threatening response w/ backup   \n",
       "3  e20045d2f6b4     EMS       E0  EMS ALS life threatening response w/ backup   \n",
       "4  dbe1c9db46f6     EMS       E0  EMS ALS life threatening response w/ backup   \n",
       "\n",
       "  AGENCY CALL_QUARTER  CALL_YEAR                  DESCRIPTION_SHORT CITY_CODE  \\\n",
       "0   E620           Q1       2015                         HEMORRHAGE       PVU   \n",
       "1   E380           Q1       2015                        UNCONSCIOUS       PEN   \n",
       "2   E620           Q1       2015                        UNCONSCIOUS       MCK   \n",
       "3   E050           Q1       2015  GUNSHOT, STABBING, OR OTHER WOUND       PGH   \n",
       "4   E050           Q1       2015                            ASSAULT       PGH   \n",
       "\n",
       "    CITY_NAME         GEOID  \n",
       "0    PORT VUE  420035003002  \n",
       "1  PENN HILLS  420035235011  \n",
       "2  MCKEESPORT  420035523003  \n",
       "3  PITTSBURGH  420031306003  \n",
       "4  PITTSBURGH  420031609002  "
      ]
     },
     "execution_count": 23,
     "metadata": {},
     "output_type": "execute_result"
    }
   ],
   "source": [
    "df_ems = pd.read_csv('data/EMS.csv')\n",
    "df_ems.head()\n"
   ]
  },
  {
   "cell_type": "markdown",
   "metadata": {},
   "source": [
    "## Check Missing Values"
   ]
  },
  {
   "cell_type": "code",
   "execution_count": 24,
   "metadata": {
    "ExecuteTime": {
     "end_time": "2019-03-02T18:22:10.663873Z",
     "start_time": "2019-03-02T18:22:10.258104Z"
    }
   },
   "outputs": [
    {
     "name": "stdout",
     "output_type": "stream",
     "text": [
      "<class 'pandas.core.frame.DataFrame'>\n",
      "RangeIndex: 780698 entries, 0 to 780697\n",
      "Data columns (total 11 columns):\n",
      "Call_ID_Hash         780698 non-null object\n",
      "SERVICE              780698 non-null object\n",
      "PRIORITY             780698 non-null object\n",
      "PRIORITY_DESC        780698 non-null object\n",
      "AGENCY               780698 non-null object\n",
      "CALL_QUARTER         780698 non-null object\n",
      "CALL_YEAR            780698 non-null int64\n",
      "DESCRIPTION_SHORT    778103 non-null object\n",
      "CITY_CODE            780634 non-null object\n",
      "CITY_NAME            780611 non-null object\n",
      "GEOID                780698 non-null int64\n",
      "dtypes: int64(2), object(9)\n",
      "memory usage: 65.5+ MB\n"
     ]
    }
   ],
   "source": [
    "df_ems.info()"
   ]
  },
  {
   "cell_type": "code",
   "execution_count": 25,
   "metadata": {
    "ExecuteTime": {
     "end_time": "2019-03-02T18:22:13.032554Z",
     "start_time": "2019-03-02T18:22:13.026868Z"
    }
   },
   "outputs": [],
   "source": [
    "def getCodeName(geoid,df):\n",
    "    \"\"\"\n",
    "    Return city name and city code for a given geioid.\n",
    "    \n",
    "    Parameters\n",
    "    ----------\n",
    "    geoid : int\n",
    "    df : DataFrame\n",
    "    \n",
    "    Returns\n",
    "    -------\n",
    "    tuple\n",
    "    \"\"\"\n",
    "    temp = df[(df_ems.GEOID == geoid) & (df.CITY_NAME.notnull()) ][['CITY_CODE','CITY_NAME']]\n",
    "    city_name = temp['CITY_NAME'].value_counts().index[0]\n",
    "    city_code = temp[ temp['CITY_NAME'] == city_name]['CITY_CODE'].value_counts().index[0]\n",
    "#     print(city_name,city_code)\n",
    "    return city_name,city_code\n",
    "\n",
    "def nested_dict():\n",
    "  \"\"\"\n",
    "  This returns a empty nestable dictionary.\n",
    "  \"\"\"\n",
    "  return defaultdict(nested_dict)\n",
    "\n",
    "\n"
   ]
  },
  {
   "cell_type": "code",
   "execution_count": 26,
   "metadata": {
    "ExecuteTime": {
     "end_time": "2019-03-02T18:22:15.822165Z",
     "start_time": "2019-03-02T18:22:15.777493Z"
    }
   },
   "outputs": [
    {
     "data": {
      "text/plain": [
       "('PITTSBURGH', 'PGH')"
      ]
     },
     "execution_count": 26,
     "metadata": {},
     "output_type": "execute_result"
    }
   ],
   "source": [
    "getCodeName(420035629002,df_ems)"
   ]
  },
  {
   "cell_type": "code",
   "execution_count": 27,
   "metadata": {
    "ExecuteTime": {
     "end_time": "2019-03-02T18:22:16.510119Z",
     "start_time": "2019-03-02T18:22:16.440193Z"
    }
   },
   "outputs": [
    {
     "data": {
      "text/plain": [
       "[7200, 7237, 29818, 45426, 51944, 69156, 104522, 104614, 107710, 114511]"
      ]
     },
     "execution_count": 27,
     "metadata": {},
     "output_type": "execute_result"
    }
   ],
   "source": [
    "# Get index for missing values at CITY_CODE and CITY_NAME\n",
    "index_for_missing_values = df_ems[(df_ems.CITY_NAME.isnull()) | (df_ems.CITY_CODE.isnull())].index.tolist()\n",
    "index_for_missing_values[:10]"
   ]
  },
  {
   "cell_type": "code",
   "execution_count": 28,
   "metadata": {
    "ExecuteTime": {
     "end_time": "2019-03-02T18:22:23.849299Z",
     "start_time": "2019-03-02T18:22:17.217987Z"
    }
   },
   "outputs": [
    {
     "data": {
      "text/plain": [
       "[]"
      ]
     },
     "execution_count": 28,
     "metadata": {},
     "output_type": "execute_result"
    }
   ],
   "source": [
    "# Fill the missing values\n",
    "for index in index_for_missing_values:\n",
    "    geoid = df_ems.loc[index,'GEOID']\n",
    "    ct_name, ct_code = getCodeName(geoid,df_ems)\n",
    "    \n",
    "    df_ems.loc[index,'CITY_NAME'] = ct_name\n",
    "    df_ems.loc[index,'CITY_CODE'] = ct_code\n",
    "\n",
    "# Recheck missing at CITY_CODE and CITY_NAME\n",
    "df_ems[(df_ems.CITY_NAME.isnull()) | (df_ems.CITY_CODE.isnull())].index.tolist()\n"
   ]
  },
  {
   "cell_type": "code",
   "execution_count": 29,
   "metadata": {
    "ExecuteTime": {
     "end_time": "2019-03-02T18:22:24.240560Z",
     "start_time": "2019-03-02T18:22:23.851463Z"
    }
   },
   "outputs": [
    {
     "name": "stdout",
     "output_type": "stream",
     "text": [
      "<class 'pandas.core.frame.DataFrame'>\n",
      "RangeIndex: 780698 entries, 0 to 780697\n",
      "Data columns (total 11 columns):\n",
      "Call_ID_Hash         780698 non-null object\n",
      "SERVICE              780698 non-null object\n",
      "PRIORITY             780698 non-null object\n",
      "PRIORITY_DESC        780698 non-null object\n",
      "AGENCY               780698 non-null object\n",
      "CALL_QUARTER         780698 non-null object\n",
      "CALL_YEAR            780698 non-null int64\n",
      "DESCRIPTION_SHORT    778103 non-null object\n",
      "CITY_CODE            780698 non-null object\n",
      "CITY_NAME            780698 non-null object\n",
      "GEOID                780698 non-null int64\n",
      "dtypes: int64(2), object(9)\n",
      "memory usage: 65.5+ MB\n"
     ]
    }
   ],
   "source": [
    "df_ems.info()"
   ]
  },
  {
   "cell_type": "code",
   "execution_count": 30,
   "metadata": {
    "ExecuteTime": {
     "end_time": "2019-03-02T18:22:24.274792Z",
     "start_time": "2019-03-02T18:22:24.242563Z"
    }
   },
   "outputs": [
    {
     "data": {
      "text/plain": [
       "EMS Admin Mark out                             2491\n",
       "EMS ALS life threatening response                31\n",
       "EMS Standard BLS response                        31\n",
       "EMS Standard ALS response                        21\n",
       "EMS ALS life threatening response w/ backup      12\n",
       "EMS BLS Assistance response                       8\n",
       "Fire Notifications                                1\n",
       "Name: PRIORITY_DESC, dtype: int64"
      ]
     },
     "execution_count": 30,
     "metadata": {},
     "output_type": "execute_result"
    }
   ],
   "source": [
    "df_ems[df_ems.DESCRIPTION_SHORT.isnull()]['PRIORITY_DESC'].value_counts()"
   ]
  },
  {
   "cell_type": "code",
   "execution_count": 31,
   "metadata": {
    "ExecuteTime": {
     "end_time": "2019-03-02T18:22:24.317748Z",
     "start_time": "2019-03-02T18:22:24.278166Z"
    }
   },
   "outputs": [],
   "source": [
    "df_ems['DESCRIPTION_SHORT'].fillna('MISSING',inplace=True)"
   ]
  },
  {
   "cell_type": "code",
   "execution_count": 32,
   "metadata": {
    "ExecuteTime": {
     "end_time": "2019-03-02T18:22:24.712933Z",
     "start_time": "2019-03-02T18:22:24.320515Z"
    }
   },
   "outputs": [
    {
     "name": "stdout",
     "output_type": "stream",
     "text": [
      "<class 'pandas.core.frame.DataFrame'>\n",
      "RangeIndex: 780698 entries, 0 to 780697\n",
      "Data columns (total 11 columns):\n",
      "Call_ID_Hash         780698 non-null object\n",
      "SERVICE              780698 non-null object\n",
      "PRIORITY             780698 non-null object\n",
      "PRIORITY_DESC        780698 non-null object\n",
      "AGENCY               780698 non-null object\n",
      "CALL_QUARTER         780698 non-null object\n",
      "CALL_YEAR            780698 non-null int64\n",
      "DESCRIPTION_SHORT    780698 non-null object\n",
      "CITY_CODE            780698 non-null object\n",
      "CITY_NAME            780698 non-null object\n",
      "GEOID                780698 non-null int64\n",
      "dtypes: int64(2), object(9)\n",
      "memory usage: 65.5+ MB\n"
     ]
    }
   ],
   "source": [
    "df_ems.info()"
   ]
  },
  {
   "cell_type": "code",
   "execution_count": 33,
   "metadata": {
    "ExecuteTime": {
     "end_time": "2019-03-02T18:22:24.758112Z",
     "start_time": "2019-03-02T18:22:24.714714Z"
    }
   },
   "outputs": [
    {
     "data": {
      "text/plain": [
       "['PORT VUE',\n",
       " 'PENN HILLS',\n",
       " 'MCKEESPORT',\n",
       " 'PITTSBURGH',\n",
       " 'ROSS',\n",
       " 'SOUTH FAYETTE',\n",
       " 'FRANKLIN PARK',\n",
       " 'DUQUESNE',\n",
       " 'PITCAIRN',\n",
       " 'WEST MIFFLIN']"
      ]
     },
     "execution_count": 33,
     "metadata": {},
     "output_type": "execute_result"
    }
   ],
   "source": [
    "ct_names = df_ems.CITY_NAME.unique().tolist()\n",
    "ct_names[:10]"
   ]
  },
  {
   "cell_type": "code",
   "execution_count": 34,
   "metadata": {
    "ExecuteTime": {
     "end_time": "2019-03-02T18:22:24.793726Z",
     "start_time": "2019-03-02T18:22:24.761176Z"
    }
   },
   "outputs": [
    {
     "data": {
      "text/html": [
       "<div>\n",
       "<style scoped>\n",
       "    .dataframe tbody tr th:only-of-type {\n",
       "        vertical-align: middle;\n",
       "    }\n",
       "\n",
       "    .dataframe tbody tr th {\n",
       "        vertical-align: top;\n",
       "    }\n",
       "\n",
       "    .dataframe thead th {\n",
       "        text-align: right;\n",
       "    }\n",
       "</style>\n",
       "<table border=\"1\" class=\"dataframe\">\n",
       "  <thead>\n",
       "    <tr style=\"text-align: right;\">\n",
       "      <th></th>\n",
       "      <th>Call_ID_Hash</th>\n",
       "      <th>SERVICE</th>\n",
       "      <th>PRIORITY</th>\n",
       "      <th>PRIORITY_DESC</th>\n",
       "      <th>AGENCY</th>\n",
       "      <th>CALL_QUARTER</th>\n",
       "      <th>CALL_YEAR</th>\n",
       "      <th>DESCRIPTION_SHORT</th>\n",
       "      <th>CITY_CODE</th>\n",
       "      <th>CITY_NAME</th>\n",
       "      <th>GEOID</th>\n",
       "    </tr>\n",
       "  </thead>\n",
       "  <tbody>\n",
       "    <tr>\n",
       "      <th>211893</th>\n",
       "      <td>eb764b289f44</td>\n",
       "      <td>EMS</td>\n",
       "      <td>E1</td>\n",
       "      <td>EMS ALS life threatening response</td>\n",
       "      <td>E590</td>\n",
       "      <td>Q4</td>\n",
       "      <td>2015</td>\n",
       "      <td>COMMERCIAL OR APARTMENT BLDG FIRE</td>\n",
       "      <td>WST</td>\n",
       "      <td>WESTMORELAND COUNTY</td>\n",
       "      <td>420034961023</td>\n",
       "    </tr>\n",
       "  </tbody>\n",
       "</table>\n",
       "</div>"
      ],
      "text/plain": [
       "        Call_ID_Hash SERVICE PRIORITY                      PRIORITY_DESC  \\\n",
       "211893  eb764b289f44     EMS       E1  EMS ALS life threatening response   \n",
       "\n",
       "       AGENCY CALL_QUARTER  CALL_YEAR                  DESCRIPTION_SHORT  \\\n",
       "211893   E590           Q4       2015  COMMERCIAL OR APARTMENT BLDG FIRE   \n",
       "\n",
       "       CITY_CODE            CITY_NAME         GEOID  \n",
       "211893       WST  WESTMORELAND COUNTY  420034961023  "
      ]
     },
     "execution_count": 34,
     "metadata": {},
     "output_type": "execute_result"
    }
   ],
   "source": [
    "# Check Westmoreland county in city names\n",
    "df_ems[df_ems.CITY_NAME.isin(['WESTMORELAND COUNTY'])]"
   ]
  },
  {
   "cell_type": "code",
   "execution_count": 35,
   "metadata": {
    "ExecuteTime": {
     "end_time": "2019-03-02T18:22:25.919839Z",
     "start_time": "2019-03-02T18:22:25.795612Z"
    }
   },
   "outputs": [
    {
     "name": "stdout",
     "output_type": "stream",
     "text": [
      "No. of rows before dropping =  780698\n",
      "No. of rows after dropping =  780697\n"
     ]
    }
   ],
   "source": [
    "# Drop westmoreland county\n",
    "print(\"No. of rows before dropping = \", len(df_ems))\n",
    "df_ems.drop(df_ems[df_ems.CITY_NAME.isin(['WESTMORELAND COUNTY'])].index, inplace=True)\n",
    "print(\"No. of rows after dropping = \", len(df_ems))"
   ]
  },
  {
   "cell_type": "code",
   "execution_count": 38,
   "metadata": {
    "ExecuteTime": {
     "end_time": "2019-03-02T18:26:30.202665Z",
     "start_time": "2019-03-02T18:26:28.225814Z"
    }
   },
   "outputs": [],
   "source": [
    "# Save data after filling missing values.\n",
    "save_obj(df_ems,'df_ems')\n",
    "df_ems = load_obj('df_ems')"
   ]
  },
  {
   "cell_type": "code",
   "execution_count": 39,
   "metadata": {
    "ExecuteTime": {
     "end_time": "2019-03-02T18:26:37.074015Z",
     "start_time": "2019-03-02T18:26:37.056519Z"
    }
   },
   "outputs": [
    {
     "data": {
      "text/html": [
       "<div>\n",
       "<style scoped>\n",
       "    .dataframe tbody tr th:only-of-type {\n",
       "        vertical-align: middle;\n",
       "    }\n",
       "\n",
       "    .dataframe tbody tr th {\n",
       "        vertical-align: top;\n",
       "    }\n",
       "\n",
       "    .dataframe thead th {\n",
       "        text-align: right;\n",
       "    }\n",
       "</style>\n",
       "<table border=\"1\" class=\"dataframe\">\n",
       "  <thead>\n",
       "    <tr style=\"text-align: right;\">\n",
       "      <th></th>\n",
       "      <th>Call_ID_Hash</th>\n",
       "      <th>SERVICE</th>\n",
       "      <th>PRIORITY</th>\n",
       "      <th>PRIORITY_DESC</th>\n",
       "      <th>AGENCY</th>\n",
       "      <th>CALL_QUARTER</th>\n",
       "      <th>CALL_YEAR</th>\n",
       "      <th>DESCRIPTION_SHORT</th>\n",
       "      <th>CITY_CODE</th>\n",
       "      <th>CITY_NAME</th>\n",
       "      <th>GEOID</th>\n",
       "    </tr>\n",
       "  </thead>\n",
       "  <tbody>\n",
       "    <tr>\n",
       "      <th>0</th>\n",
       "      <td>336ba345f5a0</td>\n",
       "      <td>EMS</td>\n",
       "      <td>E0</td>\n",
       "      <td>EMS ALS life threatening response w/ backup</td>\n",
       "      <td>E620</td>\n",
       "      <td>Q1</td>\n",
       "      <td>2015</td>\n",
       "      <td>HEMORRHAGE</td>\n",
       "      <td>PVU</td>\n",
       "      <td>PORT VUE</td>\n",
       "      <td>420035003002</td>\n",
       "    </tr>\n",
       "    <tr>\n",
       "      <th>1</th>\n",
       "      <td>f59d50d394fa</td>\n",
       "      <td>EMS</td>\n",
       "      <td>E0</td>\n",
       "      <td>EMS ALS life threatening response w/ backup</td>\n",
       "      <td>E380</td>\n",
       "      <td>Q1</td>\n",
       "      <td>2015</td>\n",
       "      <td>UNCONSCIOUS</td>\n",
       "      <td>PEN</td>\n",
       "      <td>PENN HILLS</td>\n",
       "      <td>420035235011</td>\n",
       "    </tr>\n",
       "    <tr>\n",
       "      <th>2</th>\n",
       "      <td>8d56b4f6f9fe</td>\n",
       "      <td>EMS</td>\n",
       "      <td>E0</td>\n",
       "      <td>EMS ALS life threatening response w/ backup</td>\n",
       "      <td>E620</td>\n",
       "      <td>Q1</td>\n",
       "      <td>2015</td>\n",
       "      <td>UNCONSCIOUS</td>\n",
       "      <td>MCK</td>\n",
       "      <td>MCKEESPORT</td>\n",
       "      <td>420035523003</td>\n",
       "    </tr>\n",
       "    <tr>\n",
       "      <th>3</th>\n",
       "      <td>e20045d2f6b4</td>\n",
       "      <td>EMS</td>\n",
       "      <td>E0</td>\n",
       "      <td>EMS ALS life threatening response w/ backup</td>\n",
       "      <td>E050</td>\n",
       "      <td>Q1</td>\n",
       "      <td>2015</td>\n",
       "      <td>GUNSHOT, STABBING, OR OTHER WOUND</td>\n",
       "      <td>PGH</td>\n",
       "      <td>PITTSBURGH</td>\n",
       "      <td>420031306003</td>\n",
       "    </tr>\n",
       "    <tr>\n",
       "      <th>4</th>\n",
       "      <td>dbe1c9db46f6</td>\n",
       "      <td>EMS</td>\n",
       "      <td>E0</td>\n",
       "      <td>EMS ALS life threatening response w/ backup</td>\n",
       "      <td>E050</td>\n",
       "      <td>Q1</td>\n",
       "      <td>2015</td>\n",
       "      <td>ASSAULT</td>\n",
       "      <td>PGH</td>\n",
       "      <td>PITTSBURGH</td>\n",
       "      <td>420031609002</td>\n",
       "    </tr>\n",
       "  </tbody>\n",
       "</table>\n",
       "</div>"
      ],
      "text/plain": [
       "   Call_ID_Hash SERVICE PRIORITY                                PRIORITY_DESC  \\\n",
       "0  336ba345f5a0     EMS       E0  EMS ALS life threatening response w/ backup   \n",
       "1  f59d50d394fa     EMS       E0  EMS ALS life threatening response w/ backup   \n",
       "2  8d56b4f6f9fe     EMS       E0  EMS ALS life threatening response w/ backup   \n",
       "3  e20045d2f6b4     EMS       E0  EMS ALS life threatening response w/ backup   \n",
       "4  dbe1c9db46f6     EMS       E0  EMS ALS life threatening response w/ backup   \n",
       "\n",
       "  AGENCY CALL_QUARTER  CALL_YEAR                  DESCRIPTION_SHORT CITY_CODE  \\\n",
       "0   E620           Q1       2015                         HEMORRHAGE       PVU   \n",
       "1   E380           Q1       2015                        UNCONSCIOUS       PEN   \n",
       "2   E620           Q1       2015                        UNCONSCIOUS       MCK   \n",
       "3   E050           Q1       2015  GUNSHOT, STABBING, OR OTHER WOUND       PGH   \n",
       "4   E050           Q1       2015                            ASSAULT       PGH   \n",
       "\n",
       "    CITY_NAME         GEOID  \n",
       "0    PORT VUE  420035003002  \n",
       "1  PENN HILLS  420035235011  \n",
       "2  MCKEESPORT  420035523003  \n",
       "3  PITTSBURGH  420031306003  \n",
       "4  PITTSBURGH  420031609002  "
      ]
     },
     "execution_count": 39,
     "metadata": {},
     "output_type": "execute_result"
    }
   ],
   "source": [
    "df_ems.head()"
   ]
  },
  {
   "cell_type": "code",
   "execution_count": null,
   "metadata": {},
   "outputs": [],
   "source": []
  }
 ],
 "metadata": {
  "kernelspec": {
   "display_name": "Python 3",
   "language": "python",
   "name": "python3"
  },
  "language_info": {
   "codemirror_mode": {
    "name": "ipython",
    "version": 3
   },
   "file_extension": ".py",
   "mimetype": "text/x-python",
   "name": "python",
   "nbconvert_exporter": "python",
   "pygments_lexer": "ipython3",
   "version": "3.6.7"
  },
  "toc": {
   "base_numbering": 1,
   "nav_menu": {},
   "number_sections": false,
   "sideBar": false,
   "skip_h1_title": false,
   "title_cell": "Table of Contents",
   "title_sidebar": "Contents",
   "toc_cell": false,
   "toc_position": {},
   "toc_section_display": false,
   "toc_window_display": false
  }
 },
 "nbformat": 4,
 "nbformat_minor": 2
}
