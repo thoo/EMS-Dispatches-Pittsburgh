{
 "cells": [
  {
   "cell_type": "code",
   "execution_count": 1,
   "metadata": {
    "ExecuteTime": {
     "end_time": "2019-03-02T18:53:06.347451Z",
     "start_time": "2019-03-02T18:53:05.788001Z"
    }
   },
   "outputs": [],
   "source": [
    "import os\n",
    "from urllib import request \n",
    "from collections import defaultdict\n",
    "import numpy as np\n",
    "import joblib\n",
    "import pandas as pd"
   ]
  },
  {
   "cell_type": "markdown",
   "metadata": {},
   "source": [
    "## Create a folder to save data files."
   ]
  },
  {
   "cell_type": "code",
   "execution_count": 5,
   "metadata": {
    "ExecuteTime": {
     "end_time": "2019-03-02T18:53:15.952564Z",
     "start_time": "2019-03-02T18:53:15.949314Z"
    }
   },
   "outputs": [],
   "source": [
    "if not os.path.isdir('data'):\n",
    "    os.makedirs('data')"
   ]
  },
  {
   "cell_type": "code",
   "execution_count": 15,
   "metadata": {
    "ExecuteTime": {
     "end_time": "2019-03-02T19:10:43.610170Z",
     "start_time": "2019-03-02T19:10:43.588133Z"
    }
   },
   "outputs": [],
   "source": [
    "def download_data(name_dir=\"data\", filename=\"data.csv\",\n",
    "                  data_url = 'https://www2.census.gov/programs-surveys/popest/datasets/2010-2017/cities/totals/sub-est2017_42.csv'):\n",
    "    \"\"\" \n",
    "    Download both train and test dataset to a directory named \"data\". \n",
    "\n",
    "    If the directory doesn't exist, this function will create one. \n",
    "\n",
    "    Parameters\n",
    "    ----------\n",
    "    data_url : str, default 'https://www2.census.gov/programs-surveys/popest/datasets/2010-2017/cities/totals/sub-est2017_42.csv'\n",
    "        The URL of the location of the file.\n",
    "    filename : str, default 'data.csv'\n",
    "    name_dir : str, default 'data'\n",
    "        Name of the directory.\n",
    "    \n",
    "    Returns\n",
    "    -------\n",
    "    No return. Create a directory if needed and \n",
    "    download the file to that directory.\n",
    "    \"\"\"\n",
    "    \n",
    "    if not os.path.isdir(name_dir):\n",
    "        os.makedirs(name_dir)\n",
    "\n",
    "    data_path = os.path.join(name_dir, filename)\n",
    "\n",
    "    # if file doesn't exist, download it.\n",
    "    if not os.path.isfile(data_path):\n",
    "        request.urlretrieve(data_url,data_path)\n",
    "\n",
    "# https://stackoverflow.com/questions/25010369/wget-curl-large-file-from-google-drive\n",
    "import requests\n",
    "\n",
    "def download_file_from_google_drive(id, destination):\n",
    "    def get_confirm_token(response):\n",
    "        for key, value in response.cookies.items():\n",
    "            if key.startswith('download_warning'):\n",
    "                return value\n",
    "\n",
    "        return None\n",
    "\n",
    "    def save_response_content(response, destination):\n",
    "        CHUNK_SIZE = 32768\n",
    "\n",
    "        with open(destination, \"wb\") as f:\n",
    "            for chunk in response.iter_content(CHUNK_SIZE):\n",
    "                if chunk: # filter out keep-alive new chunks\n",
    "                    f.write(chunk)\n",
    "\n",
    "    URL = \"https://docs.google.com/uc?export=download\"\n",
    "\n",
    "    session = requests.Session()\n",
    "\n",
    "    response = session.get(URL, params = { 'id' : id }, stream = True)\n",
    "    token = get_confirm_token(response)\n",
    "\n",
    "    if token:\n",
    "        params = { 'id' : id, 'confirm' : token }\n",
    "        response = session.get(URL, params = params, stream = True)\n",
    "\n",
    "    save_response_content(response, destination)    \n",
    "\n",
    "def save_obj(obj, name, name_dir='data' ):\n",
    "    \"\"\"\n",
    "    Save to pickle.\n",
    "    \n",
    "    Parameters\n",
    "    ----------\n",
    "    obj : any object \n",
    "        This can be a dictionary or ndarray.\n",
    "    name : str\n",
    "        The name for the object to be saved.\n",
    "    name_dir : str, default 'data'\n",
    "        Name of the directory.\n",
    "    \n",
    "    Returns\n",
    "    -------\n",
    "    No return.\n",
    "        Save the pickle object to the local file system.\n",
    "    \"\"\"\n",
    "    \n",
    "    if not os.path.isdir(name_dir):\n",
    "        os.makedirs(name_dir)\n",
    "\n",
    "    data_path = os.path.join(name_dir, name+'.pkl')\n",
    "    \n",
    "    with open(data_path, 'wb') as f:\n",
    "        joblib.dump(obj, f)\n",
    "\n",
    "def load_obj(name, gdrive_id, name_dir='data' ):\n",
    "    \"\"\"\n",
    "    Load the pickle object from the local file system.\n",
    "    \n",
    "    Parameters\n",
    "    ----------\n",
    "    name : str\n",
    "        The name for the object to be saved.\n",
    "    gdrive_id : str\n",
    "        The google drive id for the data.\n",
    "    name_dir : str, default 'data'\n",
    "        Name of the directory.\n",
    "    \n",
    "    Returns\n",
    "    -------\n",
    "    object\n",
    "        Return an object such as a dictionary.\n",
    "    \"\"\"\n",
    "    data_path = os.path.join(name_dir, name+'.pkl')\n",
    "    \n",
    "    # if file doesn't exist, download it.\n",
    "    if not os.path.isfile(data_path):\n",
    "        download_file_from_google_drive(gdrive_id, data_path)\n",
    "        \n",
    "    with open(data_path, 'rb') as f:\n",
    "        return joblib.load(f)\n",
    "    \n",
    "def nested_dict():\n",
    "  \"\"\"\n",
    "  This returns a empty nestable dictionary.\n",
    "  \"\"\"\n",
    "  return defaultdict(nested_dict)\n"
   ]
  },
  {
   "cell_type": "markdown",
   "metadata": {},
   "source": [
    "## Download Sub-county population dataset for PA"
   ]
  },
  {
   "cell_type": "code",
   "execution_count": 7,
   "metadata": {
    "ExecuteTime": {
     "end_time": "2019-03-02T18:53:19.136405Z",
     "start_time": "2019-03-02T18:53:19.132859Z"
    }
   },
   "outputs": [],
   "source": [
    "# https://www.census.gov/data/datasets/2017/demo/popest/total-cities-and-towns.html\n",
    "url_pop = 'https://www2.census.gov/programs-surveys/popest/datasets/2010-2017/cities/totals/sub-est2017_42.csv'"
   ]
  },
  {
   "cell_type": "code",
   "execution_count": 8,
   "metadata": {
    "ExecuteTime": {
     "end_time": "2019-03-02T18:53:32.838817Z",
     "start_time": "2019-03-02T18:53:32.835631Z"
    }
   },
   "outputs": [],
   "source": [
    "download_data(name_dir=\"data\", \n",
    "              filename=\"population.csv\",\n",
    "              data_url=url_pop)"
   ]
  },
  {
   "cell_type": "code",
   "execution_count": 12,
   "metadata": {
    "ExecuteTime": {
     "end_time": "2019-03-02T18:58:53.041947Z",
     "start_time": "2019-03-02T18:58:53.003594Z"
    }
   },
   "outputs": [
    {
     "data": {
      "text/html": [
       "<div>\n",
       "<style scoped>\n",
       "    .dataframe tbody tr th:only-of-type {\n",
       "        vertical-align: middle;\n",
       "    }\n",
       "\n",
       "    .dataframe tbody tr th {\n",
       "        vertical-align: top;\n",
       "    }\n",
       "\n",
       "    .dataframe thead th {\n",
       "        text-align: right;\n",
       "    }\n",
       "</style>\n",
       "<table border=\"1\" class=\"dataframe\">\n",
       "  <thead>\n",
       "    <tr style=\"text-align: right;\">\n",
       "      <th></th>\n",
       "      <th>SUMLEV</th>\n",
       "      <th>STATE</th>\n",
       "      <th>COUNTY</th>\n",
       "      <th>PLACE</th>\n",
       "      <th>COUSUB</th>\n",
       "      <th>CONCIT</th>\n",
       "      <th>PRIMGEO_FLAG</th>\n",
       "      <th>FUNCSTAT</th>\n",
       "      <th>NAME</th>\n",
       "      <th>STNAME</th>\n",
       "      <th>CENSUS2010POP</th>\n",
       "      <th>ESTIMATESBASE2010</th>\n",
       "      <th>POPESTIMATE2010</th>\n",
       "      <th>POPESTIMATE2011</th>\n",
       "      <th>POPESTIMATE2012</th>\n",
       "      <th>POPESTIMATE2013</th>\n",
       "      <th>POPESTIMATE2014</th>\n",
       "      <th>POPESTIMATE2015</th>\n",
       "      <th>POPESTIMATE2016</th>\n",
       "      <th>POPESTIMATE2017</th>\n",
       "    </tr>\n",
       "  </thead>\n",
       "  <tbody>\n",
       "    <tr>\n",
       "      <th>0</th>\n",
       "      <td>40</td>\n",
       "      <td>42</td>\n",
       "      <td>0</td>\n",
       "      <td>0</td>\n",
       "      <td>0</td>\n",
       "      <td>0</td>\n",
       "      <td>0</td>\n",
       "      <td>A</td>\n",
       "      <td>Pennsylvania</td>\n",
       "      <td>Pennsylvania</td>\n",
       "      <td>12702379</td>\n",
       "      <td>12702857</td>\n",
       "      <td>12711063</td>\n",
       "      <td>12742811</td>\n",
       "      <td>12768034</td>\n",
       "      <td>12778450</td>\n",
       "      <td>12790341</td>\n",
       "      <td>12791124</td>\n",
       "      <td>12787085</td>\n",
       "      <td>12805537</td>\n",
       "    </tr>\n",
       "    <tr>\n",
       "      <th>1</th>\n",
       "      <td>162</td>\n",
       "      <td>42</td>\n",
       "      <td>0</td>\n",
       "      <td>116</td>\n",
       "      <td>0</td>\n",
       "      <td>0</td>\n",
       "      <td>0</td>\n",
       "      <td>A</td>\n",
       "      <td>Abbottstown borough</td>\n",
       "      <td>Pennsylvania</td>\n",
       "      <td>1011</td>\n",
       "      <td>1011</td>\n",
       "      <td>1010</td>\n",
       "      <td>1011</td>\n",
       "      <td>1008</td>\n",
       "      <td>1006</td>\n",
       "      <td>1009</td>\n",
       "      <td>1012</td>\n",
       "      <td>1013</td>\n",
       "      <td>1020</td>\n",
       "    </tr>\n",
       "    <tr>\n",
       "      <th>2</th>\n",
       "      <td>162</td>\n",
       "      <td>42</td>\n",
       "      <td>0</td>\n",
       "      <td>332</td>\n",
       "      <td>0</td>\n",
       "      <td>0</td>\n",
       "      <td>0</td>\n",
       "      <td>A</td>\n",
       "      <td>Adamsburg borough</td>\n",
       "      <td>Pennsylvania</td>\n",
       "      <td>172</td>\n",
       "      <td>172</td>\n",
       "      <td>172</td>\n",
       "      <td>171</td>\n",
       "      <td>170</td>\n",
       "      <td>169</td>\n",
       "      <td>168</td>\n",
       "      <td>167</td>\n",
       "      <td>165</td>\n",
       "      <td>164</td>\n",
       "    </tr>\n",
       "    <tr>\n",
       "      <th>3</th>\n",
       "      <td>162</td>\n",
       "      <td>42</td>\n",
       "      <td>0</td>\n",
       "      <td>364</td>\n",
       "      <td>0</td>\n",
       "      <td>0</td>\n",
       "      <td>0</td>\n",
       "      <td>A</td>\n",
       "      <td>Adamstown borough</td>\n",
       "      <td>Pennsylvania</td>\n",
       "      <td>1789</td>\n",
       "      <td>1789</td>\n",
       "      <td>1801</td>\n",
       "      <td>1835</td>\n",
       "      <td>1837</td>\n",
       "      <td>1839</td>\n",
       "      <td>1844</td>\n",
       "      <td>1845</td>\n",
       "      <td>1847</td>\n",
       "      <td>1850</td>\n",
       "    </tr>\n",
       "    <tr>\n",
       "      <th>4</th>\n",
       "      <td>162</td>\n",
       "      <td>42</td>\n",
       "      <td>0</td>\n",
       "      <td>396</td>\n",
       "      <td>0</td>\n",
       "      <td>0</td>\n",
       "      <td>0</td>\n",
       "      <td>A</td>\n",
       "      <td>Addison borough</td>\n",
       "      <td>Pennsylvania</td>\n",
       "      <td>207</td>\n",
       "      <td>207</td>\n",
       "      <td>207</td>\n",
       "      <td>205</td>\n",
       "      <td>204</td>\n",
       "      <td>202</td>\n",
       "      <td>201</td>\n",
       "      <td>198</td>\n",
       "      <td>198</td>\n",
       "      <td>197</td>\n",
       "    </tr>\n",
       "  </tbody>\n",
       "</table>\n",
       "</div>"
      ],
      "text/plain": [
       "   SUMLEV  STATE  COUNTY  PLACE  COUSUB  CONCIT  PRIMGEO_FLAG FUNCSTAT  \\\n",
       "0      40     42       0      0       0       0             0        A   \n",
       "1     162     42       0    116       0       0             0        A   \n",
       "2     162     42       0    332       0       0             0        A   \n",
       "3     162     42       0    364       0       0             0        A   \n",
       "4     162     42       0    396       0       0             0        A   \n",
       "\n",
       "                  NAME        STNAME CENSUS2010POP  ESTIMATESBASE2010  \\\n",
       "0         Pennsylvania  Pennsylvania      12702379           12702857   \n",
       "1  Abbottstown borough  Pennsylvania          1011               1011   \n",
       "2    Adamsburg borough  Pennsylvania           172                172   \n",
       "3    Adamstown borough  Pennsylvania          1789               1789   \n",
       "4      Addison borough  Pennsylvania           207                207   \n",
       "\n",
       "   POPESTIMATE2010  POPESTIMATE2011  POPESTIMATE2012  POPESTIMATE2013  \\\n",
       "0         12711063         12742811         12768034         12778450   \n",
       "1             1010             1011             1008             1006   \n",
       "2              172              171              170              169   \n",
       "3             1801             1835             1837             1839   \n",
       "4              207              205              204              202   \n",
       "\n",
       "   POPESTIMATE2014  POPESTIMATE2015  POPESTIMATE2016  POPESTIMATE2017  \n",
       "0         12790341         12791124         12787085         12805537  \n",
       "1             1009             1012             1013             1020  \n",
       "2              168              167              165              164  \n",
       "3             1844             1845             1847             1850  \n",
       "4              201              198              198              197  "
      ]
     },
     "execution_count": 12,
     "metadata": {},
     "output_type": "execute_result"
    }
   ],
   "source": [
    "df_pop = pd.read_csv('data/population.csv')\n",
    "df_pop.head()"
   ]
  },
  {
   "cell_type": "code",
   "execution_count": 13,
   "metadata": {
    "ExecuteTime": {
     "end_time": "2019-03-02T18:59:05.383182Z",
     "start_time": "2019-03-02T18:59:05.360827Z"
    }
   },
   "outputs": [
    {
     "data": {
      "text/html": [
       "<div>\n",
       "<style scoped>\n",
       "    .dataframe tbody tr th:only-of-type {\n",
       "        vertical-align: middle;\n",
       "    }\n",
       "\n",
       "    .dataframe tbody tr th {\n",
       "        vertical-align: top;\n",
       "    }\n",
       "\n",
       "    .dataframe thead th {\n",
       "        text-align: right;\n",
       "    }\n",
       "</style>\n",
       "<table border=\"1\" class=\"dataframe\">\n",
       "  <thead>\n",
       "    <tr style=\"text-align: right;\">\n",
       "      <th></th>\n",
       "      <th>SUMLEV</th>\n",
       "      <th>STATE</th>\n",
       "      <th>COUNTY</th>\n",
       "      <th>PLACE</th>\n",
       "      <th>COUSUB</th>\n",
       "      <th>CONCIT</th>\n",
       "      <th>PRIMGEO_FLAG</th>\n",
       "      <th>FUNCSTAT</th>\n",
       "      <th>NAME</th>\n",
       "      <th>STNAME</th>\n",
       "      <th>...</th>\n",
       "      <th>ESTIMATESBASE2010</th>\n",
       "      <th>POPESTIMATE2010</th>\n",
       "      <th>POPESTIMATE2011</th>\n",
       "      <th>POPESTIMATE2012</th>\n",
       "      <th>POPESTIMATE2013</th>\n",
       "      <th>POPESTIMATE2014</th>\n",
       "      <th>POPESTIMATE2015</th>\n",
       "      <th>POPESTIMATE2016</th>\n",
       "      <th>POPESTIMATE2017</th>\n",
       "      <th>NAME_UP</th>\n",
       "    </tr>\n",
       "  </thead>\n",
       "  <tbody>\n",
       "    <tr>\n",
       "      <th>0</th>\n",
       "      <td>40</td>\n",
       "      <td>42</td>\n",
       "      <td>0</td>\n",
       "      <td>0</td>\n",
       "      <td>0</td>\n",
       "      <td>0</td>\n",
       "      <td>0</td>\n",
       "      <td>A</td>\n",
       "      <td>Pennsylvania</td>\n",
       "      <td>Pennsylvania</td>\n",
       "      <td>...</td>\n",
       "      <td>12702857</td>\n",
       "      <td>12711063</td>\n",
       "      <td>12742811</td>\n",
       "      <td>12768034</td>\n",
       "      <td>12778450</td>\n",
       "      <td>12790341</td>\n",
       "      <td>12791124</td>\n",
       "      <td>12787085</td>\n",
       "      <td>12805537</td>\n",
       "      <td>PENNSYLVANIA</td>\n",
       "    </tr>\n",
       "    <tr>\n",
       "      <th>1</th>\n",
       "      <td>162</td>\n",
       "      <td>42</td>\n",
       "      <td>0</td>\n",
       "      <td>116</td>\n",
       "      <td>0</td>\n",
       "      <td>0</td>\n",
       "      <td>0</td>\n",
       "      <td>A</td>\n",
       "      <td>Abbottstown borough</td>\n",
       "      <td>Pennsylvania</td>\n",
       "      <td>...</td>\n",
       "      <td>1011</td>\n",
       "      <td>1010</td>\n",
       "      <td>1011</td>\n",
       "      <td>1008</td>\n",
       "      <td>1006</td>\n",
       "      <td>1009</td>\n",
       "      <td>1012</td>\n",
       "      <td>1013</td>\n",
       "      <td>1020</td>\n",
       "      <td>ABBOTTSTOWN BOROUGH</td>\n",
       "    </tr>\n",
       "    <tr>\n",
       "      <th>2</th>\n",
       "      <td>162</td>\n",
       "      <td>42</td>\n",
       "      <td>0</td>\n",
       "      <td>332</td>\n",
       "      <td>0</td>\n",
       "      <td>0</td>\n",
       "      <td>0</td>\n",
       "      <td>A</td>\n",
       "      <td>Adamsburg borough</td>\n",
       "      <td>Pennsylvania</td>\n",
       "      <td>...</td>\n",
       "      <td>172</td>\n",
       "      <td>172</td>\n",
       "      <td>171</td>\n",
       "      <td>170</td>\n",
       "      <td>169</td>\n",
       "      <td>168</td>\n",
       "      <td>167</td>\n",
       "      <td>165</td>\n",
       "      <td>164</td>\n",
       "      <td>ADAMSBURG BOROUGH</td>\n",
       "    </tr>\n",
       "    <tr>\n",
       "      <th>3</th>\n",
       "      <td>162</td>\n",
       "      <td>42</td>\n",
       "      <td>0</td>\n",
       "      <td>364</td>\n",
       "      <td>0</td>\n",
       "      <td>0</td>\n",
       "      <td>0</td>\n",
       "      <td>A</td>\n",
       "      <td>Adamstown borough</td>\n",
       "      <td>Pennsylvania</td>\n",
       "      <td>...</td>\n",
       "      <td>1789</td>\n",
       "      <td>1801</td>\n",
       "      <td>1835</td>\n",
       "      <td>1837</td>\n",
       "      <td>1839</td>\n",
       "      <td>1844</td>\n",
       "      <td>1845</td>\n",
       "      <td>1847</td>\n",
       "      <td>1850</td>\n",
       "      <td>ADAMSTOWN BOROUGH</td>\n",
       "    </tr>\n",
       "    <tr>\n",
       "      <th>4</th>\n",
       "      <td>162</td>\n",
       "      <td>42</td>\n",
       "      <td>0</td>\n",
       "      <td>396</td>\n",
       "      <td>0</td>\n",
       "      <td>0</td>\n",
       "      <td>0</td>\n",
       "      <td>A</td>\n",
       "      <td>Addison borough</td>\n",
       "      <td>Pennsylvania</td>\n",
       "      <td>...</td>\n",
       "      <td>207</td>\n",
       "      <td>207</td>\n",
       "      <td>205</td>\n",
       "      <td>204</td>\n",
       "      <td>202</td>\n",
       "      <td>201</td>\n",
       "      <td>198</td>\n",
       "      <td>198</td>\n",
       "      <td>197</td>\n",
       "      <td>ADDISON BOROUGH</td>\n",
       "    </tr>\n",
       "  </tbody>\n",
       "</table>\n",
       "<p>5 rows × 21 columns</p>\n",
       "</div>"
      ],
      "text/plain": [
       "   SUMLEV  STATE  COUNTY  PLACE  COUSUB  CONCIT  PRIMGEO_FLAG FUNCSTAT  \\\n",
       "0      40     42       0      0       0       0             0        A   \n",
       "1     162     42       0    116       0       0             0        A   \n",
       "2     162     42       0    332       0       0             0        A   \n",
       "3     162     42       0    364       0       0             0        A   \n",
       "4     162     42       0    396       0       0             0        A   \n",
       "\n",
       "                  NAME        STNAME         ...          ESTIMATESBASE2010  \\\n",
       "0         Pennsylvania  Pennsylvania         ...                   12702857   \n",
       "1  Abbottstown borough  Pennsylvania         ...                       1011   \n",
       "2    Adamsburg borough  Pennsylvania         ...                        172   \n",
       "3    Adamstown borough  Pennsylvania         ...                       1789   \n",
       "4      Addison borough  Pennsylvania         ...                        207   \n",
       "\n",
       "   POPESTIMATE2010  POPESTIMATE2011  POPESTIMATE2012  POPESTIMATE2013  \\\n",
       "0         12711063         12742811         12768034         12778450   \n",
       "1             1010             1011             1008             1006   \n",
       "2              172              171              170              169   \n",
       "3             1801             1835             1837             1839   \n",
       "4              207              205              204              202   \n",
       "\n",
       "   POPESTIMATE2014  POPESTIMATE2015  POPESTIMATE2016  POPESTIMATE2017  \\\n",
       "0         12790341         12791124         12787085         12805537   \n",
       "1             1009             1012             1013             1020   \n",
       "2              168              167              165              164   \n",
       "3             1844             1845             1847             1850   \n",
       "4              201              198              198              197   \n",
       "\n",
       "               NAME_UP  \n",
       "0         PENNSYLVANIA  \n",
       "1  ABBOTTSTOWN BOROUGH  \n",
       "2    ADAMSBURG BOROUGH  \n",
       "3    ADAMSTOWN BOROUGH  \n",
       "4      ADDISON BOROUGH  \n",
       "\n",
       "[5 rows x 21 columns]"
      ]
     },
     "execution_count": 13,
     "metadata": {},
     "output_type": "execute_result"
    }
   ],
   "source": [
    "df_pop['NAME_UP'] = df_pop['NAME'].str.upper() #  .str.replace('[^\\w\\s]','')\n",
    "df_pop.head()\n"
   ]
  },
  {
   "cell_type": "markdown",
   "metadata": {},
   "source": [
    "## Download Preprocessed EMS Dispatch Data\n",
    "- `df_ems` can be regenerated by using `data_preprocessing.ipynb`."
   ]
  },
  {
   "cell_type": "code",
   "execution_count": 16,
   "metadata": {
    "ExecuteTime": {
     "end_time": "2019-03-02T19:10:50.221241Z",
     "start_time": "2019-03-02T19:10:49.335806Z"
    }
   },
   "outputs": [],
   "source": [
    "# Save data after filling missing values.\n",
    "# save_obj(df_ems,'df_ems')\n",
    "# https://drive.google.com/open?id=1OCt0jm--zCE_mTKAub_Ddo4W6BayKQ0B\n",
    "df_ems = load_obj('df_ems','1OCt0jm--zCE_mTKAub_Ddo4W6BayKQ0B')"
   ]
  },
  {
   "cell_type": "code",
   "execution_count": 17,
   "metadata": {
    "ExecuteTime": {
     "end_time": "2019-03-02T21:22:41.821296Z",
     "start_time": "2019-03-02T21:22:41.127033Z"
    }
   },
   "outputs": [
    {
     "name": "stdout",
     "output_type": "stream",
     "text": [
      "<class 'pandas.core.frame.DataFrame'>\n",
      "Int64Index: 780697 entries, 0 to 780697\n",
      "Data columns (total 11 columns):\n",
      "Call_ID_Hash         780697 non-null object\n",
      "SERVICE              780697 non-null object\n",
      "PRIORITY             780697 non-null object\n",
      "PRIORITY_DESC        780697 non-null object\n",
      "AGENCY               780697 non-null object\n",
      "CALL_QUARTER         780697 non-null object\n",
      "CALL_YEAR            780697 non-null int64\n",
      "DESCRIPTION_SHORT    780697 non-null object\n",
      "CITY_CODE            780697 non-null object\n",
      "CITY_NAME            780697 non-null object\n",
      "GEOID                780697 non-null int64\n",
      "dtypes: int64(2), object(9)\n",
      "memory usage: 71.5+ MB\n"
     ]
    }
   ],
   "source": [
    "df_ems.info()"
   ]
  },
  {
   "cell_type": "code",
   "execution_count": 18,
   "metadata": {
    "ExecuteTime": {
     "end_time": "2019-03-02T21:23:10.043725Z",
     "start_time": "2019-03-02T21:23:09.991194Z"
    }
   },
   "outputs": [],
   "source": [
    "# Rebuild the city name list\n",
    "ct_names = df_ems.CITY_NAME.unique().tolist()"
   ]
  },
  {
   "cell_type": "code",
   "execution_count": 19,
   "metadata": {
    "ExecuteTime": {
     "end_time": "2019-03-02T21:23:11.274210Z",
     "start_time": "2019-03-02T21:23:11.264131Z"
    }
   },
   "outputs": [],
   "source": [
    "def get_pop(ct_name, df, name_col, yr_st, yr_end):\n",
    "    columns=['POPESTIMATE{yr}'.format(yr=str(yr)) \n",
    "             for yr in range(yr_st, yr_end+1)]\n",
    "    ct_ext = ['BOROUGH', 'CITY', 'TOWNSHIP', 'MUNICIPALITY']\n",
    "    if ct_name.endswith(('BOROUGH', 'CITY', 'TOWNSHIP', 'BORO')):\n",
    "        alist = ct_name.split()\n",
    "        ct_name = ' '.join(alist[:-1])\n",
    "    if 'CLAIR' in ct_name:\n",
    "        ct_name = ct_name.replace('ST ', 'ST. ')\n",
    "    ct_names = ['{name} {ext}'.format(name=ct_name, ext=ext) \n",
    "                for ext in ct_ext]\n",
    "    return (df[(df[name_col]\n",
    "                .isin(ct_names))][columns]\n",
    "            .median().astype('int').tolist())\n",
    "    "
   ]
  },
  {
   "cell_type": "code",
   "execution_count": 20,
   "metadata": {
    "ExecuteTime": {
     "end_time": "2019-03-02T21:23:13.688579Z",
     "start_time": "2019-03-02T21:23:13.664193Z"
    }
   },
   "outputs": [
    {
     "data": {
      "text/plain": [
       "[15423, 15511, 15614]"
      ]
     },
     "execution_count": 20,
     "metadata": {},
     "output_type": "execute_result"
    }
   ],
   "source": [
    "get_pop('SOUTH FAYETTE',df_pop,'NAME_UP',2015,2017)"
   ]
  },
  {
   "cell_type": "code",
   "execution_count": 21,
   "metadata": {
    "ExecuteTime": {
     "end_time": "2019-03-02T21:26:45.208545Z",
     "start_time": "2019-03-02T21:26:45.203614Z"
    }
   },
   "outputs": [],
   "source": [
    "def get_pop_dict(ct_names, df, name_col, yr_st, yr_end):\n",
    "    pop_dict = nested_dict()\n",
    "    for ct_name in ct_names:\n",
    "        try:\n",
    "            pops = get_pop(ct_name, df, name_col, yr_st, yr_end)\n",
    "            for yr,pop in zip(range(yr_st,yr_end+1), pops):\n",
    "                pop_dict[ct_name][yr]=pop\n",
    "        except ValueError:\n",
    "            print(ct_name)\n",
    "            return ct_name\n",
    "    return pop_dict"
   ]
  },
  {
   "cell_type": "code",
   "execution_count": 22,
   "metadata": {
    "ExecuteTime": {
     "end_time": "2019-03-02T21:26:56.317092Z",
     "start_time": "2019-03-02T21:26:55.836103Z"
    }
   },
   "outputs": [],
   "source": [
    "pop_dict = get_pop_dict(ct_names,df_pop,'NAME_UP',2015,2017)\n",
    "# # load pop_dict from the local system.\n",
    "# pop_dict = load_obj('pop_dict')"
   ]
  },
  {
   "cell_type": "code",
   "execution_count": 23,
   "metadata": {
    "ExecuteTime": {
     "end_time": "2019-03-02T21:40:58.183121Z",
     "start_time": "2019-03-02T21:40:58.169408Z"
    }
   },
   "outputs": [],
   "source": [
    "# Save pop_dict to a local file system.\n",
    "save_obj(pop_dict, 'pop_dict')"
   ]
  },
  {
   "cell_type": "code",
   "execution_count": null,
   "metadata": {},
   "outputs": [],
   "source": []
  }
 ],
 "metadata": {
  "kernelspec": {
   "display_name": "Python 3",
   "language": "python",
   "name": "python3"
  },
  "language_info": {
   "codemirror_mode": {
    "name": "ipython",
    "version": 3
   },
   "file_extension": ".py",
   "mimetype": "text/x-python",
   "name": "python",
   "nbconvert_exporter": "python",
   "pygments_lexer": "ipython3",
   "version": "3.6.7"
  },
  "toc": {
   "base_numbering": 1,
   "nav_menu": {},
   "number_sections": false,
   "sideBar": false,
   "skip_h1_title": false,
   "title_cell": "Table of Contents",
   "title_sidebar": "Contents",
   "toc_cell": false,
   "toc_position": {},
   "toc_section_display": false,
   "toc_window_display": false
  }
 },
 "nbformat": 4,
 "nbformat_minor": 2
}
