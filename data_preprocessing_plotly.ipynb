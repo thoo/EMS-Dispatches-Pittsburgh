{
 "cells": [
  {
   "cell_type": "code",
   "execution_count": 13,
   "metadata": {
    "ExecuteTime": {
     "end_time": "2019-02-18T02:45:31.240321Z",
     "start_time": "2019-02-18T02:45:31.176457Z"
    }
   },
   "outputs": [],
   "source": [
    "import os\n",
    "import regex as re,string\n",
    "from urllib import request \n",
    "from collections import defaultdict\n",
    "import numpy as np\n",
    "from joblib import dump, load\n",
    "import pandas as pd\n",
    "import pickle"
   ]
  },
  {
   "cell_type": "code",
   "execution_count": 5,
   "metadata": {
    "ExecuteTime": {
     "end_time": "2019-02-18T02:36:14.240276Z",
     "start_time": "2019-02-18T02:36:14.236580Z"
    }
   },
   "outputs": [],
   "source": [
    "def enable_plotly_in_cell():\n",
    "  import IPython\n",
    "  from plotly.offline import init_notebook_mode\n",
    "  display(IPython.core.display.HTML('''\n",
    "        <script src=\"/static/components/requirejs/require.js\"></script>\n",
    "  '''))\n",
    "  init_notebook_mode(connected=False)"
   ]
  },
  {
   "cell_type": "code",
   "execution_count": 11,
   "metadata": {
    "ExecuteTime": {
     "end_time": "2019-02-18T02:43:16.366027Z",
     "start_time": "2019-02-18T02:43:16.356885Z"
    }
   },
   "outputs": [],
   "source": [
    "def download_data(name_dir=\"data\", filename=\"data.csv\",\n",
    "                  data_url = 'https://www2.census.gov/programs-surveys/popest/datasets/2010-2017/cities/totals/sub-est2017_42.csv'):\n",
    "    \"\"\" \n",
    "    Download both train and test dataset to a directory named \"data\". \n",
    "\n",
    "    If the directory doesn't exist, this function will create one. \n",
    "\n",
    "    Parameters\n",
    "    ----------\n",
    "    data_url : str, default 'https://www2.census.gov/programs-surveys/popest/datasets/2010-2017/cities/totals/sub-est2017_42.csv'\n",
    "        The URL of the location of the file.\n",
    "    filename : str, default 'data.csv'\n",
    "    name_dir : str, default 'data'\n",
    "        Name of the directory.\n",
    "    \n",
    "    Returns\n",
    "    -------\n",
    "    No return. Create a directory if needed and \n",
    "    download the file to that directory.\n",
    "    \"\"\"\n",
    "    \n",
    "    if not os.path.isdir(name_dir):\n",
    "        os.makedirs(name_dir)\n",
    "\n",
    "    data_path = os.path.join(name_dir, filename)\n",
    "\n",
    "    request.urlretrieve(data_url,data_path)\n",
    "    \n",
    "def GEOID_ten(x):\n",
    "    \"\"\"\n",
    "    Convert 12-digit geoid to 10-digit.\n",
    "    \n",
    "    More details can be found at https://www.census.gov/geo/reference/geoidentifiers.html.\n",
    "    Parameters\n",
    "    ----------\n",
    "    x : int\n",
    "    \n",
    "    Returns\n",
    "    -------\n",
    "    int\n",
    "    \n",
    "    \"\"\"\n",
    "    \n",
    "    astr = str(x)[:10]\n",
    "    return int(astr)\n",
    "\n",
    "def save_obj(obj, name, name_dir='data' ):\n",
    "    \"\"\"\n",
    "    Save to pickle.\n",
    "    \n",
    "    Parameters\n",
    "    ----------\n",
    "    obj : any object \n",
    "        This can be a dictionary or ndarray.\n",
    "    name : str\n",
    "        The name for the object to be saved.\n",
    "    name_dir : str, default 'data'\n",
    "        Name of the directory.\n",
    "    \n",
    "    Returns\n",
    "    -------\n",
    "    No return.\n",
    "        Save the pickle object to the local file system.\n",
    "    \"\"\"\n",
    "    \n",
    "    if not os.path.isdir(name_dir):\n",
    "        os.makedirs(name_dir)\n",
    "\n",
    "    data_path = os.path.join(name_dir, name+'.pkl')\n",
    "    \n",
    "    with open(data_path, 'wb') as f:\n",
    "        pickle.dump(obj, f, pickle.HIGHEST_PROTOCOL)\n",
    "\n",
    "def load_obj(name, name_dir='data' ):\n",
    "    \"\"\"\n",
    "    Load the pickle object from the local file system.\n",
    "    \n",
    "    Parameters\n",
    "    ----------\n",
    "    obj : any object \n",
    "        This can be a dictionary or ndarray.\n",
    "    name : str\n",
    "        The name for the object to be saved.\n",
    "    name_dir : str, default 'data'\n",
    "        Name of the directory.\n",
    "    \n",
    "    Returns\n",
    "    -------\n",
    "    object\n",
    "        Return an object such as a dictionary.\n",
    "    \"\"\"\n",
    "    data_path = os.path.join(name_dir, name+'.pkl')\n",
    "    \n",
    "    with open(data_path, 'rb') as f:\n",
    "        return pickle.load(f)"
   ]
  },
  {
   "cell_type": "markdown",
   "metadata": {},
   "source": [
    "## Download Sub-county population dataset for PA"
   ]
  },
  {
   "cell_type": "code",
   "execution_count": 5,
   "metadata": {
    "ExecuteTime": {
     "end_time": "2019-02-17T21:39:49.117056Z",
     "start_time": "2019-02-17T21:39:49.114330Z"
    }
   },
   "outputs": [],
   "source": [
    "# https://www.census.gov/data/datasets/2017/demo/popest/total-cities-and-towns.html\n",
    "url_pop = 'https://www2.census.gov/programs-surveys/popest/datasets/2010-2017/cities/totals/sub-est2017_42.csv'"
   ]
  },
  {
   "cell_type": "code",
   "execution_count": 4,
   "metadata": {
    "ExecuteTime": {
     "end_time": "2019-02-17T21:39:41.170461Z",
     "start_time": "2019-02-17T21:39:40.935723Z"
    }
   },
   "outputs": [
    {
     "ename": "NameError",
     "evalue": "name 'url_pop' is not defined",
     "output_type": "error",
     "traceback": [
      "\u001b[0;31m---------------------------------------------------------------------------\u001b[0m",
      "\u001b[0;31mNameError\u001b[0m                                 Traceback (most recent call last)",
      "\u001b[0;32m<ipython-input-4-844042784892>\u001b[0m in \u001b[0;36m<module>\u001b[0;34m\u001b[0m\n\u001b[1;32m      1\u001b[0m download_data(name_dir=\"data\", \n\u001b[1;32m      2\u001b[0m               \u001b[0mfilename\u001b[0m\u001b[0;34m=\u001b[0m\u001b[0;34m\"population.csv\"\u001b[0m\u001b[0;34m,\u001b[0m\u001b[0;34m\u001b[0m\u001b[0;34m\u001b[0m\u001b[0m\n\u001b[0;32m----> 3\u001b[0;31m               data_url=url_pop)\n\u001b[0m",
      "\u001b[0;31mNameError\u001b[0m: name 'url_pop' is not defined"
     ]
    }
   ],
   "source": [
    "download_data(name_dir=\"data\", \n",
    "              filename=\"population.csv\",\n",
    "              data_url=url_pop)"
   ]
  },
  {
   "cell_type": "markdown",
   "metadata": {},
   "source": [
    "## Download population data from US Census"
   ]
  },
  {
   "cell_type": "code",
   "execution_count": 7,
   "metadata": {
    "ExecuteTime": {
     "end_time": "2019-02-16T23:58:15.765461Z",
     "start_time": "2019-02-16T23:58:15.761046Z"
    }
   },
   "outputs": [],
   "source": [
    "url_ems = 'https://data.wprdc.org/dataset/abba9671-a026-4270-9c83-003a1414d628/resource/ff33ca18-2e0c-4cb5-bdcd-60a5dc3c0418/download/911-ems-dispatches.csv'"
   ]
  },
  {
   "cell_type": "code",
   "execution_count": 8,
   "metadata": {
    "ExecuteTime": {
     "end_time": "2019-02-16T23:58:23.437140Z",
     "start_time": "2019-02-16T23:58:16.351904Z"
    }
   },
   "outputs": [],
   "source": [
    "download_data(name_dir=\"data\", \n",
    "              filename=\"EMS.csv\",\n",
    "              data_url=url_ems)"
   ]
  },
  {
   "cell_type": "code",
   "execution_count": 14,
   "metadata": {
    "ExecuteTime": {
     "end_time": "2019-02-18T02:45:42.238974Z",
     "start_time": "2019-02-18T02:45:40.671502Z"
    }
   },
   "outputs": [
    {
     "data": {
      "text/html": [
       "<div>\n",
       "<style scoped>\n",
       "    .dataframe tbody tr th:only-of-type {\n",
       "        vertical-align: middle;\n",
       "    }\n",
       "\n",
       "    .dataframe tbody tr th {\n",
       "        vertical-align: top;\n",
       "    }\n",
       "\n",
       "    .dataframe thead th {\n",
       "        text-align: right;\n",
       "    }\n",
       "</style>\n",
       "<table border=\"1\" class=\"dataframe\">\n",
       "  <thead>\n",
       "    <tr style=\"text-align: right;\">\n",
       "      <th></th>\n",
       "      <th>Call_ID_Hash</th>\n",
       "      <th>SERVICE</th>\n",
       "      <th>PRIORITY</th>\n",
       "      <th>PRIORITY_DESC</th>\n",
       "      <th>AGENCY</th>\n",
       "      <th>CALL_QUARTER</th>\n",
       "      <th>CALL_YEAR</th>\n",
       "      <th>DESCRIPTION_SHORT</th>\n",
       "      <th>CITY_CODE</th>\n",
       "      <th>CITY_NAME</th>\n",
       "      <th>GEOID</th>\n",
       "    </tr>\n",
       "  </thead>\n",
       "  <tbody>\n",
       "    <tr>\n",
       "      <th>0</th>\n",
       "      <td>336ba345f5a0</td>\n",
       "      <td>EMS</td>\n",
       "      <td>E0</td>\n",
       "      <td>EMS ALS life threatening response w/ backup</td>\n",
       "      <td>E620</td>\n",
       "      <td>Q1</td>\n",
       "      <td>2015</td>\n",
       "      <td>HEMORRHAGE</td>\n",
       "      <td>PVU</td>\n",
       "      <td>PORT VUE</td>\n",
       "      <td>420035003002</td>\n",
       "    </tr>\n",
       "    <tr>\n",
       "      <th>1</th>\n",
       "      <td>f59d50d394fa</td>\n",
       "      <td>EMS</td>\n",
       "      <td>E0</td>\n",
       "      <td>EMS ALS life threatening response w/ backup</td>\n",
       "      <td>E380</td>\n",
       "      <td>Q1</td>\n",
       "      <td>2015</td>\n",
       "      <td>UNCONSCIOUS</td>\n",
       "      <td>PEN</td>\n",
       "      <td>PENN HILLS</td>\n",
       "      <td>420035235011</td>\n",
       "    </tr>\n",
       "    <tr>\n",
       "      <th>2</th>\n",
       "      <td>8d56b4f6f9fe</td>\n",
       "      <td>EMS</td>\n",
       "      <td>E0</td>\n",
       "      <td>EMS ALS life threatening response w/ backup</td>\n",
       "      <td>E620</td>\n",
       "      <td>Q1</td>\n",
       "      <td>2015</td>\n",
       "      <td>UNCONSCIOUS</td>\n",
       "      <td>MCK</td>\n",
       "      <td>MCKEESPORT</td>\n",
       "      <td>420035523003</td>\n",
       "    </tr>\n",
       "    <tr>\n",
       "      <th>3</th>\n",
       "      <td>e20045d2f6b4</td>\n",
       "      <td>EMS</td>\n",
       "      <td>E0</td>\n",
       "      <td>EMS ALS life threatening response w/ backup</td>\n",
       "      <td>E050</td>\n",
       "      <td>Q1</td>\n",
       "      <td>2015</td>\n",
       "      <td>GUNSHOT, STABBING, OR OTHER WOUND</td>\n",
       "      <td>PGH</td>\n",
       "      <td>PITTSBURGH</td>\n",
       "      <td>420031306003</td>\n",
       "    </tr>\n",
       "    <tr>\n",
       "      <th>4</th>\n",
       "      <td>dbe1c9db46f6</td>\n",
       "      <td>EMS</td>\n",
       "      <td>E0</td>\n",
       "      <td>EMS ALS life threatening response w/ backup</td>\n",
       "      <td>E050</td>\n",
       "      <td>Q1</td>\n",
       "      <td>2015</td>\n",
       "      <td>ASSAULT</td>\n",
       "      <td>PGH</td>\n",
       "      <td>PITTSBURGH</td>\n",
       "      <td>420031609002</td>\n",
       "    </tr>\n",
       "  </tbody>\n",
       "</table>\n",
       "</div>"
      ],
      "text/plain": [
       "   Call_ID_Hash SERVICE PRIORITY                                PRIORITY_DESC  \\\n",
       "0  336ba345f5a0     EMS       E0  EMS ALS life threatening response w/ backup   \n",
       "1  f59d50d394fa     EMS       E0  EMS ALS life threatening response w/ backup   \n",
       "2  8d56b4f6f9fe     EMS       E0  EMS ALS life threatening response w/ backup   \n",
       "3  e20045d2f6b4     EMS       E0  EMS ALS life threatening response w/ backup   \n",
       "4  dbe1c9db46f6     EMS       E0  EMS ALS life threatening response w/ backup   \n",
       "\n",
       "  AGENCY CALL_QUARTER  CALL_YEAR                  DESCRIPTION_SHORT CITY_CODE  \\\n",
       "0   E620           Q1       2015                         HEMORRHAGE       PVU   \n",
       "1   E380           Q1       2015                        UNCONSCIOUS       PEN   \n",
       "2   E620           Q1       2015                        UNCONSCIOUS       MCK   \n",
       "3   E050           Q1       2015  GUNSHOT, STABBING, OR OTHER WOUND       PGH   \n",
       "4   E050           Q1       2015                            ASSAULT       PGH   \n",
       "\n",
       "    CITY_NAME         GEOID  \n",
       "0    PORT VUE  420035003002  \n",
       "1  PENN HILLS  420035235011  \n",
       "2  MCKEESPORT  420035523003  \n",
       "3  PITTSBURGH  420031306003  \n",
       "4  PITTSBURGH  420031609002  "
      ]
     },
     "execution_count": 14,
     "metadata": {},
     "output_type": "execute_result"
    }
   ],
   "source": [
    "df_ems = pd.read_csv('data/EMS.csv')\n",
    "df_ems.head()\n"
   ]
  },
  {
   "cell_type": "code",
   "execution_count": 15,
   "metadata": {
    "ExecuteTime": {
     "end_time": "2019-02-18T02:45:45.502427Z",
     "start_time": "2019-02-18T02:45:45.463866Z"
    }
   },
   "outputs": [
    {
     "data": {
      "text/html": [
       "<div>\n",
       "<style scoped>\n",
       "    .dataframe tbody tr th:only-of-type {\n",
       "        vertical-align: middle;\n",
       "    }\n",
       "\n",
       "    .dataframe tbody tr th {\n",
       "        vertical-align: top;\n",
       "    }\n",
       "\n",
       "    .dataframe thead th {\n",
       "        text-align: right;\n",
       "    }\n",
       "</style>\n",
       "<table border=\"1\" class=\"dataframe\">\n",
       "  <thead>\n",
       "    <tr style=\"text-align: right;\">\n",
       "      <th></th>\n",
       "      <th>SUMLEV</th>\n",
       "      <th>STATE</th>\n",
       "      <th>COUNTY</th>\n",
       "      <th>PLACE</th>\n",
       "      <th>COUSUB</th>\n",
       "      <th>CONCIT</th>\n",
       "      <th>PRIMGEO_FLAG</th>\n",
       "      <th>FUNCSTAT</th>\n",
       "      <th>NAME</th>\n",
       "      <th>STNAME</th>\n",
       "      <th>CENSUS2010POP</th>\n",
       "      <th>ESTIMATESBASE2010</th>\n",
       "      <th>POPESTIMATE2010</th>\n",
       "      <th>POPESTIMATE2011</th>\n",
       "      <th>POPESTIMATE2012</th>\n",
       "      <th>POPESTIMATE2013</th>\n",
       "      <th>POPESTIMATE2014</th>\n",
       "      <th>POPESTIMATE2015</th>\n",
       "      <th>POPESTIMATE2016</th>\n",
       "      <th>POPESTIMATE2017</th>\n",
       "    </tr>\n",
       "  </thead>\n",
       "  <tbody>\n",
       "    <tr>\n",
       "      <th>0</th>\n",
       "      <td>40</td>\n",
       "      <td>42</td>\n",
       "      <td>0</td>\n",
       "      <td>0</td>\n",
       "      <td>0</td>\n",
       "      <td>0</td>\n",
       "      <td>0</td>\n",
       "      <td>A</td>\n",
       "      <td>Pennsylvania</td>\n",
       "      <td>Pennsylvania</td>\n",
       "      <td>12702379</td>\n",
       "      <td>12702857</td>\n",
       "      <td>12711063</td>\n",
       "      <td>12742811</td>\n",
       "      <td>12768034</td>\n",
       "      <td>12778450</td>\n",
       "      <td>12790341</td>\n",
       "      <td>12791124</td>\n",
       "      <td>12787085</td>\n",
       "      <td>12805537</td>\n",
       "    </tr>\n",
       "    <tr>\n",
       "      <th>1</th>\n",
       "      <td>162</td>\n",
       "      <td>42</td>\n",
       "      <td>0</td>\n",
       "      <td>116</td>\n",
       "      <td>0</td>\n",
       "      <td>0</td>\n",
       "      <td>0</td>\n",
       "      <td>A</td>\n",
       "      <td>Abbottstown borough</td>\n",
       "      <td>Pennsylvania</td>\n",
       "      <td>1011</td>\n",
       "      <td>1011</td>\n",
       "      <td>1010</td>\n",
       "      <td>1011</td>\n",
       "      <td>1008</td>\n",
       "      <td>1006</td>\n",
       "      <td>1009</td>\n",
       "      <td>1012</td>\n",
       "      <td>1013</td>\n",
       "      <td>1020</td>\n",
       "    </tr>\n",
       "    <tr>\n",
       "      <th>2</th>\n",
       "      <td>162</td>\n",
       "      <td>42</td>\n",
       "      <td>0</td>\n",
       "      <td>332</td>\n",
       "      <td>0</td>\n",
       "      <td>0</td>\n",
       "      <td>0</td>\n",
       "      <td>A</td>\n",
       "      <td>Adamsburg borough</td>\n",
       "      <td>Pennsylvania</td>\n",
       "      <td>172</td>\n",
       "      <td>172</td>\n",
       "      <td>172</td>\n",
       "      <td>171</td>\n",
       "      <td>170</td>\n",
       "      <td>169</td>\n",
       "      <td>168</td>\n",
       "      <td>167</td>\n",
       "      <td>165</td>\n",
       "      <td>164</td>\n",
       "    </tr>\n",
       "    <tr>\n",
       "      <th>3</th>\n",
       "      <td>162</td>\n",
       "      <td>42</td>\n",
       "      <td>0</td>\n",
       "      <td>364</td>\n",
       "      <td>0</td>\n",
       "      <td>0</td>\n",
       "      <td>0</td>\n",
       "      <td>A</td>\n",
       "      <td>Adamstown borough</td>\n",
       "      <td>Pennsylvania</td>\n",
       "      <td>1789</td>\n",
       "      <td>1789</td>\n",
       "      <td>1801</td>\n",
       "      <td>1835</td>\n",
       "      <td>1837</td>\n",
       "      <td>1839</td>\n",
       "      <td>1844</td>\n",
       "      <td>1845</td>\n",
       "      <td>1847</td>\n",
       "      <td>1850</td>\n",
       "    </tr>\n",
       "    <tr>\n",
       "      <th>4</th>\n",
       "      <td>162</td>\n",
       "      <td>42</td>\n",
       "      <td>0</td>\n",
       "      <td>396</td>\n",
       "      <td>0</td>\n",
       "      <td>0</td>\n",
       "      <td>0</td>\n",
       "      <td>A</td>\n",
       "      <td>Addison borough</td>\n",
       "      <td>Pennsylvania</td>\n",
       "      <td>207</td>\n",
       "      <td>207</td>\n",
       "      <td>207</td>\n",
       "      <td>205</td>\n",
       "      <td>204</td>\n",
       "      <td>202</td>\n",
       "      <td>201</td>\n",
       "      <td>198</td>\n",
       "      <td>198</td>\n",
       "      <td>197</td>\n",
       "    </tr>\n",
       "  </tbody>\n",
       "</table>\n",
       "</div>"
      ],
      "text/plain": [
       "   SUMLEV  STATE  COUNTY  PLACE  COUSUB  CONCIT  PRIMGEO_FLAG FUNCSTAT  \\\n",
       "0      40     42       0      0       0       0             0        A   \n",
       "1     162     42       0    116       0       0             0        A   \n",
       "2     162     42       0    332       0       0             0        A   \n",
       "3     162     42       0    364       0       0             0        A   \n",
       "4     162     42       0    396       0       0             0        A   \n",
       "\n",
       "                  NAME        STNAME CENSUS2010POP  ESTIMATESBASE2010  \\\n",
       "0         Pennsylvania  Pennsylvania      12702379           12702857   \n",
       "1  Abbottstown borough  Pennsylvania          1011               1011   \n",
       "2    Adamsburg borough  Pennsylvania           172                172   \n",
       "3    Adamstown borough  Pennsylvania          1789               1789   \n",
       "4      Addison borough  Pennsylvania           207                207   \n",
       "\n",
       "   POPESTIMATE2010  POPESTIMATE2011  POPESTIMATE2012  POPESTIMATE2013  \\\n",
       "0         12711063         12742811         12768034         12778450   \n",
       "1             1010             1011             1008             1006   \n",
       "2              172              171              170              169   \n",
       "3             1801             1835             1837             1839   \n",
       "4              207              205              204              202   \n",
       "\n",
       "   POPESTIMATE2014  POPESTIMATE2015  POPESTIMATE2016  POPESTIMATE2017  \n",
       "0         12790341         12791124         12787085         12805537  \n",
       "1             1009             1012             1013             1020  \n",
       "2              168              167              165              164  \n",
       "3             1844             1845             1847             1850  \n",
       "4              201              198              198              197  "
      ]
     },
     "execution_count": 15,
     "metadata": {},
     "output_type": "execute_result"
    }
   ],
   "source": [
    "df_pop = pd.read_csv('data/population.csv')\n",
    "df_pop.head()"
   ]
  },
  {
   "cell_type": "code",
   "execution_count": 16,
   "metadata": {
    "ExecuteTime": {
     "end_time": "2019-02-18T02:45:54.630335Z",
     "start_time": "2019-02-18T02:45:54.608206Z"
    }
   },
   "outputs": [
    {
     "data": {
      "text/html": [
       "<div>\n",
       "<style scoped>\n",
       "    .dataframe tbody tr th:only-of-type {\n",
       "        vertical-align: middle;\n",
       "    }\n",
       "\n",
       "    .dataframe tbody tr th {\n",
       "        vertical-align: top;\n",
       "    }\n",
       "\n",
       "    .dataframe thead th {\n",
       "        text-align: right;\n",
       "    }\n",
       "</style>\n",
       "<table border=\"1\" class=\"dataframe\">\n",
       "  <thead>\n",
       "    <tr style=\"text-align: right;\">\n",
       "      <th></th>\n",
       "      <th>SUMLEV</th>\n",
       "      <th>STATE</th>\n",
       "      <th>COUNTY</th>\n",
       "      <th>PLACE</th>\n",
       "      <th>COUSUB</th>\n",
       "      <th>CONCIT</th>\n",
       "      <th>PRIMGEO_FLAG</th>\n",
       "      <th>FUNCSTAT</th>\n",
       "      <th>NAME</th>\n",
       "      <th>STNAME</th>\n",
       "      <th>...</th>\n",
       "      <th>ESTIMATESBASE2010</th>\n",
       "      <th>POPESTIMATE2010</th>\n",
       "      <th>POPESTIMATE2011</th>\n",
       "      <th>POPESTIMATE2012</th>\n",
       "      <th>POPESTIMATE2013</th>\n",
       "      <th>POPESTIMATE2014</th>\n",
       "      <th>POPESTIMATE2015</th>\n",
       "      <th>POPESTIMATE2016</th>\n",
       "      <th>POPESTIMATE2017</th>\n",
       "      <th>NAME_UP</th>\n",
       "    </tr>\n",
       "  </thead>\n",
       "  <tbody>\n",
       "    <tr>\n",
       "      <th>0</th>\n",
       "      <td>40</td>\n",
       "      <td>42</td>\n",
       "      <td>0</td>\n",
       "      <td>0</td>\n",
       "      <td>0</td>\n",
       "      <td>0</td>\n",
       "      <td>0</td>\n",
       "      <td>A</td>\n",
       "      <td>Pennsylvania</td>\n",
       "      <td>Pennsylvania</td>\n",
       "      <td>...</td>\n",
       "      <td>12702857</td>\n",
       "      <td>12711063</td>\n",
       "      <td>12742811</td>\n",
       "      <td>12768034</td>\n",
       "      <td>12778450</td>\n",
       "      <td>12790341</td>\n",
       "      <td>12791124</td>\n",
       "      <td>12787085</td>\n",
       "      <td>12805537</td>\n",
       "      <td>PENNSYLVANIA</td>\n",
       "    </tr>\n",
       "    <tr>\n",
       "      <th>1</th>\n",
       "      <td>162</td>\n",
       "      <td>42</td>\n",
       "      <td>0</td>\n",
       "      <td>116</td>\n",
       "      <td>0</td>\n",
       "      <td>0</td>\n",
       "      <td>0</td>\n",
       "      <td>A</td>\n",
       "      <td>Abbottstown borough</td>\n",
       "      <td>Pennsylvania</td>\n",
       "      <td>...</td>\n",
       "      <td>1011</td>\n",
       "      <td>1010</td>\n",
       "      <td>1011</td>\n",
       "      <td>1008</td>\n",
       "      <td>1006</td>\n",
       "      <td>1009</td>\n",
       "      <td>1012</td>\n",
       "      <td>1013</td>\n",
       "      <td>1020</td>\n",
       "      <td>ABBOTTSTOWN BOROUGH</td>\n",
       "    </tr>\n",
       "    <tr>\n",
       "      <th>2</th>\n",
       "      <td>162</td>\n",
       "      <td>42</td>\n",
       "      <td>0</td>\n",
       "      <td>332</td>\n",
       "      <td>0</td>\n",
       "      <td>0</td>\n",
       "      <td>0</td>\n",
       "      <td>A</td>\n",
       "      <td>Adamsburg borough</td>\n",
       "      <td>Pennsylvania</td>\n",
       "      <td>...</td>\n",
       "      <td>172</td>\n",
       "      <td>172</td>\n",
       "      <td>171</td>\n",
       "      <td>170</td>\n",
       "      <td>169</td>\n",
       "      <td>168</td>\n",
       "      <td>167</td>\n",
       "      <td>165</td>\n",
       "      <td>164</td>\n",
       "      <td>ADAMSBURG BOROUGH</td>\n",
       "    </tr>\n",
       "    <tr>\n",
       "      <th>3</th>\n",
       "      <td>162</td>\n",
       "      <td>42</td>\n",
       "      <td>0</td>\n",
       "      <td>364</td>\n",
       "      <td>0</td>\n",
       "      <td>0</td>\n",
       "      <td>0</td>\n",
       "      <td>A</td>\n",
       "      <td>Adamstown borough</td>\n",
       "      <td>Pennsylvania</td>\n",
       "      <td>...</td>\n",
       "      <td>1789</td>\n",
       "      <td>1801</td>\n",
       "      <td>1835</td>\n",
       "      <td>1837</td>\n",
       "      <td>1839</td>\n",
       "      <td>1844</td>\n",
       "      <td>1845</td>\n",
       "      <td>1847</td>\n",
       "      <td>1850</td>\n",
       "      <td>ADAMSTOWN BOROUGH</td>\n",
       "    </tr>\n",
       "    <tr>\n",
       "      <th>4</th>\n",
       "      <td>162</td>\n",
       "      <td>42</td>\n",
       "      <td>0</td>\n",
       "      <td>396</td>\n",
       "      <td>0</td>\n",
       "      <td>0</td>\n",
       "      <td>0</td>\n",
       "      <td>A</td>\n",
       "      <td>Addison borough</td>\n",
       "      <td>Pennsylvania</td>\n",
       "      <td>...</td>\n",
       "      <td>207</td>\n",
       "      <td>207</td>\n",
       "      <td>205</td>\n",
       "      <td>204</td>\n",
       "      <td>202</td>\n",
       "      <td>201</td>\n",
       "      <td>198</td>\n",
       "      <td>198</td>\n",
       "      <td>197</td>\n",
       "      <td>ADDISON BOROUGH</td>\n",
       "    </tr>\n",
       "  </tbody>\n",
       "</table>\n",
       "<p>5 rows × 21 columns</p>\n",
       "</div>"
      ],
      "text/plain": [
       "   SUMLEV  STATE  COUNTY  PLACE  COUSUB  CONCIT  PRIMGEO_FLAG FUNCSTAT  \\\n",
       "0      40     42       0      0       0       0             0        A   \n",
       "1     162     42       0    116       0       0             0        A   \n",
       "2     162     42       0    332       0       0             0        A   \n",
       "3     162     42       0    364       0       0             0        A   \n",
       "4     162     42       0    396       0       0             0        A   \n",
       "\n",
       "                  NAME        STNAME         ...          ESTIMATESBASE2010  \\\n",
       "0         Pennsylvania  Pennsylvania         ...                   12702857   \n",
       "1  Abbottstown borough  Pennsylvania         ...                       1011   \n",
       "2    Adamsburg borough  Pennsylvania         ...                        172   \n",
       "3    Adamstown borough  Pennsylvania         ...                       1789   \n",
       "4      Addison borough  Pennsylvania         ...                        207   \n",
       "\n",
       "   POPESTIMATE2010  POPESTIMATE2011  POPESTIMATE2012  POPESTIMATE2013  \\\n",
       "0         12711063         12742811         12768034         12778450   \n",
       "1             1010             1011             1008             1006   \n",
       "2              172              171              170              169   \n",
       "3             1801             1835             1837             1839   \n",
       "4              207              205              204              202   \n",
       "\n",
       "   POPESTIMATE2014  POPESTIMATE2015  POPESTIMATE2016  POPESTIMATE2017  \\\n",
       "0         12790341         12791124         12787085         12805537   \n",
       "1             1009             1012             1013             1020   \n",
       "2              168              167              165              164   \n",
       "3             1844             1845             1847             1850   \n",
       "4              201              198              198              197   \n",
       "\n",
       "               NAME_UP  \n",
       "0         PENNSYLVANIA  \n",
       "1  ABBOTTSTOWN BOROUGH  \n",
       "2    ADAMSBURG BOROUGH  \n",
       "3    ADAMSTOWN BOROUGH  \n",
       "4      ADDISON BOROUGH  \n",
       "\n",
       "[5 rows x 21 columns]"
      ]
     },
     "execution_count": 16,
     "metadata": {},
     "output_type": "execute_result"
    }
   ],
   "source": [
    "df_pop['NAME_UP'] = df_pop['NAME'].str.upper() #  .str.replace('[^\\w\\s]','')\n",
    "df_pop.head()\n"
   ]
  },
  {
   "cell_type": "code",
   "execution_count": 9,
   "metadata": {
    "ExecuteTime": {
     "end_time": "2019-02-17T21:40:09.111372Z",
     "start_time": "2019-02-17T21:40:08.696210Z"
    }
   },
   "outputs": [
    {
     "name": "stdout",
     "output_type": "stream",
     "text": [
      "<class 'pandas.core.frame.DataFrame'>\n",
      "RangeIndex: 780698 entries, 0 to 780697\n",
      "Data columns (total 11 columns):\n",
      "Call_ID_Hash         780698 non-null object\n",
      "SERVICE              780698 non-null object\n",
      "PRIORITY             780698 non-null object\n",
      "PRIORITY_DESC        780698 non-null object\n",
      "AGENCY               780698 non-null object\n",
      "CALL_QUARTER         780698 non-null object\n",
      "CALL_YEAR            780698 non-null int64\n",
      "DESCRIPTION_SHORT    778103 non-null object\n",
      "CITY_CODE            780634 non-null object\n",
      "CITY_NAME            780611 non-null object\n",
      "GEOID                780698 non-null int64\n",
      "dtypes: int64(2), object(9)\n",
      "memory usage: 65.5+ MB\n"
     ]
    }
   ],
   "source": [
    "df_ems.info()"
   ]
  },
  {
   "cell_type": "code",
   "execution_count": 21,
   "metadata": {
    "ExecuteTime": {
     "end_time": "2019-02-18T02:47:05.714720Z",
     "start_time": "2019-02-18T02:47:05.709793Z"
    }
   },
   "outputs": [],
   "source": [
    "def getCodeName(geoid,df):\n",
    "    \"\"\"\n",
    "    Return city name and city code for a given geioid.\n",
    "    \n",
    "    Parameters\n",
    "    ----------\n",
    "    geoid : int\n",
    "    df : DataFrame\n",
    "    \n",
    "    Returns\n",
    "    -------\n",
    "    tuple\n",
    "    \"\"\"\n",
    "    temp = df[(df_ems.GEOID == geoid) & (df.CITY_NAME.notnull()) ][['CITY_CODE','CITY_NAME']]\n",
    "    city_name = temp['CITY_NAME'].value_counts().index[0]\n",
    "    city_code = temp[ temp['CITY_NAME'] == city_name]['CITY_CODE'].value_counts().index[0]\n",
    "#     print(city_name,city_code)\n",
    "    return city_name,city_code\n",
    "\n",
    "def nested_dict():\n",
    "  \"\"\"\n",
    "  This returns a empty nestable dictionary.\n",
    "  \"\"\"\n",
    "  return defaultdict(nested_dict)\n",
    "\n",
    "\n"
   ]
  },
  {
   "cell_type": "code",
   "execution_count": 11,
   "metadata": {
    "ExecuteTime": {
     "end_time": "2019-02-17T21:40:11.131689Z",
     "start_time": "2019-02-17T21:40:11.087627Z"
    }
   },
   "outputs": [
    {
     "data": {
      "text/plain": [
       "('PITTSBURGH', 'PGH')"
      ]
     },
     "execution_count": 11,
     "metadata": {},
     "output_type": "execute_result"
    }
   ],
   "source": [
    "getCodeName(420035629002,df_ems)"
   ]
  },
  {
   "cell_type": "code",
   "execution_count": 14,
   "metadata": {
    "ExecuteTime": {
     "end_time": "2019-02-17T21:40:19.736235Z",
     "start_time": "2019-02-17T21:40:19.670341Z"
    }
   },
   "outputs": [
    {
     "data": {
      "text/plain": [
       "[7200, 7237, 29818, 45426, 51944, 69156, 104522, 104614, 107710, 114511]"
      ]
     },
     "execution_count": 14,
     "metadata": {},
     "output_type": "execute_result"
    }
   ],
   "source": [
    "# Get index for missing values at CITY_CODE and CITY_NAME\n",
    "index_for_missing_values = df_ems[(df_ems.CITY_NAME.isnull()) | (df_ems.CITY_CODE.isnull())].index.tolist()\n",
    "index_for_missing_values[:10]"
   ]
  },
  {
   "cell_type": "code",
   "execution_count": 15,
   "metadata": {
    "ExecuteTime": {
     "end_time": "2019-02-17T21:40:26.501644Z",
     "start_time": "2019-02-17T21:40:20.196883Z"
    }
   },
   "outputs": [
    {
     "data": {
      "text/plain": [
       "[]"
      ]
     },
     "execution_count": 15,
     "metadata": {},
     "output_type": "execute_result"
    }
   ],
   "source": [
    "# Fill the missing values\n",
    "for index in index_for_missing_values:\n",
    "    geoid = df_ems.loc[index,'GEOID']\n",
    "    ct_name, ct_code = getCodeName(geoid,df_ems)\n",
    "    \n",
    "    df_ems.loc[index,'CITY_NAME'] = ct_name\n",
    "    df_ems.loc[index,'CITY_CODE'] = ct_code\n",
    "\n",
    "# Recheck missing at CITY_CODE and CITY_NAME\n",
    "df_ems[(df_ems.CITY_NAME.isnull()) | (df_ems.CITY_CODE.isnull())].index.tolist()\n"
   ]
  },
  {
   "cell_type": "code",
   "execution_count": 16,
   "metadata": {
    "ExecuteTime": {
     "end_time": "2019-02-17T21:40:30.087892Z",
     "start_time": "2019-02-17T21:40:29.742966Z"
    }
   },
   "outputs": [
    {
     "name": "stdout",
     "output_type": "stream",
     "text": [
      "<class 'pandas.core.frame.DataFrame'>\n",
      "RangeIndex: 780698 entries, 0 to 780697\n",
      "Data columns (total 11 columns):\n",
      "Call_ID_Hash         780698 non-null object\n",
      "SERVICE              780698 non-null object\n",
      "PRIORITY             780698 non-null object\n",
      "PRIORITY_DESC        780698 non-null object\n",
      "AGENCY               780698 non-null object\n",
      "CALL_QUARTER         780698 non-null object\n",
      "CALL_YEAR            780698 non-null int64\n",
      "DESCRIPTION_SHORT    778103 non-null object\n",
      "CITY_CODE            780698 non-null object\n",
      "CITY_NAME            780698 non-null object\n",
      "GEOID                780698 non-null int64\n",
      "dtypes: int64(2), object(9)\n",
      "memory usage: 65.5+ MB\n"
     ]
    }
   ],
   "source": [
    "df_ems.info()"
   ]
  },
  {
   "cell_type": "code",
   "execution_count": 17,
   "metadata": {
    "ExecuteTime": {
     "end_time": "2019-02-17T21:40:53.548302Z",
     "start_time": "2019-02-17T21:40:53.513365Z"
    }
   },
   "outputs": [
    {
     "data": {
      "text/plain": [
       "EMS Admin Mark out                             2491\n",
       "EMS ALS life threatening response                31\n",
       "EMS Standard BLS response                        31\n",
       "EMS Standard ALS response                        21\n",
       "EMS ALS life threatening response w/ backup      12\n",
       "EMS BLS Assistance response                       8\n",
       "Fire Notifications                                1\n",
       "Name: PRIORITY_DESC, dtype: int64"
      ]
     },
     "execution_count": 17,
     "metadata": {},
     "output_type": "execute_result"
    }
   ],
   "source": [
    "df_ems[df_ems.DESCRIPTION_SHORT.isnull()]['PRIORITY_DESC'].value_counts()"
   ]
  },
  {
   "cell_type": "code",
   "execution_count": 18,
   "metadata": {
    "ExecuteTime": {
     "end_time": "2019-02-17T21:40:54.207294Z",
     "start_time": "2019-02-17T21:40:54.174468Z"
    }
   },
   "outputs": [],
   "source": [
    "df_ems['DESCRIPTION_SHORT'].fillna('MISSING',inplace=True)"
   ]
  },
  {
   "cell_type": "code",
   "execution_count": 19,
   "metadata": {
    "ExecuteTime": {
     "end_time": "2019-02-17T21:40:55.947023Z",
     "start_time": "2019-02-17T21:40:55.613320Z"
    }
   },
   "outputs": [
    {
     "name": "stdout",
     "output_type": "stream",
     "text": [
      "<class 'pandas.core.frame.DataFrame'>\n",
      "RangeIndex: 780698 entries, 0 to 780697\n",
      "Data columns (total 11 columns):\n",
      "Call_ID_Hash         780698 non-null object\n",
      "SERVICE              780698 non-null object\n",
      "PRIORITY             780698 non-null object\n",
      "PRIORITY_DESC        780698 non-null object\n",
      "AGENCY               780698 non-null object\n",
      "CALL_QUARTER         780698 non-null object\n",
      "CALL_YEAR            780698 non-null int64\n",
      "DESCRIPTION_SHORT    780698 non-null object\n",
      "CITY_CODE            780698 non-null object\n",
      "CITY_NAME            780698 non-null object\n",
      "GEOID                780698 non-null int64\n",
      "dtypes: int64(2), object(9)\n",
      "memory usage: 65.5+ MB\n"
     ]
    }
   ],
   "source": [
    "df_ems.info()"
   ]
  },
  {
   "cell_type": "code",
   "execution_count": 22,
   "metadata": {
    "ExecuteTime": {
     "end_time": "2019-02-17T21:42:35.570769Z",
     "start_time": "2019-02-17T21:42:35.524345Z"
    }
   },
   "outputs": [
    {
     "data": {
      "text/plain": [
       "['PORT VUE',\n",
       " 'PENN HILLS',\n",
       " 'MCKEESPORT',\n",
       " 'PITTSBURGH',\n",
       " 'ROSS',\n",
       " 'SOUTH FAYETTE',\n",
       " 'FRANKLIN PARK',\n",
       " 'DUQUESNE',\n",
       " 'PITCAIRN',\n",
       " 'WEST MIFFLIN']"
      ]
     },
     "execution_count": 22,
     "metadata": {},
     "output_type": "execute_result"
    }
   ],
   "source": [
    "ct_names = df_ems.CITY_NAME.unique().tolist()\n",
    "ct_names[:10]"
   ]
  },
  {
   "cell_type": "code",
   "execution_count": 23,
   "metadata": {
    "ExecuteTime": {
     "end_time": "2019-02-17T21:42:50.901884Z",
     "start_time": "2019-02-17T21:42:50.874626Z"
    }
   },
   "outputs": [
    {
     "data": {
      "text/html": [
       "<div>\n",
       "<style scoped>\n",
       "    .dataframe tbody tr th:only-of-type {\n",
       "        vertical-align: middle;\n",
       "    }\n",
       "\n",
       "    .dataframe tbody tr th {\n",
       "        vertical-align: top;\n",
       "    }\n",
       "\n",
       "    .dataframe thead th {\n",
       "        text-align: right;\n",
       "    }\n",
       "</style>\n",
       "<table border=\"1\" class=\"dataframe\">\n",
       "  <thead>\n",
       "    <tr style=\"text-align: right;\">\n",
       "      <th></th>\n",
       "      <th>Call_ID_Hash</th>\n",
       "      <th>SERVICE</th>\n",
       "      <th>PRIORITY</th>\n",
       "      <th>PRIORITY_DESC</th>\n",
       "      <th>AGENCY</th>\n",
       "      <th>CALL_QUARTER</th>\n",
       "      <th>CALL_YEAR</th>\n",
       "      <th>DESCRIPTION_SHORT</th>\n",
       "      <th>CITY_CODE</th>\n",
       "      <th>CITY_NAME</th>\n",
       "      <th>GEOID</th>\n",
       "    </tr>\n",
       "  </thead>\n",
       "  <tbody>\n",
       "    <tr>\n",
       "      <th>211893</th>\n",
       "      <td>eb764b289f44</td>\n",
       "      <td>EMS</td>\n",
       "      <td>E1</td>\n",
       "      <td>EMS ALS life threatening response</td>\n",
       "      <td>E590</td>\n",
       "      <td>Q4</td>\n",
       "      <td>2015</td>\n",
       "      <td>COMMERCIAL OR APARTMENT BLDG FIRE</td>\n",
       "      <td>WST</td>\n",
       "      <td>WESTMORELAND COUNTY</td>\n",
       "      <td>420034961023</td>\n",
       "    </tr>\n",
       "  </tbody>\n",
       "</table>\n",
       "</div>"
      ],
      "text/plain": [
       "        Call_ID_Hash SERVICE PRIORITY                      PRIORITY_DESC  \\\n",
       "211893  eb764b289f44     EMS       E1  EMS ALS life threatening response   \n",
       "\n",
       "       AGENCY CALL_QUARTER  CALL_YEAR                  DESCRIPTION_SHORT  \\\n",
       "211893   E590           Q4       2015  COMMERCIAL OR APARTMENT BLDG FIRE   \n",
       "\n",
       "       CITY_CODE            CITY_NAME         GEOID  \n",
       "211893       WST  WESTMORELAND COUNTY  420034961023  "
      ]
     },
     "execution_count": 23,
     "metadata": {},
     "output_type": "execute_result"
    }
   ],
   "source": [
    "# Check Westmoreland county in city names\n",
    "df_ems[df_ems.CITY_NAME.isin(['WESTMORELAND COUNTY'])]"
   ]
  },
  {
   "cell_type": "code",
   "execution_count": 24,
   "metadata": {
    "ExecuteTime": {
     "end_time": "2019-02-17T21:42:56.668663Z",
     "start_time": "2019-02-17T21:42:56.516490Z"
    }
   },
   "outputs": [
    {
     "name": "stdout",
     "output_type": "stream",
     "text": [
      "No. of rows before dropping =  780698\n",
      "No. of rows after dropping =  780697\n"
     ]
    }
   ],
   "source": [
    "# Drop westmoreland county\n",
    "print(\"No. of rows before dropping = \", len(df_ems))\n",
    "df_ems.drop(df_ems[df_ems.CITY_NAME.isin(['WESTMORELAND COUNTY'])].index, inplace=True)\n",
    "print(\"No. of rows after dropping = \", len(df_ems))"
   ]
  },
  {
   "cell_type": "code",
   "execution_count": 17,
   "metadata": {
    "ExecuteTime": {
     "end_time": "2019-02-18T02:46:14.181170Z",
     "start_time": "2019-02-18T02:46:13.785398Z"
    }
   },
   "outputs": [],
   "source": [
    "# Save data after filling missing values.\n",
    "# save_obj(df_ems,'df_ems')\n",
    "df_ems = load_obj('df_ems')"
   ]
  },
  {
   "cell_type": "code",
   "execution_count": 18,
   "metadata": {
    "ExecuteTime": {
     "end_time": "2019-02-18T02:46:17.677472Z",
     "start_time": "2019-02-18T02:46:17.629121Z"
    }
   },
   "outputs": [],
   "source": [
    "# Rebuild the city name list\n",
    "ct_names = df_ems.CITY_NAME.unique().tolist()"
   ]
  },
  {
   "cell_type": "code",
   "execution_count": 19,
   "metadata": {
    "ExecuteTime": {
     "end_time": "2019-02-18T02:46:18.519444Z",
     "start_time": "2019-02-18T02:46:18.494257Z"
    }
   },
   "outputs": [
    {
     "data": {
      "text/html": [
       "<div>\n",
       "<style scoped>\n",
       "    .dataframe tbody tr th:only-of-type {\n",
       "        vertical-align: middle;\n",
       "    }\n",
       "\n",
       "    .dataframe tbody tr th {\n",
       "        vertical-align: top;\n",
       "    }\n",
       "\n",
       "    .dataframe thead th {\n",
       "        text-align: right;\n",
       "    }\n",
       "</style>\n",
       "<table border=\"1\" class=\"dataframe\">\n",
       "  <thead>\n",
       "    <tr style=\"text-align: right;\">\n",
       "      <th></th>\n",
       "      <th>SUMLEV</th>\n",
       "      <th>STATE</th>\n",
       "      <th>COUNTY</th>\n",
       "      <th>PLACE</th>\n",
       "      <th>COUSUB</th>\n",
       "      <th>CONCIT</th>\n",
       "      <th>PRIMGEO_FLAG</th>\n",
       "      <th>FUNCSTAT</th>\n",
       "      <th>NAME</th>\n",
       "      <th>STNAME</th>\n",
       "      <th>...</th>\n",
       "      <th>ESTIMATESBASE2010</th>\n",
       "      <th>POPESTIMATE2010</th>\n",
       "      <th>POPESTIMATE2011</th>\n",
       "      <th>POPESTIMATE2012</th>\n",
       "      <th>POPESTIMATE2013</th>\n",
       "      <th>POPESTIMATE2014</th>\n",
       "      <th>POPESTIMATE2015</th>\n",
       "      <th>POPESTIMATE2016</th>\n",
       "      <th>POPESTIMATE2017</th>\n",
       "      <th>NAME_UP</th>\n",
       "    </tr>\n",
       "  </thead>\n",
       "  <tbody>\n",
       "    <tr>\n",
       "      <th>0</th>\n",
       "      <td>40</td>\n",
       "      <td>42</td>\n",
       "      <td>0</td>\n",
       "      <td>0</td>\n",
       "      <td>0</td>\n",
       "      <td>0</td>\n",
       "      <td>0</td>\n",
       "      <td>A</td>\n",
       "      <td>Pennsylvania</td>\n",
       "      <td>Pennsylvania</td>\n",
       "      <td>...</td>\n",
       "      <td>12702857</td>\n",
       "      <td>12711063</td>\n",
       "      <td>12742811</td>\n",
       "      <td>12768034</td>\n",
       "      <td>12778450</td>\n",
       "      <td>12790341</td>\n",
       "      <td>12791124</td>\n",
       "      <td>12787085</td>\n",
       "      <td>12805537</td>\n",
       "      <td>PENNSYLVANIA</td>\n",
       "    </tr>\n",
       "    <tr>\n",
       "      <th>1</th>\n",
       "      <td>162</td>\n",
       "      <td>42</td>\n",
       "      <td>0</td>\n",
       "      <td>116</td>\n",
       "      <td>0</td>\n",
       "      <td>0</td>\n",
       "      <td>0</td>\n",
       "      <td>A</td>\n",
       "      <td>Abbottstown borough</td>\n",
       "      <td>Pennsylvania</td>\n",
       "      <td>...</td>\n",
       "      <td>1011</td>\n",
       "      <td>1010</td>\n",
       "      <td>1011</td>\n",
       "      <td>1008</td>\n",
       "      <td>1006</td>\n",
       "      <td>1009</td>\n",
       "      <td>1012</td>\n",
       "      <td>1013</td>\n",
       "      <td>1020</td>\n",
       "      <td>ABBOTTSTOWN BOROUGH</td>\n",
       "    </tr>\n",
       "    <tr>\n",
       "      <th>2</th>\n",
       "      <td>162</td>\n",
       "      <td>42</td>\n",
       "      <td>0</td>\n",
       "      <td>332</td>\n",
       "      <td>0</td>\n",
       "      <td>0</td>\n",
       "      <td>0</td>\n",
       "      <td>A</td>\n",
       "      <td>Adamsburg borough</td>\n",
       "      <td>Pennsylvania</td>\n",
       "      <td>...</td>\n",
       "      <td>172</td>\n",
       "      <td>172</td>\n",
       "      <td>171</td>\n",
       "      <td>170</td>\n",
       "      <td>169</td>\n",
       "      <td>168</td>\n",
       "      <td>167</td>\n",
       "      <td>165</td>\n",
       "      <td>164</td>\n",
       "      <td>ADAMSBURG BOROUGH</td>\n",
       "    </tr>\n",
       "    <tr>\n",
       "      <th>3</th>\n",
       "      <td>162</td>\n",
       "      <td>42</td>\n",
       "      <td>0</td>\n",
       "      <td>364</td>\n",
       "      <td>0</td>\n",
       "      <td>0</td>\n",
       "      <td>0</td>\n",
       "      <td>A</td>\n",
       "      <td>Adamstown borough</td>\n",
       "      <td>Pennsylvania</td>\n",
       "      <td>...</td>\n",
       "      <td>1789</td>\n",
       "      <td>1801</td>\n",
       "      <td>1835</td>\n",
       "      <td>1837</td>\n",
       "      <td>1839</td>\n",
       "      <td>1844</td>\n",
       "      <td>1845</td>\n",
       "      <td>1847</td>\n",
       "      <td>1850</td>\n",
       "      <td>ADAMSTOWN BOROUGH</td>\n",
       "    </tr>\n",
       "    <tr>\n",
       "      <th>4</th>\n",
       "      <td>162</td>\n",
       "      <td>42</td>\n",
       "      <td>0</td>\n",
       "      <td>396</td>\n",
       "      <td>0</td>\n",
       "      <td>0</td>\n",
       "      <td>0</td>\n",
       "      <td>A</td>\n",
       "      <td>Addison borough</td>\n",
       "      <td>Pennsylvania</td>\n",
       "      <td>...</td>\n",
       "      <td>207</td>\n",
       "      <td>207</td>\n",
       "      <td>205</td>\n",
       "      <td>204</td>\n",
       "      <td>202</td>\n",
       "      <td>201</td>\n",
       "      <td>198</td>\n",
       "      <td>198</td>\n",
       "      <td>197</td>\n",
       "      <td>ADDISON BOROUGH</td>\n",
       "    </tr>\n",
       "  </tbody>\n",
       "</table>\n",
       "<p>5 rows × 21 columns</p>\n",
       "</div>"
      ],
      "text/plain": [
       "   SUMLEV  STATE  COUNTY  PLACE  COUSUB  CONCIT  PRIMGEO_FLAG FUNCSTAT  \\\n",
       "0      40     42       0      0       0       0             0        A   \n",
       "1     162     42       0    116       0       0             0        A   \n",
       "2     162     42       0    332       0       0             0        A   \n",
       "3     162     42       0    364       0       0             0        A   \n",
       "4     162     42       0    396       0       0             0        A   \n",
       "\n",
       "                  NAME        STNAME         ...          ESTIMATESBASE2010  \\\n",
       "0         Pennsylvania  Pennsylvania         ...                   12702857   \n",
       "1  Abbottstown borough  Pennsylvania         ...                       1011   \n",
       "2    Adamsburg borough  Pennsylvania         ...                        172   \n",
       "3    Adamstown borough  Pennsylvania         ...                       1789   \n",
       "4      Addison borough  Pennsylvania         ...                        207   \n",
       "\n",
       "   POPESTIMATE2010  POPESTIMATE2011  POPESTIMATE2012  POPESTIMATE2013  \\\n",
       "0         12711063         12742811         12768034         12778450   \n",
       "1             1010             1011             1008             1006   \n",
       "2              172              171              170              169   \n",
       "3             1801             1835             1837             1839   \n",
       "4              207              205              204              202   \n",
       "\n",
       "   POPESTIMATE2014  POPESTIMATE2015  POPESTIMATE2016  POPESTIMATE2017  \\\n",
       "0         12790341         12791124         12787085         12805537   \n",
       "1             1009             1012             1013             1020   \n",
       "2              168              167              165              164   \n",
       "3             1844             1845             1847             1850   \n",
       "4              201              198              198              197   \n",
       "\n",
       "               NAME_UP  \n",
       "0         PENNSYLVANIA  \n",
       "1  ABBOTTSTOWN BOROUGH  \n",
       "2    ADAMSBURG BOROUGH  \n",
       "3    ADAMSTOWN BOROUGH  \n",
       "4      ADDISON BOROUGH  \n",
       "\n",
       "[5 rows x 21 columns]"
      ]
     },
     "execution_count": 19,
     "metadata": {},
     "output_type": "execute_result"
    }
   ],
   "source": [
    "df_pop.head()"
   ]
  },
  {
   "cell_type": "code",
   "execution_count": 29,
   "metadata": {
    "ExecuteTime": {
     "end_time": "2019-02-17T21:44:41.009097Z",
     "start_time": "2019-02-17T21:44:40.998932Z"
    }
   },
   "outputs": [],
   "source": [
    "def get_pop(ct_name, df, name_col, yr_st, yr_end):\n",
    "    columns=['POPESTIMATE{yr}'.format(yr=str(yr)) \n",
    "             for yr in range(yr_st, yr_end+1)]\n",
    "    ct_ext = ['BOROUGH', 'CITY', 'TOWNSHIP', 'MUNICIPALITY']\n",
    "    if ct_name.endswith(('BOROUGH', 'CITY', 'TOWNSHIP', 'BORO')):\n",
    "        alist = ct_name.split()\n",
    "        ct_name = ' '.join(alist[:-1])\n",
    "    if 'CLAIR' in ct_name:\n",
    "        ct_name = ct_name.replace('ST ', 'ST. ')\n",
    "    ct_names = ['{name} {ext}'.format(name=ct_name, ext=ext) \n",
    "                for ext in ct_ext]\n",
    "    return (df[(df[name_col]\n",
    "                .isin(ct_names))][columns]\n",
    "            .median().astype('int').tolist())\n",
    "    "
   ]
  },
  {
   "cell_type": "code",
   "execution_count": 30,
   "metadata": {
    "ExecuteTime": {
     "end_time": "2019-02-17T21:44:42.433418Z",
     "start_time": "2019-02-17T21:44:42.425134Z"
    }
   },
   "outputs": [
    {
     "data": {
      "text/plain": [
       "[15423, 15511, 15614]"
      ]
     },
     "execution_count": 30,
     "metadata": {},
     "output_type": "execute_result"
    }
   ],
   "source": [
    "get_pop('SOUTH FAYETTE',df_pop,'NAME_UP',2015,2017)"
   ]
  },
  {
   "cell_type": "code",
   "execution_count": 31,
   "metadata": {
    "ExecuteTime": {
     "end_time": "2019-02-17T21:44:43.714862Z",
     "start_time": "2019-02-17T21:44:43.710418Z"
    }
   },
   "outputs": [],
   "source": [
    "def get_pop_dict(ct_names, df, name_col, yr_st, yr_end):\n",
    "    pop_dict = nested_dict()\n",
    "    for ct_name in ct_names:\n",
    "        try:\n",
    "            pops = get_pop(ct_name, df, name_col, yr_st, yr_end)\n",
    "            for yr,pop in zip(range(yr_st,yr_end+1), pops):\n",
    "                pop_dict[ct_name][yr]=pop\n",
    "        except ValueError:\n",
    "            print(ct_name)\n",
    "            return ct_name\n",
    "    return pop_dict"
   ]
  },
  {
   "cell_type": "code",
   "execution_count": 22,
   "metadata": {
    "ExecuteTime": {
     "end_time": "2019-02-18T02:47:13.904702Z",
     "start_time": "2019-02-18T02:47:13.901732Z"
    }
   },
   "outputs": [],
   "source": [
    "#pop_dict = get_pop_dict(ct_names,df_pop,'NAME_UP',2015,2017)\n",
    "# load pop_dict from the local system.\n",
    "pop_dict = load_obj('pop_dict')"
   ]
  },
  {
   "cell_type": "code",
   "execution_count": 28,
   "metadata": {
    "ExecuteTime": {
     "end_time": "2019-02-17T20:56:44.031100Z",
     "start_time": "2019-02-17T20:56:44.027337Z"
    }
   },
   "outputs": [],
   "source": [
    "# Save pop_dict to a local file system.\n",
    "# save_obj(pop_dict, 'pop_dict')"
   ]
  },
  {
   "cell_type": "code",
   "execution_count": 23,
   "metadata": {
    "ExecuteTime": {
     "end_time": "2019-02-18T02:47:34.899684Z",
     "start_time": "2019-02-18T02:47:34.890474Z"
    }
   },
   "outputs": [],
   "source": [
    "def get_pop(x, **kwargs):\n",
    "    pop_dict = kwargs['pop_dict']\n",
    "    yr = kwargs['yr']\n",
    "    if yr == 2018:\n",
    "        yr = 2017\n",
    "    return pop_dict[x][yr]\n",
    "\n",
    "def get_call_per_city(df, pop_dict, yr):\n",
    "    df_city_count =df[df['CALL_YEAR'] == yr]['CITY_NAME'].value_counts().reset_index()\n",
    "    df_city_count.columns = ['CITY_NAME', 'NO. OF CALLS']\n",
    "    df_city_count['PERCENTAGE OVER TOTAL CALLS'] = round(df_city_count['NO. OF CALLS']/\n",
    "                                                         df_city_count['NO. OF CALLS'].sum()*\n",
    "                                                         100,2)\n",
    "    col_name = 'POPULATION'.format(yr=yr)\n",
    "    df_city_count[col_name] = (df_city_count['CITY_NAME']\n",
    "                               .apply(get_pop, pop_dict=pop_dict, yr = yr))\n",
    "    \n",
    "    df_city_count['CALL_PER_POP'] = (df_city_count['NO. OF CALLS']/\n",
    "                                     df_city_count[col_name])\n",
    "    # Sort the column\n",
    "    df_city_count.sort_values(by=['CALL_PER_POP',col_name],\n",
    "                              ascending=False,\n",
    "                              inplace=True)\n",
    "    \n",
    "    return df_city_count\n",
    "    \n",
    "    "
   ]
  },
  {
   "cell_type": "code",
   "execution_count": 24,
   "metadata": {
    "ExecuteTime": {
     "end_time": "2019-02-18T02:47:40.092179Z",
     "start_time": "2019-02-18T02:47:40.006748Z"
    }
   },
   "outputs": [
    {
     "data": {
      "text/html": [
       "<div>\n",
       "<style scoped>\n",
       "    .dataframe tbody tr th:only-of-type {\n",
       "        vertical-align: middle;\n",
       "    }\n",
       "\n",
       "    .dataframe tbody tr th {\n",
       "        vertical-align: top;\n",
       "    }\n",
       "\n",
       "    .dataframe thead th {\n",
       "        text-align: right;\n",
       "    }\n",
       "</style>\n",
       "<table border=\"1\" class=\"dataframe\">\n",
       "  <thead>\n",
       "    <tr style=\"text-align: right;\">\n",
       "      <th></th>\n",
       "      <th>CITY_NAME</th>\n",
       "      <th>NO. OF CALLS</th>\n",
       "      <th>PERCENTAGE OVER TOTAL CALLS</th>\n",
       "      <th>POPULATION</th>\n",
       "      <th>CALL_PER_POP</th>\n",
       "    </tr>\n",
       "  </thead>\n",
       "  <tbody>\n",
       "    <tr>\n",
       "      <th>19</th>\n",
       "      <td>HARRISON</td>\n",
       "      <td>1823</td>\n",
       "      <td>0.97</td>\n",
       "      <td>1011</td>\n",
       "      <td>1.803165</td>\n",
       "    </tr>\n",
       "    <tr>\n",
       "      <th>43</th>\n",
       "      <td>PINE</td>\n",
       "      <td>1039</td>\n",
       "      <td>0.55</td>\n",
       "      <td>744</td>\n",
       "      <td>1.396505</td>\n",
       "    </tr>\n",
       "    <tr>\n",
       "      <th>24</th>\n",
       "      <td>ELIZABETH TOWNSHIP</td>\n",
       "      <td>1645</td>\n",
       "      <td>0.87</td>\n",
       "      <td>1504</td>\n",
       "      <td>1.093750</td>\n",
       "    </tr>\n",
       "    <tr>\n",
       "      <th>32</th>\n",
       "      <td>RICHLAND</td>\n",
       "      <td>1397</td>\n",
       "      <td>0.74</td>\n",
       "      <td>1567</td>\n",
       "      <td>0.891512</td>\n",
       "    </tr>\n",
       "    <tr>\n",
       "      <th>4</th>\n",
       "      <td>ROSS</td>\n",
       "      <td>4700</td>\n",
       "      <td>2.49</td>\n",
       "      <td>5774</td>\n",
       "      <td>0.813994</td>\n",
       "    </tr>\n",
       "  </tbody>\n",
       "</table>\n",
       "</div>"
      ],
      "text/plain": [
       "             CITY_NAME  NO. OF CALLS  PERCENTAGE OVER TOTAL CALLS  POPULATION  \\\n",
       "19            HARRISON          1823                         0.97        1011   \n",
       "43                PINE          1039                         0.55         744   \n",
       "24  ELIZABETH TOWNSHIP          1645                         0.87        1504   \n",
       "32            RICHLAND          1397                         0.74        1567   \n",
       "4                 ROSS          4700                         2.49        5774   \n",
       "\n",
       "    CALL_PER_POP  \n",
       "19      1.803165  \n",
       "43      1.396505  \n",
       "24      1.093750  \n",
       "32      0.891512  \n",
       "4       0.813994  "
      ]
     },
     "execution_count": 24,
     "metadata": {},
     "output_type": "execute_result"
    }
   ],
   "source": [
    "call_per_city_2015 = get_call_per_city(df_ems, pop_dict, 2015)\n",
    "call_per_city_2015.head()"
   ]
  },
  {
   "cell_type": "code",
   "execution_count": 25,
   "metadata": {
    "ExecuteTime": {
     "end_time": "2019-02-18T02:47:40.572812Z",
     "start_time": "2019-02-18T02:47:40.500336Z"
    }
   },
   "outputs": [
    {
     "data": {
      "text/html": [
       "<div>\n",
       "<style scoped>\n",
       "    .dataframe tbody tr th:only-of-type {\n",
       "        vertical-align: middle;\n",
       "    }\n",
       "\n",
       "    .dataframe tbody tr th {\n",
       "        vertical-align: top;\n",
       "    }\n",
       "\n",
       "    .dataframe thead th {\n",
       "        text-align: right;\n",
       "    }\n",
       "</style>\n",
       "<table border=\"1\" class=\"dataframe\">\n",
       "  <thead>\n",
       "    <tr style=\"text-align: right;\">\n",
       "      <th></th>\n",
       "      <th>CITY_NAME</th>\n",
       "      <th>NO. OF CALLS</th>\n",
       "      <th>PERCENTAGE OVER TOTAL CALLS</th>\n",
       "      <th>POPULATION</th>\n",
       "      <th>CALL_PER_POP</th>\n",
       "    </tr>\n",
       "  </thead>\n",
       "  <tbody>\n",
       "    <tr>\n",
       "      <th>18</th>\n",
       "      <td>HARRISON</td>\n",
       "      <td>1995</td>\n",
       "      <td>1.02</td>\n",
       "      <td>1002</td>\n",
       "      <td>1.991018</td>\n",
       "    </tr>\n",
       "    <tr>\n",
       "      <th>50</th>\n",
       "      <td>PINE</td>\n",
       "      <td>991</td>\n",
       "      <td>0.51</td>\n",
       "      <td>743</td>\n",
       "      <td>1.333782</td>\n",
       "    </tr>\n",
       "    <tr>\n",
       "      <th>32</th>\n",
       "      <td>ELIZABETH TOWNSHIP</td>\n",
       "      <td>1490</td>\n",
       "      <td>0.76</td>\n",
       "      <td>1492</td>\n",
       "      <td>0.998660</td>\n",
       "    </tr>\n",
       "    <tr>\n",
       "      <th>4</th>\n",
       "      <td>ROSS</td>\n",
       "      <td>4755</td>\n",
       "      <td>2.44</td>\n",
       "      <td>5763</td>\n",
       "      <td>0.825091</td>\n",
       "    </tr>\n",
       "    <tr>\n",
       "      <th>37</th>\n",
       "      <td>RICHLAND</td>\n",
       "      <td>1251</td>\n",
       "      <td>0.64</td>\n",
       "      <td>1579</td>\n",
       "      <td>0.792274</td>\n",
       "    </tr>\n",
       "  </tbody>\n",
       "</table>\n",
       "</div>"
      ],
      "text/plain": [
       "             CITY_NAME  NO. OF CALLS  PERCENTAGE OVER TOTAL CALLS  POPULATION  \\\n",
       "18            HARRISON          1995                         1.02        1002   \n",
       "50                PINE           991                         0.51         743   \n",
       "32  ELIZABETH TOWNSHIP          1490                         0.76        1492   \n",
       "4                 ROSS          4755                         2.44        5763   \n",
       "37            RICHLAND          1251                         0.64        1579   \n",
       "\n",
       "    CALL_PER_POP  \n",
       "18      1.991018  \n",
       "50      1.333782  \n",
       "32      0.998660  \n",
       "4       0.825091  \n",
       "37      0.792274  "
      ]
     },
     "execution_count": 25,
     "metadata": {},
     "output_type": "execute_result"
    }
   ],
   "source": [
    "call_per_city_2016 = get_call_per_city(df_ems, pop_dict, 2016)\n",
    "call_per_city_2016.head()"
   ]
  },
  {
   "cell_type": "code",
   "execution_count": 26,
   "metadata": {
    "ExecuteTime": {
     "end_time": "2019-02-18T02:47:41.077715Z",
     "start_time": "2019-02-18T02:47:41.018043Z"
    }
   },
   "outputs": [
    {
     "data": {
      "text/html": [
       "<div>\n",
       "<style scoped>\n",
       "    .dataframe tbody tr th:only-of-type {\n",
       "        vertical-align: middle;\n",
       "    }\n",
       "\n",
       "    .dataframe tbody tr th {\n",
       "        vertical-align: top;\n",
       "    }\n",
       "\n",
       "    .dataframe thead th {\n",
       "        text-align: right;\n",
       "    }\n",
       "</style>\n",
       "<table border=\"1\" class=\"dataframe\">\n",
       "  <thead>\n",
       "    <tr style=\"text-align: right;\">\n",
       "      <th></th>\n",
       "      <th>CITY_NAME</th>\n",
       "      <th>NO. OF CALLS</th>\n",
       "      <th>PERCENTAGE OVER TOTAL CALLS</th>\n",
       "      <th>POPULATION</th>\n",
       "      <th>CALL_PER_POP</th>\n",
       "    </tr>\n",
       "  </thead>\n",
       "  <tbody>\n",
       "    <tr>\n",
       "      <th>19</th>\n",
       "      <td>HARRISON</td>\n",
       "      <td>1979</td>\n",
       "      <td>1.01</td>\n",
       "      <td>994</td>\n",
       "      <td>1.990946</td>\n",
       "    </tr>\n",
       "    <tr>\n",
       "      <th>42</th>\n",
       "      <td>PINE</td>\n",
       "      <td>1088</td>\n",
       "      <td>0.55</td>\n",
       "      <td>738</td>\n",
       "      <td>1.474255</td>\n",
       "    </tr>\n",
       "    <tr>\n",
       "      <th>30</th>\n",
       "      <td>ELIZABETH TOWNSHIP</td>\n",
       "      <td>1588</td>\n",
       "      <td>0.81</td>\n",
       "      <td>1482</td>\n",
       "      <td>1.071525</td>\n",
       "    </tr>\n",
       "    <tr>\n",
       "      <th>4</th>\n",
       "      <td>ROSS</td>\n",
       "      <td>4686</td>\n",
       "      <td>2.38</td>\n",
       "      <td>5805</td>\n",
       "      <td>0.807235</td>\n",
       "    </tr>\n",
       "    <tr>\n",
       "      <th>38</th>\n",
       "      <td>RICHLAND</td>\n",
       "      <td>1261</td>\n",
       "      <td>0.64</td>\n",
       "      <td>1594</td>\n",
       "      <td>0.791092</td>\n",
       "    </tr>\n",
       "  </tbody>\n",
       "</table>\n",
       "</div>"
      ],
      "text/plain": [
       "             CITY_NAME  NO. OF CALLS  PERCENTAGE OVER TOTAL CALLS  POPULATION  \\\n",
       "19            HARRISON          1979                         1.01         994   \n",
       "42                PINE          1088                         0.55         738   \n",
       "30  ELIZABETH TOWNSHIP          1588                         0.81        1482   \n",
       "4                 ROSS          4686                         2.38        5805   \n",
       "38            RICHLAND          1261                         0.64        1594   \n",
       "\n",
       "    CALL_PER_POP  \n",
       "19      1.990946  \n",
       "42      1.474255  \n",
       "30      1.071525  \n",
       "4       0.807235  \n",
       "38      0.791092  "
      ]
     },
     "execution_count": 26,
     "metadata": {},
     "output_type": "execute_result"
    }
   ],
   "source": [
    "call_per_city_2017 = get_call_per_city(df_ems, pop_dict, 2017)\n",
    "call_per_city_2017.head()"
   ]
  },
  {
   "cell_type": "code",
   "execution_count": 27,
   "metadata": {
    "ExecuteTime": {
     "end_time": "2019-02-18T02:47:42.185414Z",
     "start_time": "2019-02-18T02:47:42.118745Z"
    }
   },
   "outputs": [
    {
     "data": {
      "text/html": [
       "<div>\n",
       "<style scoped>\n",
       "    .dataframe tbody tr th:only-of-type {\n",
       "        vertical-align: middle;\n",
       "    }\n",
       "\n",
       "    .dataframe tbody tr th {\n",
       "        vertical-align: top;\n",
       "    }\n",
       "\n",
       "    .dataframe thead th {\n",
       "        text-align: right;\n",
       "    }\n",
       "</style>\n",
       "<table border=\"1\" class=\"dataframe\">\n",
       "  <thead>\n",
       "    <tr style=\"text-align: right;\">\n",
       "      <th></th>\n",
       "      <th>CITY_NAME</th>\n",
       "      <th>NO. OF CALLS</th>\n",
       "      <th>PERCENTAGE OVER TOTAL CALLS</th>\n",
       "      <th>POPULATION</th>\n",
       "      <th>CALL_PER_POP</th>\n",
       "    </tr>\n",
       "  </thead>\n",
       "  <tbody>\n",
       "    <tr>\n",
       "      <th>19</th>\n",
       "      <td>HARRISON</td>\n",
       "      <td>1924</td>\n",
       "      <td>0.96</td>\n",
       "      <td>994</td>\n",
       "      <td>1.935614</td>\n",
       "    </tr>\n",
       "    <tr>\n",
       "      <th>45</th>\n",
       "      <td>PINE</td>\n",
       "      <td>1065</td>\n",
       "      <td>0.53</td>\n",
       "      <td>738</td>\n",
       "      <td>1.443089</td>\n",
       "    </tr>\n",
       "    <tr>\n",
       "      <th>27</th>\n",
       "      <td>ELIZABETH TOWNSHIP</td>\n",
       "      <td>1666</td>\n",
       "      <td>0.83</td>\n",
       "      <td>1482</td>\n",
       "      <td>1.124157</td>\n",
       "    </tr>\n",
       "    <tr>\n",
       "      <th>35</th>\n",
       "      <td>RICHLAND</td>\n",
       "      <td>1417</td>\n",
       "      <td>0.71</td>\n",
       "      <td>1594</td>\n",
       "      <td>0.888959</td>\n",
       "    </tr>\n",
       "    <tr>\n",
       "      <th>4</th>\n",
       "      <td>ROSS</td>\n",
       "      <td>4878</td>\n",
       "      <td>2.44</td>\n",
       "      <td>5805</td>\n",
       "      <td>0.840310</td>\n",
       "    </tr>\n",
       "  </tbody>\n",
       "</table>\n",
       "</div>"
      ],
      "text/plain": [
       "             CITY_NAME  NO. OF CALLS  PERCENTAGE OVER TOTAL CALLS  POPULATION  \\\n",
       "19            HARRISON          1924                         0.96         994   \n",
       "45                PINE          1065                         0.53         738   \n",
       "27  ELIZABETH TOWNSHIP          1666                         0.83        1482   \n",
       "35            RICHLAND          1417                         0.71        1594   \n",
       "4                 ROSS          4878                         2.44        5805   \n",
       "\n",
       "    CALL_PER_POP  \n",
       "19      1.935614  \n",
       "45      1.443089  \n",
       "27      1.124157  \n",
       "35      0.888959  \n",
       "4       0.840310  "
      ]
     },
     "execution_count": 27,
     "metadata": {},
     "output_type": "execute_result"
    }
   ],
   "source": [
    "call_per_city_2018 = get_call_per_city(df_ems, pop_dict, 2018)\n",
    "call_per_city_2018.head()"
   ]
  },
  {
   "cell_type": "code",
   "execution_count": 235,
   "metadata": {
    "ExecuteTime": {
     "end_time": "2019-02-18T19:22:31.067762Z",
     "start_time": "2019-02-18T19:22:31.032826Z"
    }
   },
   "outputs": [],
   "source": [
    "def top_plot(df1, df2, df3, df4, pop_cutoff=0, top=10):\n",
    "    city_names = []\n",
    "    for df in [df1,df2,df3,df4]:\n",
    "        city_names.extend(df1.iloc[:top,0].tolist())\n",
    "    city_names = list(set(city_names))\n",
    "    col_names = ['CITY_NAME', 'NO. OF CALLS', \n",
    "                 'POPULATION', 'CALL_PER_POP', 'YEAR']\n",
    "    df_temp = pd.DataFrame(columns=col_names)\n",
    "    for df, yr in zip([df1, df2, df3, df4],[2015, 2016, 2017, 2018]):\n",
    "        df['YEAR'] = yr\n",
    "        df_temp = df_temp.append(df[(df['CITY_NAME'].isin(city_names))\n",
    "                                    & (df.iloc[:,3] > pop_cutoff)][col_names]\n",
    "                                 .sort_values(by=['CALL_PER_POP','NO. OF CALLS'],\n",
    "                                 ascending=False))\n",
    "         \n",
    "    return df_temp\n",
    "    "
   ]
  },
  {
   "cell_type": "code",
   "execution_count": 30,
   "metadata": {
    "ExecuteTime": {
     "end_time": "2019-02-18T03:01:43.094379Z",
     "start_time": "2019-02-18T03:01:43.023616Z"
    }
   },
   "outputs": [],
   "source": [
    "Top_20_df = top_plot(call_per_city_2015, \n",
    "                     call_per_city_2016, \n",
    "                     call_per_city_2017,\n",
    "                     call_per_city_2018,top=20)"
   ]
  },
  {
   "cell_type": "code",
   "execution_count": 31,
   "metadata": {
    "ExecuteTime": {
     "end_time": "2019-02-18T03:01:51.116267Z",
     "start_time": "2019-02-18T03:01:51.096666Z"
    }
   },
   "outputs": [
    {
     "data": {
      "text/html": [
       "<div>\n",
       "<style scoped>\n",
       "    .dataframe tbody tr th:only-of-type {\n",
       "        vertical-align: middle;\n",
       "    }\n",
       "\n",
       "    .dataframe tbody tr th {\n",
       "        vertical-align: top;\n",
       "    }\n",
       "\n",
       "    .dataframe thead th {\n",
       "        text-align: right;\n",
       "    }\n",
       "</style>\n",
       "<table border=\"1\" class=\"dataframe\">\n",
       "  <thead>\n",
       "    <tr style=\"text-align: right;\">\n",
       "      <th></th>\n",
       "      <th>CITY_NAME</th>\n",
       "      <th>NO. OF CALLS</th>\n",
       "      <th>POPULATION</th>\n",
       "      <th>CALL_PER_POP</th>\n",
       "      <th>YEAR</th>\n",
       "    </tr>\n",
       "  </thead>\n",
       "  <tbody>\n",
       "    <tr>\n",
       "      <th>19</th>\n",
       "      <td>HARRISON</td>\n",
       "      <td>1823</td>\n",
       "      <td>1011</td>\n",
       "      <td>1.803165</td>\n",
       "      <td>2015</td>\n",
       "    </tr>\n",
       "    <tr>\n",
       "      <th>43</th>\n",
       "      <td>PINE</td>\n",
       "      <td>1039</td>\n",
       "      <td>744</td>\n",
       "      <td>1.396505</td>\n",
       "      <td>2015</td>\n",
       "    </tr>\n",
       "    <tr>\n",
       "      <th>24</th>\n",
       "      <td>ELIZABETH TOWNSHIP</td>\n",
       "      <td>1645</td>\n",
       "      <td>1504</td>\n",
       "      <td>1.093750</td>\n",
       "      <td>2015</td>\n",
       "    </tr>\n",
       "    <tr>\n",
       "      <th>32</th>\n",
       "      <td>RICHLAND</td>\n",
       "      <td>1397</td>\n",
       "      <td>1567</td>\n",
       "      <td>0.891512</td>\n",
       "      <td>2015</td>\n",
       "    </tr>\n",
       "    <tr>\n",
       "      <th>4</th>\n",
       "      <td>ROSS</td>\n",
       "      <td>4700</td>\n",
       "      <td>5774</td>\n",
       "      <td>0.813994</td>\n",
       "      <td>2015</td>\n",
       "    </tr>\n",
       "  </tbody>\n",
       "</table>\n",
       "</div>"
      ],
      "text/plain": [
       "             CITY_NAME NO. OF CALLS POPULATION  CALL_PER_POP  YEAR\n",
       "19            HARRISON         1823       1011      1.803165  2015\n",
       "43                PINE         1039        744      1.396505  2015\n",
       "24  ELIZABETH TOWNSHIP         1645       1504      1.093750  2015\n",
       "32            RICHLAND         1397       1567      0.891512  2015\n",
       "4                 ROSS         4700       5774      0.813994  2015"
      ]
     },
     "execution_count": 31,
     "metadata": {},
     "output_type": "execute_result"
    }
   ],
   "source": [
    "Top_20_df.head()"
   ]
  },
  {
   "cell_type": "code",
   "execution_count": null,
   "metadata": {},
   "outputs": [],
   "source": []
  },
  {
   "cell_type": "code",
   "execution_count": 111,
   "metadata": {
    "ExecuteTime": {
     "end_time": "2019-02-18T05:36:05.265777Z",
     "start_time": "2019-02-18T05:36:05.232491Z"
    }
   },
   "outputs": [],
   "source": [
    "def bar_plot(df,y='CALL_PER_POP', x='CITY_NAME', \n",
    "             hue='YEAR',get_traces=False):\n",
    "    \n",
    "    traces=[]\n",
    "\n",
    "    for ahue, df_gp in df.groupby(hue):\n",
    "        traces.append(go.Bar(x=df_gp[x], y=df_gp[y], name=ahue))\n",
    "    if get_traces:\n",
    "        return traces\n",
    "    fig = go.Figure(data=traces)\n",
    "#     fig.layout.template='seaborn'\n",
    "#     iplot(fig)\n",
    "    return fig"
   ]
  },
  {
   "cell_type": "code",
   "execution_count": 91,
   "metadata": {
    "ExecuteTime": {
     "end_time": "2019-02-18T04:20:07.115999Z",
     "start_time": "2019-02-18T04:20:07.003777Z"
    }
   },
   "outputs": [
    {
     "data": {
      "application/vnd.plotly.v1+json": {
       "config": {
        "linkText": "Export to plot.ly",
        "plotlyServerURL": "https://plot.ly",
        "showLink": false
       },
       "data": [
        {
         "name": "2015",
         "type": "bar",
         "uid": "f7f8da4d-8b72-46f8-9ddf-688e22f13a22",
         "x": [
          "HARRISON",
          "PINE",
          "ELIZABETH TOWNSHIP",
          "RICHLAND",
          "ROSS",
          "SCOTT",
          "HOMESTEAD",
          "BRADDOCK",
          "RANKIN",
          "EAST PITTSBURGH",
          "MCKEESPORT",
          "HARMAR",
          "WEST HOMESTEAD",
          "WILMERDING",
          "PITCAIRN",
          "MCKEES ROCKS",
          "ROBINSON",
          "DUQUESNE",
          "NORTH BRADDOCK",
          "FRAZER"
         ],
         "y": [
          1.8031651829871413,
          1.396505376344086,
          1.09375,
          0.8915124441608169,
          0.8139937651541392,
          0.5946058091286307,
          0.545076726342711,
          0.4985941893158388,
          0.4206008583690987,
          0.37,
          0.34558408939463836,
          0.32920872679908825,
          0.31910463300364394,
          0.31574074074074077,
          0.30783410138248846,
          0.3055371352785146,
          0.2972592213114754,
          0.29626959812578846,
          0.28583333333333333,
          0.2797567332754127
         ]
        },
        {
         "name": "2016",
         "type": "bar",
         "uid": "731f73af-3e0a-449e-a4bc-d8f0d40e7a59",
         "x": [
          "HARRISON",
          "PINE",
          "ELIZABETH TOWNSHIP",
          "ROSS",
          "RICHLAND",
          "SCOTT",
          "HOMESTEAD",
          "BRADDOCK",
          "RANKIN",
          "EAST PITTSBURGH",
          "MCKEESPORT",
          "MCKEES ROCKS",
          "HARMAR",
          "PITCAIRN",
          "WILMERDING",
          "ROBINSON",
          "DUQUESNE",
          "NORTH BRADDOCK",
          "WEST HOMESTEAD",
          "FRAZER"
         ],
         "y": [
          1.9910179640718564,
          1.3337819650067295,
          0.9986595174262735,
          0.8250910983862572,
          0.792273590880304,
          0.6071876305892185,
          0.5306507387613958,
          0.49882573978393613,
          0.414985590778098,
          0.3568232662192394,
          0.3439516753575301,
          0.3409015025041736,
          0.33617579534273534,
          0.3354998452491489,
          0.3009799346710219,
          0.2958071547634312,
          0.29411764705882354,
          0.28547439126784213,
          0.2777777777777778,
          0.27169149868536374
         ]
        },
        {
         "name": "2017",
         "type": "bar",
         "uid": "9ba5f8e6-5647-45ed-af26-c1ec98bdf0e7",
         "x": [
          "HARRISON",
          "PINE",
          "ELIZABETH TOWNSHIP",
          "ROSS",
          "RICHLAND",
          "SCOTT",
          "BRADDOCK",
          "HOMESTEAD",
          "EAST PITTSBURGH",
          "RANKIN",
          "HARMAR",
          "MCKEESPORT",
          "MCKEES ROCKS",
          "NORTH BRADDOCK",
          "ROBINSON",
          "WEST HOMESTEAD",
          "WILMERDING",
          "DUQUESNE",
          "FRAZER",
          "PITCAIRN"
         ],
         "y": [
          1.9909456740442657,
          1.4742547425474255,
          1.0715249662618083,
          0.807235142118863,
          0.7910915934755333,
          0.6173512154233026,
          0.5141776937618148,
          0.4721695129664769,
          0.4461971830985916,
          0.3638122883405902,
          0.3590759075907591,
          0.3547414912964406,
          0.3448739495798319,
          0.305854998943141,
          0.29214929214929214,
          0.2811181434599156,
          0.26572769953051645,
          0.26284478096268254,
          0.2621359223300971,
          0.009348706762231224
         ]
        },
        {
         "name": "2018",
         "type": "bar",
         "uid": "970da8a9-c665-4e35-967d-0dc3a6f0cfeb",
         "x": [
          "HARRISON",
          "PINE",
          "ELIZABETH TOWNSHIP",
          "RICHLAND",
          "ROSS",
          "SCOTT",
          "HOMESTEAD",
          "BRADDOCK",
          "EAST PITTSBURGH",
          "MCKEESPORT",
          "RANKIN",
          "MCKEES ROCKS",
          "HARMAR",
          "NORTH BRADDOCK",
          "ROBINSON",
          "DUQUESNE",
          "WEST HOMESTEAD",
          "FRAZER",
          "WILMERDING",
          "PITCAIRN"
         ],
         "y": [
          1.9356136820925554,
          1.443089430894309,
          1.1241565452091768,
          0.8889585947302384,
          0.8403100775193798,
          0.6634534786253143,
          0.47975964579380137,
          0.45368620037807184,
          0.4298591549295775,
          0.3635749545336451,
          0.34929850024189646,
          0.3480672268907563,
          0.3475247524752475,
          0.3358697949693511,
          0.3245817245817246,
          0.2877230935640887,
          0.27637130801687765,
          0.26919682259488087,
          0.26854460093896715,
          0.016516048613275165
         ]
        }
       ],
       "layout": {
        "title": {
         "text": "Top Twenty Cities with the highest Call per Population Ratio"
        },
        "xaxis": {
         "automargin": true,
         "title": {
          "text": "CITY_NAME"
         }
        },
        "yaxis": {
         "title": {
          "text": "CALL PER CITY POPULATION"
         }
        }
       }
      },
      "text/html": [
       "<div id=\"0d9801ee-13be-4f98-831f-4bb364db8029\" style=\"height: 525px; width: 100%;\" class=\"plotly-graph-div\"></div><script type=\"text/javascript\">require([\"plotly\"], function(Plotly) { window.PLOTLYENV=window.PLOTLYENV || {};window.PLOTLYENV.BASE_URL=\"https://plot.ly\";Plotly.newPlot(\"0d9801ee-13be-4f98-831f-4bb364db8029\", [{\"name\": \"2015\", \"x\": [\"HARRISON\", \"PINE\", \"ELIZABETH TOWNSHIP\", \"RICHLAND\", \"ROSS\", \"SCOTT\", \"HOMESTEAD\", \"BRADDOCK\", \"RANKIN\", \"EAST PITTSBURGH\", \"MCKEESPORT\", \"HARMAR\", \"WEST HOMESTEAD\", \"WILMERDING\", \"PITCAIRN\", \"MCKEES ROCKS\", \"ROBINSON\", \"DUQUESNE\", \"NORTH BRADDOCK\", \"FRAZER\"], \"y\": [1.8031651829871413, 1.396505376344086, 1.09375, 0.8915124441608169, 0.8139937651541392, 0.5946058091286307, 0.545076726342711, 0.4985941893158388, 0.4206008583690987, 0.37, 0.34558408939463836, 0.32920872679908825, 0.31910463300364394, 0.31574074074074077, 0.30783410138248846, 0.3055371352785146, 0.2972592213114754, 0.29626959812578846, 0.28583333333333333, 0.2797567332754127], \"type\": \"bar\", \"uid\": \"f7f8da4d-8b72-46f8-9ddf-688e22f13a22\"}, {\"name\": \"2016\", \"x\": [\"HARRISON\", \"PINE\", \"ELIZABETH TOWNSHIP\", \"ROSS\", \"RICHLAND\", \"SCOTT\", \"HOMESTEAD\", \"BRADDOCK\", \"RANKIN\", \"EAST PITTSBURGH\", \"MCKEESPORT\", \"MCKEES ROCKS\", \"HARMAR\", \"PITCAIRN\", \"WILMERDING\", \"ROBINSON\", \"DUQUESNE\", \"NORTH BRADDOCK\", \"WEST HOMESTEAD\", \"FRAZER\"], \"y\": [1.9910179640718564, 1.3337819650067295, 0.9986595174262735, 0.8250910983862572, 0.792273590880304, 0.6071876305892185, 0.5306507387613958, 0.49882573978393613, 0.414985590778098, 0.3568232662192394, 0.3439516753575301, 0.3409015025041736, 0.33617579534273534, 0.3354998452491489, 0.3009799346710219, 0.2958071547634312, 0.29411764705882354, 0.28547439126784213, 0.2777777777777778, 0.27169149868536374], \"type\": \"bar\", \"uid\": \"731f73af-3e0a-449e-a4bc-d8f0d40e7a59\"}, {\"name\": \"2017\", \"x\": [\"HARRISON\", \"PINE\", \"ELIZABETH TOWNSHIP\", \"ROSS\", \"RICHLAND\", \"SCOTT\", \"BRADDOCK\", \"HOMESTEAD\", \"EAST PITTSBURGH\", \"RANKIN\", \"HARMAR\", \"MCKEESPORT\", \"MCKEES ROCKS\", \"NORTH BRADDOCK\", \"ROBINSON\", \"WEST HOMESTEAD\", \"WILMERDING\", \"DUQUESNE\", \"FRAZER\", \"PITCAIRN\"], \"y\": [1.9909456740442657, 1.4742547425474255, 1.0715249662618083, 0.807235142118863, 0.7910915934755333, 0.6173512154233026, 0.5141776937618148, 0.4721695129664769, 0.4461971830985916, 0.3638122883405902, 0.3590759075907591, 0.3547414912964406, 0.3448739495798319, 0.305854998943141, 0.29214929214929214, 0.2811181434599156, 0.26572769953051645, 0.26284478096268254, 0.2621359223300971, 0.009348706762231224], \"type\": \"bar\", \"uid\": \"9ba5f8e6-5647-45ed-af26-c1ec98bdf0e7\"}, {\"name\": \"2018\", \"x\": [\"HARRISON\", \"PINE\", \"ELIZABETH TOWNSHIP\", \"RICHLAND\", \"ROSS\", \"SCOTT\", \"HOMESTEAD\", \"BRADDOCK\", \"EAST PITTSBURGH\", \"MCKEESPORT\", \"RANKIN\", \"MCKEES ROCKS\", \"HARMAR\", \"NORTH BRADDOCK\", \"ROBINSON\", \"DUQUESNE\", \"WEST HOMESTEAD\", \"FRAZER\", \"WILMERDING\", \"PITCAIRN\"], \"y\": [1.9356136820925554, 1.443089430894309, 1.1241565452091768, 0.8889585947302384, 0.8403100775193798, 0.6634534786253143, 0.47975964579380137, 0.45368620037807184, 0.4298591549295775, 0.3635749545336451, 0.34929850024189646, 0.3480672268907563, 0.3475247524752475, 0.3358697949693511, 0.3245817245817246, 0.2877230935640887, 0.27637130801687765, 0.26919682259488087, 0.26854460093896715, 0.016516048613275165], \"type\": \"bar\", \"uid\": \"970da8a9-c665-4e35-967d-0dc3a6f0cfeb\"}], {\"title\": {\"text\": \"Top Twenty Cities with the highest Call per Population Ratio\"}, \"xaxis\": {\"title\": {\"text\": \"CITY_NAME\"}, \"automargin\": true}, \"yaxis\": {\"title\": {\"text\": \"CALL PER CITY POPULATION\"}}}, {\"showLink\": false, \"linkText\": \"Export to plot.ly\", \"plotlyServerURL\": \"https://plot.ly\"})});</script><script type=\"text/javascript\">window.addEventListener(\"resize\", function(){window._Plotly.Plots.resize(document.getElementById(\"0d9801ee-13be-4f98-831f-4bb364db8029\"));});</script>"
      ],
      "text/vnd.plotly.v1+html": [
       "<div id=\"0d9801ee-13be-4f98-831f-4bb364db8029\" style=\"height: 525px; width: 100%;\" class=\"plotly-graph-div\"></div><script type=\"text/javascript\">require([\"plotly\"], function(Plotly) { window.PLOTLYENV=window.PLOTLYENV || {};window.PLOTLYENV.BASE_URL=\"https://plot.ly\";Plotly.newPlot(\"0d9801ee-13be-4f98-831f-4bb364db8029\", [{\"name\": \"2015\", \"x\": [\"HARRISON\", \"PINE\", \"ELIZABETH TOWNSHIP\", \"RICHLAND\", \"ROSS\", \"SCOTT\", \"HOMESTEAD\", \"BRADDOCK\", \"RANKIN\", \"EAST PITTSBURGH\", \"MCKEESPORT\", \"HARMAR\", \"WEST HOMESTEAD\", \"WILMERDING\", \"PITCAIRN\", \"MCKEES ROCKS\", \"ROBINSON\", \"DUQUESNE\", \"NORTH BRADDOCK\", \"FRAZER\"], \"y\": [1.8031651829871413, 1.396505376344086, 1.09375, 0.8915124441608169, 0.8139937651541392, 0.5946058091286307, 0.545076726342711, 0.4985941893158388, 0.4206008583690987, 0.37, 0.34558408939463836, 0.32920872679908825, 0.31910463300364394, 0.31574074074074077, 0.30783410138248846, 0.3055371352785146, 0.2972592213114754, 0.29626959812578846, 0.28583333333333333, 0.2797567332754127], \"type\": \"bar\", \"uid\": \"f7f8da4d-8b72-46f8-9ddf-688e22f13a22\"}, {\"name\": \"2016\", \"x\": [\"HARRISON\", \"PINE\", \"ELIZABETH TOWNSHIP\", \"ROSS\", \"RICHLAND\", \"SCOTT\", \"HOMESTEAD\", \"BRADDOCK\", \"RANKIN\", \"EAST PITTSBURGH\", \"MCKEESPORT\", \"MCKEES ROCKS\", \"HARMAR\", \"PITCAIRN\", \"WILMERDING\", \"ROBINSON\", \"DUQUESNE\", \"NORTH BRADDOCK\", \"WEST HOMESTEAD\", \"FRAZER\"], \"y\": [1.9910179640718564, 1.3337819650067295, 0.9986595174262735, 0.8250910983862572, 0.792273590880304, 0.6071876305892185, 0.5306507387613958, 0.49882573978393613, 0.414985590778098, 0.3568232662192394, 0.3439516753575301, 0.3409015025041736, 0.33617579534273534, 0.3354998452491489, 0.3009799346710219, 0.2958071547634312, 0.29411764705882354, 0.28547439126784213, 0.2777777777777778, 0.27169149868536374], \"type\": \"bar\", \"uid\": \"731f73af-3e0a-449e-a4bc-d8f0d40e7a59\"}, {\"name\": \"2017\", \"x\": [\"HARRISON\", \"PINE\", \"ELIZABETH TOWNSHIP\", \"ROSS\", \"RICHLAND\", \"SCOTT\", \"BRADDOCK\", \"HOMESTEAD\", \"EAST PITTSBURGH\", \"RANKIN\", \"HARMAR\", \"MCKEESPORT\", \"MCKEES ROCKS\", \"NORTH BRADDOCK\", \"ROBINSON\", \"WEST HOMESTEAD\", \"WILMERDING\", \"DUQUESNE\", \"FRAZER\", \"PITCAIRN\"], \"y\": [1.9909456740442657, 1.4742547425474255, 1.0715249662618083, 0.807235142118863, 0.7910915934755333, 0.6173512154233026, 0.5141776937618148, 0.4721695129664769, 0.4461971830985916, 0.3638122883405902, 0.3590759075907591, 0.3547414912964406, 0.3448739495798319, 0.305854998943141, 0.29214929214929214, 0.2811181434599156, 0.26572769953051645, 0.26284478096268254, 0.2621359223300971, 0.009348706762231224], \"type\": \"bar\", \"uid\": \"9ba5f8e6-5647-45ed-af26-c1ec98bdf0e7\"}, {\"name\": \"2018\", \"x\": [\"HARRISON\", \"PINE\", \"ELIZABETH TOWNSHIP\", \"RICHLAND\", \"ROSS\", \"SCOTT\", \"HOMESTEAD\", \"BRADDOCK\", \"EAST PITTSBURGH\", \"MCKEESPORT\", \"RANKIN\", \"MCKEES ROCKS\", \"HARMAR\", \"NORTH BRADDOCK\", \"ROBINSON\", \"DUQUESNE\", \"WEST HOMESTEAD\", \"FRAZER\", \"WILMERDING\", \"PITCAIRN\"], \"y\": [1.9356136820925554, 1.443089430894309, 1.1241565452091768, 0.8889585947302384, 0.8403100775193798, 0.6634534786253143, 0.47975964579380137, 0.45368620037807184, 0.4298591549295775, 0.3635749545336451, 0.34929850024189646, 0.3480672268907563, 0.3475247524752475, 0.3358697949693511, 0.3245817245817246, 0.2877230935640887, 0.27637130801687765, 0.26919682259488087, 0.26854460093896715, 0.016516048613275165], \"type\": \"bar\", \"uid\": \"970da8a9-c665-4e35-967d-0dc3a6f0cfeb\"}], {\"title\": {\"text\": \"Top Twenty Cities with the highest Call per Population Ratio\"}, \"xaxis\": {\"title\": {\"text\": \"CITY_NAME\"}, \"automargin\": true}, \"yaxis\": {\"title\": {\"text\": \"CALL PER CITY POPULATION\"}}}, {\"showLink\": false, \"linkText\": \"Export to plot.ly\", \"plotlyServerURL\": \"https://plot.ly\"})});</script><script type=\"text/javascript\">window.addEventListener(\"resize\", function(){window._Plotly.Plots.resize(document.getElementById(\"0d9801ee-13be-4f98-831f-4bb364db8029\"));});</script>"
      ]
     },
     "metadata": {},
     "output_type": "display_data"
    }
   ],
   "source": [
    "def generate_labels(title,xlabel,ylabel):    \n",
    "    layout = go.Layout(title= title,\n",
    "                       xaxis=dict(title=xlabel, automargin=True),\n",
    "                       yaxis=dict(title=ylabel))\n",
    "    return {'layout':layout}\n",
    "\n",
    "title = ('Top Twenty Cities with the highest Call per '\n",
    "         'Population Ratio')\n",
    "xlabel = 'CITY_NAME'\n",
    "ylabel = 'CALL PER CITY POPULATION'\n",
    "fig = bar_plot(Top_20_df)\n",
    "fig.update(generate_labels(title,xlabel,ylabel))\n",
    "iplot(fig)"
   ]
  },
  {
   "cell_type": "code",
   "execution_count": 93,
   "metadata": {
    "ExecuteTime": {
     "end_time": "2019-02-18T04:22:23.359990Z",
     "start_time": "2019-02-18T04:22:23.263410Z"
    }
   },
   "outputs": [
    {
     "data": {
      "application/vnd.plotly.v1+json": {
       "config": {
        "linkText": "Export to plot.ly",
        "plotlyServerURL": "https://plot.ly",
        "showLink": false
       },
       "data": [
        {
         "name": "2015",
         "type": "bar",
         "uid": "73b96784-eb25-4a40-9731-22fdac9c9e32",
         "x": [
          "HARRISON",
          "PINE",
          "ELIZABETH TOWNSHIP",
          "RICHLAND",
          "ROSS",
          "SCOTT",
          "HOMESTEAD",
          "BRADDOCK",
          "RANKIN",
          "EAST PITTSBURGH",
          "MCKEESPORT",
          "HARMAR",
          "WEST HOMESTEAD",
          "WILMERDING",
          "PITCAIRN",
          "MCKEES ROCKS",
          "ROBINSON",
          "DUQUESNE",
          "NORTH BRADDOCK",
          "FRAZER"
         ],
         "y": [
          1823,
          1039,
          1645,
          1397,
          4700,
          2866,
          1705,
          1064,
          882,
          666,
          6742,
          1011,
          613,
          682,
          1002,
          1843,
          2321,
          1644,
          1372,
          322
         ]
        },
        {
         "name": "2016",
         "type": "bar",
         "uid": "b3274220-e6af-4d6b-b306-0d6ddcbe0365",
         "x": [
          "HARRISON",
          "PINE",
          "ELIZABETH TOWNSHIP",
          "ROSS",
          "RICHLAND",
          "SCOTT",
          "HOMESTEAD",
          "BRADDOCK",
          "RANKIN",
          "EAST PITTSBURGH",
          "MCKEESPORT",
          "MCKEES ROCKS",
          "HARMAR",
          "PITCAIRN",
          "WILMERDING",
          "ROBINSON",
          "DUQUESNE",
          "NORTH BRADDOCK",
          "WEST HOMESTEAD",
          "FRAZER"
         ],
         "y": [
          1995,
          991,
          1490,
          4755,
          1251,
          2906,
          1688,
          1062,
          864,
          638,
          6662,
          2042,
          1025,
          1084,
          645,
          2307,
          1630,
          1360,
          530,
          310
         ]
        },
        {
         "name": "2017",
         "type": "bar",
         "uid": "69c5c818-7b50-4439-a506-b943f979d211",
         "x": [
          "HARRISON",
          "PINE",
          "ELIZABETH TOWNSHIP",
          "ROSS",
          "RICHLAND",
          "SCOTT",
          "BRADDOCK",
          "HOMESTEAD",
          "EAST PITTSBURGH",
          "RANKIN",
          "HARMAR",
          "MCKEESPORT",
          "MCKEES ROCKS",
          "NORTH BRADDOCK",
          "ROBINSON",
          "WEST HOMESTEAD",
          "WILMERDING",
          "DUQUESNE",
          "FRAZER",
          "PITCAIRN"
         ],
         "y": [
          1979,
          1088,
          1588,
          4686,
          1261,
          2946,
          1088,
          1493,
          792,
          752,
          1088,
          6827,
          2052,
          1447,
          2270,
          533,
          566,
          1458,
          297,
          30
         ]
        },
        {
         "name": "2018",
         "type": "bar",
         "uid": "114ab588-d246-4922-b63b-f9be70f4658f",
         "x": [
          "HARRISON",
          "PINE",
          "ELIZABETH TOWNSHIP",
          "RICHLAND",
          "ROSS",
          "SCOTT",
          "HOMESTEAD",
          "BRADDOCK",
          "EAST PITTSBURGH",
          "MCKEESPORT",
          "RANKIN",
          "MCKEES ROCKS",
          "HARMAR",
          "NORTH BRADDOCK",
          "ROBINSON",
          "DUQUESNE",
          "WEST HOMESTEAD",
          "FRAZER",
          "WILMERDING",
          "PITCAIRN"
         ],
         "y": [
          1924,
          1065,
          1666,
          1417,
          4878,
          3166,
          1517,
          960,
          763,
          6997,
          722,
          2071,
          1053,
          1589,
          2522,
          1596,
          524,
          305,
          572,
          53
         ]
        }
       ],
       "layout": {
        "title": {
         "text": "Top Twenty Cities with the highest Call per Population Ratio"
        },
        "xaxis": {
         "automargin": true,
         "title": {
          "text": "CITY_NAME"
         }
        },
        "yaxis": {
         "title": {
          "text": "NO. OF CALLS"
         }
        }
       }
      },
      "text/html": [
       "<div id=\"b0a5650b-5686-4997-b765-b894dd7c12b8\" style=\"height: 525px; width: 100%;\" class=\"plotly-graph-div\"></div><script type=\"text/javascript\">require([\"plotly\"], function(Plotly) { window.PLOTLYENV=window.PLOTLYENV || {};window.PLOTLYENV.BASE_URL=\"https://plot.ly\";Plotly.newPlot(\"b0a5650b-5686-4997-b765-b894dd7c12b8\", [{\"name\": \"2015\", \"x\": [\"HARRISON\", \"PINE\", \"ELIZABETH TOWNSHIP\", \"RICHLAND\", \"ROSS\", \"SCOTT\", \"HOMESTEAD\", \"BRADDOCK\", \"RANKIN\", \"EAST PITTSBURGH\", \"MCKEESPORT\", \"HARMAR\", \"WEST HOMESTEAD\", \"WILMERDING\", \"PITCAIRN\", \"MCKEES ROCKS\", \"ROBINSON\", \"DUQUESNE\", \"NORTH BRADDOCK\", \"FRAZER\"], \"y\": [1823, 1039, 1645, 1397, 4700, 2866, 1705, 1064, 882, 666, 6742, 1011, 613, 682, 1002, 1843, 2321, 1644, 1372, 322], \"type\": \"bar\", \"uid\": \"73b96784-eb25-4a40-9731-22fdac9c9e32\"}, {\"name\": \"2016\", \"x\": [\"HARRISON\", \"PINE\", \"ELIZABETH TOWNSHIP\", \"ROSS\", \"RICHLAND\", \"SCOTT\", \"HOMESTEAD\", \"BRADDOCK\", \"RANKIN\", \"EAST PITTSBURGH\", \"MCKEESPORT\", \"MCKEES ROCKS\", \"HARMAR\", \"PITCAIRN\", \"WILMERDING\", \"ROBINSON\", \"DUQUESNE\", \"NORTH BRADDOCK\", \"WEST HOMESTEAD\", \"FRAZER\"], \"y\": [1995, 991, 1490, 4755, 1251, 2906, 1688, 1062, 864, 638, 6662, 2042, 1025, 1084, 645, 2307, 1630, 1360, 530, 310], \"type\": \"bar\", \"uid\": \"b3274220-e6af-4d6b-b306-0d6ddcbe0365\"}, {\"name\": \"2017\", \"x\": [\"HARRISON\", \"PINE\", \"ELIZABETH TOWNSHIP\", \"ROSS\", \"RICHLAND\", \"SCOTT\", \"BRADDOCK\", \"HOMESTEAD\", \"EAST PITTSBURGH\", \"RANKIN\", \"HARMAR\", \"MCKEESPORT\", \"MCKEES ROCKS\", \"NORTH BRADDOCK\", \"ROBINSON\", \"WEST HOMESTEAD\", \"WILMERDING\", \"DUQUESNE\", \"FRAZER\", \"PITCAIRN\"], \"y\": [1979, 1088, 1588, 4686, 1261, 2946, 1088, 1493, 792, 752, 1088, 6827, 2052, 1447, 2270, 533, 566, 1458, 297, 30], \"type\": \"bar\", \"uid\": \"69c5c818-7b50-4439-a506-b943f979d211\"}, {\"name\": \"2018\", \"x\": [\"HARRISON\", \"PINE\", \"ELIZABETH TOWNSHIP\", \"RICHLAND\", \"ROSS\", \"SCOTT\", \"HOMESTEAD\", \"BRADDOCK\", \"EAST PITTSBURGH\", \"MCKEESPORT\", \"RANKIN\", \"MCKEES ROCKS\", \"HARMAR\", \"NORTH BRADDOCK\", \"ROBINSON\", \"DUQUESNE\", \"WEST HOMESTEAD\", \"FRAZER\", \"WILMERDING\", \"PITCAIRN\"], \"y\": [1924, 1065, 1666, 1417, 4878, 3166, 1517, 960, 763, 6997, 722, 2071, 1053, 1589, 2522, 1596, 524, 305, 572, 53], \"type\": \"bar\", \"uid\": \"114ab588-d246-4922-b63b-f9be70f4658f\"}], {\"title\": {\"text\": \"Top Twenty Cities with the highest Call per Population Ratio\"}, \"xaxis\": {\"title\": {\"text\": \"CITY_NAME\"}, \"automargin\": true}, \"yaxis\": {\"title\": {\"text\": \"NO. OF CALLS\"}}}, {\"showLink\": false, \"linkText\": \"Export to plot.ly\", \"plotlyServerURL\": \"https://plot.ly\"})});</script><script type=\"text/javascript\">window.addEventListener(\"resize\", function(){window._Plotly.Plots.resize(document.getElementById(\"b0a5650b-5686-4997-b765-b894dd7c12b8\"));});</script>"
      ],
      "text/vnd.plotly.v1+html": [
       "<div id=\"b0a5650b-5686-4997-b765-b894dd7c12b8\" style=\"height: 525px; width: 100%;\" class=\"plotly-graph-div\"></div><script type=\"text/javascript\">require([\"plotly\"], function(Plotly) { window.PLOTLYENV=window.PLOTLYENV || {};window.PLOTLYENV.BASE_URL=\"https://plot.ly\";Plotly.newPlot(\"b0a5650b-5686-4997-b765-b894dd7c12b8\", [{\"name\": \"2015\", \"x\": [\"HARRISON\", \"PINE\", \"ELIZABETH TOWNSHIP\", \"RICHLAND\", \"ROSS\", \"SCOTT\", \"HOMESTEAD\", \"BRADDOCK\", \"RANKIN\", \"EAST PITTSBURGH\", \"MCKEESPORT\", \"HARMAR\", \"WEST HOMESTEAD\", \"WILMERDING\", \"PITCAIRN\", \"MCKEES ROCKS\", \"ROBINSON\", \"DUQUESNE\", \"NORTH BRADDOCK\", \"FRAZER\"], \"y\": [1823, 1039, 1645, 1397, 4700, 2866, 1705, 1064, 882, 666, 6742, 1011, 613, 682, 1002, 1843, 2321, 1644, 1372, 322], \"type\": \"bar\", \"uid\": \"73b96784-eb25-4a40-9731-22fdac9c9e32\"}, {\"name\": \"2016\", \"x\": [\"HARRISON\", \"PINE\", \"ELIZABETH TOWNSHIP\", \"ROSS\", \"RICHLAND\", \"SCOTT\", \"HOMESTEAD\", \"BRADDOCK\", \"RANKIN\", \"EAST PITTSBURGH\", \"MCKEESPORT\", \"MCKEES ROCKS\", \"HARMAR\", \"PITCAIRN\", \"WILMERDING\", \"ROBINSON\", \"DUQUESNE\", \"NORTH BRADDOCK\", \"WEST HOMESTEAD\", \"FRAZER\"], \"y\": [1995, 991, 1490, 4755, 1251, 2906, 1688, 1062, 864, 638, 6662, 2042, 1025, 1084, 645, 2307, 1630, 1360, 530, 310], \"type\": \"bar\", \"uid\": \"b3274220-e6af-4d6b-b306-0d6ddcbe0365\"}, {\"name\": \"2017\", \"x\": [\"HARRISON\", \"PINE\", \"ELIZABETH TOWNSHIP\", \"ROSS\", \"RICHLAND\", \"SCOTT\", \"BRADDOCK\", \"HOMESTEAD\", \"EAST PITTSBURGH\", \"RANKIN\", \"HARMAR\", \"MCKEESPORT\", \"MCKEES ROCKS\", \"NORTH BRADDOCK\", \"ROBINSON\", \"WEST HOMESTEAD\", \"WILMERDING\", \"DUQUESNE\", \"FRAZER\", \"PITCAIRN\"], \"y\": [1979, 1088, 1588, 4686, 1261, 2946, 1088, 1493, 792, 752, 1088, 6827, 2052, 1447, 2270, 533, 566, 1458, 297, 30], \"type\": \"bar\", \"uid\": \"69c5c818-7b50-4439-a506-b943f979d211\"}, {\"name\": \"2018\", \"x\": [\"HARRISON\", \"PINE\", \"ELIZABETH TOWNSHIP\", \"RICHLAND\", \"ROSS\", \"SCOTT\", \"HOMESTEAD\", \"BRADDOCK\", \"EAST PITTSBURGH\", \"MCKEESPORT\", \"RANKIN\", \"MCKEES ROCKS\", \"HARMAR\", \"NORTH BRADDOCK\", \"ROBINSON\", \"DUQUESNE\", \"WEST HOMESTEAD\", \"FRAZER\", \"WILMERDING\", \"PITCAIRN\"], \"y\": [1924, 1065, 1666, 1417, 4878, 3166, 1517, 960, 763, 6997, 722, 2071, 1053, 1589, 2522, 1596, 524, 305, 572, 53], \"type\": \"bar\", \"uid\": \"114ab588-d246-4922-b63b-f9be70f4658f\"}], {\"title\": {\"text\": \"Top Twenty Cities with the highest Call per Population Ratio\"}, \"xaxis\": {\"title\": {\"text\": \"CITY_NAME\"}, \"automargin\": true}, \"yaxis\": {\"title\": {\"text\": \"NO. OF CALLS\"}}}, {\"showLink\": false, \"linkText\": \"Export to plot.ly\", \"plotlyServerURL\": \"https://plot.ly\"})});</script><script type=\"text/javascript\">window.addEventListener(\"resize\", function(){window._Plotly.Plots.resize(document.getElementById(\"b0a5650b-5686-4997-b765-b894dd7c12b8\"));});</script>"
      ]
     },
     "metadata": {},
     "output_type": "display_data"
    }
   ],
   "source": [
    "fig = bar_plot(Top_20_df,y='NO. OF CALLS')\n",
    "fig.update(generate_labels(title,xlabel,ylabel='NO. OF CALLS'))\n",
    "iplot(fig)"
   ]
  },
  {
   "cell_type": "code",
   "execution_count": 94,
   "metadata": {
    "ExecuteTime": {
     "end_time": "2019-02-18T04:23:26.455305Z",
     "start_time": "2019-02-18T04:23:26.332719Z"
    }
   },
   "outputs": [
    {
     "data": {
      "application/vnd.plotly.v1+json": {
       "config": {
        "linkText": "Export to plot.ly",
        "plotlyServerURL": "https://plot.ly",
        "showLink": false
       },
       "data": [
        {
         "name": "2015",
         "type": "bar",
         "uid": "e8b771d8-4070-464d-a80a-707732302665",
         "x": [
          "HARRISON",
          "PINE",
          "ELIZABETH TOWNSHIP",
          "RICHLAND",
          "ROSS",
          "SCOTT",
          "HOMESTEAD",
          "BRADDOCK",
          "RANKIN",
          "EAST PITTSBURGH",
          "MCKEESPORT",
          "HARMAR",
          "WEST HOMESTEAD",
          "WILMERDING",
          "PITCAIRN",
          "MCKEES ROCKS",
          "ROBINSON",
          "DUQUESNE",
          "NORTH BRADDOCK",
          "FRAZER"
         ],
         "y": [
          1011,
          744,
          1504,
          1567,
          5774,
          4820,
          3128,
          2134,
          2097,
          1800,
          19509,
          3071,
          1921,
          2160,
          3255,
          6032,
          7808,
          5549,
          4800,
          1151
         ]
        },
        {
         "name": "2016",
         "type": "bar",
         "uid": "64710c1d-9887-47ab-9eac-83d2ba2393d4",
         "x": [
          "HARRISON",
          "PINE",
          "ELIZABETH TOWNSHIP",
          "ROSS",
          "RICHLAND",
          "SCOTT",
          "HOMESTEAD",
          "BRADDOCK",
          "RANKIN",
          "EAST PITTSBURGH",
          "MCKEESPORT",
          "MCKEES ROCKS",
          "HARMAR",
          "PITCAIRN",
          "WILMERDING",
          "ROBINSON",
          "DUQUESNE",
          "NORTH BRADDOCK",
          "WEST HOMESTEAD",
          "FRAZER"
         ],
         "y": [
          1002,
          743,
          1492,
          5763,
          1579,
          4786,
          3181,
          2129,
          2082,
          1788,
          19369,
          5990,
          3049,
          3231,
          2143,
          7799,
          5542,
          4764,
          1908,
          1141
         ]
        },
        {
         "name": "2017",
         "type": "bar",
         "uid": "51b1a614-2ef9-4a63-a88f-25b6ce22b3af",
         "x": [
          "HARRISON",
          "PINE",
          "ELIZABETH TOWNSHIP",
          "ROSS",
          "RICHLAND",
          "SCOTT",
          "BRADDOCK",
          "HOMESTEAD",
          "EAST PITTSBURGH",
          "RANKIN",
          "HARMAR",
          "MCKEESPORT",
          "MCKEES ROCKS",
          "NORTH BRADDOCK",
          "ROBINSON",
          "WEST HOMESTEAD",
          "WILMERDING",
          "DUQUESNE",
          "FRAZER",
          "PITCAIRN"
         ],
         "y": [
          994,
          738,
          1482,
          5805,
          1594,
          4772,
          2116,
          3162,
          1775,
          2067,
          3030,
          19245,
          5950,
          4731,
          7770,
          1896,
          2130,
          5547,
          1133,
          3209
         ]
        },
        {
         "name": "2018",
         "type": "bar",
         "uid": "41ba1ecc-7625-4aad-9a51-15513e460b3a",
         "x": [
          "HARRISON",
          "PINE",
          "ELIZABETH TOWNSHIP",
          "RICHLAND",
          "ROSS",
          "SCOTT",
          "HOMESTEAD",
          "BRADDOCK",
          "EAST PITTSBURGH",
          "MCKEESPORT",
          "RANKIN",
          "MCKEES ROCKS",
          "HARMAR",
          "NORTH BRADDOCK",
          "ROBINSON",
          "DUQUESNE",
          "WEST HOMESTEAD",
          "FRAZER",
          "WILMERDING",
          "PITCAIRN"
         ],
         "y": [
          994,
          738,
          1482,
          1594,
          5805,
          4772,
          3162,
          2116,
          1775,
          19245,
          2067,
          5950,
          3030,
          4731,
          7770,
          5547,
          1896,
          1133,
          2130,
          3209
         ]
        }
       ],
       "layout": {
        "title": {
         "text": "Top Twenty Cities with the highest Call per Population Ratio"
        },
        "xaxis": {
         "automargin": true,
         "title": {
          "text": "CITY_NAME"
         }
        },
        "yaxis": {
         "title": {
          "text": "POPULATION"
         }
        }
       }
      },
      "text/html": [
       "<div id=\"853dd283-bba1-4da0-9aaa-c2fdc23769b3\" style=\"height: 525px; width: 100%;\" class=\"plotly-graph-div\"></div><script type=\"text/javascript\">require([\"plotly\"], function(Plotly) { window.PLOTLYENV=window.PLOTLYENV || {};window.PLOTLYENV.BASE_URL=\"https://plot.ly\";Plotly.newPlot(\"853dd283-bba1-4da0-9aaa-c2fdc23769b3\", [{\"name\": \"2015\", \"x\": [\"HARRISON\", \"PINE\", \"ELIZABETH TOWNSHIP\", \"RICHLAND\", \"ROSS\", \"SCOTT\", \"HOMESTEAD\", \"BRADDOCK\", \"RANKIN\", \"EAST PITTSBURGH\", \"MCKEESPORT\", \"HARMAR\", \"WEST HOMESTEAD\", \"WILMERDING\", \"PITCAIRN\", \"MCKEES ROCKS\", \"ROBINSON\", \"DUQUESNE\", \"NORTH BRADDOCK\", \"FRAZER\"], \"y\": [1011, 744, 1504, 1567, 5774, 4820, 3128, 2134, 2097, 1800, 19509, 3071, 1921, 2160, 3255, 6032, 7808, 5549, 4800, 1151], \"type\": \"bar\", \"uid\": \"e8b771d8-4070-464d-a80a-707732302665\"}, {\"name\": \"2016\", \"x\": [\"HARRISON\", \"PINE\", \"ELIZABETH TOWNSHIP\", \"ROSS\", \"RICHLAND\", \"SCOTT\", \"HOMESTEAD\", \"BRADDOCK\", \"RANKIN\", \"EAST PITTSBURGH\", \"MCKEESPORT\", \"MCKEES ROCKS\", \"HARMAR\", \"PITCAIRN\", \"WILMERDING\", \"ROBINSON\", \"DUQUESNE\", \"NORTH BRADDOCK\", \"WEST HOMESTEAD\", \"FRAZER\"], \"y\": [1002, 743, 1492, 5763, 1579, 4786, 3181, 2129, 2082, 1788, 19369, 5990, 3049, 3231, 2143, 7799, 5542, 4764, 1908, 1141], \"type\": \"bar\", \"uid\": \"64710c1d-9887-47ab-9eac-83d2ba2393d4\"}, {\"name\": \"2017\", \"x\": [\"HARRISON\", \"PINE\", \"ELIZABETH TOWNSHIP\", \"ROSS\", \"RICHLAND\", \"SCOTT\", \"BRADDOCK\", \"HOMESTEAD\", \"EAST PITTSBURGH\", \"RANKIN\", \"HARMAR\", \"MCKEESPORT\", \"MCKEES ROCKS\", \"NORTH BRADDOCK\", \"ROBINSON\", \"WEST HOMESTEAD\", \"WILMERDING\", \"DUQUESNE\", \"FRAZER\", \"PITCAIRN\"], \"y\": [994, 738, 1482, 5805, 1594, 4772, 2116, 3162, 1775, 2067, 3030, 19245, 5950, 4731, 7770, 1896, 2130, 5547, 1133, 3209], \"type\": \"bar\", \"uid\": \"51b1a614-2ef9-4a63-a88f-25b6ce22b3af\"}, {\"name\": \"2018\", \"x\": [\"HARRISON\", \"PINE\", \"ELIZABETH TOWNSHIP\", \"RICHLAND\", \"ROSS\", \"SCOTT\", \"HOMESTEAD\", \"BRADDOCK\", \"EAST PITTSBURGH\", \"MCKEESPORT\", \"RANKIN\", \"MCKEES ROCKS\", \"HARMAR\", \"NORTH BRADDOCK\", \"ROBINSON\", \"DUQUESNE\", \"WEST HOMESTEAD\", \"FRAZER\", \"WILMERDING\", \"PITCAIRN\"], \"y\": [994, 738, 1482, 1594, 5805, 4772, 3162, 2116, 1775, 19245, 2067, 5950, 3030, 4731, 7770, 5547, 1896, 1133, 2130, 3209], \"type\": \"bar\", \"uid\": \"41ba1ecc-7625-4aad-9a51-15513e460b3a\"}], {\"title\": {\"text\": \"Top Twenty Cities with the highest Call per Population Ratio\"}, \"xaxis\": {\"title\": {\"text\": \"CITY_NAME\"}, \"automargin\": true}, \"yaxis\": {\"title\": {\"text\": \"POPULATION\"}}}, {\"showLink\": false, \"linkText\": \"Export to plot.ly\", \"plotlyServerURL\": \"https://plot.ly\"})});</script><script type=\"text/javascript\">window.addEventListener(\"resize\", function(){window._Plotly.Plots.resize(document.getElementById(\"853dd283-bba1-4da0-9aaa-c2fdc23769b3\"));});</script>"
      ],
      "text/vnd.plotly.v1+html": [
       "<div id=\"853dd283-bba1-4da0-9aaa-c2fdc23769b3\" style=\"height: 525px; width: 100%;\" class=\"plotly-graph-div\"></div><script type=\"text/javascript\">require([\"plotly\"], function(Plotly) { window.PLOTLYENV=window.PLOTLYENV || {};window.PLOTLYENV.BASE_URL=\"https://plot.ly\";Plotly.newPlot(\"853dd283-bba1-4da0-9aaa-c2fdc23769b3\", [{\"name\": \"2015\", \"x\": [\"HARRISON\", \"PINE\", \"ELIZABETH TOWNSHIP\", \"RICHLAND\", \"ROSS\", \"SCOTT\", \"HOMESTEAD\", \"BRADDOCK\", \"RANKIN\", \"EAST PITTSBURGH\", \"MCKEESPORT\", \"HARMAR\", \"WEST HOMESTEAD\", \"WILMERDING\", \"PITCAIRN\", \"MCKEES ROCKS\", \"ROBINSON\", \"DUQUESNE\", \"NORTH BRADDOCK\", \"FRAZER\"], \"y\": [1011, 744, 1504, 1567, 5774, 4820, 3128, 2134, 2097, 1800, 19509, 3071, 1921, 2160, 3255, 6032, 7808, 5549, 4800, 1151], \"type\": \"bar\", \"uid\": \"e8b771d8-4070-464d-a80a-707732302665\"}, {\"name\": \"2016\", \"x\": [\"HARRISON\", \"PINE\", \"ELIZABETH TOWNSHIP\", \"ROSS\", \"RICHLAND\", \"SCOTT\", \"HOMESTEAD\", \"BRADDOCK\", \"RANKIN\", \"EAST PITTSBURGH\", \"MCKEESPORT\", \"MCKEES ROCKS\", \"HARMAR\", \"PITCAIRN\", \"WILMERDING\", \"ROBINSON\", \"DUQUESNE\", \"NORTH BRADDOCK\", \"WEST HOMESTEAD\", \"FRAZER\"], \"y\": [1002, 743, 1492, 5763, 1579, 4786, 3181, 2129, 2082, 1788, 19369, 5990, 3049, 3231, 2143, 7799, 5542, 4764, 1908, 1141], \"type\": \"bar\", \"uid\": \"64710c1d-9887-47ab-9eac-83d2ba2393d4\"}, {\"name\": \"2017\", \"x\": [\"HARRISON\", \"PINE\", \"ELIZABETH TOWNSHIP\", \"ROSS\", \"RICHLAND\", \"SCOTT\", \"BRADDOCK\", \"HOMESTEAD\", \"EAST PITTSBURGH\", \"RANKIN\", \"HARMAR\", \"MCKEESPORT\", \"MCKEES ROCKS\", \"NORTH BRADDOCK\", \"ROBINSON\", \"WEST HOMESTEAD\", \"WILMERDING\", \"DUQUESNE\", \"FRAZER\", \"PITCAIRN\"], \"y\": [994, 738, 1482, 5805, 1594, 4772, 2116, 3162, 1775, 2067, 3030, 19245, 5950, 4731, 7770, 1896, 2130, 5547, 1133, 3209], \"type\": \"bar\", \"uid\": \"51b1a614-2ef9-4a63-a88f-25b6ce22b3af\"}, {\"name\": \"2018\", \"x\": [\"HARRISON\", \"PINE\", \"ELIZABETH TOWNSHIP\", \"RICHLAND\", \"ROSS\", \"SCOTT\", \"HOMESTEAD\", \"BRADDOCK\", \"EAST PITTSBURGH\", \"MCKEESPORT\", \"RANKIN\", \"MCKEES ROCKS\", \"HARMAR\", \"NORTH BRADDOCK\", \"ROBINSON\", \"DUQUESNE\", \"WEST HOMESTEAD\", \"FRAZER\", \"WILMERDING\", \"PITCAIRN\"], \"y\": [994, 738, 1482, 1594, 5805, 4772, 3162, 2116, 1775, 19245, 2067, 5950, 3030, 4731, 7770, 5547, 1896, 1133, 2130, 3209], \"type\": \"bar\", \"uid\": \"41ba1ecc-7625-4aad-9a51-15513e460b3a\"}], {\"title\": {\"text\": \"Top Twenty Cities with the highest Call per Population Ratio\"}, \"xaxis\": {\"title\": {\"text\": \"CITY_NAME\"}, \"automargin\": true}, \"yaxis\": {\"title\": {\"text\": \"POPULATION\"}}}, {\"showLink\": false, \"linkText\": \"Export to plot.ly\", \"plotlyServerURL\": \"https://plot.ly\"})});</script><script type=\"text/javascript\">window.addEventListener(\"resize\", function(){window._Plotly.Plots.resize(document.getElementById(\"853dd283-bba1-4da0-9aaa-c2fdc23769b3\"));});</script>"
      ]
     },
     "metadata": {},
     "output_type": "display_data"
    }
   ],
   "source": [
    "fig = bar_plot(Top_20_df,y='POPULATION')\n",
    "fig.update(generate_labels(title,xlabel,ylabel='POPULATION'))\n",
    "iplot(fig)"
   ]
  },
  {
   "cell_type": "code",
   "execution_count": 95,
   "metadata": {
    "ExecuteTime": {
     "end_time": "2019-02-18T04:23:36.620828Z",
     "start_time": "2019-02-18T04:23:36.588666Z"
    }
   },
   "outputs": [],
   "source": [
    "Top_20_df_3000 = top_plot(call_per_city_2015, \n",
    "                          call_per_city_2016, \n",
    "                          call_per_city_2017,\n",
    "                          call_per_city_2018,\n",
    "                          top=34,pop_cutoff=3000)"
   ]
  },
  {
   "cell_type": "code",
   "execution_count": 100,
   "metadata": {
    "ExecuteTime": {
     "end_time": "2019-02-18T04:27:32.579704Z",
     "start_time": "2019-02-18T04:27:32.295377Z"
    }
   },
   "outputs": [
    {
     "data": {
      "application/vnd.plotly.v1+json": {
       "config": {
        "linkText": "Export to plot.ly",
        "plotlyServerURL": "https://plot.ly",
        "showLink": false
       },
       "data": [
        {
         "name": "2015",
         "type": "bar",
         "uid": "1f06dcde-a9d9-4b43-8b43-6602c99a415a",
         "x": [
          "ROSS",
          "SCOTT",
          "HOMESTEAD",
          "MCKEESPORT",
          "HARMAR",
          "PITCAIRN",
          "MCKEES ROCKS",
          "ROBINSON",
          "DUQUESNE",
          "NORTH BRADDOCK",
          "CLAIRTON",
          "MOUNT OLIVER",
          "WILKINSBURG",
          "MILLVALE",
          "TARENTUM",
          "CARNEGIE",
          "SHARPSBURG",
          "STOWE",
          "NORTH VERSAILLES",
          "GLASSPORT"
         ],
         "y": [
          0.8139937651541392,
          0.5946058091286307,
          0.545076726342711,
          0.34558408939463836,
          0.32920872679908825,
          0.30783410138248846,
          0.3055371352785146,
          0.2972592213114754,
          0.29626959812578846,
          0.28583333333333333,
          0.2639821029082774,
          0.26234384295062463,
          0.25990601981203965,
          0.25736685590700187,
          0.24469747711542755,
          0.2393302278735994,
          0.2343612334801762,
          0.22944824296390523,
          0.2195793198348732,
          0.21838301716350497
         ]
        },
        {
         "name": "2016",
         "type": "bar",
         "uid": "6bc0a797-de6d-4b3e-81b2-97b68a5a93f1",
         "x": [
          "ROSS",
          "SCOTT",
          "HOMESTEAD",
          "MCKEESPORT",
          "MCKEES ROCKS",
          "HARMAR",
          "PITCAIRN",
          "ROBINSON",
          "DUQUESNE",
          "NORTH BRADDOCK",
          "WILKINSBURG",
          "CLAIRTON",
          "STOWE",
          "MOUNT OLIVER",
          "TARENTUM",
          "MILLVALE",
          "SHARPSBURG",
          "GLASSPORT",
          "NORTH VERSAILLES",
          "CARNEGIE"
         ],
         "y": [
          0.8250910983862572,
          0.6071876305892185,
          0.5306507387613958,
          0.3439516753575301,
          0.3409015025041736,
          0.33617579534273534,
          0.3354998452491489,
          0.2958071547634312,
          0.29411764705882354,
          0.28547439126784213,
          0.2802967321097397,
          0.2773854244928625,
          0.27395065684075615,
          0.27120167815403057,
          0.25978407557354927,
          0.24046840958605664,
          0.23284023668639053,
          0.22611464968152867,
          0.21568627450980393,
          0.17972292191435768
         ]
        },
        {
         "name": "2017",
         "type": "bar",
         "uid": "3225f1c9-2120-4079-9ca8-705bcdbe3e5f",
         "x": [
          "ROSS",
          "SCOTT",
          "HOMESTEAD",
          "HARMAR",
          "MCKEESPORT",
          "MCKEES ROCKS",
          "NORTH BRADDOCK",
          "ROBINSON",
          "WILKINSBURG",
          "CLAIRTON",
          "STOWE",
          "MOUNT OLIVER",
          "SHARPSBURG",
          "DUQUESNE",
          "TARENTUM",
          "MILLVALE",
          "GLASSPORT",
          "NORTH VERSAILLES",
          "CARNEGIE",
          "PITCAIRN"
         ],
         "y": [
          0.807235142118863,
          0.6173512154233026,
          0.4721695129664769,
          0.3590759075907591,
          0.3547414912964406,
          0.3448739495798319,
          0.305854998943141,
          0.29214929214929214,
          0.28764305001928764,
          0.2843745273029799,
          0.2807611675536204,
          0.2687782805429864,
          0.2648197795650879,
          0.26284478096268254,
          0.256056146705909,
          0.23300438596491227,
          0.2301351041905198,
          0.2229089821553185,
          0.17941250949607496,
          0.009348706762231224
         ]
        },
        {
         "name": "2018",
         "type": "bar",
         "uid": "4318304c-a75d-44fe-8578-0698c8a7f27d",
         "x": [
          "ROSS",
          "SCOTT",
          "HOMESTEAD",
          "MCKEESPORT",
          "MCKEES ROCKS",
          "HARMAR",
          "NORTH BRADDOCK",
          "ROBINSON",
          "SHARPSBURG",
          "WILKINSBURG",
          "DUQUESNE",
          "CLAIRTON",
          "TARENTUM",
          "STOWE",
          "NORTH VERSAILLES",
          "MILLVALE",
          "MOUNT OLIVER",
          "GLASSPORT",
          "CARNEGIE",
          "PITCAIRN"
         ],
         "y": [
          0.8403100775193798,
          0.6634534786253143,
          0.47975964579380137,
          0.3635749545336451,
          0.3480672268907563,
          0.3475247524752475,
          0.3358697949693511,
          0.3245817245817246,
          0.2966934763181412,
          0.2947794779477948,
          0.2877230935640887,
          0.27529874451671454,
          0.2662440570522979,
          0.26544105789388805,
          0.239258299272256,
          0.23684210526315788,
          0.22714932126696832,
          0.22601328142889857,
          0.16865029121296532,
          0.016516048613275165
         ]
        }
       ],
       "layout": {
        "title": {
         "text": "Top Twenty Cities with the highest Call per Population Ratio<br> For City Population higher than 3000"
        },
        "xaxis": {
         "automargin": true,
         "title": {
          "text": "CITY_NAME"
         }
        },
        "yaxis": {
         "title": {
          "text": "CALL PER CITY POPULATION"
         }
        }
       }
      },
      "text/html": [
       "<div id=\"554a1b1c-1fba-41ed-855c-4424cc2b3460\" style=\"height: 525px; width: 100%;\" class=\"plotly-graph-div\"></div><script type=\"text/javascript\">require([\"plotly\"], function(Plotly) { window.PLOTLYENV=window.PLOTLYENV || {};window.PLOTLYENV.BASE_URL=\"https://plot.ly\";Plotly.newPlot(\"554a1b1c-1fba-41ed-855c-4424cc2b3460\", [{\"name\": \"2015\", \"x\": [\"ROSS\", \"SCOTT\", \"HOMESTEAD\", \"MCKEESPORT\", \"HARMAR\", \"PITCAIRN\", \"MCKEES ROCKS\", \"ROBINSON\", \"DUQUESNE\", \"NORTH BRADDOCK\", \"CLAIRTON\", \"MOUNT OLIVER\", \"WILKINSBURG\", \"MILLVALE\", \"TARENTUM\", \"CARNEGIE\", \"SHARPSBURG\", \"STOWE\", \"NORTH VERSAILLES\", \"GLASSPORT\"], \"y\": [0.8139937651541392, 0.5946058091286307, 0.545076726342711, 0.34558408939463836, 0.32920872679908825, 0.30783410138248846, 0.3055371352785146, 0.2972592213114754, 0.29626959812578846, 0.28583333333333333, 0.2639821029082774, 0.26234384295062463, 0.25990601981203965, 0.25736685590700187, 0.24469747711542755, 0.2393302278735994, 0.2343612334801762, 0.22944824296390523, 0.2195793198348732, 0.21838301716350497], \"type\": \"bar\", \"uid\": \"1f06dcde-a9d9-4b43-8b43-6602c99a415a\"}, {\"name\": \"2016\", \"x\": [\"ROSS\", \"SCOTT\", \"HOMESTEAD\", \"MCKEESPORT\", \"MCKEES ROCKS\", \"HARMAR\", \"PITCAIRN\", \"ROBINSON\", \"DUQUESNE\", \"NORTH BRADDOCK\", \"WILKINSBURG\", \"CLAIRTON\", \"STOWE\", \"MOUNT OLIVER\", \"TARENTUM\", \"MILLVALE\", \"SHARPSBURG\", \"GLASSPORT\", \"NORTH VERSAILLES\", \"CARNEGIE\"], \"y\": [0.8250910983862572, 0.6071876305892185, 0.5306507387613958, 0.3439516753575301, 0.3409015025041736, 0.33617579534273534, 0.3354998452491489, 0.2958071547634312, 0.29411764705882354, 0.28547439126784213, 0.2802967321097397, 0.2773854244928625, 0.27395065684075615, 0.27120167815403057, 0.25978407557354927, 0.24046840958605664, 0.23284023668639053, 0.22611464968152867, 0.21568627450980393, 0.17972292191435768], \"type\": \"bar\", \"uid\": \"6bc0a797-de6d-4b3e-81b2-97b68a5a93f1\"}, {\"name\": \"2017\", \"x\": [\"ROSS\", \"SCOTT\", \"HOMESTEAD\", \"HARMAR\", \"MCKEESPORT\", \"MCKEES ROCKS\", \"NORTH BRADDOCK\", \"ROBINSON\", \"WILKINSBURG\", \"CLAIRTON\", \"STOWE\", \"MOUNT OLIVER\", \"SHARPSBURG\", \"DUQUESNE\", \"TARENTUM\", \"MILLVALE\", \"GLASSPORT\", \"NORTH VERSAILLES\", \"CARNEGIE\", \"PITCAIRN\"], \"y\": [0.807235142118863, 0.6173512154233026, 0.4721695129664769, 0.3590759075907591, 0.3547414912964406, 0.3448739495798319, 0.305854998943141, 0.29214929214929214, 0.28764305001928764, 0.2843745273029799, 0.2807611675536204, 0.2687782805429864, 0.2648197795650879, 0.26284478096268254, 0.256056146705909, 0.23300438596491227, 0.2301351041905198, 0.2229089821553185, 0.17941250949607496, 0.009348706762231224], \"type\": \"bar\", \"uid\": \"3225f1c9-2120-4079-9ca8-705bcdbe3e5f\"}, {\"name\": \"2018\", \"x\": [\"ROSS\", \"SCOTT\", \"HOMESTEAD\", \"MCKEESPORT\", \"MCKEES ROCKS\", \"HARMAR\", \"NORTH BRADDOCK\", \"ROBINSON\", \"SHARPSBURG\", \"WILKINSBURG\", \"DUQUESNE\", \"CLAIRTON\", \"TARENTUM\", \"STOWE\", \"NORTH VERSAILLES\", \"MILLVALE\", \"MOUNT OLIVER\", \"GLASSPORT\", \"CARNEGIE\", \"PITCAIRN\"], \"y\": [0.8403100775193798, 0.6634534786253143, 0.47975964579380137, 0.3635749545336451, 0.3480672268907563, 0.3475247524752475, 0.3358697949693511, 0.3245817245817246, 0.2966934763181412, 0.2947794779477948, 0.2877230935640887, 0.27529874451671454, 0.2662440570522979, 0.26544105789388805, 0.239258299272256, 0.23684210526315788, 0.22714932126696832, 0.22601328142889857, 0.16865029121296532, 0.016516048613275165], \"type\": \"bar\", \"uid\": \"4318304c-a75d-44fe-8578-0698c8a7f27d\"}], {\"title\": {\"text\": \"Top Twenty Cities with the highest Call per Population Ratio<br> For City Population higher than 3000\"}, \"xaxis\": {\"title\": {\"text\": \"CITY_NAME\"}, \"automargin\": true}, \"yaxis\": {\"title\": {\"text\": \"CALL PER CITY POPULATION\"}}}, {\"showLink\": false, \"linkText\": \"Export to plot.ly\", \"plotlyServerURL\": \"https://plot.ly\"})});</script><script type=\"text/javascript\">window.addEventListener(\"resize\", function(){window._Plotly.Plots.resize(document.getElementById(\"554a1b1c-1fba-41ed-855c-4424cc2b3460\"));});</script>"
      ],
      "text/vnd.plotly.v1+html": [
       "<div id=\"554a1b1c-1fba-41ed-855c-4424cc2b3460\" style=\"height: 525px; width: 100%;\" class=\"plotly-graph-div\"></div><script type=\"text/javascript\">require([\"plotly\"], function(Plotly) { window.PLOTLYENV=window.PLOTLYENV || {};window.PLOTLYENV.BASE_URL=\"https://plot.ly\";Plotly.newPlot(\"554a1b1c-1fba-41ed-855c-4424cc2b3460\", [{\"name\": \"2015\", \"x\": [\"ROSS\", \"SCOTT\", \"HOMESTEAD\", \"MCKEESPORT\", \"HARMAR\", \"PITCAIRN\", \"MCKEES ROCKS\", \"ROBINSON\", \"DUQUESNE\", \"NORTH BRADDOCK\", \"CLAIRTON\", \"MOUNT OLIVER\", \"WILKINSBURG\", \"MILLVALE\", \"TARENTUM\", \"CARNEGIE\", \"SHARPSBURG\", \"STOWE\", \"NORTH VERSAILLES\", \"GLASSPORT\"], \"y\": [0.8139937651541392, 0.5946058091286307, 0.545076726342711, 0.34558408939463836, 0.32920872679908825, 0.30783410138248846, 0.3055371352785146, 0.2972592213114754, 0.29626959812578846, 0.28583333333333333, 0.2639821029082774, 0.26234384295062463, 0.25990601981203965, 0.25736685590700187, 0.24469747711542755, 0.2393302278735994, 0.2343612334801762, 0.22944824296390523, 0.2195793198348732, 0.21838301716350497], \"type\": \"bar\", \"uid\": \"1f06dcde-a9d9-4b43-8b43-6602c99a415a\"}, {\"name\": \"2016\", \"x\": [\"ROSS\", \"SCOTT\", \"HOMESTEAD\", \"MCKEESPORT\", \"MCKEES ROCKS\", \"HARMAR\", \"PITCAIRN\", \"ROBINSON\", \"DUQUESNE\", \"NORTH BRADDOCK\", \"WILKINSBURG\", \"CLAIRTON\", \"STOWE\", \"MOUNT OLIVER\", \"TARENTUM\", \"MILLVALE\", \"SHARPSBURG\", \"GLASSPORT\", \"NORTH VERSAILLES\", \"CARNEGIE\"], \"y\": [0.8250910983862572, 0.6071876305892185, 0.5306507387613958, 0.3439516753575301, 0.3409015025041736, 0.33617579534273534, 0.3354998452491489, 0.2958071547634312, 0.29411764705882354, 0.28547439126784213, 0.2802967321097397, 0.2773854244928625, 0.27395065684075615, 0.27120167815403057, 0.25978407557354927, 0.24046840958605664, 0.23284023668639053, 0.22611464968152867, 0.21568627450980393, 0.17972292191435768], \"type\": \"bar\", \"uid\": \"6bc0a797-de6d-4b3e-81b2-97b68a5a93f1\"}, {\"name\": \"2017\", \"x\": [\"ROSS\", \"SCOTT\", \"HOMESTEAD\", \"HARMAR\", \"MCKEESPORT\", \"MCKEES ROCKS\", \"NORTH BRADDOCK\", \"ROBINSON\", \"WILKINSBURG\", \"CLAIRTON\", \"STOWE\", \"MOUNT OLIVER\", \"SHARPSBURG\", \"DUQUESNE\", \"TARENTUM\", \"MILLVALE\", \"GLASSPORT\", \"NORTH VERSAILLES\", \"CARNEGIE\", \"PITCAIRN\"], \"y\": [0.807235142118863, 0.6173512154233026, 0.4721695129664769, 0.3590759075907591, 0.3547414912964406, 0.3448739495798319, 0.305854998943141, 0.29214929214929214, 0.28764305001928764, 0.2843745273029799, 0.2807611675536204, 0.2687782805429864, 0.2648197795650879, 0.26284478096268254, 0.256056146705909, 0.23300438596491227, 0.2301351041905198, 0.2229089821553185, 0.17941250949607496, 0.009348706762231224], \"type\": \"bar\", \"uid\": \"3225f1c9-2120-4079-9ca8-705bcdbe3e5f\"}, {\"name\": \"2018\", \"x\": [\"ROSS\", \"SCOTT\", \"HOMESTEAD\", \"MCKEESPORT\", \"MCKEES ROCKS\", \"HARMAR\", \"NORTH BRADDOCK\", \"ROBINSON\", \"SHARPSBURG\", \"WILKINSBURG\", \"DUQUESNE\", \"CLAIRTON\", \"TARENTUM\", \"STOWE\", \"NORTH VERSAILLES\", \"MILLVALE\", \"MOUNT OLIVER\", \"GLASSPORT\", \"CARNEGIE\", \"PITCAIRN\"], \"y\": [0.8403100775193798, 0.6634534786253143, 0.47975964579380137, 0.3635749545336451, 0.3480672268907563, 0.3475247524752475, 0.3358697949693511, 0.3245817245817246, 0.2966934763181412, 0.2947794779477948, 0.2877230935640887, 0.27529874451671454, 0.2662440570522979, 0.26544105789388805, 0.239258299272256, 0.23684210526315788, 0.22714932126696832, 0.22601328142889857, 0.16865029121296532, 0.016516048613275165], \"type\": \"bar\", \"uid\": \"4318304c-a75d-44fe-8578-0698c8a7f27d\"}], {\"title\": {\"text\": \"Top Twenty Cities with the highest Call per Population Ratio<br> For City Population higher than 3000\"}, \"xaxis\": {\"title\": {\"text\": \"CITY_NAME\"}, \"automargin\": true}, \"yaxis\": {\"title\": {\"text\": \"CALL PER CITY POPULATION\"}}}, {\"showLink\": false, \"linkText\": \"Export to plot.ly\", \"plotlyServerURL\": \"https://plot.ly\"})});</script><script type=\"text/javascript\">window.addEventListener(\"resize\", function(){window._Plotly.Plots.resize(document.getElementById(\"554a1b1c-1fba-41ed-855c-4424cc2b3460\"));});</script>"
      ]
     },
     "metadata": {},
     "output_type": "display_data"
    }
   ],
   "source": [
    "fig = bar_plot(Top_20_df_3000)\n",
    "title2=(\"Top Twenty Cities with the highest Call per Population Ratio\"\n",
    "        \"<br> For City Population higher than 3000\")\n",
    "fig.update(generate_labels(title2,\n",
    "                           xlabel,\n",
    "                           ylabel=\"CALL PER CITY POPULATION\"))\n",
    "iplot(fig)"
   ]
  },
  {
   "cell_type": "code",
   "execution_count": 101,
   "metadata": {
    "ExecuteTime": {
     "end_time": "2019-02-18T04:29:19.780152Z",
     "start_time": "2019-02-18T04:29:19.668341Z"
    }
   },
   "outputs": [
    {
     "data": {
      "application/vnd.plotly.v1+json": {
       "config": {
        "linkText": "Export to plot.ly",
        "plotlyServerURL": "https://plot.ly",
        "showLink": false
       },
       "data": [
        {
         "name": "2015",
         "type": "bar",
         "uid": "6a4c62de-9920-4e52-8fa4-0de535bc2b2e",
         "x": [
          "ROSS",
          "SCOTT",
          "HOMESTEAD",
          "MCKEESPORT",
          "HARMAR",
          "PITCAIRN",
          "MCKEES ROCKS",
          "ROBINSON",
          "DUQUESNE",
          "NORTH BRADDOCK",
          "CLAIRTON",
          "MOUNT OLIVER",
          "WILKINSBURG",
          "MILLVALE",
          "TARENTUM",
          "CARNEGIE",
          "SHARPSBURG",
          "STOWE",
          "NORTH VERSAILLES",
          "GLASSPORT"
         ],
         "y": [
          5774,
          4820,
          3128,
          19509,
          3071,
          3255,
          6032,
          7808,
          5549,
          4800,
          6705,
          3362,
          15748,
          3699,
          4479,
          7943,
          3405,
          6289,
          10174,
          4428
         ]
        },
        {
         "name": "2016",
         "type": "bar",
         "uid": "78839d59-f464-45c0-991d-a1dc4145ec95",
         "x": [
          "ROSS",
          "SCOTT",
          "HOMESTEAD",
          "MCKEESPORT",
          "MCKEES ROCKS",
          "HARMAR",
          "PITCAIRN",
          "ROBINSON",
          "DUQUESNE",
          "NORTH BRADDOCK",
          "WILKINSBURG",
          "CLAIRTON",
          "STOWE",
          "MOUNT OLIVER",
          "TARENTUM",
          "MILLVALE",
          "SHARPSBURG",
          "GLASSPORT",
          "NORTH VERSAILLES",
          "CARNEGIE"
         ],
         "y": [
          5763,
          4786,
          3181,
          19369,
          5990,
          3049,
          3231,
          7799,
          5542,
          4764,
          15637,
          6655,
          6242,
          3337,
          4446,
          3672,
          3380,
          4396,
          10098,
          7940
         ]
        },
        {
         "name": "2017",
         "type": "bar",
         "uid": "2cdd7298-5c0f-479b-8259-6c0abf4a78bc",
         "x": [
          "ROSS",
          "SCOTT",
          "HOMESTEAD",
          "HARMAR",
          "MCKEESPORT",
          "MCKEES ROCKS",
          "NORTH BRADDOCK",
          "ROBINSON",
          "WILKINSBURG",
          "CLAIRTON",
          "STOWE",
          "MOUNT OLIVER",
          "SHARPSBURG",
          "DUQUESNE",
          "TARENTUM",
          "MILLVALE",
          "GLASSPORT",
          "NORTH VERSAILLES",
          "CARNEGIE",
          "PITCAIRN"
         ],
         "y": [
          5805,
          4772,
          3162,
          3030,
          19245,
          5950,
          4731,
          7770,
          15554,
          6611,
          6201,
          3315,
          3357,
          5547,
          4417,
          3648,
          4367,
          10031,
          7898,
          3209
         ]
        },
        {
         "name": "2018",
         "type": "bar",
         "uid": "096e3c02-3fd6-403a-a592-7a780a232f68",
         "x": [
          "ROSS",
          "SCOTT",
          "HOMESTEAD",
          "MCKEESPORT",
          "MCKEES ROCKS",
          "HARMAR",
          "NORTH BRADDOCK",
          "ROBINSON",
          "SHARPSBURG",
          "WILKINSBURG",
          "DUQUESNE",
          "CLAIRTON",
          "TARENTUM",
          "STOWE",
          "NORTH VERSAILLES",
          "MILLVALE",
          "MOUNT OLIVER",
          "GLASSPORT",
          "CARNEGIE",
          "PITCAIRN"
         ],
         "y": [
          5805,
          4772,
          3162,
          19245,
          5950,
          3030,
          4731,
          7770,
          3357,
          15554,
          5547,
          6611,
          4417,
          6201,
          10031,
          3648,
          3315,
          4367,
          7898,
          3209
         ]
        }
       ],
       "layout": {
        "title": {
         "text": "Top Twenty Cities with the highest Call per Population Ratio<br> For City Population higher than 3000"
        },
        "xaxis": {
         "automargin": true,
         "title": {
          "text": "CITY_NAME"
         }
        },
        "yaxis": {
         "title": {
          "text": "POPULATION"
         }
        }
       }
      },
      "text/html": [
       "<div id=\"d72038b4-5ff7-4833-ac25-d58b2db31659\" style=\"height: 525px; width: 100%;\" class=\"plotly-graph-div\"></div><script type=\"text/javascript\">require([\"plotly\"], function(Plotly) { window.PLOTLYENV=window.PLOTLYENV || {};window.PLOTLYENV.BASE_URL=\"https://plot.ly\";Plotly.newPlot(\"d72038b4-5ff7-4833-ac25-d58b2db31659\", [{\"name\": \"2015\", \"x\": [\"ROSS\", \"SCOTT\", \"HOMESTEAD\", \"MCKEESPORT\", \"HARMAR\", \"PITCAIRN\", \"MCKEES ROCKS\", \"ROBINSON\", \"DUQUESNE\", \"NORTH BRADDOCK\", \"CLAIRTON\", \"MOUNT OLIVER\", \"WILKINSBURG\", \"MILLVALE\", \"TARENTUM\", \"CARNEGIE\", \"SHARPSBURG\", \"STOWE\", \"NORTH VERSAILLES\", \"GLASSPORT\"], \"y\": [5774, 4820, 3128, 19509, 3071, 3255, 6032, 7808, 5549, 4800, 6705, 3362, 15748, 3699, 4479, 7943, 3405, 6289, 10174, 4428], \"type\": \"bar\", \"uid\": \"6a4c62de-9920-4e52-8fa4-0de535bc2b2e\"}, {\"name\": \"2016\", \"x\": [\"ROSS\", \"SCOTT\", \"HOMESTEAD\", \"MCKEESPORT\", \"MCKEES ROCKS\", \"HARMAR\", \"PITCAIRN\", \"ROBINSON\", \"DUQUESNE\", \"NORTH BRADDOCK\", \"WILKINSBURG\", \"CLAIRTON\", \"STOWE\", \"MOUNT OLIVER\", \"TARENTUM\", \"MILLVALE\", \"SHARPSBURG\", \"GLASSPORT\", \"NORTH VERSAILLES\", \"CARNEGIE\"], \"y\": [5763, 4786, 3181, 19369, 5990, 3049, 3231, 7799, 5542, 4764, 15637, 6655, 6242, 3337, 4446, 3672, 3380, 4396, 10098, 7940], \"type\": \"bar\", \"uid\": \"78839d59-f464-45c0-991d-a1dc4145ec95\"}, {\"name\": \"2017\", \"x\": [\"ROSS\", \"SCOTT\", \"HOMESTEAD\", \"HARMAR\", \"MCKEESPORT\", \"MCKEES ROCKS\", \"NORTH BRADDOCK\", \"ROBINSON\", \"WILKINSBURG\", \"CLAIRTON\", \"STOWE\", \"MOUNT OLIVER\", \"SHARPSBURG\", \"DUQUESNE\", \"TARENTUM\", \"MILLVALE\", \"GLASSPORT\", \"NORTH VERSAILLES\", \"CARNEGIE\", \"PITCAIRN\"], \"y\": [5805, 4772, 3162, 3030, 19245, 5950, 4731, 7770, 15554, 6611, 6201, 3315, 3357, 5547, 4417, 3648, 4367, 10031, 7898, 3209], \"type\": \"bar\", \"uid\": \"2cdd7298-5c0f-479b-8259-6c0abf4a78bc\"}, {\"name\": \"2018\", \"x\": [\"ROSS\", \"SCOTT\", \"HOMESTEAD\", \"MCKEESPORT\", \"MCKEES ROCKS\", \"HARMAR\", \"NORTH BRADDOCK\", \"ROBINSON\", \"SHARPSBURG\", \"WILKINSBURG\", \"DUQUESNE\", \"CLAIRTON\", \"TARENTUM\", \"STOWE\", \"NORTH VERSAILLES\", \"MILLVALE\", \"MOUNT OLIVER\", \"GLASSPORT\", \"CARNEGIE\", \"PITCAIRN\"], \"y\": [5805, 4772, 3162, 19245, 5950, 3030, 4731, 7770, 3357, 15554, 5547, 6611, 4417, 6201, 10031, 3648, 3315, 4367, 7898, 3209], \"type\": \"bar\", \"uid\": \"096e3c02-3fd6-403a-a592-7a780a232f68\"}], {\"title\": {\"text\": \"Top Twenty Cities with the highest Call per Population Ratio<br> For City Population higher than 3000\"}, \"xaxis\": {\"title\": {\"text\": \"CITY_NAME\"}, \"automargin\": true}, \"yaxis\": {\"title\": {\"text\": \"POPULATION\"}}}, {\"showLink\": false, \"linkText\": \"Export to plot.ly\", \"plotlyServerURL\": \"https://plot.ly\"})});</script><script type=\"text/javascript\">window.addEventListener(\"resize\", function(){window._Plotly.Plots.resize(document.getElementById(\"d72038b4-5ff7-4833-ac25-d58b2db31659\"));});</script>"
      ],
      "text/vnd.plotly.v1+html": [
       "<div id=\"d72038b4-5ff7-4833-ac25-d58b2db31659\" style=\"height: 525px; width: 100%;\" class=\"plotly-graph-div\"></div><script type=\"text/javascript\">require([\"plotly\"], function(Plotly) { window.PLOTLYENV=window.PLOTLYENV || {};window.PLOTLYENV.BASE_URL=\"https://plot.ly\";Plotly.newPlot(\"d72038b4-5ff7-4833-ac25-d58b2db31659\", [{\"name\": \"2015\", \"x\": [\"ROSS\", \"SCOTT\", \"HOMESTEAD\", \"MCKEESPORT\", \"HARMAR\", \"PITCAIRN\", \"MCKEES ROCKS\", \"ROBINSON\", \"DUQUESNE\", \"NORTH BRADDOCK\", \"CLAIRTON\", \"MOUNT OLIVER\", \"WILKINSBURG\", \"MILLVALE\", \"TARENTUM\", \"CARNEGIE\", \"SHARPSBURG\", \"STOWE\", \"NORTH VERSAILLES\", \"GLASSPORT\"], \"y\": [5774, 4820, 3128, 19509, 3071, 3255, 6032, 7808, 5549, 4800, 6705, 3362, 15748, 3699, 4479, 7943, 3405, 6289, 10174, 4428], \"type\": \"bar\", \"uid\": \"6a4c62de-9920-4e52-8fa4-0de535bc2b2e\"}, {\"name\": \"2016\", \"x\": [\"ROSS\", \"SCOTT\", \"HOMESTEAD\", \"MCKEESPORT\", \"MCKEES ROCKS\", \"HARMAR\", \"PITCAIRN\", \"ROBINSON\", \"DUQUESNE\", \"NORTH BRADDOCK\", \"WILKINSBURG\", \"CLAIRTON\", \"STOWE\", \"MOUNT OLIVER\", \"TARENTUM\", \"MILLVALE\", \"SHARPSBURG\", \"GLASSPORT\", \"NORTH VERSAILLES\", \"CARNEGIE\"], \"y\": [5763, 4786, 3181, 19369, 5990, 3049, 3231, 7799, 5542, 4764, 15637, 6655, 6242, 3337, 4446, 3672, 3380, 4396, 10098, 7940], \"type\": \"bar\", \"uid\": \"78839d59-f464-45c0-991d-a1dc4145ec95\"}, {\"name\": \"2017\", \"x\": [\"ROSS\", \"SCOTT\", \"HOMESTEAD\", \"HARMAR\", \"MCKEESPORT\", \"MCKEES ROCKS\", \"NORTH BRADDOCK\", \"ROBINSON\", \"WILKINSBURG\", \"CLAIRTON\", \"STOWE\", \"MOUNT OLIVER\", \"SHARPSBURG\", \"DUQUESNE\", \"TARENTUM\", \"MILLVALE\", \"GLASSPORT\", \"NORTH VERSAILLES\", \"CARNEGIE\", \"PITCAIRN\"], \"y\": [5805, 4772, 3162, 3030, 19245, 5950, 4731, 7770, 15554, 6611, 6201, 3315, 3357, 5547, 4417, 3648, 4367, 10031, 7898, 3209], \"type\": \"bar\", \"uid\": \"2cdd7298-5c0f-479b-8259-6c0abf4a78bc\"}, {\"name\": \"2018\", \"x\": [\"ROSS\", \"SCOTT\", \"HOMESTEAD\", \"MCKEESPORT\", \"MCKEES ROCKS\", \"HARMAR\", \"NORTH BRADDOCK\", \"ROBINSON\", \"SHARPSBURG\", \"WILKINSBURG\", \"DUQUESNE\", \"CLAIRTON\", \"TARENTUM\", \"STOWE\", \"NORTH VERSAILLES\", \"MILLVALE\", \"MOUNT OLIVER\", \"GLASSPORT\", \"CARNEGIE\", \"PITCAIRN\"], \"y\": [5805, 4772, 3162, 19245, 5950, 3030, 4731, 7770, 3357, 15554, 5547, 6611, 4417, 6201, 10031, 3648, 3315, 4367, 7898, 3209], \"type\": \"bar\", \"uid\": \"096e3c02-3fd6-403a-a592-7a780a232f68\"}], {\"title\": {\"text\": \"Top Twenty Cities with the highest Call per Population Ratio<br> For City Population higher than 3000\"}, \"xaxis\": {\"title\": {\"text\": \"CITY_NAME\"}, \"automargin\": true}, \"yaxis\": {\"title\": {\"text\": \"POPULATION\"}}}, {\"showLink\": false, \"linkText\": \"Export to plot.ly\", \"plotlyServerURL\": \"https://plot.ly\"})});</script><script type=\"text/javascript\">window.addEventListener(\"resize\", function(){window._Plotly.Plots.resize(document.getElementById(\"d72038b4-5ff7-4833-ac25-d58b2db31659\"));});</script>"
      ]
     },
     "metadata": {},
     "output_type": "display_data"
    }
   ],
   "source": [
    "fig = bar_plot(Top_20_df_3000,y='POPULATION')\n",
    "fig.update(generate_labels(title2,xlabel,ylabel='POPULATION'))\n",
    "iplot(fig)"
   ]
  },
  {
   "cell_type": "code",
   "execution_count": 103,
   "metadata": {
    "ExecuteTime": {
     "end_time": "2019-02-18T04:30:41.991395Z",
     "start_time": "2019-02-18T04:30:41.896012Z"
    }
   },
   "outputs": [
    {
     "data": {
      "application/vnd.plotly.v1+json": {
       "config": {
        "linkText": "Export to plot.ly",
        "plotlyServerURL": "https://plot.ly",
        "showLink": false
       },
       "data": [
        {
         "name": "2015",
         "type": "bar",
         "uid": "30a62305-452c-44ef-9ae2-300727407605",
         "x": [
          "ROSS",
          "SCOTT",
          "HOMESTEAD",
          "MCKEESPORT",
          "HARMAR",
          "PITCAIRN",
          "MCKEES ROCKS",
          "ROBINSON",
          "DUQUESNE",
          "NORTH BRADDOCK",
          "CLAIRTON",
          "MOUNT OLIVER",
          "WILKINSBURG",
          "MILLVALE",
          "TARENTUM",
          "CARNEGIE",
          "SHARPSBURG",
          "STOWE",
          "NORTH VERSAILLES",
          "GLASSPORT"
         ],
         "y": [
          4700,
          2866,
          1705,
          6742,
          1011,
          1002,
          1843,
          2321,
          1644,
          1372,
          1770,
          882,
          4093,
          952,
          1096,
          1901,
          798,
          1443,
          2234,
          967
         ]
        },
        {
         "name": "2016",
         "type": "bar",
         "uid": "cd6d87d6-5290-4c58-ba62-1b8fcb05c476",
         "x": [
          "ROSS",
          "SCOTT",
          "HOMESTEAD",
          "MCKEESPORT",
          "MCKEES ROCKS",
          "HARMAR",
          "PITCAIRN",
          "ROBINSON",
          "DUQUESNE",
          "NORTH BRADDOCK",
          "WILKINSBURG",
          "CLAIRTON",
          "STOWE",
          "MOUNT OLIVER",
          "TARENTUM",
          "MILLVALE",
          "SHARPSBURG",
          "GLASSPORT",
          "NORTH VERSAILLES",
          "CARNEGIE"
         ],
         "y": [
          4755,
          2906,
          1688,
          6662,
          2042,
          1025,
          1084,
          2307,
          1630,
          1360,
          4383,
          1846,
          1710,
          905,
          1155,
          883,
          787,
          994,
          2178,
          1427
         ]
        },
        {
         "name": "2017",
         "type": "bar",
         "uid": "6a0edc4e-f79e-43dd-922f-1ae25e300786",
         "x": [
          "ROSS",
          "SCOTT",
          "HOMESTEAD",
          "HARMAR",
          "MCKEESPORT",
          "MCKEES ROCKS",
          "NORTH BRADDOCK",
          "ROBINSON",
          "WILKINSBURG",
          "CLAIRTON",
          "STOWE",
          "MOUNT OLIVER",
          "SHARPSBURG",
          "DUQUESNE",
          "TARENTUM",
          "MILLVALE",
          "GLASSPORT",
          "NORTH VERSAILLES",
          "CARNEGIE",
          "PITCAIRN"
         ],
         "y": [
          4686,
          2946,
          1493,
          1088,
          6827,
          2052,
          1447,
          2270,
          4474,
          1880,
          1741,
          891,
          889,
          1458,
          1131,
          850,
          1005,
          2236,
          1417,
          30
         ]
        },
        {
         "name": "2018",
         "type": "bar",
         "uid": "12e037d3-365a-426f-9013-27bb469f21e0",
         "x": [
          "ROSS",
          "SCOTT",
          "HOMESTEAD",
          "MCKEESPORT",
          "MCKEES ROCKS",
          "HARMAR",
          "NORTH BRADDOCK",
          "ROBINSON",
          "SHARPSBURG",
          "WILKINSBURG",
          "DUQUESNE",
          "CLAIRTON",
          "TARENTUM",
          "STOWE",
          "NORTH VERSAILLES",
          "MILLVALE",
          "MOUNT OLIVER",
          "GLASSPORT",
          "CARNEGIE",
          "PITCAIRN"
         ],
         "y": [
          4878,
          3166,
          1517,
          6997,
          2071,
          1053,
          1589,
          2522,
          996,
          4585,
          1596,
          1820,
          1176,
          1646,
          2400,
          864,
          753,
          987,
          1332,
          53
         ]
        }
       ],
       "layout": {
        "title": {
         "text": "Top Twenty Cities with the highest Call per Population Ratio<br> For City Population higher than 3000"
        },
        "xaxis": {
         "automargin": true,
         "title": {
          "text": "CITY_NAME"
         }
        },
        "yaxis": {
         "title": {
          "text": "NO. OF CALLS"
         }
        }
       }
      },
      "text/html": [
       "<div id=\"efd683d7-7cfe-4eb0-9b58-2345e9ee11b5\" style=\"height: 525px; width: 100%;\" class=\"plotly-graph-div\"></div><script type=\"text/javascript\">require([\"plotly\"], function(Plotly) { window.PLOTLYENV=window.PLOTLYENV || {};window.PLOTLYENV.BASE_URL=\"https://plot.ly\";Plotly.newPlot(\"efd683d7-7cfe-4eb0-9b58-2345e9ee11b5\", [{\"name\": \"2015\", \"x\": [\"ROSS\", \"SCOTT\", \"HOMESTEAD\", \"MCKEESPORT\", \"HARMAR\", \"PITCAIRN\", \"MCKEES ROCKS\", \"ROBINSON\", \"DUQUESNE\", \"NORTH BRADDOCK\", \"CLAIRTON\", \"MOUNT OLIVER\", \"WILKINSBURG\", \"MILLVALE\", \"TARENTUM\", \"CARNEGIE\", \"SHARPSBURG\", \"STOWE\", \"NORTH VERSAILLES\", \"GLASSPORT\"], \"y\": [4700, 2866, 1705, 6742, 1011, 1002, 1843, 2321, 1644, 1372, 1770, 882, 4093, 952, 1096, 1901, 798, 1443, 2234, 967], \"type\": \"bar\", \"uid\": \"30a62305-452c-44ef-9ae2-300727407605\"}, {\"name\": \"2016\", \"x\": [\"ROSS\", \"SCOTT\", \"HOMESTEAD\", \"MCKEESPORT\", \"MCKEES ROCKS\", \"HARMAR\", \"PITCAIRN\", \"ROBINSON\", \"DUQUESNE\", \"NORTH BRADDOCK\", \"WILKINSBURG\", \"CLAIRTON\", \"STOWE\", \"MOUNT OLIVER\", \"TARENTUM\", \"MILLVALE\", \"SHARPSBURG\", \"GLASSPORT\", \"NORTH VERSAILLES\", \"CARNEGIE\"], \"y\": [4755, 2906, 1688, 6662, 2042, 1025, 1084, 2307, 1630, 1360, 4383, 1846, 1710, 905, 1155, 883, 787, 994, 2178, 1427], \"type\": \"bar\", \"uid\": \"cd6d87d6-5290-4c58-ba62-1b8fcb05c476\"}, {\"name\": \"2017\", \"x\": [\"ROSS\", \"SCOTT\", \"HOMESTEAD\", \"HARMAR\", \"MCKEESPORT\", \"MCKEES ROCKS\", \"NORTH BRADDOCK\", \"ROBINSON\", \"WILKINSBURG\", \"CLAIRTON\", \"STOWE\", \"MOUNT OLIVER\", \"SHARPSBURG\", \"DUQUESNE\", \"TARENTUM\", \"MILLVALE\", \"GLASSPORT\", \"NORTH VERSAILLES\", \"CARNEGIE\", \"PITCAIRN\"], \"y\": [4686, 2946, 1493, 1088, 6827, 2052, 1447, 2270, 4474, 1880, 1741, 891, 889, 1458, 1131, 850, 1005, 2236, 1417, 30], \"type\": \"bar\", \"uid\": \"6a0edc4e-f79e-43dd-922f-1ae25e300786\"}, {\"name\": \"2018\", \"x\": [\"ROSS\", \"SCOTT\", \"HOMESTEAD\", \"MCKEESPORT\", \"MCKEES ROCKS\", \"HARMAR\", \"NORTH BRADDOCK\", \"ROBINSON\", \"SHARPSBURG\", \"WILKINSBURG\", \"DUQUESNE\", \"CLAIRTON\", \"TARENTUM\", \"STOWE\", \"NORTH VERSAILLES\", \"MILLVALE\", \"MOUNT OLIVER\", \"GLASSPORT\", \"CARNEGIE\", \"PITCAIRN\"], \"y\": [4878, 3166, 1517, 6997, 2071, 1053, 1589, 2522, 996, 4585, 1596, 1820, 1176, 1646, 2400, 864, 753, 987, 1332, 53], \"type\": \"bar\", \"uid\": \"12e037d3-365a-426f-9013-27bb469f21e0\"}], {\"title\": {\"text\": \"Top Twenty Cities with the highest Call per Population Ratio<br> For City Population higher than 3000\"}, \"xaxis\": {\"title\": {\"text\": \"CITY_NAME\"}, \"automargin\": true}, \"yaxis\": {\"title\": {\"text\": \"NO. OF CALLS\"}}}, {\"showLink\": false, \"linkText\": \"Export to plot.ly\", \"plotlyServerURL\": \"https://plot.ly\"})});</script><script type=\"text/javascript\">window.addEventListener(\"resize\", function(){window._Plotly.Plots.resize(document.getElementById(\"efd683d7-7cfe-4eb0-9b58-2345e9ee11b5\"));});</script>"
      ],
      "text/vnd.plotly.v1+html": [
       "<div id=\"efd683d7-7cfe-4eb0-9b58-2345e9ee11b5\" style=\"height: 525px; width: 100%;\" class=\"plotly-graph-div\"></div><script type=\"text/javascript\">require([\"plotly\"], function(Plotly) { window.PLOTLYENV=window.PLOTLYENV || {};window.PLOTLYENV.BASE_URL=\"https://plot.ly\";Plotly.newPlot(\"efd683d7-7cfe-4eb0-9b58-2345e9ee11b5\", [{\"name\": \"2015\", \"x\": [\"ROSS\", \"SCOTT\", \"HOMESTEAD\", \"MCKEESPORT\", \"HARMAR\", \"PITCAIRN\", \"MCKEES ROCKS\", \"ROBINSON\", \"DUQUESNE\", \"NORTH BRADDOCK\", \"CLAIRTON\", \"MOUNT OLIVER\", \"WILKINSBURG\", \"MILLVALE\", \"TARENTUM\", \"CARNEGIE\", \"SHARPSBURG\", \"STOWE\", \"NORTH VERSAILLES\", \"GLASSPORT\"], \"y\": [4700, 2866, 1705, 6742, 1011, 1002, 1843, 2321, 1644, 1372, 1770, 882, 4093, 952, 1096, 1901, 798, 1443, 2234, 967], \"type\": \"bar\", \"uid\": \"30a62305-452c-44ef-9ae2-300727407605\"}, {\"name\": \"2016\", \"x\": [\"ROSS\", \"SCOTT\", \"HOMESTEAD\", \"MCKEESPORT\", \"MCKEES ROCKS\", \"HARMAR\", \"PITCAIRN\", \"ROBINSON\", \"DUQUESNE\", \"NORTH BRADDOCK\", \"WILKINSBURG\", \"CLAIRTON\", \"STOWE\", \"MOUNT OLIVER\", \"TARENTUM\", \"MILLVALE\", \"SHARPSBURG\", \"GLASSPORT\", \"NORTH VERSAILLES\", \"CARNEGIE\"], \"y\": [4755, 2906, 1688, 6662, 2042, 1025, 1084, 2307, 1630, 1360, 4383, 1846, 1710, 905, 1155, 883, 787, 994, 2178, 1427], \"type\": \"bar\", \"uid\": \"cd6d87d6-5290-4c58-ba62-1b8fcb05c476\"}, {\"name\": \"2017\", \"x\": [\"ROSS\", \"SCOTT\", \"HOMESTEAD\", \"HARMAR\", \"MCKEESPORT\", \"MCKEES ROCKS\", \"NORTH BRADDOCK\", \"ROBINSON\", \"WILKINSBURG\", \"CLAIRTON\", \"STOWE\", \"MOUNT OLIVER\", \"SHARPSBURG\", \"DUQUESNE\", \"TARENTUM\", \"MILLVALE\", \"GLASSPORT\", \"NORTH VERSAILLES\", \"CARNEGIE\", \"PITCAIRN\"], \"y\": [4686, 2946, 1493, 1088, 6827, 2052, 1447, 2270, 4474, 1880, 1741, 891, 889, 1458, 1131, 850, 1005, 2236, 1417, 30], \"type\": \"bar\", \"uid\": \"6a0edc4e-f79e-43dd-922f-1ae25e300786\"}, {\"name\": \"2018\", \"x\": [\"ROSS\", \"SCOTT\", \"HOMESTEAD\", \"MCKEESPORT\", \"MCKEES ROCKS\", \"HARMAR\", \"NORTH BRADDOCK\", \"ROBINSON\", \"SHARPSBURG\", \"WILKINSBURG\", \"DUQUESNE\", \"CLAIRTON\", \"TARENTUM\", \"STOWE\", \"NORTH VERSAILLES\", \"MILLVALE\", \"MOUNT OLIVER\", \"GLASSPORT\", \"CARNEGIE\", \"PITCAIRN\"], \"y\": [4878, 3166, 1517, 6997, 2071, 1053, 1589, 2522, 996, 4585, 1596, 1820, 1176, 1646, 2400, 864, 753, 987, 1332, 53], \"type\": \"bar\", \"uid\": \"12e037d3-365a-426f-9013-27bb469f21e0\"}], {\"title\": {\"text\": \"Top Twenty Cities with the highest Call per Population Ratio<br> For City Population higher than 3000\"}, \"xaxis\": {\"title\": {\"text\": \"CITY_NAME\"}, \"automargin\": true}, \"yaxis\": {\"title\": {\"text\": \"NO. OF CALLS\"}}}, {\"showLink\": false, \"linkText\": \"Export to plot.ly\", \"plotlyServerURL\": \"https://plot.ly\"})});</script><script type=\"text/javascript\">window.addEventListener(\"resize\", function(){window._Plotly.Plots.resize(document.getElementById(\"efd683d7-7cfe-4eb0-9b58-2345e9ee11b5\"));});</script>"
      ]
     },
     "metadata": {},
     "output_type": "display_data"
    }
   ],
   "source": [
    "fig = bar_plot(Top_20_df_3000,y='NO. OF CALLS')\n",
    "fig.update(generate_labels(title2,xlabel,ylabel='NO. OF CALLS'))\n",
    "iplot(fig)"
   ]
  },
  {
   "cell_type": "code",
   "execution_count": 104,
   "metadata": {
    "ExecuteTime": {
     "end_time": "2019-02-18T04:31:29.020098Z",
     "start_time": "2019-02-18T04:31:28.869700Z"
    }
   },
   "outputs": [
    {
     "data": {
      "text/html": [
       "<div>\n",
       "<style scoped>\n",
       "    .dataframe tbody tr th:only-of-type {\n",
       "        vertical-align: middle;\n",
       "    }\n",
       "\n",
       "    .dataframe tbody tr th {\n",
       "        vertical-align: top;\n",
       "    }\n",
       "\n",
       "    .dataframe thead th {\n",
       "        text-align: right;\n",
       "    }\n",
       "</style>\n",
       "<table border=\"1\" class=\"dataframe\">\n",
       "  <thead>\n",
       "    <tr style=\"text-align: right;\">\n",
       "      <th></th>\n",
       "      <th>CALL_QUARTER</th>\n",
       "      <th>CALL_YEAR</th>\n",
       "      <th>COUNT</th>\n",
       "    </tr>\n",
       "  </thead>\n",
       "  <tbody>\n",
       "    <tr>\n",
       "      <th>0</th>\n",
       "      <td>Q1</td>\n",
       "      <td>2015</td>\n",
       "      <td>47103</td>\n",
       "    </tr>\n",
       "    <tr>\n",
       "      <th>1</th>\n",
       "      <td>Q1</td>\n",
       "      <td>2016</td>\n",
       "      <td>46434</td>\n",
       "    </tr>\n",
       "    <tr>\n",
       "      <th>2</th>\n",
       "      <td>Q1</td>\n",
       "      <td>2017</td>\n",
       "      <td>48690</td>\n",
       "    </tr>\n",
       "    <tr>\n",
       "      <th>3</th>\n",
       "      <td>Q1</td>\n",
       "      <td>2018</td>\n",
       "      <td>49261</td>\n",
       "    </tr>\n",
       "    <tr>\n",
       "      <th>4</th>\n",
       "      <td>Q2</td>\n",
       "      <td>2015</td>\n",
       "      <td>47254</td>\n",
       "    </tr>\n",
       "  </tbody>\n",
       "</table>\n",
       "</div>"
      ],
      "text/plain": [
       "  CALL_QUARTER  CALL_YEAR  COUNT\n",
       "0           Q1       2015  47103\n",
       "1           Q1       2016  46434\n",
       "2           Q1       2017  48690\n",
       "3           Q1       2018  49261\n",
       "4           Q2       2015  47254"
      ]
     },
     "execution_count": 104,
     "metadata": {},
     "output_type": "execute_result"
    }
   ],
   "source": [
    "df_ems_Q = df_ems.groupby(['CALL_QUARTER', 'CALL_YEAR']).size().reset_index(name='COUNT')\n",
    "df_ems_Q.head()"
   ]
  },
  {
   "cell_type": "code",
   "execution_count": 105,
   "metadata": {
    "ExecuteTime": {
     "end_time": "2019-02-18T04:32:57.624087Z",
     "start_time": "2019-02-18T04:32:57.522560Z"
    }
   },
   "outputs": [
    {
     "data": {
      "application/vnd.plotly.v1+json": {
       "config": {
        "linkText": "Export to plot.ly",
        "plotlyServerURL": "https://plot.ly",
        "showLink": false
       },
       "data": [
        {
         "name": "Q1",
         "type": "bar",
         "uid": "59e5b117-a884-4c3f-b7aa-30eb8ce96921",
         "x": [
          2015,
          2016,
          2017,
          2018
         ],
         "y": [
          47103,
          46434,
          48690,
          49261
         ]
        },
        {
         "name": "Q2",
         "type": "bar",
         "uid": "1153f22e-1070-4d6d-8b3d-d06533bb1af2",
         "x": [
          2015,
          2016,
          2017,
          2018
         ],
         "y": [
          47254,
          48224,
          49622,
          49674
         ]
        },
        {
         "name": "Q3",
         "type": "bar",
         "uid": "b36636c8-f549-494b-92cc-5461b10daf73",
         "x": [
          2015,
          2016,
          2017,
          2018
         ],
         "y": [
          47994,
          50665,
          50154,
          51177
         ]
        },
        {
         "name": "Q4",
         "type": "bar",
         "uid": "14f0357d-ceee-48ce-9924-123dce22da2a",
         "x": [
          2015,
          2016,
          2017,
          2018
         ],
         "y": [
          46251,
          49950,
          48223,
          50021
         ]
        }
       ],
       "layout": {
        "title": {
         "text": "Total Number of Call For Each Quarter"
        },
        "xaxis": {
         "automargin": true,
         "title": {
          "text": "CALL YEAR"
         }
        },
        "yaxis": {
         "title": {
          "text": "NO. of CALL"
         }
        }
       }
      },
      "text/html": [
       "<div id=\"571dae46-1f1c-4898-87be-928b524a9aac\" style=\"height: 525px; width: 100%;\" class=\"plotly-graph-div\"></div><script type=\"text/javascript\">require([\"plotly\"], function(Plotly) { window.PLOTLYENV=window.PLOTLYENV || {};window.PLOTLYENV.BASE_URL=\"https://plot.ly\";Plotly.newPlot(\"571dae46-1f1c-4898-87be-928b524a9aac\", [{\"name\": \"Q1\", \"x\": [2015, 2016, 2017, 2018], \"y\": [47103, 46434, 48690, 49261], \"type\": \"bar\", \"uid\": \"59e5b117-a884-4c3f-b7aa-30eb8ce96921\"}, {\"name\": \"Q2\", \"x\": [2015, 2016, 2017, 2018], \"y\": [47254, 48224, 49622, 49674], \"type\": \"bar\", \"uid\": \"1153f22e-1070-4d6d-8b3d-d06533bb1af2\"}, {\"name\": \"Q3\", \"x\": [2015, 2016, 2017, 2018], \"y\": [47994, 50665, 50154, 51177], \"type\": \"bar\", \"uid\": \"b36636c8-f549-494b-92cc-5461b10daf73\"}, {\"name\": \"Q4\", \"x\": [2015, 2016, 2017, 2018], \"y\": [46251, 49950, 48223, 50021], \"type\": \"bar\", \"uid\": \"14f0357d-ceee-48ce-9924-123dce22da2a\"}], {\"title\": {\"text\": \"Total Number of Call For Each Quarter\"}, \"xaxis\": {\"title\": {\"text\": \"CALL YEAR\"}, \"automargin\": true}, \"yaxis\": {\"title\": {\"text\": \"NO. of CALL\"}}}, {\"showLink\": false, \"linkText\": \"Export to plot.ly\", \"plotlyServerURL\": \"https://plot.ly\"})});</script><script type=\"text/javascript\">window.addEventListener(\"resize\", function(){window._Plotly.Plots.resize(document.getElementById(\"571dae46-1f1c-4898-87be-928b524a9aac\"));});</script>"
      ],
      "text/vnd.plotly.v1+html": [
       "<div id=\"571dae46-1f1c-4898-87be-928b524a9aac\" style=\"height: 525px; width: 100%;\" class=\"plotly-graph-div\"></div><script type=\"text/javascript\">require([\"plotly\"], function(Plotly) { window.PLOTLYENV=window.PLOTLYENV || {};window.PLOTLYENV.BASE_URL=\"https://plot.ly\";Plotly.newPlot(\"571dae46-1f1c-4898-87be-928b524a9aac\", [{\"name\": \"Q1\", \"x\": [2015, 2016, 2017, 2018], \"y\": [47103, 46434, 48690, 49261], \"type\": \"bar\", \"uid\": \"59e5b117-a884-4c3f-b7aa-30eb8ce96921\"}, {\"name\": \"Q2\", \"x\": [2015, 2016, 2017, 2018], \"y\": [47254, 48224, 49622, 49674], \"type\": \"bar\", \"uid\": \"1153f22e-1070-4d6d-8b3d-d06533bb1af2\"}, {\"name\": \"Q3\", \"x\": [2015, 2016, 2017, 2018], \"y\": [47994, 50665, 50154, 51177], \"type\": \"bar\", \"uid\": \"b36636c8-f549-494b-92cc-5461b10daf73\"}, {\"name\": \"Q4\", \"x\": [2015, 2016, 2017, 2018], \"y\": [46251, 49950, 48223, 50021], \"type\": \"bar\", \"uid\": \"14f0357d-ceee-48ce-9924-123dce22da2a\"}], {\"title\": {\"text\": \"Total Number of Call For Each Quarter\"}, \"xaxis\": {\"title\": {\"text\": \"CALL YEAR\"}, \"automargin\": true}, \"yaxis\": {\"title\": {\"text\": \"NO. of CALL\"}}}, {\"showLink\": false, \"linkText\": \"Export to plot.ly\", \"plotlyServerURL\": \"https://plot.ly\"})});</script><script type=\"text/javascript\">window.addEventListener(\"resize\", function(){window._Plotly.Plots.resize(document.getElementById(\"571dae46-1f1c-4898-87be-928b524a9aac\"));});</script>"
      ]
     },
     "metadata": {},
     "output_type": "display_data"
    }
   ],
   "source": [
    "fig = bar_plot(df_ems_Q,y='COUNT',x='CALL_YEAR',hue='CALL_QUARTER')\n",
    "title3 = \"Total Number of Call For Each Quarter\"\n",
    "fig.update(generate_labels(title3,\n",
    "                           xlabel='CALL YEAR',\n",
    "                           ylabel='NO. of CALL'))\n",
    "iplot(fig)\n"
   ]
  },
  {
   "cell_type": "code",
   "execution_count": 186,
   "metadata": {
    "ExecuteTime": {
     "end_time": "2019-02-18T16:51:59.810901Z",
     "start_time": "2019-02-18T16:51:59.796992Z"
    }
   },
   "outputs": [],
   "source": [
    "def grid_bar_plot(df, col='CITY_NAME', \n",
    "                  colorway=['#023eff', '#ff7c00', \n",
    "                            '#1ac938', '#e8000b'],\n",
    "                  x=['PITTSBURGH','HOMESTEAD', 'PINE']):\n",
    "    \n",
    "    nrow = int(round(len(x)/2,0))\n",
    "    \n",
    "    xcol = 'CALL_YEAR'\n",
    "    ycol = 'COUNT'\n",
    "    hue = 'CALL_QUARTER'\n",
    "    df_mod = dict()\n",
    "    \n",
    "    trace_list=[]\n",
    "    titles = []\n",
    "    for name in x:\n",
    "        df_mod = (df[df[col] == name]\n",
    "                  .groupby(['CALL_QUARTER', 'CALL_YEAR'])\n",
    "                  .size().reset_index(name=ycol))\n",
    "        \n",
    "        trace_list.append(bar_plot(df_mod,\n",
    "                          x=xcol,y=ycol,\n",
    "                          hue='CALL_QUARTER', get_traces=True))\n",
    "        \n",
    "        titles.append('EMS Call Per <br> Quarter in {ct}'.format(ct=name))\n",
    "        \n",
    "    fig = tools.make_subplots(rows=nrow, cols=2,\n",
    "                              subplot_titles=tuple(titles))\n",
    "    \n",
    "    for row in range(1,nrow+1):\n",
    "        for col in range(1,3):\n",
    "            traces = trace_list.pop(0)\n",
    "            for trace in traces:\n",
    "                fig.append_trace(trace,row,col)\n",
    "\n",
    "    fig['layout'].update(margin=go.layout.Margin(\n",
    "            l=50,\n",
    "            r=50,\n",
    "            b=50,\n",
    "            t=20,\n",
    "            pad=0\n",
    "        ))\n",
    "    fig['layout'].update(height=300*nrow, width=800,showlegend=False,\n",
    "                         colorway=colorway)\n",
    "    iplot(fig, filename='customizing-subplot-axes')\n",
    "    "
   ]
  },
  {
   "cell_type": "code",
   "execution_count": 187,
   "metadata": {
    "ExecuteTime": {
     "end_time": "2019-02-18T16:52:01.644805Z",
     "start_time": "2019-02-18T16:52:00.825097Z"
    }
   },
   "outputs": [
    {
     "name": "stdout",
     "output_type": "stream",
     "text": [
      "This is the format of your plot grid:\n",
      "[ (1,1) x1,y1 ]  [ (1,2) x2,y2 ]\n",
      "[ (2,1) x3,y3 ]  [ (2,2) x4,y4 ]\n",
      "\n"
     ]
    },
    {
     "data": {
      "application/vnd.plotly.v1+json": {
       "config": {
        "linkText": "Export to plot.ly",
        "plotlyServerURL": "https://plot.ly",
        "showLink": false
       },
       "data": [
        {
         "name": "Q1",
         "type": "bar",
         "uid": "0fabdf8d-fc2a-408b-aa68-593c77924591",
         "x": [
          2015,
          2016,
          2017,
          2018
         ],
         "xaxis": "x",
         "y": [
          14510,
          14991,
          15662,
          15375
         ],
         "yaxis": "y"
        },
        {
         "name": "Q2",
         "type": "bar",
         "uid": "306d0729-fb42-4b5c-89d1-b60b167e23e4",
         "x": [
          2015,
          2016,
          2017,
          2018
         ],
         "xaxis": "x",
         "y": [
          15584,
          15857,
          15678,
          16113
         ],
         "yaxis": "y"
        },
        {
         "name": "Q3",
         "type": "bar",
         "uid": "d46d27fc-2cec-4433-8587-ffef6be9e097",
         "x": [
          2015,
          2016,
          2017,
          2018
         ],
         "xaxis": "x",
         "y": [
          15761,
          16844,
          16570,
          16491
         ],
         "yaxis": "y"
        },
        {
         "name": "Q4",
         "type": "bar",
         "uid": "6d16450b-0de3-4409-9d86-6b68dce987cf",
         "x": [
          2015,
          2016,
          2017,
          2018
         ],
         "xaxis": "x",
         "y": [
          14934,
          16015,
          15197,
          15094
         ],
         "yaxis": "y"
        },
        {
         "name": "Q1",
         "type": "bar",
         "uid": "f910ded9-c51a-4c1c-b75b-69358ea3f0ab",
         "x": [
          2015,
          2016,
          2017,
          2018
         ],
         "xaxis": "x2",
         "y": [
          1683,
          1642,
          1724,
          1734
         ],
         "yaxis": "y2"
        },
        {
         "name": "Q2",
         "type": "bar",
         "uid": "61a47869-7955-46ad-98f6-12a322615e36",
         "x": [
          2015,
          2016,
          2017,
          2018
         ],
         "xaxis": "x2",
         "y": [
          1641,
          1637,
          1775,
          1683
         ],
         "yaxis": "y2"
        },
        {
         "name": "Q3",
         "type": "bar",
         "uid": "448fecf6-7c2a-4afb-ba98-c0057e8215c6",
         "x": [
          2015,
          2016,
          2017,
          2018
         ],
         "xaxis": "x2",
         "y": [
          1757,
          1739,
          1776,
          1806
         ],
         "yaxis": "y2"
        },
        {
         "name": "Q4",
         "type": "bar",
         "uid": "49f2802a-78a8-498b-8e39-bb68fcff4a7b",
         "x": [
          2015,
          2016,
          2017,
          2018
         ],
         "xaxis": "x2",
         "y": [
          1661,
          1644,
          1552,
          1774
         ],
         "yaxis": "y2"
        },
        {
         "name": "Q1",
         "type": "bar",
         "uid": "91c68d2b-5470-4fec-b305-537f8f9e89af",
         "x": [
          2015,
          2016,
          2017,
          2018
         ],
         "xaxis": "x3",
         "y": [
          1004,
          1006,
          1093,
          1142
         ],
         "yaxis": "y3"
        },
        {
         "name": "Q2",
         "type": "bar",
         "uid": "95f5b7b3-9c75-49cd-9dfd-0eaaac89372f",
         "x": [
          2015,
          2016,
          2017,
          2018
         ],
         "xaxis": "x3",
         "y": [
          1040,
          1103,
          1199,
          1173
         ],
         "yaxis": "y3"
        },
        {
         "name": "Q3",
         "type": "bar",
         "uid": "154907e6-fe09-432e-a6a9-692a927f7684",
         "x": [
          2015,
          2016,
          2017,
          2018
         ],
         "xaxis": "x3",
         "y": [
          1035,
          1137,
          1046,
          1209
         ],
         "yaxis": "y3"
        },
        {
         "name": "Q4",
         "type": "bar",
         "uid": "e845b70e-a735-408b-9646-cc84c0527cb2",
         "x": [
          2015,
          2016,
          2017,
          2018
         ],
         "xaxis": "x3",
         "y": [
          1014,
          1137,
          1136,
          1061
         ],
         "yaxis": "y3"
        },
        {
         "name": "Q1",
         "type": "bar",
         "uid": "0dde3341-c511-4fee-b7b8-5f3e2ee8d4b0",
         "x": [
          2015,
          2016,
          2017,
          2018
         ],
         "xaxis": "x4",
         "y": [
          269,
          220,
          244,
          256
         ],
         "yaxis": "y4"
        },
        {
         "name": "Q2",
         "type": "bar",
         "uid": "bd0c8dd9-236f-45ef-bb0f-a1a8fa07b5e1",
         "x": [
          2015,
          2016,
          2017,
          2018
         ],
         "xaxis": "x4",
         "y": [
          281,
          226,
          294,
          271
         ],
         "yaxis": "y4"
        },
        {
         "name": "Q3",
         "type": "bar",
         "uid": "ece12afd-d797-4df0-9f14-a245181df83e",
         "x": [
          2015,
          2016,
          2017,
          2018
         ],
         "xaxis": "x4",
         "y": [
          255,
          277,
          270,
          290
         ],
         "yaxis": "y4"
        },
        {
         "name": "Q4",
         "type": "bar",
         "uid": "a703a6cb-1f21-470d-82e0-6119d832f7d6",
         "x": [
          2015,
          2016,
          2017,
          2018
         ],
         "xaxis": "x4",
         "y": [
          234,
          268,
          280,
          248
         ],
         "yaxis": "y4"
        }
       ],
       "layout": {
        "annotations": [
         {
          "font": {
           "size": 16
          },
          "showarrow": false,
          "text": "EMS Call Per <br> Quarter in PITTSBURGH",
          "x": 0.225,
          "xanchor": "center",
          "xref": "paper",
          "y": 1,
          "yanchor": "bottom",
          "yref": "paper"
         },
         {
          "font": {
           "size": 16
          },
          "showarrow": false,
          "text": "EMS Call Per <br> Quarter in MCKEESPORT",
          "x": 0.775,
          "xanchor": "center",
          "xref": "paper",
          "y": 1,
          "yanchor": "bottom",
          "yref": "paper"
         },
         {
          "font": {
           "size": 16
          },
          "showarrow": false,
          "text": "EMS Call Per <br> Quarter in WILKINSBURG",
          "x": 0.225,
          "xanchor": "center",
          "xref": "paper",
          "y": 0.375,
          "yanchor": "bottom",
          "yref": "paper"
         },
         {
          "font": {
           "size": 16
          },
          "showarrow": false,
          "text": "EMS Call Per <br> Quarter in PINE",
          "x": 0.775,
          "xanchor": "center",
          "xref": "paper",
          "y": 0.375,
          "yanchor": "bottom",
          "yref": "paper"
         }
        ],
        "colorway": [
         "#023eff",
         "#ff7c00",
         "#1ac938",
         "#e8000b"
        ],
        "height": 600,
        "margin": {
         "b": 50,
         "l": 50,
         "pad": 0,
         "r": 50,
         "t": 20
        },
        "showlegend": false,
        "width": 800,
        "xaxis": {
         "anchor": "y",
         "domain": [
          0,
          0.45
         ]
        },
        "xaxis2": {
         "anchor": "y2",
         "domain": [
          0.55,
          1
         ]
        },
        "xaxis3": {
         "anchor": "y3",
         "domain": [
          0,
          0.45
         ]
        },
        "xaxis4": {
         "anchor": "y4",
         "domain": [
          0.55,
          1
         ]
        },
        "yaxis": {
         "anchor": "x",
         "domain": [
          0.625,
          1
         ]
        },
        "yaxis2": {
         "anchor": "x2",
         "domain": [
          0.625,
          1
         ]
        },
        "yaxis3": {
         "anchor": "x3",
         "domain": [
          0,
          0.375
         ]
        },
        "yaxis4": {
         "anchor": "x4",
         "domain": [
          0,
          0.375
         ]
        }
       }
      },
      "text/html": [
       "<div id=\"12ddaac0-3a08-4f7a-9210-76c1edf870c4\" style=\"height: 600px; width: 800px;\" class=\"plotly-graph-div\"></div><script type=\"text/javascript\">require([\"plotly\"], function(Plotly) { window.PLOTLYENV=window.PLOTLYENV || {};window.PLOTLYENV.BASE_URL=\"https://plot.ly\";Plotly.newPlot(\"12ddaac0-3a08-4f7a-9210-76c1edf870c4\", [{\"name\": \"Q1\", \"x\": [2015, 2016, 2017, 2018], \"y\": [14510, 14991, 15662, 15375], \"type\": \"bar\", \"uid\": \"0fabdf8d-fc2a-408b-aa68-593c77924591\", \"xaxis\": \"x\", \"yaxis\": \"y\"}, {\"name\": \"Q2\", \"x\": [2015, 2016, 2017, 2018], \"y\": [15584, 15857, 15678, 16113], \"type\": \"bar\", \"uid\": \"306d0729-fb42-4b5c-89d1-b60b167e23e4\", \"xaxis\": \"x\", \"yaxis\": \"y\"}, {\"name\": \"Q3\", \"x\": [2015, 2016, 2017, 2018], \"y\": [15761, 16844, 16570, 16491], \"type\": \"bar\", \"uid\": \"d46d27fc-2cec-4433-8587-ffef6be9e097\", \"xaxis\": \"x\", \"yaxis\": \"y\"}, {\"name\": \"Q4\", \"x\": [2015, 2016, 2017, 2018], \"y\": [14934, 16015, 15197, 15094], \"type\": \"bar\", \"uid\": \"6d16450b-0de3-4409-9d86-6b68dce987cf\", \"xaxis\": \"x\", \"yaxis\": \"y\"}, {\"name\": \"Q1\", \"x\": [2015, 2016, 2017, 2018], \"y\": [1683, 1642, 1724, 1734], \"type\": \"bar\", \"uid\": \"f910ded9-c51a-4c1c-b75b-69358ea3f0ab\", \"xaxis\": \"x2\", \"yaxis\": \"y2\"}, {\"name\": \"Q2\", \"x\": [2015, 2016, 2017, 2018], \"y\": [1641, 1637, 1775, 1683], \"type\": \"bar\", \"uid\": \"61a47869-7955-46ad-98f6-12a322615e36\", \"xaxis\": \"x2\", \"yaxis\": \"y2\"}, {\"name\": \"Q3\", \"x\": [2015, 2016, 2017, 2018], \"y\": [1757, 1739, 1776, 1806], \"type\": \"bar\", \"uid\": \"448fecf6-7c2a-4afb-ba98-c0057e8215c6\", \"xaxis\": \"x2\", \"yaxis\": \"y2\"}, {\"name\": \"Q4\", \"x\": [2015, 2016, 2017, 2018], \"y\": [1661, 1644, 1552, 1774], \"type\": \"bar\", \"uid\": \"49f2802a-78a8-498b-8e39-bb68fcff4a7b\", \"xaxis\": \"x2\", \"yaxis\": \"y2\"}, {\"name\": \"Q1\", \"x\": [2015, 2016, 2017, 2018], \"y\": [1004, 1006, 1093, 1142], \"type\": \"bar\", \"uid\": \"91c68d2b-5470-4fec-b305-537f8f9e89af\", \"xaxis\": \"x3\", \"yaxis\": \"y3\"}, {\"name\": \"Q2\", \"x\": [2015, 2016, 2017, 2018], \"y\": [1040, 1103, 1199, 1173], \"type\": \"bar\", \"uid\": \"95f5b7b3-9c75-49cd-9dfd-0eaaac89372f\", \"xaxis\": \"x3\", \"yaxis\": \"y3\"}, {\"name\": \"Q3\", \"x\": [2015, 2016, 2017, 2018], \"y\": [1035, 1137, 1046, 1209], \"type\": \"bar\", \"uid\": \"154907e6-fe09-432e-a6a9-692a927f7684\", \"xaxis\": \"x3\", \"yaxis\": \"y3\"}, {\"name\": \"Q4\", \"x\": [2015, 2016, 2017, 2018], \"y\": [1014, 1137, 1136, 1061], \"type\": \"bar\", \"uid\": \"e845b70e-a735-408b-9646-cc84c0527cb2\", \"xaxis\": \"x3\", \"yaxis\": \"y3\"}, {\"name\": \"Q1\", \"x\": [2015, 2016, 2017, 2018], \"y\": [269, 220, 244, 256], \"type\": \"bar\", \"uid\": \"0dde3341-c511-4fee-b7b8-5f3e2ee8d4b0\", \"xaxis\": \"x4\", \"yaxis\": \"y4\"}, {\"name\": \"Q2\", \"x\": [2015, 2016, 2017, 2018], \"y\": [281, 226, 294, 271], \"type\": \"bar\", \"uid\": \"bd0c8dd9-236f-45ef-bb0f-a1a8fa07b5e1\", \"xaxis\": \"x4\", \"yaxis\": \"y4\"}, {\"name\": \"Q3\", \"x\": [2015, 2016, 2017, 2018], \"y\": [255, 277, 270, 290], \"type\": \"bar\", \"uid\": \"ece12afd-d797-4df0-9f14-a245181df83e\", \"xaxis\": \"x4\", \"yaxis\": \"y4\"}, {\"name\": \"Q4\", \"x\": [2015, 2016, 2017, 2018], \"y\": [234, 268, 280, 248], \"type\": \"bar\", \"uid\": \"a703a6cb-1f21-470d-82e0-6119d832f7d6\", \"xaxis\": \"x4\", \"yaxis\": \"y4\"}], {\"annotations\": [{\"font\": {\"size\": 16}, \"showarrow\": false, \"text\": \"EMS Call Per <br> Quarter in PITTSBURGH\", \"x\": 0.225, \"xanchor\": \"center\", \"xref\": \"paper\", \"y\": 1.0, \"yanchor\": \"bottom\", \"yref\": \"paper\"}, {\"font\": {\"size\": 16}, \"showarrow\": false, \"text\": \"EMS Call Per <br> Quarter in MCKEESPORT\", \"x\": 0.775, \"xanchor\": \"center\", \"xref\": \"paper\", \"y\": 1.0, \"yanchor\": \"bottom\", \"yref\": \"paper\"}, {\"font\": {\"size\": 16}, \"showarrow\": false, \"text\": \"EMS Call Per <br> Quarter in WILKINSBURG\", \"x\": 0.225, \"xanchor\": \"center\", \"xref\": \"paper\", \"y\": 0.375, \"yanchor\": \"bottom\", \"yref\": \"paper\"}, {\"font\": {\"size\": 16}, \"showarrow\": false, \"text\": \"EMS Call Per <br> Quarter in PINE\", \"x\": 0.775, \"xanchor\": \"center\", \"xref\": \"paper\", \"y\": 0.375, \"yanchor\": \"bottom\", \"yref\": \"paper\"}], \"xaxis\": {\"anchor\": \"y\", \"domain\": [0.0, 0.45]}, \"yaxis\": {\"anchor\": \"x\", \"domain\": [0.625, 1.0]}, \"xaxis2\": {\"anchor\": \"y2\", \"domain\": [0.55, 1.0]}, \"yaxis2\": {\"anchor\": \"x2\", \"domain\": [0.625, 1.0]}, \"xaxis3\": {\"anchor\": \"y3\", \"domain\": [0.0, 0.45]}, \"yaxis3\": {\"anchor\": \"x3\", \"domain\": [0.0, 0.375]}, \"xaxis4\": {\"anchor\": \"y4\", \"domain\": [0.55, 1.0]}, \"yaxis4\": {\"anchor\": \"x4\", \"domain\": [0.0, 0.375]}, \"margin\": {\"b\": 50, \"l\": 50, \"pad\": 0, \"r\": 50, \"t\": 20}, \"height\": 600, \"width\": 800, \"showlegend\": false, \"colorway\": [\"#023eff\", \"#ff7c00\", \"#1ac938\", \"#e8000b\"]}, {\"showLink\": false, \"linkText\": \"Export to plot.ly\", \"plotlyServerURL\": \"https://plot.ly\"})});</script>"
      ],
      "text/vnd.plotly.v1+html": [
       "<div id=\"12ddaac0-3a08-4f7a-9210-76c1edf870c4\" style=\"height: 600px; width: 800px;\" class=\"plotly-graph-div\"></div><script type=\"text/javascript\">require([\"plotly\"], function(Plotly) { window.PLOTLYENV=window.PLOTLYENV || {};window.PLOTLYENV.BASE_URL=\"https://plot.ly\";Plotly.newPlot(\"12ddaac0-3a08-4f7a-9210-76c1edf870c4\", [{\"name\": \"Q1\", \"x\": [2015, 2016, 2017, 2018], \"y\": [14510, 14991, 15662, 15375], \"type\": \"bar\", \"uid\": \"0fabdf8d-fc2a-408b-aa68-593c77924591\", \"xaxis\": \"x\", \"yaxis\": \"y\"}, {\"name\": \"Q2\", \"x\": [2015, 2016, 2017, 2018], \"y\": [15584, 15857, 15678, 16113], \"type\": \"bar\", \"uid\": \"306d0729-fb42-4b5c-89d1-b60b167e23e4\", \"xaxis\": \"x\", \"yaxis\": \"y\"}, {\"name\": \"Q3\", \"x\": [2015, 2016, 2017, 2018], \"y\": [15761, 16844, 16570, 16491], \"type\": \"bar\", \"uid\": \"d46d27fc-2cec-4433-8587-ffef6be9e097\", \"xaxis\": \"x\", \"yaxis\": \"y\"}, {\"name\": \"Q4\", \"x\": [2015, 2016, 2017, 2018], \"y\": [14934, 16015, 15197, 15094], \"type\": \"bar\", \"uid\": \"6d16450b-0de3-4409-9d86-6b68dce987cf\", \"xaxis\": \"x\", \"yaxis\": \"y\"}, {\"name\": \"Q1\", \"x\": [2015, 2016, 2017, 2018], \"y\": [1683, 1642, 1724, 1734], \"type\": \"bar\", \"uid\": \"f910ded9-c51a-4c1c-b75b-69358ea3f0ab\", \"xaxis\": \"x2\", \"yaxis\": \"y2\"}, {\"name\": \"Q2\", \"x\": [2015, 2016, 2017, 2018], \"y\": [1641, 1637, 1775, 1683], \"type\": \"bar\", \"uid\": \"61a47869-7955-46ad-98f6-12a322615e36\", \"xaxis\": \"x2\", \"yaxis\": \"y2\"}, {\"name\": \"Q3\", \"x\": [2015, 2016, 2017, 2018], \"y\": [1757, 1739, 1776, 1806], \"type\": \"bar\", \"uid\": \"448fecf6-7c2a-4afb-ba98-c0057e8215c6\", \"xaxis\": \"x2\", \"yaxis\": \"y2\"}, {\"name\": \"Q4\", \"x\": [2015, 2016, 2017, 2018], \"y\": [1661, 1644, 1552, 1774], \"type\": \"bar\", \"uid\": \"49f2802a-78a8-498b-8e39-bb68fcff4a7b\", \"xaxis\": \"x2\", \"yaxis\": \"y2\"}, {\"name\": \"Q1\", \"x\": [2015, 2016, 2017, 2018], \"y\": [1004, 1006, 1093, 1142], \"type\": \"bar\", \"uid\": \"91c68d2b-5470-4fec-b305-537f8f9e89af\", \"xaxis\": \"x3\", \"yaxis\": \"y3\"}, {\"name\": \"Q2\", \"x\": [2015, 2016, 2017, 2018], \"y\": [1040, 1103, 1199, 1173], \"type\": \"bar\", \"uid\": \"95f5b7b3-9c75-49cd-9dfd-0eaaac89372f\", \"xaxis\": \"x3\", \"yaxis\": \"y3\"}, {\"name\": \"Q3\", \"x\": [2015, 2016, 2017, 2018], \"y\": [1035, 1137, 1046, 1209], \"type\": \"bar\", \"uid\": \"154907e6-fe09-432e-a6a9-692a927f7684\", \"xaxis\": \"x3\", \"yaxis\": \"y3\"}, {\"name\": \"Q4\", \"x\": [2015, 2016, 2017, 2018], \"y\": [1014, 1137, 1136, 1061], \"type\": \"bar\", \"uid\": \"e845b70e-a735-408b-9646-cc84c0527cb2\", \"xaxis\": \"x3\", \"yaxis\": \"y3\"}, {\"name\": \"Q1\", \"x\": [2015, 2016, 2017, 2018], \"y\": [269, 220, 244, 256], \"type\": \"bar\", \"uid\": \"0dde3341-c511-4fee-b7b8-5f3e2ee8d4b0\", \"xaxis\": \"x4\", \"yaxis\": \"y4\"}, {\"name\": \"Q2\", \"x\": [2015, 2016, 2017, 2018], \"y\": [281, 226, 294, 271], \"type\": \"bar\", \"uid\": \"bd0c8dd9-236f-45ef-bb0f-a1a8fa07b5e1\", \"xaxis\": \"x4\", \"yaxis\": \"y4\"}, {\"name\": \"Q3\", \"x\": [2015, 2016, 2017, 2018], \"y\": [255, 277, 270, 290], \"type\": \"bar\", \"uid\": \"ece12afd-d797-4df0-9f14-a245181df83e\", \"xaxis\": \"x4\", \"yaxis\": \"y4\"}, {\"name\": \"Q4\", \"x\": [2015, 2016, 2017, 2018], \"y\": [234, 268, 280, 248], \"type\": \"bar\", \"uid\": \"a703a6cb-1f21-470d-82e0-6119d832f7d6\", \"xaxis\": \"x4\", \"yaxis\": \"y4\"}], {\"annotations\": [{\"font\": {\"size\": 16}, \"showarrow\": false, \"text\": \"EMS Call Per <br> Quarter in PITTSBURGH\", \"x\": 0.225, \"xanchor\": \"center\", \"xref\": \"paper\", \"y\": 1.0, \"yanchor\": \"bottom\", \"yref\": \"paper\"}, {\"font\": {\"size\": 16}, \"showarrow\": false, \"text\": \"EMS Call Per <br> Quarter in MCKEESPORT\", \"x\": 0.775, \"xanchor\": \"center\", \"xref\": \"paper\", \"y\": 1.0, \"yanchor\": \"bottom\", \"yref\": \"paper\"}, {\"font\": {\"size\": 16}, \"showarrow\": false, \"text\": \"EMS Call Per <br> Quarter in WILKINSBURG\", \"x\": 0.225, \"xanchor\": \"center\", \"xref\": \"paper\", \"y\": 0.375, \"yanchor\": \"bottom\", \"yref\": \"paper\"}, {\"font\": {\"size\": 16}, \"showarrow\": false, \"text\": \"EMS Call Per <br> Quarter in PINE\", \"x\": 0.775, \"xanchor\": \"center\", \"xref\": \"paper\", \"y\": 0.375, \"yanchor\": \"bottom\", \"yref\": \"paper\"}], \"xaxis\": {\"anchor\": \"y\", \"domain\": [0.0, 0.45]}, \"yaxis\": {\"anchor\": \"x\", \"domain\": [0.625, 1.0]}, \"xaxis2\": {\"anchor\": \"y2\", \"domain\": [0.55, 1.0]}, \"yaxis2\": {\"anchor\": \"x2\", \"domain\": [0.625, 1.0]}, \"xaxis3\": {\"anchor\": \"y3\", \"domain\": [0.0, 0.45]}, \"yaxis3\": {\"anchor\": \"x3\", \"domain\": [0.0, 0.375]}, \"xaxis4\": {\"anchor\": \"y4\", \"domain\": [0.55, 1.0]}, \"yaxis4\": {\"anchor\": \"x4\", \"domain\": [0.0, 0.375]}, \"margin\": {\"b\": 50, \"l\": 50, \"pad\": 0, \"r\": 50, \"t\": 20}, \"height\": 600, \"width\": 800, \"showlegend\": false, \"colorway\": [\"#023eff\", \"#ff7c00\", \"#1ac938\", \"#e8000b\"]}, {\"showLink\": false, \"linkText\": \"Export to plot.ly\", \"plotlyServerURL\": \"https://plot.ly\"})});</script>"
      ]
     },
     "metadata": {},
     "output_type": "display_data"
    }
   ],
   "source": [
    "grid_bar_plot(df_ems,x=['PITTSBURGH','MCKEESPORT','WILKINSBURG','PINE'] )"
   ]
  },
  {
   "cell_type": "code",
   "execution_count": 258,
   "metadata": {
    "ExecuteTime": {
     "end_time": "2019-02-18T19:52:40.611840Z",
     "start_time": "2019-02-18T19:52:39.698427Z"
    },
    "scrolled": false
   },
   "outputs": [
    {
     "data": {
      "application/vnd.plotly.v1+json": {
       "config": {
        "linkText": "Export to plot.ly",
        "plotlyServerURL": "https://plot.ly",
        "showLink": false
       },
       "data": [
        {
         "labels": [
          "SICK",
          "FALL",
          "BREATHING",
          "CHEST PAIN",
          "UNCONSCIOUS",
          "UNKNOWN",
          "NON EMERGENCY TRANSPORT",
          "HEMORRHAGE",
          "ABDOMINAL PAIN",
          "PSYCH",
          "CONVULSION",
          "OVERDOSE",
          "DIABETIC",
          "TRAUMA",
          "FIRE ALARM COM BLDG",
          "STROKE",
          "POSSIBLE OR OBVIOUS DEATH",
          "ASSAULT",
          "HEART",
          "TRAFFIC - UNKNOWN STATUS",
          "The Remaining of DESCRIPTION_SHORT"
         ],
         "type": "pie",
         "uid": "219aee60-5b65-4290-b643-7a244b99671d",
         "values": [
          136269,
          99499,
          74807,
          42506,
          41225,
          29280,
          25441,
          24512,
          23465,
          20388,
          19592,
          16385,
          13661,
          13595,
          12653,
          12373,
          11582,
          11255,
          11243,
          9785,
          131181
         ]
        }
       ],
       "layout": {
        "height": 600,
        "title": {
         "text": "Top 20 (83% of Total Call) Short Description in EMS Dispatch Call"
        },
        "width": 800
       }
      },
      "text/html": [
       "<div id=\"01464b91-f0d3-4968-8d38-2dbb4caebf3f\" style=\"height: 600px; width: 800px;\" class=\"plotly-graph-div\"></div><script type=\"text/javascript\">require([\"plotly\"], function(Plotly) { window.PLOTLYENV=window.PLOTLYENV || {};window.PLOTLYENV.BASE_URL=\"https://plot.ly\";Plotly.newPlot(\"01464b91-f0d3-4968-8d38-2dbb4caebf3f\", [{\"labels\": [\"SICK\", \"FALL\", \"BREATHING\", \"CHEST PAIN\", \"UNCONSCIOUS\", \"UNKNOWN\", \"NON EMERGENCY TRANSPORT\", \"HEMORRHAGE\", \"ABDOMINAL PAIN\", \"PSYCH\", \"CONVULSION\", \"OVERDOSE\", \"DIABETIC\", \"TRAUMA\", \"FIRE ALARM COM BLDG\", \"STROKE\", \"POSSIBLE OR OBVIOUS DEATH\", \"ASSAULT\", \"HEART\", \"TRAFFIC - UNKNOWN STATUS\", \"The Remaining of DESCRIPTION_SHORT\"], \"values\": [136269, 99499, 74807, 42506, 41225, 29280, 25441, 24512, 23465, 20388, 19592, 16385, 13661, 13595, 12653, 12373, 11582, 11255, 11243, 9785, 131181], \"type\": \"pie\", \"uid\": \"219aee60-5b65-4290-b643-7a244b99671d\"}], {\"title\": {\"text\": \"Top 20 (83% of Total Call) Short Description in EMS Dispatch Call\"}, \"height\": 600, \"width\": 800}, {\"showLink\": false, \"linkText\": \"Export to plot.ly\", \"plotlyServerURL\": \"https://plot.ly\"})});</script>"
      ],
      "text/vnd.plotly.v1+html": [
       "<div id=\"01464b91-f0d3-4968-8d38-2dbb4caebf3f\" style=\"height: 600px; width: 800px;\" class=\"plotly-graph-div\"></div><script type=\"text/javascript\">require([\"plotly\"], function(Plotly) { window.PLOTLYENV=window.PLOTLYENV || {};window.PLOTLYENV.BASE_URL=\"https://plot.ly\";Plotly.newPlot(\"01464b91-f0d3-4968-8d38-2dbb4caebf3f\", [{\"labels\": [\"SICK\", \"FALL\", \"BREATHING\", \"CHEST PAIN\", \"UNCONSCIOUS\", \"UNKNOWN\", \"NON EMERGENCY TRANSPORT\", \"HEMORRHAGE\", \"ABDOMINAL PAIN\", \"PSYCH\", \"CONVULSION\", \"OVERDOSE\", \"DIABETIC\", \"TRAUMA\", \"FIRE ALARM COM BLDG\", \"STROKE\", \"POSSIBLE OR OBVIOUS DEATH\", \"ASSAULT\", \"HEART\", \"TRAFFIC - UNKNOWN STATUS\", \"The Remaining of DESCRIPTION_SHORT\"], \"values\": [136269, 99499, 74807, 42506, 41225, 29280, 25441, 24512, 23465, 20388, 19592, 16385, 13661, 13595, 12653, 12373, 11582, 11255, 11243, 9785, 131181], \"type\": \"pie\", \"uid\": \"219aee60-5b65-4290-b643-7a244b99671d\"}], {\"title\": {\"text\": \"Top 20 (83% of Total Call) Short Description in EMS Dispatch Call\"}, \"height\": 600, \"width\": 800}, {\"showLink\": false, \"linkText\": \"Export to plot.ly\", \"plotlyServerURL\": \"https://plot.ly\"})});</script>"
      ]
     },
     "metadata": {},
     "output_type": "display_data"
    }
   ],
   "source": [
    "def pie_trace(df, col, top=20):\n",
    "    description_count = df[col].value_counts()\n",
    "    values = description_count.values.tolist()\n",
    "    labels = description_count.index.tolist() \n",
    "    if top:\n",
    "        values = values[:top]+[sum(values[top:])]\n",
    "        labels = labels[:top] + ['The Remaining of '+col]\n",
    "    \n",
    "    trace = [go.Pie(labels=labels,values=values)]\n",
    "    return trace\n",
    "trace = pie_trace(df_ems, 'DESCRIPTION_SHORT')\n",
    "\n",
    "layout = go.Layout(title=('Top 20 (83% of Total Call) Short '\n",
    "                          'Description in EMS Dispatch Call'))\n",
    "fig = go.Figure(data=trace,layout=layout)\n",
    "fig['layout'].update(height=600, width=800)\n",
    "iplot(fig)\n",
    "\n"
   ]
  },
  {
   "cell_type": "code",
   "execution_count": 224,
   "metadata": {
    "ExecuteTime": {
     "end_time": "2019-02-18T18:24:50.195598Z",
     "start_time": "2019-02-18T18:24:48.727166Z"
    }
   },
   "outputs": [
    {
     "name": "stdout",
     "output_type": "stream",
     "text": [
      "This is the format of your plot grid:\n",
      "[ (1,1) x1,y1 ]  [ (1,2) x2,y2 ]\n",
      "[ (2,1) x3,y3 ]  [ (2,2) x4,y4 ]\n",
      "[ (3,1) x5,y5 ]  [ (3,2) x6,y6 ]\n",
      "\n"
     ]
    },
    {
     "data": {
      "application/vnd.plotly.v1+json": {
       "config": {
        "linkText": "Export to plot.ly",
        "plotlyServerURL": "https://plot.ly",
        "showLink": false
       },
       "data": [
        {
         "name": "Q1",
         "type": "bar",
         "uid": "4a23b31c-c2ae-438d-a994-8708e51dba32",
         "x": [
          2015,
          2016,
          2017,
          2018
         ],
         "xaxis": "x",
         "y": [
          8557,
          8158,
          8619,
          9202
         ],
         "yaxis": "y"
        },
        {
         "name": "Q2",
         "type": "bar",
         "uid": "923c1506-89e4-4149-8ebd-8b5aa484c1df",
         "x": [
          2015,
          2016,
          2017,
          2018
         ],
         "xaxis": "x",
         "y": [
          8107,
          8391,
          8418,
          8818
         ],
         "yaxis": "y"
        },
        {
         "name": "Q3",
         "type": "bar",
         "uid": "dcc5fab5-9784-4eee-a511-06af7b02ca16",
         "x": [
          2015,
          2016,
          2017,
          2018
         ],
         "xaxis": "x",
         "y": [
          8122,
          8474,
          8750,
          9069
         ],
         "yaxis": "y"
        },
        {
         "name": "Q4",
         "type": "bar",
         "uid": "06bd3d86-15ff-48b0-a4ba-46e720b523c5",
         "x": [
          2015,
          2016,
          2017,
          2018
         ],
         "xaxis": "x",
         "y": [
          7772,
          8551,
          8484,
          8777
         ],
         "yaxis": "y"
        },
        {
         "name": "Q1",
         "type": "bar",
         "uid": "c27cfff1-fd3c-4fad-9046-27d831da8959",
         "x": [
          2015,
          2016,
          2017,
          2018
         ],
         "xaxis": "x2",
         "y": [
          6473,
          6090,
          6011,
          6286
         ],
         "yaxis": "y2"
        },
        {
         "name": "Q2",
         "type": "bar",
         "uid": "f0d220dc-15ac-4e15-916b-3c12660f2f85",
         "x": [
          2015,
          2016,
          2017,
          2018
         ],
         "xaxis": "x2",
         "y": [
          5904,
          6166,
          6106,
          5925
         ],
         "yaxis": "y2"
        },
        {
         "name": "Q3",
         "type": "bar",
         "uid": "f7173b8d-adb0-4616-9236-f1e46f311046",
         "x": [
          2015,
          2016,
          2017,
          2018
         ],
         "xaxis": "x2",
         "y": [
          6146,
          6286,
          6187,
          6355
         ],
         "yaxis": "y2"
        },
        {
         "name": "Q4",
         "type": "bar",
         "uid": "e30b108e-512a-417c-a5ae-e36997b51c7d",
         "x": [
          2015,
          2016,
          2017,
          2018
         ],
         "xaxis": "x2",
         "y": [
          6146,
          6523,
          6325,
          6570
         ],
         "yaxis": "y2"
        },
        {
         "name": "Q1",
         "type": "bar",
         "uid": "41b3a408-fa12-4d0c-af6a-7fd24e03921a",
         "x": [
          2015,
          2016,
          2017,
          2018
         ],
         "xaxis": "x3",
         "y": [
          5196,
          4985,
          5063,
          5115
         ],
         "yaxis": "y3"
        },
        {
         "name": "Q2",
         "type": "bar",
         "uid": "628253b9-2830-471f-b70d-29723dced77c",
         "x": [
          2015,
          2016,
          2017,
          2018
         ],
         "xaxis": "x3",
         "y": [
          4763,
          4471,
          4594,
          4585
         ],
         "yaxis": "y3"
        },
        {
         "name": "Q3",
         "type": "bar",
         "uid": "092cda11-5e4b-49e6-bb6d-65ea84939bb3",
         "x": [
          2015,
          2016,
          2017,
          2018
         ],
         "xaxis": "x3",
         "y": [
          4488,
          4472,
          4211,
          4253
         ],
         "yaxis": "y3"
        },
        {
         "name": "Q4",
         "type": "bar",
         "uid": "12ea6f75-211b-4086-b787-5c4c6975d3dd",
         "x": [
          2015,
          2016,
          2017,
          2018
         ],
         "xaxis": "x3",
         "y": [
          4557,
          4835,
          4501,
          4718
         ],
         "yaxis": "y3"
        },
        {
         "name": "Q1",
         "type": "bar",
         "uid": "258a18eb-6190-4394-8514-940f17c9942a",
         "x": [
          2015,
          2016,
          2017,
          2018
         ],
         "xaxis": "x4",
         "y": [
          2714,
          2798,
          2754,
          2651
         ],
         "yaxis": "y4"
        },
        {
         "name": "Q2",
         "type": "bar",
         "uid": "8348adb4-39cb-48c3-8c2e-8d284e6387db",
         "x": [
          2015,
          2016,
          2017,
          2018
         ],
         "xaxis": "x4",
         "y": [
          2611,
          2723,
          2634,
          2547
         ],
         "yaxis": "y4"
        },
        {
         "name": "Q3",
         "type": "bar",
         "uid": "19fe079c-d0ab-4f83-9831-7b0c52a763d7",
         "x": [
          2015,
          2016,
          2017,
          2018
         ],
         "xaxis": "x4",
         "y": [
          2681,
          2689,
          2635,
          2590
         ],
         "yaxis": "y4"
        },
        {
         "name": "Q4",
         "type": "bar",
         "uid": "dbfd8ef0-0dbf-47c4-8f48-991e876ab926",
         "x": [
          2015,
          2016,
          2017,
          2018
         ],
         "xaxis": "x4",
         "y": [
          2565,
          2706,
          2504,
          2704
         ],
         "yaxis": "y4"
        },
        {
         "name": "Q1",
         "type": "bar",
         "uid": "1fab831f-30b8-4c68-a80d-b152e2f9c3b2",
         "x": [
          2015,
          2016,
          2017,
          2018
         ],
         "xaxis": "x5",
         "y": [
          2316,
          2430,
          2661,
          2428
         ],
         "yaxis": "y5"
        },
        {
         "name": "Q2",
         "type": "bar",
         "uid": "46586e4b-ca9a-4e78-bdb7-027b82861795",
         "x": [
          2015,
          2016,
          2017,
          2018
         ],
         "xaxis": "x5",
         "y": [
          2409,
          2548,
          2694,
          2663
         ],
         "yaxis": "y5"
        },
        {
         "name": "Q3",
         "type": "bar",
         "uid": "0743cae0-ddeb-4ec5-be98-85a0fc3a4038",
         "x": [
          2015,
          2016,
          2017,
          2018
         ],
         "xaxis": "x5",
         "y": [
          2513,
          2819,
          2591,
          2717
         ],
         "yaxis": "y5"
        },
        {
         "name": "Q4",
         "type": "bar",
         "uid": "fe4d004e-500c-4709-b3f9-5cfa60b6c587",
         "x": [
          2015,
          2016,
          2017,
          2018
         ],
         "xaxis": "x5",
         "y": [
          2522,
          2689,
          2552,
          2673
         ],
         "yaxis": "y5"
        },
        {
         "name": "Q1",
         "type": "bar",
         "uid": "d28b3567-52ec-4cbb-9517-c6ebbe6dd4b1",
         "x": [
          2015,
          2016,
          2017,
          2018
         ],
         "xaxis": "x6",
         "y": [
          1468,
          1461,
          1676,
          1576
         ],
         "yaxis": "y6"
        },
        {
         "name": "Q2",
         "type": "bar",
         "uid": "f40c0c45-fb8d-4d18-baf7-1b48a06919fc",
         "x": [
          2015,
          2016,
          2017,
          2018
         ],
         "xaxis": "x6",
         "y": [
          1957,
          1853,
          1949,
          2031
         ],
         "yaxis": "y6"
        },
        {
         "name": "Q3",
         "type": "bar",
         "uid": "1b6e1550-4fba-436a-97ab-459d09db09e7",
         "x": [
          2015,
          2016,
          2017,
          2018
         ],
         "xaxis": "x6",
         "y": [
          1967,
          2019,
          2071,
          2119
         ],
         "yaxis": "y6"
        },
        {
         "name": "Q4",
         "type": "bar",
         "uid": "37013cc4-2fc8-4c3b-bb43-4f02b3f09bc5",
         "x": [
          2015,
          2016,
          2017,
          2018
         ],
         "xaxis": "x6",
         "y": [
          1688,
          1844,
          1784,
          1817
         ],
         "yaxis": "y6"
        }
       ],
       "layout": {
        "annotations": [
         {
          "font": {
           "size": 16
          },
          "showarrow": false,
          "text": "EMS Call Per <br> Quarter in SICK",
          "x": 0.225,
          "xanchor": "center",
          "xref": "paper",
          "y": 1,
          "yanchor": "bottom",
          "yref": "paper"
         },
         {
          "font": {
           "size": 16
          },
          "showarrow": false,
          "text": "EMS Call Per <br> Quarter in FALL",
          "x": 0.775,
          "xanchor": "center",
          "xref": "paper",
          "y": 1,
          "yanchor": "bottom",
          "yref": "paper"
         },
         {
          "font": {
           "size": 16
          },
          "showarrow": false,
          "text": "EMS Call Per <br> Quarter in BREATHING",
          "x": 0.225,
          "xanchor": "center",
          "xref": "paper",
          "y": 0.6111111111111112,
          "yanchor": "bottom",
          "yref": "paper"
         },
         {
          "font": {
           "size": 16
          },
          "showarrow": false,
          "text": "EMS Call Per <br> Quarter in CHEST PAIN",
          "x": 0.775,
          "xanchor": "center",
          "xref": "paper",
          "y": 0.6111111111111112,
          "yanchor": "bottom",
          "yref": "paper"
         },
         {
          "font": {
           "size": 16
          },
          "showarrow": false,
          "text": "EMS Call Per <br> Quarter in UNCONSCIOUS",
          "x": 0.225,
          "xanchor": "center",
          "xref": "paper",
          "y": 0.22222222222222224,
          "yanchor": "bottom",
          "yref": "paper"
         },
         {
          "font": {
           "size": 16
          },
          "showarrow": false,
          "text": "EMS Call Per <br> Quarter in UNKNOWN",
          "x": 0.775,
          "xanchor": "center",
          "xref": "paper",
          "y": 0.22222222222222224,
          "yanchor": "bottom",
          "yref": "paper"
         }
        ],
        "colorway": [
         "#023eff",
         "#ff7c00",
         "#1ac938",
         "#e8000b"
        ],
        "height": 900,
        "margin": {
         "b": 50,
         "l": 50,
         "pad": 0,
         "r": 50,
         "t": 20
        },
        "showlegend": false,
        "width": 800,
        "xaxis": {
         "anchor": "y",
         "domain": [
          0,
          0.45
         ]
        },
        "xaxis2": {
         "anchor": "y2",
         "domain": [
          0.55,
          1
         ]
        },
        "xaxis3": {
         "anchor": "y3",
         "domain": [
          0,
          0.45
         ]
        },
        "xaxis4": {
         "anchor": "y4",
         "domain": [
          0.55,
          1
         ]
        },
        "xaxis5": {
         "anchor": "y5",
         "domain": [
          0,
          0.45
         ]
        },
        "xaxis6": {
         "anchor": "y6",
         "domain": [
          0.55,
          1
         ]
        },
        "yaxis": {
         "anchor": "x",
         "domain": [
          0.7777777777777778,
          1
         ]
        },
        "yaxis2": {
         "anchor": "x2",
         "domain": [
          0.7777777777777778,
          1
         ]
        },
        "yaxis3": {
         "anchor": "x3",
         "domain": [
          0.3888888888888889,
          0.6111111111111112
         ]
        },
        "yaxis4": {
         "anchor": "x4",
         "domain": [
          0.3888888888888889,
          0.6111111111111112
         ]
        },
        "yaxis5": {
         "anchor": "x5",
         "domain": [
          0,
          0.22222222222222224
         ]
        },
        "yaxis6": {
         "anchor": "x6",
         "domain": [
          0,
          0.22222222222222224
         ]
        }
       }
      },
      "text/html": [
       "<div id=\"09571002-c7e7-4fda-88f9-13aa256829a4\" style=\"height: 900px; width: 800px;\" class=\"plotly-graph-div\"></div><script type=\"text/javascript\">require([\"plotly\"], function(Plotly) { window.PLOTLYENV=window.PLOTLYENV || {};window.PLOTLYENV.BASE_URL=\"https://plot.ly\";Plotly.newPlot(\"09571002-c7e7-4fda-88f9-13aa256829a4\", [{\"name\": \"Q1\", \"x\": [2015, 2016, 2017, 2018], \"y\": [8557, 8158, 8619, 9202], \"type\": \"bar\", \"uid\": \"4a23b31c-c2ae-438d-a994-8708e51dba32\", \"xaxis\": \"x\", \"yaxis\": \"y\"}, {\"name\": \"Q2\", \"x\": [2015, 2016, 2017, 2018], \"y\": [8107, 8391, 8418, 8818], \"type\": \"bar\", \"uid\": \"923c1506-89e4-4149-8ebd-8b5aa484c1df\", \"xaxis\": \"x\", \"yaxis\": \"y\"}, {\"name\": \"Q3\", \"x\": [2015, 2016, 2017, 2018], \"y\": [8122, 8474, 8750, 9069], \"type\": \"bar\", \"uid\": \"dcc5fab5-9784-4eee-a511-06af7b02ca16\", \"xaxis\": \"x\", \"yaxis\": \"y\"}, {\"name\": \"Q4\", \"x\": [2015, 2016, 2017, 2018], \"y\": [7772, 8551, 8484, 8777], \"type\": \"bar\", \"uid\": \"06bd3d86-15ff-48b0-a4ba-46e720b523c5\", \"xaxis\": \"x\", \"yaxis\": \"y\"}, {\"name\": \"Q1\", \"x\": [2015, 2016, 2017, 2018], \"y\": [6473, 6090, 6011, 6286], \"type\": \"bar\", \"uid\": \"c27cfff1-fd3c-4fad-9046-27d831da8959\", \"xaxis\": \"x2\", \"yaxis\": \"y2\"}, {\"name\": \"Q2\", \"x\": [2015, 2016, 2017, 2018], \"y\": [5904, 6166, 6106, 5925], \"type\": \"bar\", \"uid\": \"f0d220dc-15ac-4e15-916b-3c12660f2f85\", \"xaxis\": \"x2\", \"yaxis\": \"y2\"}, {\"name\": \"Q3\", \"x\": [2015, 2016, 2017, 2018], \"y\": [6146, 6286, 6187, 6355], \"type\": \"bar\", \"uid\": \"f7173b8d-adb0-4616-9236-f1e46f311046\", \"xaxis\": \"x2\", \"yaxis\": \"y2\"}, {\"name\": \"Q4\", \"x\": [2015, 2016, 2017, 2018], \"y\": [6146, 6523, 6325, 6570], \"type\": \"bar\", \"uid\": \"e30b108e-512a-417c-a5ae-e36997b51c7d\", \"xaxis\": \"x2\", \"yaxis\": \"y2\"}, {\"name\": \"Q1\", \"x\": [2015, 2016, 2017, 2018], \"y\": [5196, 4985, 5063, 5115], \"type\": \"bar\", \"uid\": \"41b3a408-fa12-4d0c-af6a-7fd24e03921a\", \"xaxis\": \"x3\", \"yaxis\": \"y3\"}, {\"name\": \"Q2\", \"x\": [2015, 2016, 2017, 2018], \"y\": [4763, 4471, 4594, 4585], \"type\": \"bar\", \"uid\": \"628253b9-2830-471f-b70d-29723dced77c\", \"xaxis\": \"x3\", \"yaxis\": \"y3\"}, {\"name\": \"Q3\", \"x\": [2015, 2016, 2017, 2018], \"y\": [4488, 4472, 4211, 4253], \"type\": \"bar\", \"uid\": \"092cda11-5e4b-49e6-bb6d-65ea84939bb3\", \"xaxis\": \"x3\", \"yaxis\": \"y3\"}, {\"name\": \"Q4\", \"x\": [2015, 2016, 2017, 2018], \"y\": [4557, 4835, 4501, 4718], \"type\": \"bar\", \"uid\": \"12ea6f75-211b-4086-b787-5c4c6975d3dd\", \"xaxis\": \"x3\", \"yaxis\": \"y3\"}, {\"name\": \"Q1\", \"x\": [2015, 2016, 2017, 2018], \"y\": [2714, 2798, 2754, 2651], \"type\": \"bar\", \"uid\": \"258a18eb-6190-4394-8514-940f17c9942a\", \"xaxis\": \"x4\", \"yaxis\": \"y4\"}, {\"name\": \"Q2\", \"x\": [2015, 2016, 2017, 2018], \"y\": [2611, 2723, 2634, 2547], \"type\": \"bar\", \"uid\": \"8348adb4-39cb-48c3-8c2e-8d284e6387db\", \"xaxis\": \"x4\", \"yaxis\": \"y4\"}, {\"name\": \"Q3\", \"x\": [2015, 2016, 2017, 2018], \"y\": [2681, 2689, 2635, 2590], \"type\": \"bar\", \"uid\": \"19fe079c-d0ab-4f83-9831-7b0c52a763d7\", \"xaxis\": \"x4\", \"yaxis\": \"y4\"}, {\"name\": \"Q4\", \"x\": [2015, 2016, 2017, 2018], \"y\": [2565, 2706, 2504, 2704], \"type\": \"bar\", \"uid\": \"dbfd8ef0-0dbf-47c4-8f48-991e876ab926\", \"xaxis\": \"x4\", \"yaxis\": \"y4\"}, {\"name\": \"Q1\", \"x\": [2015, 2016, 2017, 2018], \"y\": [2316, 2430, 2661, 2428], \"type\": \"bar\", \"uid\": \"1fab831f-30b8-4c68-a80d-b152e2f9c3b2\", \"xaxis\": \"x5\", \"yaxis\": \"y5\"}, {\"name\": \"Q2\", \"x\": [2015, 2016, 2017, 2018], \"y\": [2409, 2548, 2694, 2663], \"type\": \"bar\", \"uid\": \"46586e4b-ca9a-4e78-bdb7-027b82861795\", \"xaxis\": \"x5\", \"yaxis\": \"y5\"}, {\"name\": \"Q3\", \"x\": [2015, 2016, 2017, 2018], \"y\": [2513, 2819, 2591, 2717], \"type\": \"bar\", \"uid\": \"0743cae0-ddeb-4ec5-be98-85a0fc3a4038\", \"xaxis\": \"x5\", \"yaxis\": \"y5\"}, {\"name\": \"Q4\", \"x\": [2015, 2016, 2017, 2018], \"y\": [2522, 2689, 2552, 2673], \"type\": \"bar\", \"uid\": \"fe4d004e-500c-4709-b3f9-5cfa60b6c587\", \"xaxis\": \"x5\", \"yaxis\": \"y5\"}, {\"name\": \"Q1\", \"x\": [2015, 2016, 2017, 2018], \"y\": [1468, 1461, 1676, 1576], \"type\": \"bar\", \"uid\": \"d28b3567-52ec-4cbb-9517-c6ebbe6dd4b1\", \"xaxis\": \"x6\", \"yaxis\": \"y6\"}, {\"name\": \"Q2\", \"x\": [2015, 2016, 2017, 2018], \"y\": [1957, 1853, 1949, 2031], \"type\": \"bar\", \"uid\": \"f40c0c45-fb8d-4d18-baf7-1b48a06919fc\", \"xaxis\": \"x6\", \"yaxis\": \"y6\"}, {\"name\": \"Q3\", \"x\": [2015, 2016, 2017, 2018], \"y\": [1967, 2019, 2071, 2119], \"type\": \"bar\", \"uid\": \"1b6e1550-4fba-436a-97ab-459d09db09e7\", \"xaxis\": \"x6\", \"yaxis\": \"y6\"}, {\"name\": \"Q4\", \"x\": [2015, 2016, 2017, 2018], \"y\": [1688, 1844, 1784, 1817], \"type\": \"bar\", \"uid\": \"37013cc4-2fc8-4c3b-bb43-4f02b3f09bc5\", \"xaxis\": \"x6\", \"yaxis\": \"y6\"}], {\"annotations\": [{\"font\": {\"size\": 16}, \"showarrow\": false, \"text\": \"EMS Call Per <br> Quarter in SICK\", \"x\": 0.225, \"xanchor\": \"center\", \"xref\": \"paper\", \"y\": 1.0, \"yanchor\": \"bottom\", \"yref\": \"paper\"}, {\"font\": {\"size\": 16}, \"showarrow\": false, \"text\": \"EMS Call Per <br> Quarter in FALL\", \"x\": 0.775, \"xanchor\": \"center\", \"xref\": \"paper\", \"y\": 1.0, \"yanchor\": \"bottom\", \"yref\": \"paper\"}, {\"font\": {\"size\": 16}, \"showarrow\": false, \"text\": \"EMS Call Per <br> Quarter in BREATHING\", \"x\": 0.225, \"xanchor\": \"center\", \"xref\": \"paper\", \"y\": 0.6111111111111112, \"yanchor\": \"bottom\", \"yref\": \"paper\"}, {\"font\": {\"size\": 16}, \"showarrow\": false, \"text\": \"EMS Call Per <br> Quarter in CHEST PAIN\", \"x\": 0.775, \"xanchor\": \"center\", \"xref\": \"paper\", \"y\": 0.6111111111111112, \"yanchor\": \"bottom\", \"yref\": \"paper\"}, {\"font\": {\"size\": 16}, \"showarrow\": false, \"text\": \"EMS Call Per <br> Quarter in UNCONSCIOUS\", \"x\": 0.225, \"xanchor\": \"center\", \"xref\": \"paper\", \"y\": 0.22222222222222224, \"yanchor\": \"bottom\", \"yref\": \"paper\"}, {\"font\": {\"size\": 16}, \"showarrow\": false, \"text\": \"EMS Call Per <br> Quarter in UNKNOWN\", \"x\": 0.775, \"xanchor\": \"center\", \"xref\": \"paper\", \"y\": 0.22222222222222224, \"yanchor\": \"bottom\", \"yref\": \"paper\"}], \"xaxis\": {\"anchor\": \"y\", \"domain\": [0.0, 0.45]}, \"yaxis\": {\"anchor\": \"x\", \"domain\": [0.7777777777777778, 1.0]}, \"xaxis2\": {\"anchor\": \"y2\", \"domain\": [0.55, 1.0]}, \"yaxis2\": {\"anchor\": \"x2\", \"domain\": [0.7777777777777778, 1.0]}, \"xaxis3\": {\"anchor\": \"y3\", \"domain\": [0.0, 0.45]}, \"yaxis3\": {\"anchor\": \"x3\", \"domain\": [0.3888888888888889, 0.6111111111111112]}, \"xaxis4\": {\"anchor\": \"y4\", \"domain\": [0.55, 1.0]}, \"yaxis4\": {\"anchor\": \"x4\", \"domain\": [0.3888888888888889, 0.6111111111111112]}, \"xaxis5\": {\"anchor\": \"y5\", \"domain\": [0.0, 0.45]}, \"yaxis5\": {\"anchor\": \"x5\", \"domain\": [0.0, 0.22222222222222224]}, \"xaxis6\": {\"anchor\": \"y6\", \"domain\": [0.55, 1.0]}, \"yaxis6\": {\"anchor\": \"x6\", \"domain\": [0.0, 0.22222222222222224]}, \"margin\": {\"b\": 50, \"l\": 50, \"pad\": 0, \"r\": 50, \"t\": 20}, \"height\": 900, \"width\": 800, \"showlegend\": false, \"colorway\": [\"#023eff\", \"#ff7c00\", \"#1ac938\", \"#e8000b\"]}, {\"showLink\": false, \"linkText\": \"Export to plot.ly\", \"plotlyServerURL\": \"https://plot.ly\"})});</script>"
      ],
      "text/vnd.plotly.v1+html": [
       "<div id=\"09571002-c7e7-4fda-88f9-13aa256829a4\" style=\"height: 900px; width: 800px;\" class=\"plotly-graph-div\"></div><script type=\"text/javascript\">require([\"plotly\"], function(Plotly) { window.PLOTLYENV=window.PLOTLYENV || {};window.PLOTLYENV.BASE_URL=\"https://plot.ly\";Plotly.newPlot(\"09571002-c7e7-4fda-88f9-13aa256829a4\", [{\"name\": \"Q1\", \"x\": [2015, 2016, 2017, 2018], \"y\": [8557, 8158, 8619, 9202], \"type\": \"bar\", \"uid\": \"4a23b31c-c2ae-438d-a994-8708e51dba32\", \"xaxis\": \"x\", \"yaxis\": \"y\"}, {\"name\": \"Q2\", \"x\": [2015, 2016, 2017, 2018], \"y\": [8107, 8391, 8418, 8818], \"type\": \"bar\", \"uid\": \"923c1506-89e4-4149-8ebd-8b5aa484c1df\", \"xaxis\": \"x\", \"yaxis\": \"y\"}, {\"name\": \"Q3\", \"x\": [2015, 2016, 2017, 2018], \"y\": [8122, 8474, 8750, 9069], \"type\": \"bar\", \"uid\": \"dcc5fab5-9784-4eee-a511-06af7b02ca16\", \"xaxis\": \"x\", \"yaxis\": \"y\"}, {\"name\": \"Q4\", \"x\": [2015, 2016, 2017, 2018], \"y\": [7772, 8551, 8484, 8777], \"type\": \"bar\", \"uid\": \"06bd3d86-15ff-48b0-a4ba-46e720b523c5\", \"xaxis\": \"x\", \"yaxis\": \"y\"}, {\"name\": \"Q1\", \"x\": [2015, 2016, 2017, 2018], \"y\": [6473, 6090, 6011, 6286], \"type\": \"bar\", \"uid\": \"c27cfff1-fd3c-4fad-9046-27d831da8959\", \"xaxis\": \"x2\", \"yaxis\": \"y2\"}, {\"name\": \"Q2\", \"x\": [2015, 2016, 2017, 2018], \"y\": [5904, 6166, 6106, 5925], \"type\": \"bar\", \"uid\": \"f0d220dc-15ac-4e15-916b-3c12660f2f85\", \"xaxis\": \"x2\", \"yaxis\": \"y2\"}, {\"name\": \"Q3\", \"x\": [2015, 2016, 2017, 2018], \"y\": [6146, 6286, 6187, 6355], \"type\": \"bar\", \"uid\": \"f7173b8d-adb0-4616-9236-f1e46f311046\", \"xaxis\": \"x2\", \"yaxis\": \"y2\"}, {\"name\": \"Q4\", \"x\": [2015, 2016, 2017, 2018], \"y\": [6146, 6523, 6325, 6570], \"type\": \"bar\", \"uid\": \"e30b108e-512a-417c-a5ae-e36997b51c7d\", \"xaxis\": \"x2\", \"yaxis\": \"y2\"}, {\"name\": \"Q1\", \"x\": [2015, 2016, 2017, 2018], \"y\": [5196, 4985, 5063, 5115], \"type\": \"bar\", \"uid\": \"41b3a408-fa12-4d0c-af6a-7fd24e03921a\", \"xaxis\": \"x3\", \"yaxis\": \"y3\"}, {\"name\": \"Q2\", \"x\": [2015, 2016, 2017, 2018], \"y\": [4763, 4471, 4594, 4585], \"type\": \"bar\", \"uid\": \"628253b9-2830-471f-b70d-29723dced77c\", \"xaxis\": \"x3\", \"yaxis\": \"y3\"}, {\"name\": \"Q3\", \"x\": [2015, 2016, 2017, 2018], \"y\": [4488, 4472, 4211, 4253], \"type\": \"bar\", \"uid\": \"092cda11-5e4b-49e6-bb6d-65ea84939bb3\", \"xaxis\": \"x3\", \"yaxis\": \"y3\"}, {\"name\": \"Q4\", \"x\": [2015, 2016, 2017, 2018], \"y\": [4557, 4835, 4501, 4718], \"type\": \"bar\", \"uid\": \"12ea6f75-211b-4086-b787-5c4c6975d3dd\", \"xaxis\": \"x3\", \"yaxis\": \"y3\"}, {\"name\": \"Q1\", \"x\": [2015, 2016, 2017, 2018], \"y\": [2714, 2798, 2754, 2651], \"type\": \"bar\", \"uid\": \"258a18eb-6190-4394-8514-940f17c9942a\", \"xaxis\": \"x4\", \"yaxis\": \"y4\"}, {\"name\": \"Q2\", \"x\": [2015, 2016, 2017, 2018], \"y\": [2611, 2723, 2634, 2547], \"type\": \"bar\", \"uid\": \"8348adb4-39cb-48c3-8c2e-8d284e6387db\", \"xaxis\": \"x4\", \"yaxis\": \"y4\"}, {\"name\": \"Q3\", \"x\": [2015, 2016, 2017, 2018], \"y\": [2681, 2689, 2635, 2590], \"type\": \"bar\", \"uid\": \"19fe079c-d0ab-4f83-9831-7b0c52a763d7\", \"xaxis\": \"x4\", \"yaxis\": \"y4\"}, {\"name\": \"Q4\", \"x\": [2015, 2016, 2017, 2018], \"y\": [2565, 2706, 2504, 2704], \"type\": \"bar\", \"uid\": \"dbfd8ef0-0dbf-47c4-8f48-991e876ab926\", \"xaxis\": \"x4\", \"yaxis\": \"y4\"}, {\"name\": \"Q1\", \"x\": [2015, 2016, 2017, 2018], \"y\": [2316, 2430, 2661, 2428], \"type\": \"bar\", \"uid\": \"1fab831f-30b8-4c68-a80d-b152e2f9c3b2\", \"xaxis\": \"x5\", \"yaxis\": \"y5\"}, {\"name\": \"Q2\", \"x\": [2015, 2016, 2017, 2018], \"y\": [2409, 2548, 2694, 2663], \"type\": \"bar\", \"uid\": \"46586e4b-ca9a-4e78-bdb7-027b82861795\", \"xaxis\": \"x5\", \"yaxis\": \"y5\"}, {\"name\": \"Q3\", \"x\": [2015, 2016, 2017, 2018], \"y\": [2513, 2819, 2591, 2717], \"type\": \"bar\", \"uid\": \"0743cae0-ddeb-4ec5-be98-85a0fc3a4038\", \"xaxis\": \"x5\", \"yaxis\": \"y5\"}, {\"name\": \"Q4\", \"x\": [2015, 2016, 2017, 2018], \"y\": [2522, 2689, 2552, 2673], \"type\": \"bar\", \"uid\": \"fe4d004e-500c-4709-b3f9-5cfa60b6c587\", \"xaxis\": \"x5\", \"yaxis\": \"y5\"}, {\"name\": \"Q1\", \"x\": [2015, 2016, 2017, 2018], \"y\": [1468, 1461, 1676, 1576], \"type\": \"bar\", \"uid\": \"d28b3567-52ec-4cbb-9517-c6ebbe6dd4b1\", \"xaxis\": \"x6\", \"yaxis\": \"y6\"}, {\"name\": \"Q2\", \"x\": [2015, 2016, 2017, 2018], \"y\": [1957, 1853, 1949, 2031], \"type\": \"bar\", \"uid\": \"f40c0c45-fb8d-4d18-baf7-1b48a06919fc\", \"xaxis\": \"x6\", \"yaxis\": \"y6\"}, {\"name\": \"Q3\", \"x\": [2015, 2016, 2017, 2018], \"y\": [1967, 2019, 2071, 2119], \"type\": \"bar\", \"uid\": \"1b6e1550-4fba-436a-97ab-459d09db09e7\", \"xaxis\": \"x6\", \"yaxis\": \"y6\"}, {\"name\": \"Q4\", \"x\": [2015, 2016, 2017, 2018], \"y\": [1688, 1844, 1784, 1817], \"type\": \"bar\", \"uid\": \"37013cc4-2fc8-4c3b-bb43-4f02b3f09bc5\", \"xaxis\": \"x6\", \"yaxis\": \"y6\"}], {\"annotations\": [{\"font\": {\"size\": 16}, \"showarrow\": false, \"text\": \"EMS Call Per <br> Quarter in SICK\", \"x\": 0.225, \"xanchor\": \"center\", \"xref\": \"paper\", \"y\": 1.0, \"yanchor\": \"bottom\", \"yref\": \"paper\"}, {\"font\": {\"size\": 16}, \"showarrow\": false, \"text\": \"EMS Call Per <br> Quarter in FALL\", \"x\": 0.775, \"xanchor\": \"center\", \"xref\": \"paper\", \"y\": 1.0, \"yanchor\": \"bottom\", \"yref\": \"paper\"}, {\"font\": {\"size\": 16}, \"showarrow\": false, \"text\": \"EMS Call Per <br> Quarter in BREATHING\", \"x\": 0.225, \"xanchor\": \"center\", \"xref\": \"paper\", \"y\": 0.6111111111111112, \"yanchor\": \"bottom\", \"yref\": \"paper\"}, {\"font\": {\"size\": 16}, \"showarrow\": false, \"text\": \"EMS Call Per <br> Quarter in CHEST PAIN\", \"x\": 0.775, \"xanchor\": \"center\", \"xref\": \"paper\", \"y\": 0.6111111111111112, \"yanchor\": \"bottom\", \"yref\": \"paper\"}, {\"font\": {\"size\": 16}, \"showarrow\": false, \"text\": \"EMS Call Per <br> Quarter in UNCONSCIOUS\", \"x\": 0.225, \"xanchor\": \"center\", \"xref\": \"paper\", \"y\": 0.22222222222222224, \"yanchor\": \"bottom\", \"yref\": \"paper\"}, {\"font\": {\"size\": 16}, \"showarrow\": false, \"text\": \"EMS Call Per <br> Quarter in UNKNOWN\", \"x\": 0.775, \"xanchor\": \"center\", \"xref\": \"paper\", \"y\": 0.22222222222222224, \"yanchor\": \"bottom\", \"yref\": \"paper\"}], \"xaxis\": {\"anchor\": \"y\", \"domain\": [0.0, 0.45]}, \"yaxis\": {\"anchor\": \"x\", \"domain\": [0.7777777777777778, 1.0]}, \"xaxis2\": {\"anchor\": \"y2\", \"domain\": [0.55, 1.0]}, \"yaxis2\": {\"anchor\": \"x2\", \"domain\": [0.7777777777777778, 1.0]}, \"xaxis3\": {\"anchor\": \"y3\", \"domain\": [0.0, 0.45]}, \"yaxis3\": {\"anchor\": \"x3\", \"domain\": [0.3888888888888889, 0.6111111111111112]}, \"xaxis4\": {\"anchor\": \"y4\", \"domain\": [0.55, 1.0]}, \"yaxis4\": {\"anchor\": \"x4\", \"domain\": [0.3888888888888889, 0.6111111111111112]}, \"xaxis5\": {\"anchor\": \"y5\", \"domain\": [0.0, 0.45]}, \"yaxis5\": {\"anchor\": \"x5\", \"domain\": [0.0, 0.22222222222222224]}, \"xaxis6\": {\"anchor\": \"y6\", \"domain\": [0.55, 1.0]}, \"yaxis6\": {\"anchor\": \"x6\", \"domain\": [0.0, 0.22222222222222224]}, \"margin\": {\"b\": 50, \"l\": 50, \"pad\": 0, \"r\": 50, \"t\": 20}, \"height\": 900, \"width\": 800, \"showlegend\": false, \"colorway\": [\"#023eff\", \"#ff7c00\", \"#1ac938\", \"#e8000b\"]}, {\"showLink\": false, \"linkText\": \"Export to plot.ly\", \"plotlyServerURL\": \"https://plot.ly\"})});</script>"
      ]
     },
     "metadata": {},
     "output_type": "display_data"
    }
   ],
   "source": [
    "grid_bar_plot(df_ems, col='DESCRIPTION_SHORT', x=['SICK','FALL','BREATHING','CHEST PAIN','UNCONSCIOUS','UNKNOWN'])"
   ]
  },
  {
   "cell_type": "code",
   "execution_count": 259,
   "metadata": {
    "ExecuteTime": {
     "end_time": "2019-02-18T19:53:08.474376Z",
     "start_time": "2019-02-18T19:53:08.305780Z"
    }
   },
   "outputs": [
    {
     "data": {
      "application/vnd.plotly.v1+json": {
       "config": {
        "linkText": "Export to plot.ly",
        "plotlyServerURL": "https://plot.ly",
        "showLink": false
       },
       "data": [
        {
         "labels": [
          "E1",
          "E3",
          "E0",
          "E2",
          "E4",
          "E5",
          "F4",
          "F1",
          "F2",
          "M1",
          "M2",
          "M3",
          "P1",
          "HR",
          "M4"
         ],
         "type": "pie",
         "uid": "6540665b-1220-4cc6-9fcb-21eeac4dc49a",
         "values": [
          286140,
          147817,
          142262,
          118360,
          46394,
          32592,
          5695,
          1321,
          73,
          27,
          8,
          4,
          2,
          1,
          1
         ]
        }
       ],
       "layout": {
        "height": 600,
        "title": {
         "text": "Pie Chart for PRIORITY in EMS Dispatch Call"
        },
        "width": 800
       }
      },
      "text/html": [
       "<div id=\"41a7dac2-d58e-4576-9b15-974524eeb0e8\" style=\"height: 600px; width: 800px;\" class=\"plotly-graph-div\"></div><script type=\"text/javascript\">require([\"plotly\"], function(Plotly) { window.PLOTLYENV=window.PLOTLYENV || {};window.PLOTLYENV.BASE_URL=\"https://plot.ly\";Plotly.newPlot(\"41a7dac2-d58e-4576-9b15-974524eeb0e8\", [{\"labels\": [\"E1\", \"E3\", \"E0\", \"E2\", \"E4\", \"E5\", \"F4\", \"F1\", \"F2\", \"M1\", \"M2\", \"M3\", \"P1\", \"HR\", \"M4\"], \"values\": [286140, 147817, 142262, 118360, 46394, 32592, 5695, 1321, 73, 27, 8, 4, 2, 1, 1], \"type\": \"pie\", \"uid\": \"6540665b-1220-4cc6-9fcb-21eeac4dc49a\"}], {\"title\": {\"text\": \"Pie Chart for PRIORITY in EMS Dispatch Call\"}, \"height\": 600, \"width\": 800}, {\"showLink\": false, \"linkText\": \"Export to plot.ly\", \"plotlyServerURL\": \"https://plot.ly\"})});</script>"
      ],
      "text/vnd.plotly.v1+html": [
       "<div id=\"41a7dac2-d58e-4576-9b15-974524eeb0e8\" style=\"height: 600px; width: 800px;\" class=\"plotly-graph-div\"></div><script type=\"text/javascript\">require([\"plotly\"], function(Plotly) { window.PLOTLYENV=window.PLOTLYENV || {};window.PLOTLYENV.BASE_URL=\"https://plot.ly\";Plotly.newPlot(\"41a7dac2-d58e-4576-9b15-974524eeb0e8\", [{\"labels\": [\"E1\", \"E3\", \"E0\", \"E2\", \"E4\", \"E5\", \"F4\", \"F1\", \"F2\", \"M1\", \"M2\", \"M3\", \"P1\", \"HR\", \"M4\"], \"values\": [286140, 147817, 142262, 118360, 46394, 32592, 5695, 1321, 73, 27, 8, 4, 2, 1, 1], \"type\": \"pie\", \"uid\": \"6540665b-1220-4cc6-9fcb-21eeac4dc49a\"}], {\"title\": {\"text\": \"Pie Chart for PRIORITY in EMS Dispatch Call\"}, \"height\": 600, \"width\": 800}, {\"showLink\": false, \"linkText\": \"Export to plot.ly\", \"plotlyServerURL\": \"https://plot.ly\"})});</script>"
      ]
     },
     "metadata": {},
     "output_type": "display_data"
    }
   ],
   "source": [
    "trace = pie_trace(df_ems, 'PRIORITY',top=False)\n",
    "\n",
    "layout = go.Layout(title=('Pie Chart for PRIORITY '\n",
    "                          'in EMS Dispatch Call'))\n",
    "fig = go.Figure(data=trace,layout=layout)\n",
    "fig['layout'].update(height=600, width=800)\n",
    "iplot(fig)"
   ]
  },
  {
   "cell_type": "markdown",
   "metadata": {},
   "source": [
    "## Fourty Cities Represent 80% of EMS Calls"
   ]
  },
  {
   "cell_type": "code",
   "execution_count": 294,
   "metadata": {
    "ExecuteTime": {
     "end_time": "2019-02-18T20:26:06.600693Z",
     "start_time": "2019-02-18T20:26:06.438389Z"
    }
   },
   "outputs": [
    {
     "data": {
      "text/plain": [
       "0.9424437393764803"
      ]
     },
     "execution_count": 294,
     "metadata": {},
     "output_type": "execute_result"
    }
   ],
   "source": [
    "(df_ems['CITY_NAME'].value_counts()/\n",
    " df_ems['CITY_NAME'].value_counts().sum())[:70].sum()"
   ]
  },
  {
   "cell_type": "code",
   "execution_count": 293,
   "metadata": {
    "ExecuteTime": {
     "end_time": "2019-02-18T20:25:51.914778Z",
     "start_time": "2019-02-18T20:25:51.808535Z"
    }
   },
   "outputs": [
    {
     "data": {
      "text/plain": [
       "BRADDOCK HILLS         2134\n",
       "OHIO                   2130\n",
       "SPRINGDALE BORO        2089\n",
       "CHURCHILL              1918\n",
       "VERONA                 1845\n",
       "PORT VUE               1822\n",
       "FORWARD                1712\n",
       "FOX CHAPEL             1614\n",
       "VERSAILLES             1594\n",
       "INGRAM                 1414\n",
       "EDGEWOOD               1408\n",
       "FRAZER                 1234\n",
       "RESERVE                1192\n",
       "DRAVOSBURG             1188\n",
       "EAST MCKEESPORT        1157\n",
       "EAST DEER              1150\n",
       "ELIZABETH BORO         1128\n",
       "LIBERTY                1121\n",
       "MOON                   1092\n",
       "BLAWNOX                1028\n",
       "ASPINWALL              1026\n",
       "SEWICKLEY               994\n",
       "SPRINGDALE TOWNSHIP     951\n",
       "CHESWICK                856\n",
       "FAWN                    855\n",
       "WHITAKER                848\n",
       "EMSWORTH                748\n",
       "BALDWIN TOWNSHIP        738\n",
       "HEIDELBERG              706\n",
       "OAKDALE                 573\n",
       "LINCOLN                 564\n",
       "BEN AVON                472\n",
       "NEVILLE                 450\n",
       "CHALFANT                436\n",
       "LEETSDALE               420\n",
       "CORAOPOLIS              391\n",
       "WALL                    358\n",
       "WEST ELIZABETH          327\n",
       "BRADFORD WOODS          318\n",
       "EDGEWORTH               302\n",
       "ALEPPO                  296\n",
       "BETHEL PARK             293\n",
       "KILBUCK                 247\n",
       "SEWICKLEY HEIGHTS       182\n",
       "SOUTH VERSAILLES        176\n",
       "SOUTH PARK              176\n",
       "ROSSLYN FARMS           157\n",
       "CRESCENT                151\n",
       "BELL ACRES              121\n",
       "SEWICKLEY HILLS         121\n",
       "LEET                    118\n",
       "PENNSBURY VILLAGE       117\n",
       "GLEN OSBORNE            116\n",
       "THORNBURG               112\n",
       "GLENFIELD                77\n",
       "BEN AVON HEIGHTS         75\n",
       "UPPER ST CLAIR           74\n",
       "HAYSVILLE                21\n",
       "MCDONALD                  1\n",
       "Name: CITY_NAME, dtype: int64"
      ]
     },
     "execution_count": 293,
     "metadata": {},
     "output_type": "execute_result"
    }
   ],
   "source": [
    "df_ems['CITY_NAME'].value_counts()[70:]"
   ]
  },
  {
   "cell_type": "code",
   "execution_count": 283,
   "metadata": {
    "ExecuteTime": {
     "end_time": "2019-02-18T20:19:40.190862Z",
     "start_time": "2019-02-18T20:19:40.093387Z"
    }
   },
   "outputs": [
    {
     "data": {
      "text/plain": [
       "['PITTSBURGH',\n",
       " 'MCKEESPORT',\n",
       " 'PENN HILLS',\n",
       " 'MOUNT LEBANON',\n",
       " 'ROSS',\n",
       " 'WILKINSBURG',\n",
       " 'MCCANDLESS',\n",
       " 'WEST MIFFLIN',\n",
       " 'BALDWIN BORO',\n",
       " 'SCOTT',\n",
       " 'PLUM',\n",
       " 'SHALER',\n",
       " 'ROBINSON',\n",
       " 'NORTH VERSAILLES',\n",
       " 'MUNHALL',\n",
       " 'SOUTH FAYETTE',\n",
       " 'WHITEHALL',\n",
       " 'MCKEES ROCKS',\n",
       " 'HARRISON',\n",
       " 'CLAIRTON',\n",
       " 'BRENTWOOD',\n",
       " 'KENNEDY',\n",
       " 'NORTH FAYETTE',\n",
       " 'JEFFERSON HILLS',\n",
       " 'PLEASANT HILLS',\n",
       " 'HAMPTON',\n",
       " 'STOWE',\n",
       " \"O'HARA\",\n",
       " 'BELLEVUE',\n",
       " 'HOMESTEAD',\n",
       " 'ELIZABETH TOWNSHIP',\n",
       " 'DUQUESNE',\n",
       " 'SWISSVALE',\n",
       " 'CARNEGIE',\n",
       " 'NORTH BRADDOCK',\n",
       " 'RICHLAND',\n",
       " 'WEST DEER',\n",
       " 'WHITE OAK',\n",
       " 'OAKMONT',\n",
       " 'CASTLE SHANNON']"
      ]
     },
     "execution_count": 283,
     "metadata": {},
     "output_type": "execute_result"
    }
   ],
   "source": [
    "df_ems['CITY_NAME'].value_counts()[:40].index.tolist()"
   ]
  },
  {
   "cell_type": "code",
   "execution_count": 226,
   "metadata": {
    "ExecuteTime": {
     "end_time": "2019-02-18T18:32:16.501001Z",
     "start_time": "2019-02-18T18:32:16.488816Z"
    }
   },
   "outputs": [
    {
     "data": {
      "text/html": [
       "<div>\n",
       "<style scoped>\n",
       "    .dataframe tbody tr th:only-of-type {\n",
       "        vertical-align: middle;\n",
       "    }\n",
       "\n",
       "    .dataframe tbody tr th {\n",
       "        vertical-align: top;\n",
       "    }\n",
       "\n",
       "    .dataframe thead th {\n",
       "        text-align: right;\n",
       "    }\n",
       "</style>\n",
       "<table border=\"1\" class=\"dataframe\">\n",
       "  <thead>\n",
       "    <tr style=\"text-align: right;\">\n",
       "      <th></th>\n",
       "      <th>CITY_NAME</th>\n",
       "      <th>2015</th>\n",
       "      <th>2016</th>\n",
       "      <th>2017</th>\n",
       "      <th>POP_AVG</th>\n",
       "    </tr>\n",
       "  </thead>\n",
       "  <tbody>\n",
       "    <tr>\n",
       "      <th>0</th>\n",
       "      <td>ALEPPO</td>\n",
       "      <td>1198</td>\n",
       "      <td>1191</td>\n",
       "      <td>1184</td>\n",
       "      <td>1191</td>\n",
       "    </tr>\n",
       "    <tr>\n",
       "      <th>1</th>\n",
       "      <td>ASPINWALL</td>\n",
       "      <td>2770</td>\n",
       "      <td>2749</td>\n",
       "      <td>2732</td>\n",
       "      <td>2750</td>\n",
       "    </tr>\n",
       "    <tr>\n",
       "      <th>2</th>\n",
       "      <td>AVALON</td>\n",
       "      <td>4651</td>\n",
       "      <td>4616</td>\n",
       "      <td>4586</td>\n",
       "      <td>4617</td>\n",
       "    </tr>\n",
       "    <tr>\n",
       "      <th>3</th>\n",
       "      <td>BALDWIN BORO</td>\n",
       "      <td>19802</td>\n",
       "      <td>19741</td>\n",
       "      <td>19610</td>\n",
       "      <td>19717</td>\n",
       "    </tr>\n",
       "    <tr>\n",
       "      <th>4</th>\n",
       "      <td>BALDWIN TOWNSHIP</td>\n",
       "      <td>19802</td>\n",
       "      <td>19741</td>\n",
       "      <td>19610</td>\n",
       "      <td>19717</td>\n",
       "    </tr>\n",
       "  </tbody>\n",
       "</table>\n",
       "</div>"
      ],
      "text/plain": [
       "          CITY_NAME   2015   2016   2017  POP_AVG\n",
       "0            ALEPPO   1198   1191   1184     1191\n",
       "1         ASPINWALL   2770   2749   2732     2750\n",
       "2            AVALON   4651   4616   4586     4617\n",
       "3      BALDWIN BORO  19802  19741  19610    19717\n",
       "4  BALDWIN TOWNSHIP  19802  19741  19610    19717"
      ]
     },
     "execution_count": 226,
     "metadata": {},
     "output_type": "execute_result"
    }
   ],
   "source": [
    "# Convert population dictionary to dataframe\n",
    "# pop_df=pd.DataFrame.from_dict(pop_dict,orient='index')\n",
    "# pop_df['POP_AVG']=pop_df.mean(axis=1).astype('int')\n",
    "# pop_df = pop_df.rename_axis(\"CITY_NAME\").reset_index()\n",
    "pop_df = load_obj('pop_df')\n",
    "pop_df.head()"
   ]
  },
  {
   "cell_type": "code",
   "execution_count": 227,
   "metadata": {
    "ExecuteTime": {
     "end_time": "2019-02-18T18:47:38.256770Z",
     "start_time": "2019-02-18T18:47:38.124746Z"
    }
   },
   "outputs": [],
   "source": [
    "# Build a dataframe with accumulative calls for each city\n",
    "df_total_call=(df_ems\n",
    "  .groupby(['CITY_NAME']).size().reset_index(name='TOTAL_CALL')\n",
    "  .sort_values(by=['TOTAL_CALL'],ascending=False))"
   ]
  },
  {
   "cell_type": "code",
   "execution_count": 228,
   "metadata": {
    "ExecuteTime": {
     "end_time": "2019-02-18T18:47:39.021249Z",
     "start_time": "2019-02-18T18:47:38.975129Z"
    }
   },
   "outputs": [
    {
     "data": {
      "text/html": [
       "<div>\n",
       "<style scoped>\n",
       "    .dataframe tbody tr th:only-of-type {\n",
       "        vertical-align: middle;\n",
       "    }\n",
       "\n",
       "    .dataframe tbody tr th {\n",
       "        vertical-align: top;\n",
       "    }\n",
       "\n",
       "    .dataframe thead th {\n",
       "        text-align: right;\n",
       "    }\n",
       "</style>\n",
       "<table border=\"1\" class=\"dataframe\">\n",
       "  <thead>\n",
       "    <tr style=\"text-align: right;\">\n",
       "      <th></th>\n",
       "      <th>CITY_NAME</th>\n",
       "      <th>TOTAL_CALL</th>\n",
       "      <th>POP_AVG</th>\n",
       "    </tr>\n",
       "  </thead>\n",
       "  <tbody>\n",
       "    <tr>\n",
       "      <th>0</th>\n",
       "      <td>PITTSBURGH</td>\n",
       "      <td>250676</td>\n",
       "      <td>303959</td>\n",
       "    </tr>\n",
       "    <tr>\n",
       "      <th>1</th>\n",
       "      <td>MCKEESPORT</td>\n",
       "      <td>27228</td>\n",
       "      <td>19374</td>\n",
       "    </tr>\n",
       "    <tr>\n",
       "      <th>2</th>\n",
       "      <td>PENN HILLS</td>\n",
       "      <td>26626</td>\n",
       "      <td>41576</td>\n",
       "    </tr>\n",
       "    <tr>\n",
       "      <th>3</th>\n",
       "      <td>MOUNT LEBANON</td>\n",
       "      <td>23044</td>\n",
       "      <td>32565</td>\n",
       "    </tr>\n",
       "    <tr>\n",
       "      <th>4</th>\n",
       "      <td>ROSS</td>\n",
       "      <td>19019</td>\n",
       "      <td>5780</td>\n",
       "    </tr>\n",
       "  </tbody>\n",
       "</table>\n",
       "</div>"
      ],
      "text/plain": [
       "       CITY_NAME  TOTAL_CALL  POP_AVG\n",
       "0     PITTSBURGH      250676   303959\n",
       "1     MCKEESPORT       27228    19374\n",
       "2     PENN HILLS       26626    41576\n",
       "3  MOUNT LEBANON       23044    32565\n",
       "4           ROSS       19019     5780"
      ]
     },
     "execution_count": 228,
     "metadata": {},
     "output_type": "execute_result"
    }
   ],
   "source": [
    "# Add average population column to the dataframe\n",
    "df_total_call = pd.merge(df_total_call, \n",
    "                         pop_df[['CITY_NAME','POP_AVG']], \n",
    "                         how='left',on='CITY_NAME')\n",
    "df_total_call.head()"
   ]
  },
  {
   "cell_type": "code",
   "execution_count": 269,
   "metadata": {
    "ExecuteTime": {
     "end_time": "2019-02-18T20:00:51.574010Z",
     "start_time": "2019-02-18T20:00:51.568638Z"
    }
   },
   "outputs": [],
   "source": [
    "def get_description_table(df, df_total_call, description):\n",
    "    temp=(df[df['DESCRIPTION_SHORT'].isin(description)]\n",
    "          .groupby(['CITY_NAME','CALL_QUARTER',\n",
    "                    'DESCRIPTION_SHORT']).size()\n",
    "          .reset_index(name='COUNT')\n",
    "          )\n",
    "\n",
    "    temp = pd.merge(temp,df_total_call, how='left',on='CITY_NAME')\n",
    "#     temp['Call Ratio'] = round(temp.loc[:,description]/\n",
    "#                                temp.loc[:,'TOTAL_CALL'],3)\n",
    "\n",
    "    return temp"
   ]
  },
  {
   "cell_type": "code",
   "execution_count": 236,
   "metadata": {
    "ExecuteTime": {
     "end_time": "2019-02-18T19:24:32.184098Z",
     "start_time": "2019-02-18T19:24:32.175896Z"
    }
   },
   "outputs": [
    {
     "data": {
      "text/plain": [
       "['SICK',\n",
       " 'FALL',\n",
       " 'BREATHING',\n",
       " 'CHEST PAIN',\n",
       " 'UNCONSCIOUS',\n",
       " 'UNKNOWN',\n",
       " 'NON EMERGENCY TRANSPORT',\n",
       " 'HEMORRHAGE',\n",
       " 'ABDOMINAL PAIN',\n",
       " 'PSYCH']"
      ]
     },
     "execution_count": 236,
     "metadata": {},
     "output_type": "execute_result"
    }
   ],
   "source": [
    "top_10_description = labels[:10]\n",
    "top_10_description"
   ]
  },
  {
   "cell_type": "code",
   "execution_count": 268,
   "metadata": {
    "ExecuteTime": {
     "end_time": "2019-02-18T20:00:28.175034Z",
     "start_time": "2019-02-18T20:00:27.979633Z"
    }
   },
   "outputs": [
    {
     "data": {
      "text/html": [
       "<div>\n",
       "<style scoped>\n",
       "    .dataframe tbody tr th:only-of-type {\n",
       "        vertical-align: middle;\n",
       "    }\n",
       "\n",
       "    .dataframe tbody tr th {\n",
       "        vertical-align: top;\n",
       "    }\n",
       "\n",
       "    .dataframe thead th {\n",
       "        text-align: right;\n",
       "    }\n",
       "</style>\n",
       "<table border=\"1\" class=\"dataframe\">\n",
       "  <thead>\n",
       "    <tr style=\"text-align: right;\">\n",
       "      <th></th>\n",
       "      <th>CITY_NAME</th>\n",
       "      <th>CALL_QUARTER</th>\n",
       "      <th>DESCRIPTION_SHORT</th>\n",
       "      <th>COUNT</th>\n",
       "    </tr>\n",
       "  </thead>\n",
       "  <tbody>\n",
       "    <tr>\n",
       "      <th>0</th>\n",
       "      <td>ALEPPO</td>\n",
       "      <td>Q1</td>\n",
       "      <td>BREATHING</td>\n",
       "      <td>1</td>\n",
       "    </tr>\n",
       "    <tr>\n",
       "      <th>1</th>\n",
       "      <td>ALEPPO</td>\n",
       "      <td>Q1</td>\n",
       "      <td>CHEST PAIN</td>\n",
       "      <td>4</td>\n",
       "    </tr>\n",
       "    <tr>\n",
       "      <th>2</th>\n",
       "      <td>ALEPPO</td>\n",
       "      <td>Q1</td>\n",
       "      <td>FALL</td>\n",
       "      <td>6</td>\n",
       "    </tr>\n",
       "    <tr>\n",
       "      <th>3</th>\n",
       "      <td>ALEPPO</td>\n",
       "      <td>Q1</td>\n",
       "      <td>PSYCH</td>\n",
       "      <td>1</td>\n",
       "    </tr>\n",
       "    <tr>\n",
       "      <th>4</th>\n",
       "      <td>ALEPPO</td>\n",
       "      <td>Q1</td>\n",
       "      <td>SICK</td>\n",
       "      <td>2</td>\n",
       "    </tr>\n",
       "    <tr>\n",
       "      <th>5</th>\n",
       "      <td>ALEPPO</td>\n",
       "      <td>Q1</td>\n",
       "      <td>UNKNOWN</td>\n",
       "      <td>1</td>\n",
       "    </tr>\n",
       "    <tr>\n",
       "      <th>6</th>\n",
       "      <td>ALEPPO</td>\n",
       "      <td>Q2</td>\n",
       "      <td>BREATHING</td>\n",
       "      <td>2</td>\n",
       "    </tr>\n",
       "    <tr>\n",
       "      <th>7</th>\n",
       "      <td>ALEPPO</td>\n",
       "      <td>Q2</td>\n",
       "      <td>CHEST PAIN</td>\n",
       "      <td>1</td>\n",
       "    </tr>\n",
       "    <tr>\n",
       "      <th>8</th>\n",
       "      <td>ALEPPO</td>\n",
       "      <td>Q2</td>\n",
       "      <td>FALL</td>\n",
       "      <td>2</td>\n",
       "    </tr>\n",
       "    <tr>\n",
       "      <th>9</th>\n",
       "      <td>ALEPPO</td>\n",
       "      <td>Q2</td>\n",
       "      <td>HEMORRHAGE</td>\n",
       "      <td>1</td>\n",
       "    </tr>\n",
       "    <tr>\n",
       "      <th>10</th>\n",
       "      <td>ALEPPO</td>\n",
       "      <td>Q2</td>\n",
       "      <td>PSYCH</td>\n",
       "      <td>1</td>\n",
       "    </tr>\n",
       "    <tr>\n",
       "      <th>11</th>\n",
       "      <td>ALEPPO</td>\n",
       "      <td>Q2</td>\n",
       "      <td>SICK</td>\n",
       "      <td>5</td>\n",
       "    </tr>\n",
       "    <tr>\n",
       "      <th>12</th>\n",
       "      <td>ALEPPO</td>\n",
       "      <td>Q2</td>\n",
       "      <td>UNCONSCIOUS</td>\n",
       "      <td>2</td>\n",
       "    </tr>\n",
       "    <tr>\n",
       "      <th>13</th>\n",
       "      <td>ALEPPO</td>\n",
       "      <td>Q3</td>\n",
       "      <td>BREATHING</td>\n",
       "      <td>6</td>\n",
       "    </tr>\n",
       "    <tr>\n",
       "      <th>14</th>\n",
       "      <td>ALEPPO</td>\n",
       "      <td>Q3</td>\n",
       "      <td>CHEST PAIN</td>\n",
       "      <td>2</td>\n",
       "    </tr>\n",
       "    <tr>\n",
       "      <th>15</th>\n",
       "      <td>ALEPPO</td>\n",
       "      <td>Q3</td>\n",
       "      <td>FALL</td>\n",
       "      <td>3</td>\n",
       "    </tr>\n",
       "    <tr>\n",
       "      <th>16</th>\n",
       "      <td>ALEPPO</td>\n",
       "      <td>Q3</td>\n",
       "      <td>HEMORRHAGE</td>\n",
       "      <td>1</td>\n",
       "    </tr>\n",
       "    <tr>\n",
       "      <th>17</th>\n",
       "      <td>ALEPPO</td>\n",
       "      <td>Q3</td>\n",
       "      <td>PSYCH</td>\n",
       "      <td>1</td>\n",
       "    </tr>\n",
       "    <tr>\n",
       "      <th>18</th>\n",
       "      <td>ALEPPO</td>\n",
       "      <td>Q3</td>\n",
       "      <td>SICK</td>\n",
       "      <td>8</td>\n",
       "    </tr>\n",
       "    <tr>\n",
       "      <th>19</th>\n",
       "      <td>ALEPPO</td>\n",
       "      <td>Q3</td>\n",
       "      <td>UNCONSCIOUS</td>\n",
       "      <td>1</td>\n",
       "    </tr>\n",
       "    <tr>\n",
       "      <th>20</th>\n",
       "      <td>ALEPPO</td>\n",
       "      <td>Q4</td>\n",
       "      <td>ABDOMINAL PAIN</td>\n",
       "      <td>1</td>\n",
       "    </tr>\n",
       "    <tr>\n",
       "      <th>21</th>\n",
       "      <td>ALEPPO</td>\n",
       "      <td>Q4</td>\n",
       "      <td>BREATHING</td>\n",
       "      <td>8</td>\n",
       "    </tr>\n",
       "    <tr>\n",
       "      <th>22</th>\n",
       "      <td>ALEPPO</td>\n",
       "      <td>Q4</td>\n",
       "      <td>CHEST PAIN</td>\n",
       "      <td>1</td>\n",
       "    </tr>\n",
       "    <tr>\n",
       "      <th>23</th>\n",
       "      <td>ALEPPO</td>\n",
       "      <td>Q4</td>\n",
       "      <td>FALL</td>\n",
       "      <td>21</td>\n",
       "    </tr>\n",
       "    <tr>\n",
       "      <th>24</th>\n",
       "      <td>ALEPPO</td>\n",
       "      <td>Q4</td>\n",
       "      <td>HEMORRHAGE</td>\n",
       "      <td>3</td>\n",
       "    </tr>\n",
       "    <tr>\n",
       "      <th>25</th>\n",
       "      <td>ALEPPO</td>\n",
       "      <td>Q4</td>\n",
       "      <td>NON EMERGENCY TRANSPORT</td>\n",
       "      <td>5</td>\n",
       "    </tr>\n",
       "    <tr>\n",
       "      <th>26</th>\n",
       "      <td>ALEPPO</td>\n",
       "      <td>Q4</td>\n",
       "      <td>PSYCH</td>\n",
       "      <td>3</td>\n",
       "    </tr>\n",
       "    <tr>\n",
       "      <th>27</th>\n",
       "      <td>ALEPPO</td>\n",
       "      <td>Q4</td>\n",
       "      <td>SICK</td>\n",
       "      <td>13</td>\n",
       "    </tr>\n",
       "    <tr>\n",
       "      <th>28</th>\n",
       "      <td>ALEPPO</td>\n",
       "      <td>Q4</td>\n",
       "      <td>UNCONSCIOUS</td>\n",
       "      <td>3</td>\n",
       "    </tr>\n",
       "    <tr>\n",
       "      <th>29</th>\n",
       "      <td>ALEPPO</td>\n",
       "      <td>Q4</td>\n",
       "      <td>UNKNOWN</td>\n",
       "      <td>2</td>\n",
       "    </tr>\n",
       "    <tr>\n",
       "      <th>...</th>\n",
       "      <td>...</td>\n",
       "      <td>...</td>\n",
       "      <td>...</td>\n",
       "      <td>...</td>\n",
       "    </tr>\n",
       "    <tr>\n",
       "      <th>4469</th>\n",
       "      <td>WILMERDING</td>\n",
       "      <td>Q1</td>\n",
       "      <td>UNKNOWN</td>\n",
       "      <td>18</td>\n",
       "    </tr>\n",
       "    <tr>\n",
       "      <th>4470</th>\n",
       "      <td>WILMERDING</td>\n",
       "      <td>Q2</td>\n",
       "      <td>ABDOMINAL PAIN</td>\n",
       "      <td>34</td>\n",
       "    </tr>\n",
       "    <tr>\n",
       "      <th>4471</th>\n",
       "      <td>WILMERDING</td>\n",
       "      <td>Q2</td>\n",
       "      <td>BREATHING</td>\n",
       "      <td>70</td>\n",
       "    </tr>\n",
       "    <tr>\n",
       "      <th>4472</th>\n",
       "      <td>WILMERDING</td>\n",
       "      <td>Q2</td>\n",
       "      <td>CHEST PAIN</td>\n",
       "      <td>35</td>\n",
       "    </tr>\n",
       "    <tr>\n",
       "      <th>4473</th>\n",
       "      <td>WILMERDING</td>\n",
       "      <td>Q2</td>\n",
       "      <td>FALL</td>\n",
       "      <td>69</td>\n",
       "    </tr>\n",
       "    <tr>\n",
       "      <th>4474</th>\n",
       "      <td>WILMERDING</td>\n",
       "      <td>Q2</td>\n",
       "      <td>HEMORRHAGE</td>\n",
       "      <td>25</td>\n",
       "    </tr>\n",
       "    <tr>\n",
       "      <th>4475</th>\n",
       "      <td>WILMERDING</td>\n",
       "      <td>Q2</td>\n",
       "      <td>PSYCH</td>\n",
       "      <td>27</td>\n",
       "    </tr>\n",
       "    <tr>\n",
       "      <th>4476</th>\n",
       "      <td>WILMERDING</td>\n",
       "      <td>Q2</td>\n",
       "      <td>SICK</td>\n",
       "      <td>120</td>\n",
       "    </tr>\n",
       "    <tr>\n",
       "      <th>4477</th>\n",
       "      <td>WILMERDING</td>\n",
       "      <td>Q2</td>\n",
       "      <td>UNCONSCIOUS</td>\n",
       "      <td>27</td>\n",
       "    </tr>\n",
       "    <tr>\n",
       "      <th>4478</th>\n",
       "      <td>WILMERDING</td>\n",
       "      <td>Q2</td>\n",
       "      <td>UNKNOWN</td>\n",
       "      <td>29</td>\n",
       "    </tr>\n",
       "    <tr>\n",
       "      <th>4479</th>\n",
       "      <td>WILMERDING</td>\n",
       "      <td>Q3</td>\n",
       "      <td>ABDOMINAL PAIN</td>\n",
       "      <td>29</td>\n",
       "    </tr>\n",
       "    <tr>\n",
       "      <th>4480</th>\n",
       "      <td>WILMERDING</td>\n",
       "      <td>Q3</td>\n",
       "      <td>BREATHING</td>\n",
       "      <td>64</td>\n",
       "    </tr>\n",
       "    <tr>\n",
       "      <th>4481</th>\n",
       "      <td>WILMERDING</td>\n",
       "      <td>Q3</td>\n",
       "      <td>CHEST PAIN</td>\n",
       "      <td>51</td>\n",
       "    </tr>\n",
       "    <tr>\n",
       "      <th>4482</th>\n",
       "      <td>WILMERDING</td>\n",
       "      <td>Q3</td>\n",
       "      <td>FALL</td>\n",
       "      <td>70</td>\n",
       "    </tr>\n",
       "    <tr>\n",
       "      <th>4483</th>\n",
       "      <td>WILMERDING</td>\n",
       "      <td>Q3</td>\n",
       "      <td>HEMORRHAGE</td>\n",
       "      <td>25</td>\n",
       "    </tr>\n",
       "    <tr>\n",
       "      <th>4484</th>\n",
       "      <td>WILMERDING</td>\n",
       "      <td>Q3</td>\n",
       "      <td>NON EMERGENCY TRANSPORT</td>\n",
       "      <td>3</td>\n",
       "    </tr>\n",
       "    <tr>\n",
       "      <th>4485</th>\n",
       "      <td>WILMERDING</td>\n",
       "      <td>Q3</td>\n",
       "      <td>PSYCH</td>\n",
       "      <td>25</td>\n",
       "    </tr>\n",
       "    <tr>\n",
       "      <th>4486</th>\n",
       "      <td>WILMERDING</td>\n",
       "      <td>Q3</td>\n",
       "      <td>SICK</td>\n",
       "      <td>120</td>\n",
       "    </tr>\n",
       "    <tr>\n",
       "      <th>4487</th>\n",
       "      <td>WILMERDING</td>\n",
       "      <td>Q3</td>\n",
       "      <td>UNCONSCIOUS</td>\n",
       "      <td>30</td>\n",
       "    </tr>\n",
       "    <tr>\n",
       "      <th>4488</th>\n",
       "      <td>WILMERDING</td>\n",
       "      <td>Q3</td>\n",
       "      <td>UNKNOWN</td>\n",
       "      <td>35</td>\n",
       "    </tr>\n",
       "    <tr>\n",
       "      <th>4489</th>\n",
       "      <td>WILMERDING</td>\n",
       "      <td>Q4</td>\n",
       "      <td>ABDOMINAL PAIN</td>\n",
       "      <td>20</td>\n",
       "    </tr>\n",
       "    <tr>\n",
       "      <th>4490</th>\n",
       "      <td>WILMERDING</td>\n",
       "      <td>Q4</td>\n",
       "      <td>BREATHING</td>\n",
       "      <td>94</td>\n",
       "    </tr>\n",
       "    <tr>\n",
       "      <th>4491</th>\n",
       "      <td>WILMERDING</td>\n",
       "      <td>Q4</td>\n",
       "      <td>CHEST PAIN</td>\n",
       "      <td>33</td>\n",
       "    </tr>\n",
       "    <tr>\n",
       "      <th>4492</th>\n",
       "      <td>WILMERDING</td>\n",
       "      <td>Q4</td>\n",
       "      <td>FALL</td>\n",
       "      <td>64</td>\n",
       "    </tr>\n",
       "    <tr>\n",
       "      <th>4493</th>\n",
       "      <td>WILMERDING</td>\n",
       "      <td>Q4</td>\n",
       "      <td>HEMORRHAGE</td>\n",
       "      <td>25</td>\n",
       "    </tr>\n",
       "    <tr>\n",
       "      <th>4494</th>\n",
       "      <td>WILMERDING</td>\n",
       "      <td>Q4</td>\n",
       "      <td>NON EMERGENCY TRANSPORT</td>\n",
       "      <td>1</td>\n",
       "    </tr>\n",
       "    <tr>\n",
       "      <th>4495</th>\n",
       "      <td>WILMERDING</td>\n",
       "      <td>Q4</td>\n",
       "      <td>PSYCH</td>\n",
       "      <td>23</td>\n",
       "    </tr>\n",
       "    <tr>\n",
       "      <th>4496</th>\n",
       "      <td>WILMERDING</td>\n",
       "      <td>Q4</td>\n",
       "      <td>SICK</td>\n",
       "      <td>122</td>\n",
       "    </tr>\n",
       "    <tr>\n",
       "      <th>4497</th>\n",
       "      <td>WILMERDING</td>\n",
       "      <td>Q4</td>\n",
       "      <td>UNCONSCIOUS</td>\n",
       "      <td>18</td>\n",
       "    </tr>\n",
       "    <tr>\n",
       "      <th>4498</th>\n",
       "      <td>WILMERDING</td>\n",
       "      <td>Q4</td>\n",
       "      <td>UNKNOWN</td>\n",
       "      <td>15</td>\n",
       "    </tr>\n",
       "  </tbody>\n",
       "</table>\n",
       "<p>4499 rows × 4 columns</p>\n",
       "</div>"
      ],
      "text/plain": [
       "       CITY_NAME CALL_QUARTER        DESCRIPTION_SHORT  COUNT\n",
       "0         ALEPPO           Q1                BREATHING      1\n",
       "1         ALEPPO           Q1               CHEST PAIN      4\n",
       "2         ALEPPO           Q1                     FALL      6\n",
       "3         ALEPPO           Q1                    PSYCH      1\n",
       "4         ALEPPO           Q1                     SICK      2\n",
       "5         ALEPPO           Q1                  UNKNOWN      1\n",
       "6         ALEPPO           Q2                BREATHING      2\n",
       "7         ALEPPO           Q2               CHEST PAIN      1\n",
       "8         ALEPPO           Q2                     FALL      2\n",
       "9         ALEPPO           Q2               HEMORRHAGE      1\n",
       "10        ALEPPO           Q2                    PSYCH      1\n",
       "11        ALEPPO           Q2                     SICK      5\n",
       "12        ALEPPO           Q2              UNCONSCIOUS      2\n",
       "13        ALEPPO           Q3                BREATHING      6\n",
       "14        ALEPPO           Q3               CHEST PAIN      2\n",
       "15        ALEPPO           Q3                     FALL      3\n",
       "16        ALEPPO           Q3               HEMORRHAGE      1\n",
       "17        ALEPPO           Q3                    PSYCH      1\n",
       "18        ALEPPO           Q3                     SICK      8\n",
       "19        ALEPPO           Q3              UNCONSCIOUS      1\n",
       "20        ALEPPO           Q4           ABDOMINAL PAIN      1\n",
       "21        ALEPPO           Q4                BREATHING      8\n",
       "22        ALEPPO           Q4               CHEST PAIN      1\n",
       "23        ALEPPO           Q4                     FALL     21\n",
       "24        ALEPPO           Q4               HEMORRHAGE      3\n",
       "25        ALEPPO           Q4  NON EMERGENCY TRANSPORT      5\n",
       "26        ALEPPO           Q4                    PSYCH      3\n",
       "27        ALEPPO           Q4                     SICK     13\n",
       "28        ALEPPO           Q4              UNCONSCIOUS      3\n",
       "29        ALEPPO           Q4                  UNKNOWN      2\n",
       "...          ...          ...                      ...    ...\n",
       "4469  WILMERDING           Q1                  UNKNOWN     18\n",
       "4470  WILMERDING           Q2           ABDOMINAL PAIN     34\n",
       "4471  WILMERDING           Q2                BREATHING     70\n",
       "4472  WILMERDING           Q2               CHEST PAIN     35\n",
       "4473  WILMERDING           Q2                     FALL     69\n",
       "4474  WILMERDING           Q2               HEMORRHAGE     25\n",
       "4475  WILMERDING           Q2                    PSYCH     27\n",
       "4476  WILMERDING           Q2                     SICK    120\n",
       "4477  WILMERDING           Q2              UNCONSCIOUS     27\n",
       "4478  WILMERDING           Q2                  UNKNOWN     29\n",
       "4479  WILMERDING           Q3           ABDOMINAL PAIN     29\n",
       "4480  WILMERDING           Q3                BREATHING     64\n",
       "4481  WILMERDING           Q3               CHEST PAIN     51\n",
       "4482  WILMERDING           Q3                     FALL     70\n",
       "4483  WILMERDING           Q3               HEMORRHAGE     25\n",
       "4484  WILMERDING           Q3  NON EMERGENCY TRANSPORT      3\n",
       "4485  WILMERDING           Q3                    PSYCH     25\n",
       "4486  WILMERDING           Q3                     SICK    120\n",
       "4487  WILMERDING           Q3              UNCONSCIOUS     30\n",
       "4488  WILMERDING           Q3                  UNKNOWN     35\n",
       "4489  WILMERDING           Q4           ABDOMINAL PAIN     20\n",
       "4490  WILMERDING           Q4                BREATHING     94\n",
       "4491  WILMERDING           Q4               CHEST PAIN     33\n",
       "4492  WILMERDING           Q4                     FALL     64\n",
       "4493  WILMERDING           Q4               HEMORRHAGE     25\n",
       "4494  WILMERDING           Q4  NON EMERGENCY TRANSPORT      1\n",
       "4495  WILMERDING           Q4                    PSYCH     23\n",
       "4496  WILMERDING           Q4                     SICK    122\n",
       "4497  WILMERDING           Q4              UNCONSCIOUS     18\n",
       "4498  WILMERDING           Q4                  UNKNOWN     15\n",
       "\n",
       "[4499 rows x 4 columns]"
      ]
     },
     "execution_count": 268,
     "metadata": {},
     "output_type": "execute_result"
    }
   ],
   "source": [
    "(df_ems[df_ems['DESCRIPTION_SHORT']\n",
    " .isin(top_10_description)]\n",
    " .groupby(['CITY_NAME','CALL_QUARTER',\n",
    "           'DESCRIPTION_SHORT']).size().reset_index(name='COUNT'))\n",
    "         "
   ]
  },
  {
   "cell_type": "code",
   "execution_count": 270,
   "metadata": {
    "ExecuteTime": {
     "end_time": "2019-02-18T20:01:03.836265Z",
     "start_time": "2019-02-18T20:01:03.688178Z"
    }
   },
   "outputs": [
    {
     "data": {
      "text/html": [
       "<div>\n",
       "<style scoped>\n",
       "    .dataframe tbody tr th:only-of-type {\n",
       "        vertical-align: middle;\n",
       "    }\n",
       "\n",
       "    .dataframe tbody tr th {\n",
       "        vertical-align: top;\n",
       "    }\n",
       "\n",
       "    .dataframe thead th {\n",
       "        text-align: right;\n",
       "    }\n",
       "</style>\n",
       "<table border=\"1\" class=\"dataframe\">\n",
       "  <thead>\n",
       "    <tr style=\"text-align: right;\">\n",
       "      <th></th>\n",
       "      <th>CITY_NAME</th>\n",
       "      <th>CALL_QUARTER</th>\n",
       "      <th>DESCRIPTION_SHORT</th>\n",
       "      <th>COUNT</th>\n",
       "      <th>TOTAL_CALL</th>\n",
       "      <th>POP_AVG</th>\n",
       "    </tr>\n",
       "  </thead>\n",
       "  <tbody>\n",
       "    <tr>\n",
       "      <th>0</th>\n",
       "      <td>ALEPPO</td>\n",
       "      <td>Q1</td>\n",
       "      <td>FALL</td>\n",
       "      <td>6</td>\n",
       "      <td>296</td>\n",
       "      <td>1191</td>\n",
       "    </tr>\n",
       "    <tr>\n",
       "      <th>1</th>\n",
       "      <td>ALEPPO</td>\n",
       "      <td>Q1</td>\n",
       "      <td>SICK</td>\n",
       "      <td>2</td>\n",
       "      <td>296</td>\n",
       "      <td>1191</td>\n",
       "    </tr>\n",
       "    <tr>\n",
       "      <th>2</th>\n",
       "      <td>ALEPPO</td>\n",
       "      <td>Q2</td>\n",
       "      <td>FALL</td>\n",
       "      <td>2</td>\n",
       "      <td>296</td>\n",
       "      <td>1191</td>\n",
       "    </tr>\n",
       "    <tr>\n",
       "      <th>3</th>\n",
       "      <td>ALEPPO</td>\n",
       "      <td>Q2</td>\n",
       "      <td>SICK</td>\n",
       "      <td>5</td>\n",
       "      <td>296</td>\n",
       "      <td>1191</td>\n",
       "    </tr>\n",
       "    <tr>\n",
       "      <th>4</th>\n",
       "      <td>ALEPPO</td>\n",
       "      <td>Q3</td>\n",
       "      <td>FALL</td>\n",
       "      <td>3</td>\n",
       "      <td>296</td>\n",
       "      <td>1191</td>\n",
       "    </tr>\n",
       "    <tr>\n",
       "      <th>5</th>\n",
       "      <td>ALEPPO</td>\n",
       "      <td>Q3</td>\n",
       "      <td>SICK</td>\n",
       "      <td>8</td>\n",
       "      <td>296</td>\n",
       "      <td>1191</td>\n",
       "    </tr>\n",
       "    <tr>\n",
       "      <th>6</th>\n",
       "      <td>ALEPPO</td>\n",
       "      <td>Q4</td>\n",
       "      <td>FALL</td>\n",
       "      <td>21</td>\n",
       "      <td>296</td>\n",
       "      <td>1191</td>\n",
       "    </tr>\n",
       "    <tr>\n",
       "      <th>7</th>\n",
       "      <td>ALEPPO</td>\n",
       "      <td>Q4</td>\n",
       "      <td>SICK</td>\n",
       "      <td>13</td>\n",
       "      <td>296</td>\n",
       "      <td>1191</td>\n",
       "    </tr>\n",
       "    <tr>\n",
       "      <th>8</th>\n",
       "      <td>ASPINWALL</td>\n",
       "      <td>Q1</td>\n",
       "      <td>FALL</td>\n",
       "      <td>46</td>\n",
       "      <td>1026</td>\n",
       "      <td>2750</td>\n",
       "    </tr>\n",
       "    <tr>\n",
       "      <th>9</th>\n",
       "      <td>ASPINWALL</td>\n",
       "      <td>Q1</td>\n",
       "      <td>SICK</td>\n",
       "      <td>34</td>\n",
       "      <td>1026</td>\n",
       "      <td>2750</td>\n",
       "    </tr>\n",
       "    <tr>\n",
       "      <th>10</th>\n",
       "      <td>ASPINWALL</td>\n",
       "      <td>Q2</td>\n",
       "      <td>FALL</td>\n",
       "      <td>25</td>\n",
       "      <td>1026</td>\n",
       "      <td>2750</td>\n",
       "    </tr>\n",
       "    <tr>\n",
       "      <th>11</th>\n",
       "      <td>ASPINWALL</td>\n",
       "      <td>Q2</td>\n",
       "      <td>SICK</td>\n",
       "      <td>42</td>\n",
       "      <td>1026</td>\n",
       "      <td>2750</td>\n",
       "    </tr>\n",
       "    <tr>\n",
       "      <th>12</th>\n",
       "      <td>ASPINWALL</td>\n",
       "      <td>Q3</td>\n",
       "      <td>FALL</td>\n",
       "      <td>44</td>\n",
       "      <td>1026</td>\n",
       "      <td>2750</td>\n",
       "    </tr>\n",
       "    <tr>\n",
       "      <th>13</th>\n",
       "      <td>ASPINWALL</td>\n",
       "      <td>Q3</td>\n",
       "      <td>SICK</td>\n",
       "      <td>38</td>\n",
       "      <td>1026</td>\n",
       "      <td>2750</td>\n",
       "    </tr>\n",
       "    <tr>\n",
       "      <th>14</th>\n",
       "      <td>ASPINWALL</td>\n",
       "      <td>Q4</td>\n",
       "      <td>FALL</td>\n",
       "      <td>45</td>\n",
       "      <td>1026</td>\n",
       "      <td>2750</td>\n",
       "    </tr>\n",
       "    <tr>\n",
       "      <th>15</th>\n",
       "      <td>ASPINWALL</td>\n",
       "      <td>Q4</td>\n",
       "      <td>SICK</td>\n",
       "      <td>34</td>\n",
       "      <td>1026</td>\n",
       "      <td>2750</td>\n",
       "    </tr>\n",
       "    <tr>\n",
       "      <th>16</th>\n",
       "      <td>AVALON</td>\n",
       "      <td>Q1</td>\n",
       "      <td>FALL</td>\n",
       "      <td>210</td>\n",
       "      <td>3945</td>\n",
       "      <td>4617</td>\n",
       "    </tr>\n",
       "    <tr>\n",
       "      <th>17</th>\n",
       "      <td>AVALON</td>\n",
       "      <td>Q1</td>\n",
       "      <td>SICK</td>\n",
       "      <td>179</td>\n",
       "      <td>3945</td>\n",
       "      <td>4617</td>\n",
       "    </tr>\n",
       "    <tr>\n",
       "      <th>18</th>\n",
       "      <td>AVALON</td>\n",
       "      <td>Q2</td>\n",
       "      <td>FALL</td>\n",
       "      <td>186</td>\n",
       "      <td>3945</td>\n",
       "      <td>4617</td>\n",
       "    </tr>\n",
       "    <tr>\n",
       "      <th>19</th>\n",
       "      <td>AVALON</td>\n",
       "      <td>Q2</td>\n",
       "      <td>SICK</td>\n",
       "      <td>192</td>\n",
       "      <td>3945</td>\n",
       "      <td>4617</td>\n",
       "    </tr>\n",
       "    <tr>\n",
       "      <th>20</th>\n",
       "      <td>AVALON</td>\n",
       "      <td>Q3</td>\n",
       "      <td>FALL</td>\n",
       "      <td>156</td>\n",
       "      <td>3945</td>\n",
       "      <td>4617</td>\n",
       "    </tr>\n",
       "    <tr>\n",
       "      <th>21</th>\n",
       "      <td>AVALON</td>\n",
       "      <td>Q3</td>\n",
       "      <td>SICK</td>\n",
       "      <td>174</td>\n",
       "      <td>3945</td>\n",
       "      <td>4617</td>\n",
       "    </tr>\n",
       "    <tr>\n",
       "      <th>22</th>\n",
       "      <td>AVALON</td>\n",
       "      <td>Q4</td>\n",
       "      <td>FALL</td>\n",
       "      <td>185</td>\n",
       "      <td>3945</td>\n",
       "      <td>4617</td>\n",
       "    </tr>\n",
       "    <tr>\n",
       "      <th>23</th>\n",
       "      <td>AVALON</td>\n",
       "      <td>Q4</td>\n",
       "      <td>SICK</td>\n",
       "      <td>171</td>\n",
       "      <td>3945</td>\n",
       "      <td>4617</td>\n",
       "    </tr>\n",
       "    <tr>\n",
       "      <th>24</th>\n",
       "      <td>BALDWIN BORO</td>\n",
       "      <td>Q1</td>\n",
       "      <td>FALL</td>\n",
       "      <td>517</td>\n",
       "      <td>13260</td>\n",
       "      <td>19717</td>\n",
       "    </tr>\n",
       "    <tr>\n",
       "      <th>25</th>\n",
       "      <td>BALDWIN BORO</td>\n",
       "      <td>Q1</td>\n",
       "      <td>SICK</td>\n",
       "      <td>821</td>\n",
       "      <td>13260</td>\n",
       "      <td>19717</td>\n",
       "    </tr>\n",
       "    <tr>\n",
       "      <th>26</th>\n",
       "      <td>BALDWIN BORO</td>\n",
       "      <td>Q2</td>\n",
       "      <td>FALL</td>\n",
       "      <td>534</td>\n",
       "      <td>13260</td>\n",
       "      <td>19717</td>\n",
       "    </tr>\n",
       "    <tr>\n",
       "      <th>27</th>\n",
       "      <td>BALDWIN BORO</td>\n",
       "      <td>Q2</td>\n",
       "      <td>SICK</td>\n",
       "      <td>710</td>\n",
       "      <td>13260</td>\n",
       "      <td>19717</td>\n",
       "    </tr>\n",
       "    <tr>\n",
       "      <th>28</th>\n",
       "      <td>BALDWIN BORO</td>\n",
       "      <td>Q3</td>\n",
       "      <td>FALL</td>\n",
       "      <td>540</td>\n",
       "      <td>13260</td>\n",
       "      <td>19717</td>\n",
       "    </tr>\n",
       "    <tr>\n",
       "      <th>29</th>\n",
       "      <td>BALDWIN BORO</td>\n",
       "      <td>Q3</td>\n",
       "      <td>SICK</td>\n",
       "      <td>658</td>\n",
       "      <td>13260</td>\n",
       "      <td>19717</td>\n",
       "    </tr>\n",
       "    <tr>\n",
       "      <th>...</th>\n",
       "      <td>...</td>\n",
       "      <td>...</td>\n",
       "      <td>...</td>\n",
       "      <td>...</td>\n",
       "      <td>...</td>\n",
       "      <td>...</td>\n",
       "    </tr>\n",
       "    <tr>\n",
       "      <th>966</th>\n",
       "      <td>WHITEHALL</td>\n",
       "      <td>Q2</td>\n",
       "      <td>FALL</td>\n",
       "      <td>378</td>\n",
       "      <td>8667</td>\n",
       "      <td>13765</td>\n",
       "    </tr>\n",
       "    <tr>\n",
       "      <th>967</th>\n",
       "      <td>WHITEHALL</td>\n",
       "      <td>Q2</td>\n",
       "      <td>SICK</td>\n",
       "      <td>475</td>\n",
       "      <td>8667</td>\n",
       "      <td>13765</td>\n",
       "    </tr>\n",
       "    <tr>\n",
       "      <th>968</th>\n",
       "      <td>WHITEHALL</td>\n",
       "      <td>Q3</td>\n",
       "      <td>FALL</td>\n",
       "      <td>390</td>\n",
       "      <td>8667</td>\n",
       "      <td>13765</td>\n",
       "    </tr>\n",
       "    <tr>\n",
       "      <th>969</th>\n",
       "      <td>WHITEHALL</td>\n",
       "      <td>Q3</td>\n",
       "      <td>SICK</td>\n",
       "      <td>462</td>\n",
       "      <td>8667</td>\n",
       "      <td>13765</td>\n",
       "    </tr>\n",
       "    <tr>\n",
       "      <th>970</th>\n",
       "      <td>WHITEHALL</td>\n",
       "      <td>Q4</td>\n",
       "      <td>FALL</td>\n",
       "      <td>410</td>\n",
       "      <td>8667</td>\n",
       "      <td>13765</td>\n",
       "    </tr>\n",
       "    <tr>\n",
       "      <th>971</th>\n",
       "      <td>WHITEHALL</td>\n",
       "      <td>Q4</td>\n",
       "      <td>SICK</td>\n",
       "      <td>420</td>\n",
       "      <td>8667</td>\n",
       "      <td>13765</td>\n",
       "    </tr>\n",
       "    <tr>\n",
       "      <th>972</th>\n",
       "      <td>WILKINS</td>\n",
       "      <td>Q1</td>\n",
       "      <td>FALL</td>\n",
       "      <td>176</td>\n",
       "      <td>4141</td>\n",
       "      <td>6247</td>\n",
       "    </tr>\n",
       "    <tr>\n",
       "      <th>973</th>\n",
       "      <td>WILKINS</td>\n",
       "      <td>Q1</td>\n",
       "      <td>SICK</td>\n",
       "      <td>172</td>\n",
       "      <td>4141</td>\n",
       "      <td>6247</td>\n",
       "    </tr>\n",
       "    <tr>\n",
       "      <th>974</th>\n",
       "      <td>WILKINS</td>\n",
       "      <td>Q2</td>\n",
       "      <td>FALL</td>\n",
       "      <td>141</td>\n",
       "      <td>4141</td>\n",
       "      <td>6247</td>\n",
       "    </tr>\n",
       "    <tr>\n",
       "      <th>975</th>\n",
       "      <td>WILKINS</td>\n",
       "      <td>Q2</td>\n",
       "      <td>SICK</td>\n",
       "      <td>170</td>\n",
       "      <td>4141</td>\n",
       "      <td>6247</td>\n",
       "    </tr>\n",
       "    <tr>\n",
       "      <th>976</th>\n",
       "      <td>WILKINS</td>\n",
       "      <td>Q3</td>\n",
       "      <td>FALL</td>\n",
       "      <td>167</td>\n",
       "      <td>4141</td>\n",
       "      <td>6247</td>\n",
       "    </tr>\n",
       "    <tr>\n",
       "      <th>977</th>\n",
       "      <td>WILKINS</td>\n",
       "      <td>Q3</td>\n",
       "      <td>SICK</td>\n",
       "      <td>144</td>\n",
       "      <td>4141</td>\n",
       "      <td>6247</td>\n",
       "    </tr>\n",
       "    <tr>\n",
       "      <th>978</th>\n",
       "      <td>WILKINS</td>\n",
       "      <td>Q4</td>\n",
       "      <td>FALL</td>\n",
       "      <td>158</td>\n",
       "      <td>4141</td>\n",
       "      <td>6247</td>\n",
       "    </tr>\n",
       "    <tr>\n",
       "      <th>979</th>\n",
       "      <td>WILKINS</td>\n",
       "      <td>Q4</td>\n",
       "      <td>SICK</td>\n",
       "      <td>146</td>\n",
       "      <td>4141</td>\n",
       "      <td>6247</td>\n",
       "    </tr>\n",
       "    <tr>\n",
       "      <th>980</th>\n",
       "      <td>WILKINSBURG</td>\n",
       "      <td>Q1</td>\n",
       "      <td>FALL</td>\n",
       "      <td>373</td>\n",
       "      <td>17535</td>\n",
       "      <td>15646</td>\n",
       "    </tr>\n",
       "    <tr>\n",
       "      <th>981</th>\n",
       "      <td>WILKINSBURG</td>\n",
       "      <td>Q1</td>\n",
       "      <td>SICK</td>\n",
       "      <td>870</td>\n",
       "      <td>17535</td>\n",
       "      <td>15646</td>\n",
       "    </tr>\n",
       "    <tr>\n",
       "      <th>982</th>\n",
       "      <td>WILKINSBURG</td>\n",
       "      <td>Q2</td>\n",
       "      <td>FALL</td>\n",
       "      <td>379</td>\n",
       "      <td>17535</td>\n",
       "      <td>15646</td>\n",
       "    </tr>\n",
       "    <tr>\n",
       "      <th>983</th>\n",
       "      <td>WILKINSBURG</td>\n",
       "      <td>Q2</td>\n",
       "      <td>SICK</td>\n",
       "      <td>845</td>\n",
       "      <td>17535</td>\n",
       "      <td>15646</td>\n",
       "    </tr>\n",
       "    <tr>\n",
       "      <th>984</th>\n",
       "      <td>WILKINSBURG</td>\n",
       "      <td>Q3</td>\n",
       "      <td>FALL</td>\n",
       "      <td>375</td>\n",
       "      <td>17535</td>\n",
       "      <td>15646</td>\n",
       "    </tr>\n",
       "    <tr>\n",
       "      <th>985</th>\n",
       "      <td>WILKINSBURG</td>\n",
       "      <td>Q3</td>\n",
       "      <td>SICK</td>\n",
       "      <td>865</td>\n",
       "      <td>17535</td>\n",
       "      <td>15646</td>\n",
       "    </tr>\n",
       "    <tr>\n",
       "      <th>986</th>\n",
       "      <td>WILKINSBURG</td>\n",
       "      <td>Q4</td>\n",
       "      <td>FALL</td>\n",
       "      <td>409</td>\n",
       "      <td>17535</td>\n",
       "      <td>15646</td>\n",
       "    </tr>\n",
       "    <tr>\n",
       "      <th>987</th>\n",
       "      <td>WILKINSBURG</td>\n",
       "      <td>Q4</td>\n",
       "      <td>SICK</td>\n",
       "      <td>780</td>\n",
       "      <td>17535</td>\n",
       "      <td>15646</td>\n",
       "    </tr>\n",
       "    <tr>\n",
       "      <th>988</th>\n",
       "      <td>WILMERDING</td>\n",
       "      <td>Q1</td>\n",
       "      <td>FALL</td>\n",
       "      <td>80</td>\n",
       "      <td>2465</td>\n",
       "      <td>2144</td>\n",
       "    </tr>\n",
       "    <tr>\n",
       "      <th>989</th>\n",
       "      <td>WILMERDING</td>\n",
       "      <td>Q1</td>\n",
       "      <td>SICK</td>\n",
       "      <td>112</td>\n",
       "      <td>2465</td>\n",
       "      <td>2144</td>\n",
       "    </tr>\n",
       "    <tr>\n",
       "      <th>990</th>\n",
       "      <td>WILMERDING</td>\n",
       "      <td>Q2</td>\n",
       "      <td>FALL</td>\n",
       "      <td>69</td>\n",
       "      <td>2465</td>\n",
       "      <td>2144</td>\n",
       "    </tr>\n",
       "    <tr>\n",
       "      <th>991</th>\n",
       "      <td>WILMERDING</td>\n",
       "      <td>Q2</td>\n",
       "      <td>SICK</td>\n",
       "      <td>120</td>\n",
       "      <td>2465</td>\n",
       "      <td>2144</td>\n",
       "    </tr>\n",
       "    <tr>\n",
       "      <th>992</th>\n",
       "      <td>WILMERDING</td>\n",
       "      <td>Q3</td>\n",
       "      <td>FALL</td>\n",
       "      <td>70</td>\n",
       "      <td>2465</td>\n",
       "      <td>2144</td>\n",
       "    </tr>\n",
       "    <tr>\n",
       "      <th>993</th>\n",
       "      <td>WILMERDING</td>\n",
       "      <td>Q3</td>\n",
       "      <td>SICK</td>\n",
       "      <td>120</td>\n",
       "      <td>2465</td>\n",
       "      <td>2144</td>\n",
       "    </tr>\n",
       "    <tr>\n",
       "      <th>994</th>\n",
       "      <td>WILMERDING</td>\n",
       "      <td>Q4</td>\n",
       "      <td>FALL</td>\n",
       "      <td>64</td>\n",
       "      <td>2465</td>\n",
       "      <td>2144</td>\n",
       "    </tr>\n",
       "    <tr>\n",
       "      <th>995</th>\n",
       "      <td>WILMERDING</td>\n",
       "      <td>Q4</td>\n",
       "      <td>SICK</td>\n",
       "      <td>122</td>\n",
       "      <td>2465</td>\n",
       "      <td>2144</td>\n",
       "    </tr>\n",
       "  </tbody>\n",
       "</table>\n",
       "<p>996 rows × 6 columns</p>\n",
       "</div>"
      ],
      "text/plain": [
       "        CITY_NAME CALL_QUARTER DESCRIPTION_SHORT  COUNT  TOTAL_CALL  POP_AVG\n",
       "0          ALEPPO           Q1              FALL      6         296     1191\n",
       "1          ALEPPO           Q1              SICK      2         296     1191\n",
       "2          ALEPPO           Q2              FALL      2         296     1191\n",
       "3          ALEPPO           Q2              SICK      5         296     1191\n",
       "4          ALEPPO           Q3              FALL      3         296     1191\n",
       "5          ALEPPO           Q3              SICK      8         296     1191\n",
       "6          ALEPPO           Q4              FALL     21         296     1191\n",
       "7          ALEPPO           Q4              SICK     13         296     1191\n",
       "8       ASPINWALL           Q1              FALL     46        1026     2750\n",
       "9       ASPINWALL           Q1              SICK     34        1026     2750\n",
       "10      ASPINWALL           Q2              FALL     25        1026     2750\n",
       "11      ASPINWALL           Q2              SICK     42        1026     2750\n",
       "12      ASPINWALL           Q3              FALL     44        1026     2750\n",
       "13      ASPINWALL           Q3              SICK     38        1026     2750\n",
       "14      ASPINWALL           Q4              FALL     45        1026     2750\n",
       "15      ASPINWALL           Q4              SICK     34        1026     2750\n",
       "16         AVALON           Q1              FALL    210        3945     4617\n",
       "17         AVALON           Q1              SICK    179        3945     4617\n",
       "18         AVALON           Q2              FALL    186        3945     4617\n",
       "19         AVALON           Q2              SICK    192        3945     4617\n",
       "20         AVALON           Q3              FALL    156        3945     4617\n",
       "21         AVALON           Q3              SICK    174        3945     4617\n",
       "22         AVALON           Q4              FALL    185        3945     4617\n",
       "23         AVALON           Q4              SICK    171        3945     4617\n",
       "24   BALDWIN BORO           Q1              FALL    517       13260    19717\n",
       "25   BALDWIN BORO           Q1              SICK    821       13260    19717\n",
       "26   BALDWIN BORO           Q2              FALL    534       13260    19717\n",
       "27   BALDWIN BORO           Q2              SICK    710       13260    19717\n",
       "28   BALDWIN BORO           Q3              FALL    540       13260    19717\n",
       "29   BALDWIN BORO           Q3              SICK    658       13260    19717\n",
       "..            ...          ...               ...    ...         ...      ...\n",
       "966     WHITEHALL           Q2              FALL    378        8667    13765\n",
       "967     WHITEHALL           Q2              SICK    475        8667    13765\n",
       "968     WHITEHALL           Q3              FALL    390        8667    13765\n",
       "969     WHITEHALL           Q3              SICK    462        8667    13765\n",
       "970     WHITEHALL           Q4              FALL    410        8667    13765\n",
       "971     WHITEHALL           Q4              SICK    420        8667    13765\n",
       "972       WILKINS           Q1              FALL    176        4141     6247\n",
       "973       WILKINS           Q1              SICK    172        4141     6247\n",
       "974       WILKINS           Q2              FALL    141        4141     6247\n",
       "975       WILKINS           Q2              SICK    170        4141     6247\n",
       "976       WILKINS           Q3              FALL    167        4141     6247\n",
       "977       WILKINS           Q3              SICK    144        4141     6247\n",
       "978       WILKINS           Q4              FALL    158        4141     6247\n",
       "979       WILKINS           Q4              SICK    146        4141     6247\n",
       "980   WILKINSBURG           Q1              FALL    373       17535    15646\n",
       "981   WILKINSBURG           Q1              SICK    870       17535    15646\n",
       "982   WILKINSBURG           Q2              FALL    379       17535    15646\n",
       "983   WILKINSBURG           Q2              SICK    845       17535    15646\n",
       "984   WILKINSBURG           Q3              FALL    375       17535    15646\n",
       "985   WILKINSBURG           Q3              SICK    865       17535    15646\n",
       "986   WILKINSBURG           Q4              FALL    409       17535    15646\n",
       "987   WILKINSBURG           Q4              SICK    780       17535    15646\n",
       "988    WILMERDING           Q1              FALL     80        2465     2144\n",
       "989    WILMERDING           Q1              SICK    112        2465     2144\n",
       "990    WILMERDING           Q2              FALL     69        2465     2144\n",
       "991    WILMERDING           Q2              SICK    120        2465     2144\n",
       "992    WILMERDING           Q3              FALL     70        2465     2144\n",
       "993    WILMERDING           Q3              SICK    120        2465     2144\n",
       "994    WILMERDING           Q4              FALL     64        2465     2144\n",
       "995    WILMERDING           Q4              SICK    122        2465     2144\n",
       "\n",
       "[996 rows x 6 columns]"
      ]
     },
     "execution_count": 270,
     "metadata": {},
     "output_type": "execute_result"
    }
   ],
   "source": [
    "get_description_table(df_ems, df_total_call, ['SICK','FALL'])"
   ]
  },
  {
   "cell_type": "code",
   "execution_count": 230,
   "metadata": {
    "ExecuteTime": {
     "end_time": "2019-02-18T18:52:16.124143Z",
     "start_time": "2019-02-18T18:52:15.869824Z"
    }
   },
   "outputs": [],
   "source": [
    "description_df=get_description_table(df_ems, df_total_call, 'SICK')"
   ]
  },
  {
   "cell_type": "code",
   "execution_count": 231,
   "metadata": {
    "ExecuteTime": {
     "end_time": "2019-02-18T18:52:17.099868Z",
     "start_time": "2019-02-18T18:52:17.087291Z"
    }
   },
   "outputs": [
    {
     "data": {
      "text/html": [
       "<div>\n",
       "<style scoped>\n",
       "    .dataframe tbody tr th:only-of-type {\n",
       "        vertical-align: middle;\n",
       "    }\n",
       "\n",
       "    .dataframe tbody tr th {\n",
       "        vertical-align: top;\n",
       "    }\n",
       "\n",
       "    .dataframe thead th {\n",
       "        text-align: right;\n",
       "    }\n",
       "</style>\n",
       "<table border=\"1\" class=\"dataframe\">\n",
       "  <thead>\n",
       "    <tr style=\"text-align: right;\">\n",
       "      <th></th>\n",
       "      <th>CITY_NAME</th>\n",
       "      <th>CALL_QUARTER</th>\n",
       "      <th>SICK</th>\n",
       "      <th>TOTAL_CALL</th>\n",
       "      <th>POP_AVG</th>\n",
       "      <th>Call Ratio</th>\n",
       "    </tr>\n",
       "  </thead>\n",
       "  <tbody>\n",
       "    <tr>\n",
       "      <th>0</th>\n",
       "      <td>PITTSBURGH</td>\n",
       "      <td>Q3</td>\n",
       "      <td>11876</td>\n",
       "      <td>250676</td>\n",
       "      <td>303959</td>\n",
       "      <td>0.047</td>\n",
       "    </tr>\n",
       "    <tr>\n",
       "      <th>1</th>\n",
       "      <td>PITTSBURGH</td>\n",
       "      <td>Q1</td>\n",
       "      <td>11519</td>\n",
       "      <td>250676</td>\n",
       "      <td>303959</td>\n",
       "      <td>0.046</td>\n",
       "    </tr>\n",
       "    <tr>\n",
       "      <th>2</th>\n",
       "      <td>PITTSBURGH</td>\n",
       "      <td>Q2</td>\n",
       "      <td>11372</td>\n",
       "      <td>250676</td>\n",
       "      <td>303959</td>\n",
       "      <td>0.045</td>\n",
       "    </tr>\n",
       "    <tr>\n",
       "      <th>3</th>\n",
       "      <td>PITTSBURGH</td>\n",
       "      <td>Q4</td>\n",
       "      <td>11219</td>\n",
       "      <td>250676</td>\n",
       "      <td>303959</td>\n",
       "      <td>0.045</td>\n",
       "    </tr>\n",
       "    <tr>\n",
       "      <th>4</th>\n",
       "      <td>PENN HILLS</td>\n",
       "      <td>Q2</td>\n",
       "      <td>1183</td>\n",
       "      <td>26626</td>\n",
       "      <td>41576</td>\n",
       "      <td>0.044</td>\n",
       "    </tr>\n",
       "  </tbody>\n",
       "</table>\n",
       "</div>"
      ],
      "text/plain": [
       "    CITY_NAME CALL_QUARTER   SICK  TOTAL_CALL  POP_AVG  Call Ratio\n",
       "0  PITTSBURGH           Q3  11876      250676   303959       0.047\n",
       "1  PITTSBURGH           Q1  11519      250676   303959       0.046\n",
       "2  PITTSBURGH           Q2  11372      250676   303959       0.045\n",
       "3  PITTSBURGH           Q4  11219      250676   303959       0.045\n",
       "4  PENN HILLS           Q2   1183       26626    41576       0.044"
      ]
     },
     "execution_count": 231,
     "metadata": {},
     "output_type": "execute_result"
    }
   ],
   "source": [
    "t.head()"
   ]
  },
  {
   "cell_type": "code",
   "execution_count": 295,
   "metadata": {
    "ExecuteTime": {
     "end_time": "2019-02-18T20:28:18.417657Z",
     "start_time": "2019-02-18T20:28:18.380221Z"
    }
   },
   "outputs": [
    {
     "data": {
      "text/html": [
       "<div>\n",
       "<style scoped>\n",
       "    .dataframe tbody tr th:only-of-type {\n",
       "        vertical-align: middle;\n",
       "    }\n",
       "\n",
       "    .dataframe tbody tr th {\n",
       "        vertical-align: top;\n",
       "    }\n",
       "\n",
       "    .dataframe thead th {\n",
       "        text-align: right;\n",
       "    }\n",
       "</style>\n",
       "<table border=\"1\" class=\"dataframe\">\n",
       "  <thead>\n",
       "    <tr style=\"text-align: right;\">\n",
       "      <th></th>\n",
       "      <th>CITY_NAME</th>\n",
       "      <th>SICK</th>\n",
       "      <th>Call Ratio</th>\n",
       "      <th>TOTAL_CALL</th>\n",
       "      <th>POP_AVG</th>\n",
       "    </tr>\n",
       "  </thead>\n",
       "  <tbody>\n",
       "    <tr>\n",
       "      <th>25</th>\n",
       "      <td>HARMAR</td>\n",
       "      <td>991</td>\n",
       "      <td>0.237</td>\n",
       "      <td>4177</td>\n",
       "      <td>3050</td>\n",
       "    </tr>\n",
       "    <tr>\n",
       "      <th>1</th>\n",
       "      <td>BALDWIN BORO</td>\n",
       "      <td>2944</td>\n",
       "      <td>0.223</td>\n",
       "      <td>13260</td>\n",
       "      <td>19717</td>\n",
       "    </tr>\n",
       "    <tr>\n",
       "      <th>5</th>\n",
       "      <td>BRACKENRIDGE</td>\n",
       "      <td>624</td>\n",
       "      <td>0.221</td>\n",
       "      <td>2830</td>\n",
       "      <td>3200</td>\n",
       "    </tr>\n",
       "    <tr>\n",
       "      <th>60</th>\n",
       "      <td>SOUTH FAYETTE</td>\n",
       "      <td>1902</td>\n",
       "      <td>0.216</td>\n",
       "      <td>8763</td>\n",
       "      <td>15516</td>\n",
       "    </tr>\n",
       "    <tr>\n",
       "      <th>73</th>\n",
       "      <td>WHITEHALL</td>\n",
       "      <td>1877</td>\n",
       "      <td>0.216</td>\n",
       "      <td>8667</td>\n",
       "      <td>13765</td>\n",
       "    </tr>\n",
       "    <tr>\n",
       "      <th>27</th>\n",
       "      <td>INDIANA</td>\n",
       "      <td>829</td>\n",
       "      <td>0.215</td>\n",
       "      <td>3850</td>\n",
       "      <td>13454</td>\n",
       "    </tr>\n",
       "    <tr>\n",
       "      <th>56</th>\n",
       "      <td>SCOTT</td>\n",
       "      <td>2493</td>\n",
       "      <td>0.211</td>\n",
       "      <td>11884</td>\n",
       "      <td>4792</td>\n",
       "    </tr>\n",
       "    <tr>\n",
       "      <th>45</th>\n",
       "      <td>OAKMONT</td>\n",
       "      <td>997</td>\n",
       "      <td>0.210</td>\n",
       "      <td>4731</td>\n",
       "      <td>6443</td>\n",
       "    </tr>\n",
       "    <tr>\n",
       "      <th>15</th>\n",
       "      <td>DUQUESNE</td>\n",
       "      <td>1257</td>\n",
       "      <td>0.198</td>\n",
       "      <td>6328</td>\n",
       "      <td>5546</td>\n",
       "    </tr>\n",
       "    <tr>\n",
       "      <th>39</th>\n",
       "      <td>MOUNT OLIVER</td>\n",
       "      <td>675</td>\n",
       "      <td>0.197</td>\n",
       "      <td>3431</td>\n",
       "      <td>3338</td>\n",
       "    </tr>\n",
       "  </tbody>\n",
       "</table>\n",
       "</div>"
      ],
      "text/plain": [
       "        CITY_NAME  SICK  Call Ratio  TOTAL_CALL  POP_AVG\n",
       "25         HARMAR   991       0.237        4177     3050\n",
       "1    BALDWIN BORO  2944       0.223       13260    19717\n",
       "5    BRACKENRIDGE   624       0.221        2830     3200\n",
       "60  SOUTH FAYETTE  1902       0.216        8763    15516\n",
       "73      WHITEHALL  1877       0.216        8667    13765\n",
       "27        INDIANA   829       0.215        3850    13454\n",
       "56          SCOTT  2493       0.211       11884     4792\n",
       "45        OAKMONT   997       0.210        4731     6443\n",
       "15       DUQUESNE  1257       0.198        6328     5546\n",
       "39   MOUNT OLIVER   675       0.197        3431     3338"
      ]
     },
     "execution_count": 295,
     "metadata": {},
     "output_type": "execute_result"
    }
   ],
   "source": [
    "t2=(t[t['POP_AVG']>3000]\n",
    "    .groupby(['CITY_NAME'],as_index=False)\n",
    "    .agg({'SICK':sum,\n",
    "          'Call Ratio':sum,\n",
    "          'TOTAL_CALL':max,\n",
    "          'POP_AVG':max}))\n",
    "t2.sort_values(by=['Call Ratio'],inplace=True,ascending=False)\n",
    "t2.head(10)"
   ]
  },
  {
   "cell_type": "code",
   "execution_count": 394,
   "metadata": {
    "ExecuteTime": {
     "end_time": "2019-02-17T18:43:12.365582Z",
     "start_time": "2019-02-17T18:43:12.352083Z"
    }
   },
   "outputs": [
    {
     "data": {
      "text/html": [
       "<div>\n",
       "<style scoped>\n",
       "    .dataframe tbody tr th:only-of-type {\n",
       "        vertical-align: middle;\n",
       "    }\n",
       "\n",
       "    .dataframe tbody tr th {\n",
       "        vertical-align: top;\n",
       "    }\n",
       "\n",
       "    .dataframe thead th {\n",
       "        text-align: right;\n",
       "    }\n",
       "</style>\n",
       "<table border=\"1\" class=\"dataframe\">\n",
       "  <thead>\n",
       "    <tr style=\"text-align: right;\">\n",
       "      <th></th>\n",
       "      <th>CITY_NAME</th>\n",
       "      <th>Call Ratio</th>\n",
       "      <th>TOTAL_CALL</th>\n",
       "    </tr>\n",
       "  </thead>\n",
       "  <tbody>\n",
       "    <tr>\n",
       "      <th>111</th>\n",
       "      <td>THORNBURG</td>\n",
       "      <td>0.250</td>\n",
       "      <td>112</td>\n",
       "    </tr>\n",
       "    <tr>\n",
       "      <th>103</th>\n",
       "      <td>SOUTH FAYETTE</td>\n",
       "      <td>0.239</td>\n",
       "      <td>8763</td>\n",
       "    </tr>\n",
       "    <tr>\n",
       "      <th>59</th>\n",
       "      <td>KENNEDY</td>\n",
       "      <td>0.239</td>\n",
       "      <td>6861</td>\n",
       "    </tr>\n",
       "    <tr>\n",
       "      <th>97</th>\n",
       "      <td>SCOTT</td>\n",
       "      <td>0.215</td>\n",
       "      <td>11884</td>\n",
       "    </tr>\n",
       "    <tr>\n",
       "      <th>63</th>\n",
       "      <td>LIBERTY</td>\n",
       "      <td>0.208</td>\n",
       "      <td>1121</td>\n",
       "    </tr>\n",
       "    <tr>\n",
       "      <th>50</th>\n",
       "      <td>HAMPTON</td>\n",
       "      <td>0.206</td>\n",
       "      <td>6584</td>\n",
       "    </tr>\n",
       "    <tr>\n",
       "      <th>16</th>\n",
       "      <td>BRIDGEVILLE</td>\n",
       "      <td>0.204</td>\n",
       "      <td>3185</td>\n",
       "    </tr>\n",
       "    <tr>\n",
       "      <th>10</th>\n",
       "      <td>BLAWNOX</td>\n",
       "      <td>0.201</td>\n",
       "      <td>1028</td>\n",
       "    </tr>\n",
       "    <tr>\n",
       "      <th>17</th>\n",
       "      <td>CARNEGIE</td>\n",
       "      <td>0.196</td>\n",
       "      <td>6077</td>\n",
       "    </tr>\n",
       "    <tr>\n",
       "      <th>66</th>\n",
       "      <td>MCCANDLESS</td>\n",
       "      <td>0.192</td>\n",
       "      <td>15570</td>\n",
       "    </tr>\n",
       "  </tbody>\n",
       "</table>\n",
       "</div>"
      ],
      "text/plain": [
       "         CITY_NAME  Call Ratio  TOTAL_CALL\n",
       "111      THORNBURG       0.250         112\n",
       "103  SOUTH FAYETTE       0.239        8763\n",
       "59         KENNEDY       0.239        6861\n",
       "97           SCOTT       0.215       11884\n",
       "63         LIBERTY       0.208        1121\n",
       "50         HAMPTON       0.206        6584\n",
       "16     BRIDGEVILLE       0.204        3185\n",
       "10         BLAWNOX       0.201        1028\n",
       "17        CARNEGIE       0.196        6077\n",
       "66      MCCANDLESS       0.192       15570"
      ]
     },
     "execution_count": 394,
     "metadata": {},
     "output_type": "execute_result"
    }
   ],
   "source": []
  },
  {
   "cell_type": "code",
   "execution_count": 339,
   "metadata": {
    "ExecuteTime": {
     "end_time": "2019-02-17T12:31:19.304246Z",
     "start_time": "2019-02-17T12:31:19.295711Z"
    }
   },
   "outputs": [],
   "source": [
    "cc = pd.merge(a,aa, how='left',on='CITY_NAME')"
   ]
  },
  {
   "cell_type": "code",
   "execution_count": 340,
   "metadata": {
    "ExecuteTime": {
     "end_time": "2019-02-17T12:31:21.319058Z",
     "start_time": "2019-02-17T12:31:21.313836Z"
    }
   },
   "outputs": [],
   "source": [
    "cc ['Ratio'] = cc.iloc[:,1]/cc.iloc[:,2]"
   ]
  },
  {
   "cell_type": "code",
   "execution_count": 341,
   "metadata": {
    "ExecuteTime": {
     "end_time": "2019-02-17T12:31:22.022222Z",
     "start_time": "2019-02-17T12:31:22.017608Z"
    }
   },
   "outputs": [],
   "source": [
    "cc.sort_values(by=['Ratio'],inplace=True,ascending=False)"
   ]
  },
  {
   "cell_type": "code",
   "execution_count": 342,
   "metadata": {
    "ExecuteTime": {
     "end_time": "2019-02-17T12:31:22.723203Z",
     "start_time": "2019-02-17T12:31:22.713909Z"
    }
   },
   "outputs": [
    {
     "data": {
      "text/html": [
       "<div>\n",
       "<style scoped>\n",
       "    .dataframe tbody tr th:only-of-type {\n",
       "        vertical-align: middle;\n",
       "    }\n",
       "\n",
       "    .dataframe tbody tr th {\n",
       "        vertical-align: top;\n",
       "    }\n",
       "\n",
       "    .dataframe thead th {\n",
       "        text-align: right;\n",
       "    }\n",
       "</style>\n",
       "<table border=\"1\" class=\"dataframe\">\n",
       "  <thead>\n",
       "    <tr style=\"text-align: right;\">\n",
       "      <th></th>\n",
       "      <th>CITY_NAME</th>\n",
       "      <th>SICK_CALLS</th>\n",
       "      <th>TOTAL_CALLS</th>\n",
       "      <th>Ratio</th>\n",
       "    </tr>\n",
       "  </thead>\n",
       "  <tbody>\n",
       "    <tr>\n",
       "      <th>36</th>\n",
       "      <td>HARMAR</td>\n",
       "      <td>991</td>\n",
       "      <td>4177</td>\n",
       "      <td>0.237252</td>\n",
       "    </tr>\n",
       "    <tr>\n",
       "      <th>7</th>\n",
       "      <td>BALDWIN BORO</td>\n",
       "      <td>2944</td>\n",
       "      <td>13260</td>\n",
       "      <td>0.222021</td>\n",
       "    </tr>\n",
       "    <tr>\n",
       "      <th>51</th>\n",
       "      <td>BRACKENRIDGE</td>\n",
       "      <td>624</td>\n",
       "      <td>2830</td>\n",
       "      <td>0.220495</td>\n",
       "    </tr>\n",
       "    <tr>\n",
       "      <th>101</th>\n",
       "      <td>BRADFORD WOODS</td>\n",
       "      <td>70</td>\n",
       "      <td>318</td>\n",
       "      <td>0.220126</td>\n",
       "    </tr>\n",
       "    <tr>\n",
       "      <th>10</th>\n",
       "      <td>SOUTH FAYETTE</td>\n",
       "      <td>1902</td>\n",
       "      <td>8763</td>\n",
       "      <td>0.217049</td>\n",
       "    </tr>\n",
       "    <tr>\n",
       "      <th>11</th>\n",
       "      <td>WHITEHALL</td>\n",
       "      <td>1877</td>\n",
       "      <td>8667</td>\n",
       "      <td>0.216569</td>\n",
       "    </tr>\n",
       "    <tr>\n",
       "      <th>40</th>\n",
       "      <td>INDIANA</td>\n",
       "      <td>829</td>\n",
       "      <td>3850</td>\n",
       "      <td>0.215325</td>\n",
       "    </tr>\n",
       "    <tr>\n",
       "      <th>33</th>\n",
       "      <td>OAKMONT</td>\n",
       "      <td>997</td>\n",
       "      <td>4731</td>\n",
       "      <td>0.210738</td>\n",
       "    </tr>\n",
       "    <tr>\n",
       "      <th>8</th>\n",
       "      <td>SCOTT</td>\n",
       "      <td>2493</td>\n",
       "      <td>11884</td>\n",
       "      <td>0.209778</td>\n",
       "    </tr>\n",
       "    <tr>\n",
       "      <th>47</th>\n",
       "      <td>RANKIN</td>\n",
       "      <td>663</td>\n",
       "      <td>3220</td>\n",
       "      <td>0.205901</td>\n",
       "    </tr>\n",
       "  </tbody>\n",
       "</table>\n",
       "</div>"
      ],
      "text/plain": [
       "          CITY_NAME  SICK_CALLS  TOTAL_CALLS     Ratio\n",
       "36           HARMAR         991         4177  0.237252\n",
       "7      BALDWIN BORO        2944        13260  0.222021\n",
       "51     BRACKENRIDGE         624         2830  0.220495\n",
       "101  BRADFORD WOODS          70          318  0.220126\n",
       "10    SOUTH FAYETTE        1902         8763  0.217049\n",
       "11        WHITEHALL        1877         8667  0.216569\n",
       "40          INDIANA         829         3850  0.215325\n",
       "33          OAKMONT         997         4731  0.210738\n",
       "8             SCOTT        2493        11884  0.209778\n",
       "47           RANKIN         663         3220  0.205901"
      ]
     },
     "execution_count": 342,
     "metadata": {},
     "output_type": "execute_result"
    }
   ],
   "source": [
    "cc.head(10)"
   ]
  },
  {
   "cell_type": "code",
   "execution_count": 313,
   "metadata": {
    "ExecuteTime": {
     "end_time": "2019-02-17T11:58:43.511871Z",
     "start_time": "2019-02-17T11:58:43.507243Z"
    }
   },
   "outputs": [],
   "source": [
    "c = a.join(b, how='left',on='CITY_NAME')"
   ]
  },
  {
   "cell_type": "code",
   "execution_count": 317,
   "metadata": {
    "ExecuteTime": {
     "end_time": "2019-02-17T12:01:07.203551Z",
     "start_time": "2019-02-17T12:01:07.197148Z"
    }
   },
   "outputs": [],
   "source": [
    "c['CALL_PER_POP'] = c.iloc[:,1]/c.iloc[:,5]\n",
    "c.sort_values(inplace=True,by=['CALL_PER_POP'],ascending=False)"
   ]
  }
 ],
 "metadata": {
  "kernelspec": {
   "display_name": "Python 3",
   "language": "python",
   "name": "python3"
  },
  "language_info": {
   "codemirror_mode": {
    "name": "ipython",
    "version": 3
   },
   "file_extension": ".py",
   "mimetype": "text/x-python",
   "name": "python",
   "nbconvert_exporter": "python",
   "pygments_lexer": "ipython3",
   "version": "3.6.7"
  },
  "toc": {
   "base_numbering": 1,
   "nav_menu": {},
   "number_sections": false,
   "sideBar": false,
   "skip_h1_title": false,
   "title_cell": "Table of Contents",
   "title_sidebar": "Contents",
   "toc_cell": false,
   "toc_position": {},
   "toc_section_display": false,
   "toc_window_display": false
  }
 },
 "nbformat": 4,
 "nbformat_minor": 2
}
